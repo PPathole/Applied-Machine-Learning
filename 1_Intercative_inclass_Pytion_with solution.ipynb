{
 "cells": [
  {
   "cell_type": "markdown",
   "metadata": {
    "id": "aH8JZH75NDAR"
   },
   "source": [
    "# <font color = 'dodgerblue'>**Introduction to Python**\n",
    "Python is a versatile language used in various fields like web development, data analysis, machine learning, and more. In this brief crash course, we'll explore some of the fundamental concepts of Python.\n"
   ]
  },
  {
   "cell_type": "markdown",
   "metadata": {
    "id": "NZDh5DJqNI0T"
   },
   "source": [
    "## <font color = 'dodgerblue'>**Basic Data Types**\n",
    "### <font color = 'dodgerblue'>**Numbers**\n",
    "- Integers: Whole numbers without decimal points.\n",
    "- Floating-point: Numbers with decimal points.\n",
    "\n",
    "### <font color = 'dodgerblue'>**Booleans**\n",
    "- True/False values used for logical operations.\n",
    "\n",
    "### <font color = 'dodgerblue'>**Strings**\n",
    "- Sequences of characters used to represent text.\n",
    "\n",
    "### <font color = 'dodgerblue'>**Printing**\n",
    "- Displaying variables or text in the console.\n",
    "\n",
    "Let's explore some examples:"
   ]
  },
  {
   "cell_type": "code",
   "execution_count": null,
   "metadata": {
    "colab": {
     "base_uri": "https://localhost:8080/"
    },
    "executionInfo": {
     "elapsed": 168,
     "status": "ok",
     "timestamp": 1692593129737,
     "user": {
      "displayName": "Shaannoor Mann",
      "userId": "02520257695567980696"
     },
     "user_tz": 300
    },
    "id": "-4h6S1snNQlx",
    "outputId": "60a2a3ab-d3a5-4709-e8be-ecef1b29b368"
   },
   "outputs": [
    {
     "name": "stdout",
     "output_type": "stream",
     "text": [
      "Welcome to Python\n"
     ]
    }
   ],
   "source": [
    "# Numbers\n",
    "integer_number = 10\n",
    "floating_point_number = 5.5\n",
    "\n",
    "# Booleans\n",
    "is_true = True\n",
    "is_false = False\n",
    "\n",
    "# Strings\n",
    "name = \"Python\"\n",
    "\n",
    "# f string literal for Printing\n",
    "print(f\"Welcome to {name}\")\n"
   ]
  },
  {
   "cell_type": "markdown",
   "metadata": {
    "id": "6Sm9DphuNRh6"
   },
   "source": [
    "## <font color = 'dodgerblue'>**Collections**\n",
    "### <font color = 'dodgerblue'>**Lists**\n",
    "- Ordered sequences of elements.\n",
    "\n",
    "### <font color = 'dodgerblue'>**Tuples**\n",
    "- Immutable ordered sequences.\n",
    "\n",
    "### <font color = 'dodgerblue'>**Dictionaries**\n",
    "- Key-value pairs.\n",
    "\n",
    "### <font color = 'dodgerblue'>**Sets**\n",
    "- Unordered collections of unique elements.\n",
    "\n",
    "Let's see some examples:\n"
   ]
  },
  {
   "cell_type": "code",
   "execution_count": null,
   "metadata": {
    "colab": {
     "base_uri": "https://localhost:8080/"
    },
    "executionInfo": {
     "elapsed": 145,
     "status": "ok",
     "timestamp": 1692593131537,
     "user": {
      "displayName": "Shaannoor Mann",
      "userId": "02520257695567980696"
     },
     "user_tz": 300
    },
    "id": "xCRSgkDWNdxM",
    "outputId": "e9676ddb-f865-4820-dff3-811706bb7e5d"
   },
   "outputs": [
    {
     "name": "stdout",
     "output_type": "stream",
     "text": [
      "List: [1, 2, 3, 'Python']\n",
      "Tuple: (4, 5, 6)\n",
      "Dictionary: {'name': 'Python', 'version': 3.9}\n",
      "Set: {1, 2, 3}\n"
     ]
    }
   ],
   "source": [
    "# Lists\n",
    "my_list = [1, 2, 3, \"Python\"]\n",
    "\n",
    "# Tuples\n",
    "my_tuple = (4, 5, 6)\n",
    "\n",
    "# Dictionaries\n",
    "my_dict = {\"name\": \"Python\", \"version\": 3.9}\n",
    "\n",
    "# Sets\n",
    "my_set = {1, 2, 3, 3}  # Duplicates are ignored\n",
    "\n",
    "print(\"List:\", my_list)\n",
    "print(\"Tuple:\", my_tuple)\n",
    "print(\"Dictionary:\", my_dict)\n",
    "print(\"Set:\", my_set)"
   ]
  },
  {
   "cell_type": "code",
   "execution_count": null,
   "metadata": {
    "colab": {
     "base_uri": "https://localhost:8080/"
    },
    "executionInfo": {
     "elapsed": 293,
     "status": "ok",
     "timestamp": 1692593132925,
     "user": {
      "displayName": "Shaannoor Mann",
      "userId": "02520257695567980696"
     },
     "user_tz": 300
    },
    "id": "vvx4DNDvNjZi",
    "outputId": "3d39d590-fc07-499c-9c54-575f4f14ae06"
   },
   "outputs": [
    {
     "data": {
      "text/plain": [
       "2"
      ]
     },
     "execution_count": 35,
     "metadata": {},
     "output_type": "execute_result"
    }
   ],
   "source": [
    "# extract second elements from list\n",
    "my_list[1]"
   ]
  },
  {
   "cell_type": "code",
   "execution_count": null,
   "metadata": {
    "colab": {
     "base_uri": "https://localhost:8080/"
    },
    "executionInfo": {
     "elapsed": 2,
     "status": "ok",
     "timestamp": 1692593133274,
     "user": {
      "displayName": "Shaannoor Mann",
      "userId": "02520257695567980696"
     },
     "user_tz": 300
    },
    "id": "f3qQiKj9Nzd7",
    "outputId": "9f426fee-455f-4ae7-f5ce-93182c9279e5"
   },
   "outputs": [
    {
     "data": {
      "text/plain": [
       "3"
      ]
     },
     "execution_count": 36,
     "metadata": {},
     "output_type": "execute_result"
    }
   ],
   "source": [
    "# extract decpond last element from list\n",
    "my_list[-2]"
   ]
  },
  {
   "cell_type": "code",
   "execution_count": null,
   "metadata": {
    "colab": {
     "base_uri": "https://localhost:8080/"
    },
    "executionInfo": {
     "elapsed": 102,
     "status": "ok",
     "timestamp": 1692593133986,
     "user": {
      "displayName": "Shaannoor Mann",
      "userId": "02520257695567980696"
     },
     "user_tz": 300
    },
    "id": "yv40Cr1bN1qM",
    "outputId": "1d030704-ca6c-47a9-db7f-24128b0316a9"
   },
   "outputs": [
    {
     "data": {
      "text/plain": [
       "[1, 'harpreet', 3, 'Python']"
      ]
     },
     "execution_count": 37,
     "metadata": {},
     "output_type": "execute_result"
    }
   ],
   "source": [
    "# modify second element of list with your name which is a atring\n",
    "my_list[1] = 'harpreet'\n",
    "my_list"
   ]
  },
  {
   "cell_type": "code",
   "execution_count": null,
   "metadata": {
    "colab": {
     "base_uri": "https://localhost:8080/",
     "height": 194
    },
    "executionInfo": {
     "elapsed": 5,
     "status": "error",
     "timestamp": 1692593134519,
     "user": {
      "displayName": "Shaannoor Mann",
      "userId": "02520257695567980696"
     },
     "user_tz": 300
    },
    "id": "I1_9fWvdN76_",
    "outputId": "63bb35a9-7379-4ac2-81db-256595838071"
   },
   "outputs": [
    {
     "ename": "TypeError",
     "evalue": "ignored",
     "output_type": "error",
     "traceback": [
      "\u001b[0;31m---------------------------------------------------------------------------\u001b[0m",
      "\u001b[0;31mTypeError\u001b[0m                                 Traceback (most recent call last)",
      "\u001b[0;32m<ipython-input-38-cff180e98916>\u001b[0m in \u001b[0;36m<cell line: 2>\u001b[0;34m()\u001b[0m\n\u001b[1;32m      1\u001b[0m \u001b[0;31m# modify second element of tuple to 10\u001b[0m\u001b[0;34m\u001b[0m\u001b[0;34m\u001b[0m\u001b[0m\n\u001b[0;32m----> 2\u001b[0;31m \u001b[0mmy_tuple\u001b[0m\u001b[0;34m[\u001b[0m\u001b[0;36m2\u001b[0m\u001b[0;34m]\u001b[0m \u001b[0;34m=\u001b[0m\u001b[0;36m10\u001b[0m\u001b[0;34m\u001b[0m\u001b[0;34m\u001b[0m\u001b[0m\n\u001b[0m",
      "\u001b[0;31mTypeError\u001b[0m: 'tuple' object does not support item assignment"
     ]
    }
   ],
   "source": [
    "# modify second element of tuple to 10\n",
    "my_tuple[2] =10"
   ]
  },
  {
   "cell_type": "code",
   "execution_count": null,
   "metadata": {
    "colab": {
     "base_uri": "https://localhost:8080/",
     "height": 35
    },
    "executionInfo": {
     "elapsed": 233,
     "status": "ok",
     "timestamp": 1692593135742,
     "user": {
      "displayName": "Shaannoor Mann",
      "userId": "02520257695567980696"
     },
     "user_tz": 300
    },
    "id": "80lao-ngOQHu",
    "outputId": "3e2503d8-f6a5-4ad6-cd39-b6b788e84908"
   },
   "outputs": [
    {
     "data": {
      "application/vnd.google.colaboratory.intrinsic+json": {
       "type": "string"
      },
      "text/plain": [
       "'Python'"
      ]
     },
     "execution_count": 39,
     "metadata": {},
     "output_type": "execute_result"
    }
   ],
   "source": [
    "# extract name from dictionary\n",
    "my_dict['name']"
   ]
  },
  {
   "cell_type": "markdown",
   "metadata": {
    "id": "7hjZGfQyOgKb"
   },
   "source": [
    "## <font color = 'dodgerblue'>**Control Flow**\n",
    "### <font color = 'dodgerblue'>**Comparison Operators**\n",
    "- `<`, `>`, `==`, `!=`, etc.\n",
    "\n",
    "### <font color = 'dodgerblue'>**If, Elif, Else Statements**\n",
    "- Conditional execution of code.\n",
    "\n",
    "### <font color = 'dodgerblue'>**For Loops**\n",
    "- Iterating over sequences.\n",
    "\n",
    "### <font color = 'dodgerblue'>**While Loops**\n",
    "- Repeating code while a condition is true.\n",
    "\n",
    "### <font color = 'dodgerblue'>**Range**\n",
    "- Creating sequences of numbers.\n",
    "\n",
    "Let's explore:\n"
   ]
  },
  {
   "cell_type": "code",
   "execution_count": null,
   "metadata": {
    "colab": {
     "base_uri": "https://localhost:8080/"
    },
    "executionInfo": {
     "elapsed": 170,
     "status": "ok",
     "timestamp": 1692593136574,
     "user": {
      "displayName": "Shaannoor Mann",
      "userId": "02520257695567980696"
     },
     "user_tz": 300
    },
    "id": "STL-iiCkOn-9",
    "outputId": "ba5b1501-c67d-445b-e987-22c64925d197"
   },
   "outputs": [
    {
     "name": "stdout",
     "output_type": "stream",
     "text": [
      "True\n",
      "x is greater than y\n",
      "0\n",
      "1\n",
      "2\n",
      "0\n",
      "1\n",
      "2\n"
     ]
    }
   ],
   "source": [
    "# Comparison\n",
    "x = 10\n",
    "y = 5\n",
    "print(x > y)\n",
    "\n",
    "# If-Elif-Else\n",
    "if x > y:\n",
    "    print(\"x is greater than y\")\n",
    "else:\n",
    "    print(\"x is not greater than y\")\n",
    "\n",
    "# For Loop\n",
    "for i in range(3):\n",
    "    print(i)\n",
    "\n",
    "# While Loop\n",
    "count = 0\n",
    "while count < 3:\n",
    "    print(count)\n",
    "    count += 1\n"
   ]
  },
  {
   "cell_type": "markdown",
   "metadata": {
    "id": "3Crw9vDZPhPy"
   },
   "source": [
    "## <font color = 'dodgerblue'>**Advanced Topics**\n",
    "### List Comprehension\n",
    "- Concise way to create lists.\n",
    "\n",
    "### <font color = 'dodgerblue'>**Functions**\n",
    "- Reusable pieces of code.\n",
    "\n",
    "### <font color = 'dodgerblue'>**Lambda Expressions**\n",
    "- Anonymous functions.\n",
    "\n",
    "### <font color = 'dodgerblue'>**Map and Filter**\n",
    "- Functional programming concepts.\n",
    "\n",
    "Examples:\n"
   ]
  },
  {
   "cell_type": "code",
   "execution_count": null,
   "metadata": {
    "colab": {
     "base_uri": "https://localhost:8080/"
    },
    "executionInfo": {
     "elapsed": 113,
     "status": "ok",
     "timestamp": 1692593138037,
     "user": {
      "displayName": "Shaannoor Mann",
      "userId": "02520257695567980696"
     },
     "user_tz": 300
    },
    "id": "6lKbm7OjPph9",
    "outputId": "e5f51b07-5ac1-453e-f229-032459861f35"
   },
   "outputs": [
    {
     "name": "stdout",
     "output_type": "stream",
     "text": [
      "Squares1: [0, 1, 4, 9, 16]\n",
      "Squares2: [0, 1, 4, 9, 16]\n",
      "Hello, Python!\n",
      "Double 5: 10\n",
      "Evens: [0, 2, 4, 6, 8]\n"
     ]
    }
   ],
   "source": [
    "squares1=[]\n",
    "for x in range(5):\n",
    "  squares1.append(x**2)\n",
    "\n",
    "\n",
    "# List Comprehension\n",
    "squares2 = [x**2 for x in range(5)]\n",
    "\n",
    "\n",
    "# Functions\n",
    "def greet(name):\n",
    "    return f\"Hello, {name}!\"\n",
    "\n",
    "# Lambda Expressions\n",
    "double = lambda x: x * 2\n",
    "\n",
    "# Map and Filter\n",
    "evens = list(filter(lambda x: x % 2 == 0, range(10)))\n",
    "\n",
    "print(\"Squares1:\", squares1)\n",
    "print(\"Squares2:\", squares2)\n",
    "print(greet(\"Python\"))\n",
    "print(\"Double 5:\", double(5))\n",
    "print(\"Evens:\", evens)\n"
   ]
  },
  {
   "cell_type": "markdown",
   "metadata": {
    "id": "WTqj-PdIOq_9"
   },
   "source": [
    "## <font color = 'dodgerblue'>**Question: Iterate over dictionary**\n",
    "You are given a dictionary that represents the scores of students in a class. The dictionary keys are the student names, and the values are their respective scores. Write a function find_top_scorer(scores) that takes this dictionary as input and returns the name of the student with the highest score.\n",
    "\n",
    "<font color = 'dodgerblue'>**Hint: Use key, value in dictionary.items() to iterate over dioctionary**"
   ]
  },
  {
   "cell_type": "code",
   "execution_count": null,
   "metadata": {
    "id": "WeMQSIEkPbjk"
   },
   "outputs": [],
   "source": [
    "scores = {\n",
    "    \"Alice\": 90,\n",
    "    \"Bob\": 85,\n",
    "    \"Charlie\": 92,\n",
    "    \"David\": 88\n",
    "}\n",
    "def find_top_scorer(scores):\n",
    "    top_scorer = None\n",
    "    top_score = -1\n",
    "\n",
    "    for student, score in scores.items():\n",
    "        if score > top_score:\n",
    "            top_score = score\n",
    "            top_scorer = student\n",
    "\n",
    "    return top_scorer"
   ]
  },
  {
   "cell_type": "code",
   "execution_count": null,
   "metadata": {
    "colab": {
     "base_uri": "https://localhost:8080/"
    },
    "executionInfo": {
     "elapsed": 177,
     "status": "ok",
     "timestamp": 1692593140532,
     "user": {
      "displayName": "Shaannoor Mann",
      "userId": "02520257695567980696"
     },
     "user_tz": 300
    },
    "id": "6K-l19qDYFu0",
    "outputId": "50709f01-1b51-4d0d-d28d-acef373fc15b"
   },
   "outputs": [
    {
     "name": "stdout",
     "output_type": "stream",
     "text": [
      "Charlie\n"
     ]
    }
   ],
   "source": [
    "print(find_top_scorer(scores))  # Output: \"Charlie\""
   ]
  },
  {
   "cell_type": "markdown",
   "metadata": {
    "id": "gpJLm1dZPcoH"
   },
   "source": [
    "## <font color = 'dodgerblue'>**Interactive Exercise: Simple Library Management System** </font>\n",
    "\n",
    "#### Overview\n",
    "In this exercise, we will create a basic library management system using Python. The goal is to consolidate your understanding of various Python concepts such as functions, lists, dictionaries, loops, and control structures. The system will allow users to add books and list all the books in the library.\n",
    "\n",
    "#### Features\n",
    "1. **Add Book**: Users can add a new book to the library, specifying the title and author. Each book will have an automatically generated unique ID and a status indicating whether it is available.\n",
    "\n",
    "2. **List Books**: Users can view a list of all the books in the library, including their IDs, titles, authors, and availability status.\n",
    "\n",
    "#### System Structure\n",
    "The system will consist of the following components:\n",
    "- A global list `books` to store the details of each book (list of dictionary of books). Each element in a list is a dictionary. For example,  `[{'id': book_id, 'title': title, 'author': author, 'available': available}]`\n",
    "- Functions to handle the features (add book, list books).\n",
    "- A main menu function to navigate through the options.\n",
    "\n",
    "#### Step-by-Step Guide\n",
    "1. **Create the 'add_book' Function**:\n",
    "   - Parameters: `title` (string), `author` (string), `available` (boolean, default True).\n",
    "   - Functionality: Generate a unique ID, create a dictionary with the book's details, append it to the `books` list.\n",
    "   \n",
    "\n",
    "2. **Create the 'list_books' Function**:\n",
    "   - Parameters: None.\n",
    "   - Functionality: Iterate through the `books` list, print the details of each book.\n",
    "  \n",
    "\n",
    "3. **Create the 'main_menu' Function**:\n",
    "   - Parameters: None.\n",
    "   - Functionality: Continuously display a menu with options to add a book, list books, or exit; take user input to select an option; call the relevant functions based on user input.\n",
    "   \n",
    "4. **Initialize the Books List**: Create an empty global list `books` to store the book details.\n",
    "\n",
    "5. **Test the System**: Call the `main_menu` function to run the system, test adding books, and listing them.\n",
    "\n",
    "#### Conclusion\n",
    "This exercise provides an opportunity to apply various Python concepts in a practical context. Through hands-on coding and experimentation, you'll deepen your understanding of Python and its capabilities. Happy coding!\n"
   ]
  },
  {
   "cell_type": "markdown",
   "metadata": {
    "id": "MKS7tyHOVMAK"
   },
   "source": [
    "### <font color = 'dodgerblue'>**Step1: Create Function `add_book`**\n",
    "#### Description\n",
    "Adds a new book to the library.\n",
    "\n",
    "#### Parameters\n",
    "- `title` (string): The title of the book.\n",
    "- `author` (string): The author of the book.\n",
    "- `available` (boolean): Whether the book is available or not. Default is True.\n",
    "\n",
    "#### Functionality\n",
    "- Generates a unique ID for the new book.\n",
    "- Creates a dictionary containing the book's details.\n",
    "- Appends the dictionary to the global `books` list.\n",
    "\n",
    "#### Example Usage\n",
    "```python\n",
    "add_book(title=\"The Great Gatsby\", author=\"F. Scott Fitzgerald\")"
   ]
  },
  {
   "cell_type": "code",
   "execution_count": null,
   "metadata": {
    "id": "Ie82xWj0VcD0"
   },
   "outputs": [],
   "source": [
    "# Function to add a book\n",
    "def add_book(title, author, available=True):\n",
    "    book_id = len(books) + 1\n",
    "    book = {'id': book_id, 'title': title, 'author': author, 'available': available}\n",
    "    books.append(book)"
   ]
  },
  {
   "cell_type": "markdown",
   "metadata": {
    "id": "O519B2FTVvgZ"
   },
   "source": [
    "### <font color = 'dodgerblue'>**Step2: Create Function `list_books`**\n",
    "\n",
    "#### Description\n",
    "Lists all the books in the library.\n",
    "\n",
    "#### Parameters\n",
    "None\n",
    "\n",
    "#### Functionality\n",
    "- Iterates through the global `books` list.\n",
    "- Prints the details of each book, including ID, title, author, and availability status.\n",
    "\n",
    "#### Example Usage\n",
    "```python\n",
    "list_books()\n"
   ]
  },
  {
   "cell_type": "code",
   "execution_count": null,
   "metadata": {
    "id": "HQBO_fktVgLi"
   },
   "outputs": [],
   "source": [
    "# Function to list books\n",
    "def list_books():\n",
    "    for book in books:\n",
    "        print(f\"ID: {book['id']}, Title: {book['title']}, Author: {book['author']}, Available: {book['available']}\")"
   ]
  },
  {
   "cell_type": "markdown",
   "metadata": {
    "id": "3r30-8HEWLnC"
   },
   "source": [
    "### <font color = 'dodgerblue'>**Step3: Create Function `main_menu`**\n",
    "\n",
    "#### Description\n",
    "Displays the main menu and handles user input for the library management system.\n",
    "\n",
    "#### Parameters\n",
    "None\n",
    "\n",
    "#### Functionality\n",
    "- Continuously displays a menu with options to add a book, list books, or exit.\n",
    "- Takes user input to select an option.\n",
    "- Calls the relevant functions based on user input.\n",
    "- Utilizes a while loop to keep the menu running until the user chooses to exit.\n",
    "\n",
    "#### Example Usage\n",
    "```python\n",
    "main_menu()\n"
   ]
  },
  {
   "cell_type": "code",
   "execution_count": null,
   "metadata": {
    "id": "rBCpiBnNVtii"
   },
   "outputs": [],
   "source": [
    "# Main menu\n",
    "def main_menu():\n",
    "    while True:\n",
    "        choice = input(\"1. Add Book, 2. List Books, 3. Exit: \")\n",
    "        if choice == '1':\n",
    "            title = input(\"Enter title: \")\n",
    "            author = input(\"Enter author: \")\n",
    "            add_book(title, author)\n",
    "        elif choice == '2':\n",
    "            list_books()\n",
    "        elif choice == '3':\n",
    "            break"
   ]
  },
  {
   "cell_type": "markdown",
   "metadata": {
    "id": "dhH1x6ZIfk6P"
   },
   "source": [
    "### <font color = 'dodgerblue'>**Step4: Define a book List**"
   ]
  },
  {
   "cell_type": "code",
   "execution_count": null,
   "metadata": {
    "id": "qUQY7m2YWdUh"
   },
   "outputs": [],
   "source": [
    "# Define the books list\n",
    "books = []"
   ]
  },
  {
   "cell_type": "markdown",
   "metadata": {
    "id": "1z13Xh0ifwFr"
   },
   "source": [
    "### <font color = 'dodgerblue'>**Step5: Test the system**"
   ]
  },
  {
   "cell_type": "code",
   "execution_count": null,
   "metadata": {
    "colab": {
     "base_uri": "https://localhost:8080/"
    },
    "executionInfo": {
     "elapsed": 64241,
     "status": "ok",
     "timestamp": 1692593210605,
     "user": {
      "displayName": "Shaannoor Mann",
      "userId": "02520257695567980696"
     },
     "user_tz": 300
    },
    "id": "tq5YBMNqQ9G9",
    "outputId": "2c984875-442a-46b6-dc88-96aaaa602afa"
   },
   "outputs": [
    {
     "name": "stdout",
     "output_type": "stream",
     "text": [
      "1. Add Book, 2. List Books, 3. Exit: 2\n",
      "1. Add Book, 2. List Books, 3. Exit: 1\n",
      "Enter title: Harry Potter 1\n",
      "Enter author: JK Rowling\n",
      "1. Add Book, 2. List Books, 3. Exit: 2\n",
      "ID: 1, Title: Harry Potter 1, Author: JK Rowling, Available: True\n",
      "1. Add Book, 2. List Books, 3. Exit: 1\n",
      "Enter title: Intro to ML\n",
      "Enter author: Harpreet\n",
      "1. Add Book, 2. List Books, 3. Exit: 2\n",
      "ID: 1, Title: Harry Potter 1, Author: JK Rowling, Available: True\n",
      "ID: 2, Title: Intro to ML, Author: Harpreet, Available: True\n",
      "1. Add Book, 2. List Books, 3. Exit: 3\n"
     ]
    }
   ],
   "source": [
    "# Start the program\n",
    "main_menu()"
   ]
  }
 ],
 "metadata": {
  "colab": {
   "authorship_tag": "ABX9TyMJlaIsniGoLxvyHBgwpciQ",
   "provenance": [],
   "toc_visible": true
  },
  "kernelspec": {
   "display_name": "Python 3",
   "language": "python",
   "name": "python3"
  },
  "language_info": {
   "codemirror_mode": {
    "name": "ipython",
    "version": 3
   },
   "file_extension": ".py",
   "mimetype": "text/x-python",
   "name": "python",
   "nbconvert_exporter": "python",
   "pygments_lexer": "ipython3",
   "version": "3.7.3"
  }
 },
 "nbformat": 4,
 "nbformat_minor": 1
}
