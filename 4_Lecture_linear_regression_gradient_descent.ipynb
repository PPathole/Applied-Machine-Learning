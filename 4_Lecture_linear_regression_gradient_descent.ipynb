{
 "cells": [
  {
   "cell_type": "markdown",
   "metadata": {
    "id": "bfqUx6gaBTwq"
   },
   "source": [
    "# <font color = 'pickle'>**Linear Regression from scratch using gradient descent**"
   ]
  },
  {
   "cell_type": "markdown",
   "metadata": {
    "id": "974rsdI0BksG"
   },
   "source": [
    "Linear regression is one of the most popular tools for regression models.\n",
    "\n",
    "Let us consider an example where we have to estimate the price of the house based on its area and age. To actually train a model, we would need a dataset of different house prices along with their area and age.\n",
    "\n",
    "In this dataset, area and age will be know as our `features` using which we will estimate the price. The price or the predicted value will be known as `label`.\n",
    "\n",
    "We can use linear regression model for such a problem. Let's see what actually happens in linear regression and how we can implement it."
   ]
  },
  {
   "cell_type": "markdown",
   "metadata": {
    "id": "GSj1swM9EWCC"
   },
   "source": [
    "## <font color = 'pickle'>**Linear Regression**\n",
    "\n",
    "\n",
    "\n",
    "\n",
    "In this model, we have some independent variable values x (area and age in case of house price prediction) and a dependent variable y (price of the house) which is linearly dependent on x values.\n",
    "\n",
    "We try to generalize y as a weigthed sum of elemnts in x with some noise on the onservations.\n",
    "\n",
    "$price = weight_{area} * area + weight_{age} * age + b$\n",
    "\n",
    "Here b is the **bias**. The weights determine the influence of each feature on our prediction and the bias tells us what value the predicted price should take when all of the features take value 0.\n",
    "\n",
    "## <font color = 'pickle'>**Loss Function**\n",
    "\n",
    "We also need to compute loss. We use sum of squared error as our ***loss function***\n",
    "\n",
    "## <font color = 'pickle'>**Optimization**\n",
    "\n",
    "We also need an **optimization algorithm** so that we can minimize our loss function. We will be using gradient descent."
   ]
  },
  {
   "cell_type": "markdown",
   "metadata": {
    "id": "MbiPmm5tK47-"
   },
   "source": [
    "**Let us summarize above points for linear regression:**\n",
    "\n",
    "**Input**: $\\boldsymbol{X}$ (features)\n",
    "\n",
    "**Output**: $\\mathbf{y}$ (label)\n",
    "\n",
    "**Parameters**: $\\mathbf{w}$, b (weights and bias)\n",
    "\n",
    "\n",
    "The training examples are stored in matrix $\\boldsymbol{X}$ row-wise <br><br>\n",
    "$\\boldsymbol{X} =  \\begin{bmatrix}\n",
    "x_1^{(1)}x_2^{(1)}\\cdot\\cdot\\cdot x_n^{(1)} \\\\ x_1^{(2)}x_2^{(2)}\\cdot\\cdot\\cdot x_n^{(2)}  \\\\ \\cdot \\\\ \\cdot \\\\ \\cdot\\ \\\\ x_1^{(m)}x_2^{(m)}\\cdot\\cdot\\cdot x_n^{(m)} \\end{bmatrix}$ , $ \\mathbf{w} =\\begin{bmatrix}\n",
    "w_1  w_2  \\cdot  \\cdot  \\cdot  w_n\\end{bmatrix}$\n",
    "\n",
    "We can calculale the predicted values of y for all m observations using follwoing:\n",
    "\n",
    "\\begin{equation}\n",
    "\\hat{\\mathbf{y}}  = \\boldsymbol{X} \\mathbf{w^T} + b\n",
    "\\end{equation}\n",
    "where $\\boldsymbol{X} \\mathbf{w^T}$ is matrix multiplication of $\\boldsymbol{X}$ and $\\mathbf{w^T}$\n",
    "\n",
    "<b>Cost function</b>\n",
    "\\begin{equation}\n",
    "\\mathcal{L} = \\frac{1}{m} \\sum_{i=1}^{m} (\\hat{y}^{(i)} - y^{(i)})^2\n",
    "\\end{equation}\n",
    "\n",
    "Cost Function (Vector Notation):\n",
    "\\begin{equation}\n",
    "\\mathcal{L}  = \\frac{1}{m}(\\mathbf{\\hat{y}}  -\\mathbf{y})^T (\\mathbf{\\hat{y}}  -\\mathbf{y})\n",
    "\\end{equation}\n",
    "\n",
    "Gradient of thr Loss Function with respect to $\\mathbf{w}$:\n",
    "\\begin{equation}\n",
    "\\frac{2}{m}\\boldsymbol{X}^T(\\mathbf{\\hat{y}}  -\\mathbf{y})\n",
    "\\end{equation}\n",
    "\n",
    "Gradient of the Loss Function with respect to $b$:\n",
    "\\begin{equation}\n",
    "\\frac{2}{m}\\mathbf{1_m}^T(\\mathbf{\\hat{y}}  -\\mathbf{y}))\n",
    "\\end{equation}\n",
    "\n",
    "here $\\mathbf{1_m}$ denote the column vector of all ones and length m\n",
    "\n",
    "Gradient Descent Algorithm:\n",
    "\n",
    "The algorithm starts with some “initial guess” for $\\mathbf{w}$ and $b$, and that repeatedly changes $\\mathbf{w}$ and $b$ to make  $\\mathcal{L}$  smaller, until we converge to a value of $\\mathbf{w}$ and $b$ minimizes $\\mathcal{L}$.\n",
    "\n",
    "\\begin{equation}\n",
    "\\mathbf{w^T} := \\mathbf{w^T} - \\frac{2\\alpha} {m}\\boldsymbol{X}^T(\\mathbf{\\hat{y}}  -\\mathbf{y})\n",
    "\\end\\{equation}\n",
    "\n",
    "\n",
    "\\begin{equation}\n",
    "b := b - \\frac{2\\alpha} {m}\\mathbf{1_m}^T(\\mathbf{\\hat{y}}  -\\mathbf{y})\n",
    "\\end\\{equation}\n",
    "\n",
    "\n"
   ]
  },
  {
   "cell_type": "markdown",
   "metadata": {
    "id": "mdSv1RAqGkbn"
   },
   "source": [
    "**We will implement linear regression algorithm from sratch in this notebook using the above formulas.**"
   ]
  },
  {
   "cell_type": "code",
   "execution_count": 1,
   "metadata": {
    "executionInfo": {
     "elapsed": 3,
     "status": "ok",
     "timestamp": 1696240963378,
     "user": {
      "displayName": "Shaannoor Mann",
      "userId": "02520257695567980696"
     },
     "user_tz": 300
    },
    "id": "cOWkKIpaNaQa"
   },
   "outputs": [],
   "source": [
    "# Importing numpy\n",
    "import numpy as np\n",
    "\n",
    "# Importing random library to generate random dataset\n",
    "import random"
   ]
  },
  {
   "cell_type": "code",
   "execution_count": 2,
   "metadata": {
    "executionInfo": {
     "elapsed": 332,
     "status": "ok",
     "timestamp": 1696240969021,
     "user": {
      "displayName": "Shaannoor Mann",
      "userId": "02520257695567980696"
     },
     "user_tz": 300
    },
    "id": "EZPys7ECalFv"
   },
   "outputs": [],
   "source": [
    "# To get deterministic results\n",
    "random.seed(123)"
   ]
  },
  {
   "cell_type": "markdown",
   "metadata": {
    "id": "ZrkSdaYYK3ed"
   },
   "source": [
    "## <font color = 'pickle'>**Generating a Dataset**\n",
    "\n",
    "We will generate a dummy dataset having 1000 observations and 2 features.\n",
    "The observations are sampled from standard normal distribution.\n",
    "\n",
    "Let us have our true parameter values to be w = [3, -4.5] and b = 5.2.\n",
    "\n",
    "`y = Xw.T + b + noise`\n",
    "\n",
    "We will further assume that nose will be normally distributed with mean 0 and standard deviation of 0.01.\n"
   ]
  },
  {
   "cell_type": "code",
   "execution_count": 3,
   "metadata": {
    "executionInfo": {
     "elapsed": 490,
     "status": "ok",
     "timestamp": 1696240971615,
     "user": {
      "displayName": "Shaannoor Mann",
      "userId": "02520257695567980696"
     },
     "user_tz": 300
    },
    "id": "rWCK1HgYBKuT"
   },
   "outputs": [],
   "source": [
    "def generate_dataset(w, b, num):\n",
    "\n",
    "    \"\"\"\n",
    "    Function to generate a dataset.\n",
    "    Input parameter :\n",
    "    w: weights,\n",
    "    b: bias\n",
    "    num: number of obervations\n",
    "    Output: feature and labels of a dataset\n",
    "    \"\"\"\n",
    "\n",
    "    # Generate X values from standard normal distribution\n",
    "    X = np.random.normal(0, 1, (num, len(np.transpose(w))))\n",
    "\n",
    "    # Generate y values: y = Xw + b\n",
    "    y = np.matmul(X, w.T) + b\n",
    "\n",
    "    # Adding noise in labels\n",
    "\n",
    "    y += np.random.normal(0, 0.01, y.shape)\n",
    "\n",
    "    # Returning the dataset generated\n",
    "    return X, y.reshape(-1, 1)"
   ]
  },
  {
   "cell_type": "code",
   "execution_count": 4,
   "metadata": {
    "executionInfo": {
     "elapsed": 348,
     "status": "ok",
     "timestamp": 1696240975324,
     "user": {
      "displayName": "Shaannoor Mann",
      "userId": "02520257695567980696"
     },
     "user_tz": 300
    },
    "id": "w-K-9_TIO05y"
   },
   "outputs": [],
   "source": [
    "# Initializing actual weight and bias values\n",
    "w_true = np.array([3, -4.5]).reshape(1,-1)\n",
    "b_true = 5.2\n",
    "\n",
    "# Calling the generate_dataset function to create a dummy dataset\n",
    "features, labels = generate_dataset(w_true, b_true, 1000)\n"
   ]
  },
  {
   "cell_type": "code",
   "execution_count": 5,
   "metadata": {
    "colab": {
     "base_uri": "https://localhost:8080/"
    },
    "executionInfo": {
     "elapsed": 504,
     "status": "ok",
     "timestamp": 1696240977429,
     "user": {
      "displayName": "Shaannoor Mann",
      "userId": "02520257695567980696"
     },
     "user_tz": 300
    },
    "id": "t6A9pATHr4Uf",
    "outputId": "a0532881-6b2a-4653-87ac-24aec611e5ac"
   },
   "outputs": [
    {
     "name": "stdout",
     "output_type": "stream",
     "text": [
      "(1000, 2) (1000, 1)\n"
     ]
    }
   ],
   "source": [
    "print(features.shape, labels.shape)"
   ]
  },
  {
   "cell_type": "markdown",
   "metadata": {
    "id": "xbYjEiosdZpY"
   },
   "source": [
    "## <font color = 'pickle'>**Visualization of the dataset**"
   ]
  },
  {
   "cell_type": "code",
   "execution_count": 6,
   "metadata": {
    "colab": {
     "base_uri": "https://localhost:8080/",
     "height": 446
    },
    "executionInfo": {
     "elapsed": 1024,
     "status": "ok",
     "timestamp": 1696240980675,
     "user": {
      "displayName": "Shaannoor Mann",
      "userId": "02520257695567980696"
     },
     "user_tz": 300
    },
    "id": "ArmLQ7f2PbwW",
    "outputId": "241207cf-38ee-46c8-cc58-4899cac4515d"
   },
   "outputs": [
    {
     "data": {
      "text/plain": [
       "[Text(0, 0.5, 'y')]"
      ]
     },
     "execution_count": 6,
     "metadata": {},
     "output_type": "execute_result"
    },
    {
     "data": {
      "image/png": "[encoded data removed]",
      "text/plain": [
       "<Figure size 800x400 with 2 Axes>"
      ]
     },
     "metadata": {},
     "output_type": "display_data"
    }
   ],
   "source": [
    "# Importing matplotlib library for visualizing dataset\n",
    "import matplotlib.pyplot as plt\n",
    "fig, (ax1, ax2) = plt.subplots(1, 2, figsize=(8, 4), sharey=True)\n",
    "fig.suptitle('Sactter Plots')\n",
    "\n",
    "# We will create a scatter plot between feature and labels\n",
    "ax1.scatter(features[:, 0], labels,s = 1)\n",
    "ax1.set(xlabel='X1')\n",
    "ax1.set(ylabel='y')\n",
    "ax2.scatter(features[:, 1], labels, s = 1)\n",
    "ax2.set(xlabel='X2')\n",
    "ax2.set(ylabel='y')\n",
    "\n"
   ]
  },
  {
   "cell_type": "markdown",
   "metadata": {
    "id": "d3ZgzLGyd5sZ"
   },
   "source": [
    "From the above visualization, we can observe a linear relation between features and label values."
   ]
  },
  {
   "cell_type": "markdown",
   "metadata": {
    "id": "py50Z3VUegX2"
   },
   "source": [
    "## <font color = 'pickle'>**Reading the dataset**\n",
    "\n",
    "For training our model, we will use mini batches from the dataset and use them to update our model.\n",
    "\n",
    "To simplify this process, we will define a function which will shuffle the dataset and access it in mini batches."
   ]
  },
  {
   "cell_type": "code",
   "execution_count": 7,
   "metadata": {
    "executionInfo": {
     "elapsed": 374,
     "status": "ok",
     "timestamp": 1696240988123,
     "user": {
      "displayName": "Shaannoor Mann",
      "userId": "02520257695567980696"
     },
     "user_tz": 300
    },
    "id": "w6dCBmjFPzZ9"
   },
   "outputs": [],
   "source": [
    "def read_data(batch_size, features, labels):\n",
    "    \"\"\"\n",
    "    Function to access data in mini batches.\n",
    "    Input parameters: batch size, features, labels.\n",
    "    Output: iterator for minibatch data\n",
    "    \"\"\"\n",
    "\n",
    "    # Number of examples in the datasets\n",
    "    num = len(features)\n",
    "\n",
    "    # Creating a list of indices from 0 to number of examples in the dataset\n",
    "    indices = list(range(num))\n",
    "\n",
    "    # The examples are read at random, in no particular order\n",
    "    random.shuffle(indices)\n",
    "\n",
    "    # Return the features and labels of the minibatch\n",
    "    for i in range(0, num, batch_size):\n",
    "        batch_indices = np.array(indices[i:min(i + batch_size, num)])\n",
    "        yield features[batch_indices], labels[batch_indices]"
   ]
  },
  {
   "cell_type": "markdown",
   "metadata": {
    "id": "tql9LWY5gKE6"
   },
   "source": [
    "Lets create a batch size of 15 and visualize the feature and data values better understanding."
   ]
  },
  {
   "cell_type": "code",
   "execution_count": 8,
   "metadata": {
    "colab": {
     "base_uri": "https://localhost:8080/"
    },
    "executionInfo": {
     "elapsed": 338,
     "status": "ok",
     "timestamp": 1696240991463,
     "user": {
      "displayName": "Shaannoor Mann",
      "userId": "02520257695567980696"
     },
     "user_tz": 300
    },
    "id": "_EltQ1kVgCOa",
    "outputId": "242d42b6-8c22-452d-9790-6a2f985634f7"
   },
   "outputs": [
    {
     "name": "stdout",
     "output_type": "stream",
     "text": [
      "(15, 2)\n",
      "(15, 1)\n"
     ]
    }
   ],
   "source": [
    "# Specify value for batch_size\n",
    "batch_size = 15\n",
    "\n",
    "# Call the function read_data and visualize the size of minibatch\n",
    "for X, y in read_data(batch_size, features, labels):\n",
    "    print(X.shape)\n",
    "    print(y.shape)\n",
    "    break"
   ]
  },
  {
   "cell_type": "markdown",
   "metadata": {
    "id": "1VEzdCYMiSRW"
   },
   "source": [
    "## <font color = 'pickle'>**Linear Regression Model**"
   ]
  },
  {
   "cell_type": "code",
   "execution_count": 9,
   "metadata": {
    "executionInfo": {
     "elapsed": 526,
     "status": "ok",
     "timestamp": 1696240994233,
     "user": {
      "displayName": "Shaannoor Mann",
      "userId": "02520257695567980696"
     },
     "user_tz": 300
    },
    "id": "wh15a3SliM9O"
   },
   "outputs": [],
   "source": [
    "def linear_reg(X, w, b):\n",
    "  \"\"\"\n",
    "  Function for linear regression y = Xw + b.\n",
    "  Input parameter: features, weights, bias.\n",
    "  Output: predicted labels\n",
    "  \"\"\"\n",
    "  return np.matmul(X,np.transpose(w)) + b"
   ]
  },
  {
   "cell_type": "markdown",
   "metadata": {
    "id": "LSz5VgDKipzE"
   },
   "source": [
    "## <font color = 'pickle'>**Loss Function**"
   ]
  },
  {
   "cell_type": "code",
   "execution_count": 10,
   "metadata": {
    "executionInfo": {
     "elapsed": 2,
     "status": "ok",
     "timestamp": 1696240996408,
     "user": {
      "displayName": "Shaannoor Mann",
      "userId": "02520257695567980696"
     },
     "user_tz": 300
    },
    "id": "SyBkoaKMinTM"
   },
   "outputs": [],
   "source": [
    "def mse_loss(ypred, y):\n",
    "  \"\"\"\n",
    "  Squared error loss function.\n",
    "  Input: actual labels and predicted labels\n",
    "  Output: squared error loss\n",
    "  \"\"\"\n",
    "  error = ypred - y\n",
    "  mean_squared_error = (np.matmul(np.transpose(error), error))/len(y)\n",
    "  return mean_squared_error"
   ]
  },
  {
   "cell_type": "markdown",
   "metadata": {
    "id": "jRERgZ3njKOc"
   },
   "source": [
    "## <font color = 'pickle'>**Optimization Algorithm**"
   ]
  },
  {
   "cell_type": "code",
   "execution_count": 11,
   "metadata": {
    "executionInfo": {
     "elapsed": 313,
     "status": "ok",
     "timestamp": 1696240999142,
     "user": {
      "displayName": "Shaannoor Mann",
      "userId": "02520257695567980696"
     },
     "user_tz": 300
    },
    "id": "rWaPVEVQjHq2"
   },
   "outputs": [],
   "source": [
    "# weight update step\n",
    "def sgd(params, params_grad, lr):\n",
    "    for param, param_grad in zip(params, params_grad):\n",
    "        param -= lr * param_grad\n"
   ]
  },
  {
   "cell_type": "markdown",
   "metadata": {
    "id": "CimqrDwmk6of"
   },
   "source": [
    "## <font color = 'pickle'>**Model Training**\n",
    "\n",
    "**Model Training** involves five steps:\n",
    "\n",
    "- Step 0: Randomly initialize parameters / weights\n",
    "- Step 1: Compute model's predictions - forward pass\n",
    "- Step 2: Compute loss\n",
    "- Step 3: Compute the gradients\n",
    "- Step 4: Update the parameters\n",
    "- Step 5: Repeat steps 1 - 4\n",
    "\n",
    "Model training is repeating this process over and over, for many **epochs**.\n",
    "\n",
    "An **epoch** is complete when we have used every point once for for computing the loss\n",
    "\n",
    "We will use min-batch gardient descent. In minibatch gradient descent , we take a small batch of the data. We compute the loss for the batch and update the weights. **If there are $n$ batches, then in one epoch weights get updated $n$ times**.\n",
    "\n",
    "***Learning rate*** and ***epochs*** are known as hyperparameters. We have to fine tune the value of hy[erparametes using ceoss-validation.\n"
   ]
  },
  {
   "cell_type": "code",
   "execution_count": 12,
   "metadata": {
    "colab": {
     "base_uri": "https://localhost:8080/"
    },
    "executionInfo": {
     "elapsed": 364,
     "status": "ok",
     "timestamp": 1696241003028,
     "user": {
      "displayName": "Shaannoor Mann",
      "userId": "02520257695567980696"
     },
     "user_tz": 300
    },
    "id": "TbHTIh3QgqIV",
    "outputId": "84b888ec-2aba-4cf5-826c-715d8ea545c5"
   },
   "outputs": [
    {
     "name": "stdout",
     "output_type": "stream",
     "text": [
      "[[0.00325377 0.00550985]]\n",
      "[0.]\n"
     ]
    }
   ],
   "source": [
    "# Step 0:\n",
    "# Create a tensor weights with values from normal distribution\n",
    "# We are calculating gardients manually\n",
    "# Thus, we will set requires_grad to False\n",
    "\n",
    "w = np.random.normal(0, 0.01, size=(1, 2))\n",
    "\n",
    "# Create a tensor for bias\n",
    "b = np.zeros(1)\n",
    "print(w)\n",
    "print(b)"
   ]
  },
  {
   "cell_type": "code",
   "execution_count": 13,
   "metadata": {
    "colab": {
     "base_uri": "https://localhost:8080/"
    },
    "executionInfo": {
     "elapsed": 426,
     "status": "ok",
     "timestamp": 1696241005747,
     "user": {
      "displayName": "Shaannoor Mann",
      "userId": "02520257695567980696"
     },
     "user_tz": 300
    },
    "id": "Ee_qHnu7lAEw",
    "outputId": "83bf6c01-0a60-4b2f-93e5-1eeb20900540"
   },
   "outputs": [
    {
     "name": "stdout",
     "output_type": "stream",
     "text": [
      "epoch 1, loss 14.885376\n",
      "epoch 2, loss 4.085082\n",
      "epoch 3, loss 1.127809\n",
      "epoch 4, loss 0.312436\n",
      "epoch 5, loss 0.086742\n",
      "epoch 6, loss 0.024093\n",
      "epoch 7, loss 0.006749\n",
      "epoch 8, loss 0.001946\n",
      "epoch 9, loss 0.000607\n",
      "epoch 10, loss 0.000236\n"
     ]
    }
   ],
   "source": [
    "# Set the values for learning rate and number of epochs\n",
    "lr = 0.005\n",
    "epochs = 10\n",
    "\n",
    "# Iterate over the whole dataset\n",
    "for epoch in range(epochs):\n",
    "\n",
    "    # Iterate over mini batch\n",
    "    for X, y in read_data(batch_size, features, labels):\n",
    "\n",
    "        # step 1 :forward pass - compute predictions\n",
    "        ypred = linear_reg(X, w, b)\n",
    "\n",
    "        # step 2: Calculate minibatch loss\n",
    "        batch_loss = mse_loss(ypred, y)\n",
    "        error = ypred-y\n",
    "\n",
    "        # step 3: Compute gradient on loss with respect to weights and bias\n",
    "        grad_w = 2* np.matmul(np.transpose(X), error)/ len(y)\n",
    "        grad_b = 2 *error.sum()/len(y)\n",
    "\n",
    "        # step 4: Update parameters using their gradient using optimization algorithm\n",
    "        sgd([np.transpose(w), b], [grad_w, grad_b], lr)\n",
    "\n",
    "\n",
    "    # Calculate and print loss for the complete epoch\n",
    "    train_l = mse_loss(linear_reg(features, w, b), labels)\n",
    "\n",
    "\n",
    "    print(f'epoch {epoch + 1}, loss {float(train_l.item()):f}')"
   ]
  },
  {
   "cell_type": "markdown",
   "metadata": {
    "id": "JAV28C1iCs3L"
   },
   "source": [
    "We can observe that with each epoch, our loss is getting reduced hence our linear regression model is able to classify accurately.\n",
    "\n",
    "Now since we generated the dataset ourselves we know the actual values for weights and bias, so we can check the error in both of them."
   ]
  },
  {
   "cell_type": "code",
   "execution_count": 14,
   "metadata": {
    "colab": {
     "base_uri": "https://localhost:8080/"
    },
    "executionInfo": {
     "elapsed": 529,
     "status": "ok",
     "timestamp": 1696241013061,
     "user": {
      "displayName": "Shaannoor Mann",
      "userId": "02520257695567980696"
     },
     "user_tz": 300
    },
    "id": "QYkiHYrYrKn1",
    "outputId": "a99d113a-8a7e-490a-d9fa-5a3173424c76"
   },
   "outputs": [
    {
     "data": {
      "text/plain": [
       "(1, 2)"
      ]
     },
     "execution_count": 14,
     "metadata": {},
     "output_type": "execute_result"
    }
   ],
   "source": [
    "w.shape"
   ]
  },
  {
   "cell_type": "code",
   "execution_count": 15,
   "metadata": {
    "colab": {
     "base_uri": "https://localhost:8080/"
    },
    "executionInfo": {
     "elapsed": 328,
     "status": "ok",
     "timestamp": 1696241015191,
     "user": {
      "displayName": "Shaannoor Mann",
      "userId": "02520257695567980696"
     },
     "user_tz": 300
    },
    "id": "WVsKG5EirMI6",
    "outputId": "df23a485-0210-4bbd-acc3-7089242b9cad"
   },
   "outputs": [
    {
     "data": {
      "text/plain": [
       "(1, 2)"
      ]
     },
     "execution_count": 15,
     "metadata": {},
     "output_type": "execute_result"
    }
   ],
   "source": [
    "w_true.shape"
   ]
  },
  {
   "cell_type": "code",
   "execution_count": 16,
   "metadata": {
    "colab": {
     "base_uri": "https://localhost:8080/"
    },
    "executionInfo": {
     "elapsed": 362,
     "status": "ok",
     "timestamp": 1696241017759,
     "user": {
      "displayName": "Shaannoor Mann",
      "userId": "02520257695567980696"
     },
     "user_tz": 300
    },
    "id": "rov0b8L_pMzx",
    "outputId": "098b3a2a-5079-484e-d9f6-535c489aea5d"
   },
   "outputs": [
    {
     "name": "stdout",
     "output_type": "stream",
     "text": [
      "Error in estimating w: [[ 0.00256585 -0.00760446]]\n",
      "Error in estimating b: [0.00926241]\n",
      "estimated value of w: [[ 2.99743415 -4.49239554]]\n",
      "estimated value of b: [5.19073759]\n"
     ]
    }
   ],
   "source": [
    "# Printing error in weights and bias\n",
    "print(f'Error in estimating w: {w_true - w}')\n",
    "print(f'Error in estimating b: {b_true - b}')\n",
    "print(f'estimated value of w: {w}')\n",
    "print(f'estimated value of b: {b}')"
   ]
  }
 ],
 "metadata": {
  "accelerator": "GPU",
  "colab": {
   "provenance": [],
   "toc_visible": true
  },
  "kernelspec": {
   "display_name": "Python 3",
   "language": "python",
   "name": "python3"
  },
  "language_info": {
   "codemirror_mode": {
    "name": "ipython",
    "version": 3
   },
   "file_extension": ".py",
   "mimetype": "text/x-python",
   "name": "python",
   "nbconvert_exporter": "python",
   "pygments_lexer": "ipython3",
   "version": "3.7.3"
  }
 },
 "nbformat": 4,
 "nbformat_minor": 1
}
