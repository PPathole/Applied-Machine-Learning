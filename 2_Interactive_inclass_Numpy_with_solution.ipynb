{
 "cells": [
  {
   "cell_type": "markdown",
   "metadata": {
    "id": "z8WNYiJDmhNc"
   },
   "source": [
    "# <font color = 'dodgerblue'>**Introduction to NumPy for Machine Learning**\n",
    "NumPy is a fundamental library for numerical computing in Python. It's widely used in machine learning for tasks such as data preprocessing, feature engineering, and mathematical computations. In this crash course, we'll explore key NumPy concepts that are essential for machine learning.\n"
   ]
  },
  {
   "cell_type": "markdown",
   "metadata": {
    "id": "Bk_l2m_nmkm_"
   },
   "source": [
    "## <font color = 'dodgerblue'>**Importing NumPy**\n",
    "We'll start by importing NumPy and checking its version.\n"
   ]
  },
  {
   "cell_type": "code",
   "execution_count": 1,
   "metadata": {
    "colab": {
     "base_uri": "https://localhost:8080/",
     "height": 35
    },
    "executionInfo": {
     "elapsed": 6,
     "status": "ok",
     "timestamp": 1692596347033,
     "user": {
      "displayName": "Shaannoor Mann",
      "userId": "02520257695567980696"
     },
     "user_tz": 300
    },
    "id": "JAcf5oQxmn56",
    "outputId": "6c2c72b4-53f6-4330-a3ee-7a2e19e0737b"
   },
   "outputs": [
    {
     "data": {
      "application/vnd.google.colaboratory.intrinsic+json": {
       "type": "string"
      },
      "text/plain": [
       "'1.23.5'"
      ]
     },
     "execution_count": 1,
     "metadata": {},
     "output_type": "execute_result"
    }
   ],
   "source": [
    "import numpy as np\n",
    "\n",
    "# Checking the version\n",
    "np.__version__\n"
   ]
  },
  {
   "cell_type": "markdown",
   "metadata": {
    "id": "nk0yZE7pmog8"
   },
   "source": [
    "## <font color = 'dodgerblue'>**Creating and Manipulating Arrays**\n",
    "Arrays are the core structure in NumPy. Let's create arrays and perform some basic manipulations.\n"
   ]
  },
  {
   "cell_type": "code",
   "execution_count": 6,
   "metadata": {
    "colab": {
     "base_uri": "https://localhost:8080/"
    },
    "executionInfo": {
     "elapsed": 125,
     "status": "ok",
     "timestamp": 1692596998175,
     "user": {
      "displayName": "Shaannoor Mann",
      "userId": "02520257695567980696"
     },
     "user_tz": 300
    },
    "id": "h64HObgbmrtN",
    "outputId": "e782598c-fa9a-45fa-f4e1-6197b4917cde"
   },
   "outputs": [
    {
     "data": {
      "text/plain": [
       "(array([1, 2, 3]),\n",
       " array([[0., 0.],\n",
       "        [0., 0.]]),\n",
       " array([[1., 1., 1.],\n",
       "        [1., 1., 1.],\n",
       "        [1., 1., 1.]]),\n",
       " array([[1, 2, 3]]))"
      ]
     },
     "execution_count": 6,
     "metadata": {},
     "output_type": "execute_result"
    }
   ],
   "source": [
    "# Creating arrays\n",
    "array_from_list = np.array([1, 2, 3])\n",
    "array_zeros = np.zeros((2, 2))\n",
    "array_ones = np.ones((3, 3))\n",
    "\n",
    "# Reshaping an array\n",
    "reshaped_array = array_from_list.reshape((1, 3))\n",
    "\n",
    "array_from_list, array_zeros, array_ones, reshaped_array\n"
   ]
  },
  {
   "cell_type": "code",
   "execution_count": 10,
   "metadata": {
    "colab": {
     "base_uri": "https://localhost:8080/"
    },
    "executionInfo": {
     "elapsed": 116,
     "status": "ok",
     "timestamp": 1692597381654,
     "user": {
      "displayName": "Shaannoor Mann",
      "userId": "02520257695567980696"
     },
     "user_tz": 300
    },
    "id": "3zi46umspI6W",
    "outputId": "5e6af496-30d0-47ed-9d22-30280ac5e47f"
   },
   "outputs": [
    {
     "name": "stdout",
     "output_type": "stream",
     "text": [
      "[[[ 0  1  2  3]\n",
      "  [ 4  5  6  7]\n",
      "  [ 8  9 10 11]]\n",
      "\n",
      " [[12 13 14 15]\n",
      "  [16 17 18 19]\n",
      "  [20 21 22 23]]]\n"
     ]
    }
   ],
   "source": [
    "my_array = np.arange(24).reshape(2,3,4)\n",
    "print(my_array)"
   ]
  },
  {
   "cell_type": "code",
   "execution_count": 11,
   "metadata": {
    "colab": {
     "base_uri": "https://localhost:8080/"
    },
    "executionInfo": {
     "elapsed": 105,
     "status": "ok",
     "timestamp": 1692597427096,
     "user": {
      "displayName": "Shaannoor Mann",
      "userId": "02520257695567980696"
     },
     "user_tz": 300
    },
    "id": "PzQIe2V9qTGY",
    "outputId": "0e1ba496-c099-4660-a0f7-85ab914f254a"
   },
   "outputs": [
    {
     "name": "stdout",
     "output_type": "stream",
     "text": [
      "3\n",
      "(2, 3, 4)\n",
      "24\n",
      "int64\n"
     ]
    }
   ],
   "source": [
    "print(my_array.ndim)\n",
    "print(my_array.shape)\n",
    "print(my_array.size)\n",
    "print(my_array.dtype)"
   ]
  },
  {
   "cell_type": "code",
   "execution_count": 14,
   "metadata": {
    "colab": {
     "base_uri": "https://localhost:8080/"
    },
    "executionInfo": {
     "elapsed": 109,
     "status": "ok",
     "timestamp": 1692597473353,
     "user": {
      "displayName": "Shaannoor Mann",
      "userId": "02520257695567980696"
     },
     "user_tz": 300
    },
    "id": "RwIDDcbGqxoa",
    "outputId": "00f521a4-f57b-4646-ee0d-15cfb36e1baf"
   },
   "outputs": [
    {
     "data": {
      "text/plain": [
       "array([[[ 0,  1],\n",
       "        [ 4,  5]],\n",
       "\n",
       "       [[12, 13],\n",
       "        [16, 17]]])"
      ]
     },
     "execution_count": 14,
     "metadata": {},
     "output_type": "execute_result"
    }
   ],
   "source": [
    "sub_array = my_array[:, 0:2, 0:2]\n",
    "sub_array"
   ]
  },
  {
   "cell_type": "markdown",
   "metadata": {
    "id": "8fSWwHDw0icl",
    "jp-MarkdownHeadingCollapsed": true,
    "tags": []
   },
   "source": [
    "## <font color = 'dodgerblue'> **List arrays vs Numpy arrays**\n",
    "- Arrays can store data more compactly.\n",
    "- Lists cannot directly handle math operations whereas Numpy arrays are great for numerical operations.\n",
    "- Appending elements to Numpy array will take more time than lists. Lists are good for the scenario where items can grow dynamically.\n",
    "\n",
    "In the example below, we will now compare the addition of two large collections using numpy and python list."
   ]
  },
  {
   "cell_type": "code",
   "execution_count": null,
   "metadata": {
    "collapsed": true,
    "id": "LnMHE5Qxy-91",
    "jupyter": {
     "outputs_hidden": true,
     "source_hidden": true
    }
   },
   "outputs": [],
   "source": [
    "import time\n",
    "import numpy as np\n",
    "\n",
    "# manipulating 10 million items\n",
    "n = 10000000\n",
    "\n",
    "# Wrrite a function to calculate time to add two arrays of 10 million items\n",
    "# We will use np.arange function to generate numpy arrays\n",
    "# use time() function from time module\n",
    "\n",
    "def numpy_add():\n",
    "    # time in seconds\n",
    "    now = time.time()\n",
    "    # generating numpy array with 10 million items\n",
    "    x = np.array(np.arange(n))\n",
    "    # generating another numpy array with 10 million items\n",
    "    y = np.array(np.arange(n))\n",
    "    result = x + y\n",
    "    return time.time() - now\n",
    "\n",
    "# Wrrite a sumilar function using python list\n",
    "# We will use built in range function to generate list of 10 million items\n",
    "# use time() function from time module\n",
    "\n",
    "def python_add():\n",
    "    # time in seconds\n",
    "    now = time.time()\n",
    "    # generating a list with 10 million items\n",
    "    x = list(range(n))\n",
    "    # generating another list with  10 million items\n",
    "    y = list(range(n))\n",
    "    # using list comprehension to add elements in two  lists\n",
    "    result = [x[i] + y[i] for i in range(len(x))]\n",
    "    return time.time() - now"
   ]
  },
  {
   "cell_type": "code",
   "execution_count": null,
   "metadata": {
    "colab": {
     "base_uri": "https://localhost:8080/"
    },
    "collapsed": true,
    "executionInfo": {
     "elapsed": 2473,
     "status": "ok",
     "timestamp": 1661530270253,
     "user": {
      "displayName": "Harpreet SIngh",
      "userId": "15106381096049879330"
     },
     "user_tz": 300
    },
    "id": "2kChTUyIzF82",
    "jupyter": {
     "outputs_hidden": true,
     "source_hidden": true
    },
    "outputId": "37131c66-c482-4315-d0a1-3574220501c3"
   },
   "outputs": [
    {
     "name": "stdout",
     "output_type": "stream",
     "text": [
      "Python time: 2.1137614250183105s\n",
      "NumPy time: 0.10809969902038574s\n",
      "Numpy is 19.55381415650095x faster!\n"
     ]
    }
   ],
   "source": [
    "# We can check the time difference between array addition by using numpy and list\n",
    "time_python = python_add()\n",
    "time_numpy = numpy_add()\n",
    "print('Python time: ' + str(time_python) + 's')\n",
    "print('NumPy time: ' + str(time_numpy) + 's')\n",
    "print(\"Numpy is \" + str(time_python / time_numpy) + \"x faster!\")"
   ]
  },
  {
   "cell_type": "markdown",
   "metadata": {
    "id": "GVulHrlemujU"
   },
   "source": [
    "## <font color = 'dodgerblue'>**Basic Statistical Functions**\n",
    "We can use NumPy to compute basic statistics such as mean, standard deviation, and sum.\n"
   ]
  },
  {
   "cell_type": "code",
   "execution_count": 3,
   "metadata": {
    "colab": {
     "base_uri": "https://localhost:8080/"
    },
    "executionInfo": {
     "elapsed": 135,
     "status": "ok",
     "timestamp": 1692596401155,
     "user": {
      "displayName": "Shaannoor Mann",
      "userId": "02520257695567980696"
     },
     "user_tz": 300
    },
    "id": "N-HxkZ-fm2mY",
    "outputId": "8065299f-875b-4789-f09e-f6640b5026ac"
   },
   "outputs": [
    {
     "data": {
      "text/plain": [
       "(2.0, 0.816496580927726, 6)"
      ]
     },
     "execution_count": 3,
     "metadata": {},
     "output_type": "execute_result"
    }
   ],
   "source": [
    "# Computing statistics\n",
    "mean_value = np.mean(array_from_list)\n",
    "std_dev = np.std(array_from_list)\n",
    "total_sum = np.sum(array_from_list)\n",
    "\n",
    "mean_value, std_dev, total_sum\n"
   ]
  },
  {
   "cell_type": "code",
   "execution_count": null,
   "metadata": {
    "id": "LqGi_XW1stua"
   },
   "outputs": [],
   "source": []
  },
  {
   "cell_type": "markdown",
   "metadata": {
    "id": "6ty9YhgdZ3Xu"
   },
   "source": [
    "## <font color = 'dodgerblue'> **Matrix - 2 Dimensional arrays**\n",
    "* A matrix is a rectangular arrays of numbers, symbols, or expressions, arranged in rows and columns.\n",
    "* A matrix with $m$ rows and $n$ columns is called $\n",
    "m * n$ (or) $m$ by  $n$ matrix. Where $m$ and $n$ are called dimensions.\n",
    "* The following matrix is an example of $m$ by $n$ matrix ($m$ rows and $n$ columns )\n",
    "\\begin{bmatrix}\n",
    "x_{1,1} & x_{1,2} & \\cdots & x_{1,n} \\\\ x_{2,1} & x_{2,2}&\\cdots& x_{2,n}  \\\\\\vdots & \\vdots & \\ddots & \\vdots \\\\ x_{m,1} & x_{m,2} &\\cdots& x_{m,n} \\end{bmatrix}"
   ]
  },
  {
   "cell_type": "markdown",
   "metadata": {
    "id": "i8CXhxYlnz2u"
   },
   "source": [
    "### <font color = 'dodgerblue'> **Matrix addition**\n",
    "* Suppose we have two matrices and they are\n",
    "\n",
    "$\\boldsymbol{A} = \\begin{bmatrix}\n",
    "1 & 2 & 3\\\\5 & 6 & 4\\\\4 & 4 & 7\\end{bmatrix}$\n",
    "$\\boldsymbol{B} = \\begin{bmatrix}\n",
    "5& 7& 3\\\\8& 9 & 10\\\\4& 3 & 9\\end{bmatrix}$\n",
    "* We can find the **sum of matrices** simply by adding the corresponding entries in matrices $A$ and $B$.\n",
    "\n",
    "  Therefore, $A+B =  \\begin{bmatrix}\n",
    "  1+5 & 2+7 & 3+3\\\\5+8 & 6+9 & 4+10\\\\4+4 & 4+3 & 7+9\\end{bmatrix}$\n",
    "    \n",
    "  $=\\begin{bmatrix}\n",
    "  6 & 9 & 6\\\\13 & 15 & 14\\\\8 & 7 & 16\\end{bmatrix}$\n",
    "\n",
    "* In numpy, we can use **add()** method to perform addition of matrices."
   ]
  },
  {
   "cell_type": "code",
   "execution_count": null,
   "metadata": {
    "colab": {
     "base_uri": "https://localhost:8080/"
    },
    "collapsed": true,
    "executionInfo": {
     "elapsed": 448,
     "status": "ok",
     "timestamp": 1692597796573,
     "user": {
      "displayName": "Shaannoor Mann",
      "userId": "02520257695567980696"
     },
     "user_tz": 300
    },
    "id": "YGWlph942iba",
    "jupyter": {
     "outputs_hidden": true,
     "source_hidden": true
    },
    "outputId": "d42f5c6f-a49f-4c11-e447-de38745bd755"
   },
   "outputs": [
    {
     "name": "stdout",
     "output_type": "stream",
     "text": [
      "The addition of two matrices A+B  is \n",
      " [[ 6  9  6]\n",
      " [13 15 14]\n",
      " [ 8  7 16]]\n"
     ]
    }
   ],
   "source": [
    "# Addition of matrices by using add() method\n",
    "A = np.array([[1, 2, 3], [5, 6, 4],[4, 4, 7]])\n",
    "B = np.array([[5, 7, 3], [8, 9, 10],[4, 3, 9]])\n",
    "print(f\"The addition of two matrices A+B  is \\n {np.add(A,B)}\")"
   ]
  },
  {
   "cell_type": "markdown",
   "metadata": {
    "id": "AkLMM2hyXn1X"
   },
   "source": [
    "### <font color = 'dodgerblue'> **Matrix Subtraction**\n",
    "* We can find the **difference between matrices** simply by subtracting the corresponding entries in matrices $A$ and $B$.\n",
    "* Let's consider the above two matrices $A$ and $B$.\n",
    "Therefore, $A-B =  \\begin{bmatrix}\n",
    "1-5 & 2-7 & 3-3\\\\5-8 & 6-9 &4-10\\\\4-4 & 4-3 & 7-9\\end{bmatrix}$\n",
    "$\\ =\\begin{bmatrix}\n",
    "-4 & -5 &  0\\\\-3 &-3 & -6\\\\  0 &  1 & -2\\end{bmatrix}$\n",
    "\n",
    "\n",
    "* In numpy, we can use **subtract()** method to subtract two matrices."
   ]
  },
  {
   "cell_type": "code",
   "execution_count": null,
   "metadata": {
    "colab": {
     "base_uri": "https://localhost:8080/"
    },
    "collapsed": true,
    "executionInfo": {
     "elapsed": 2,
     "status": "ok",
     "timestamp": 1692597798577,
     "user": {
      "displayName": "Shaannoor Mann",
      "userId": "02520257695567980696"
     },
     "user_tz": 300
    },
    "id": "TTNzRw-T5weg",
    "jupyter": {
     "outputs_hidden": true,
     "source_hidden": true
    },
    "outputId": "6360c304-d07a-4a6e-9915-5ce5ec8e7a25"
   },
   "outputs": [
    {
     "name": "stdout",
     "output_type": "stream",
     "text": [
      "The difference between two matrices A-B  is \n",
      " [[-4 -5  0]\n",
      " [-3 -3 -6]\n",
      " [ 0  1 -2]]\n"
     ]
    }
   ],
   "source": [
    "#finding the difference between the two matrices by using subtract() method.\n",
    "A = np.array([[1, 2, 3], [5, 6, 4],[4, 4, 7]])\n",
    "B = np.array([[5, 7, 3], [8, 9, 10],[4, 3, 9]])\n",
    "print(f\"The difference between two matrices A-B  is \\n {np.subtract(A,B)}\")"
   ]
  },
  {
   "cell_type": "markdown",
   "metadata": {
    "id": "NiaZ7ucioBK9"
   },
   "source": [
    "### <font color = 'dodgerblue'> **Hadamard product**\n",
    "* Hadamard product of two vectors is very similar to matrix addition, elements corresponding to same row and columns of given vectors/matrices are multiplied together to form a new vector/matrix.\n",
    "* It is named after French Mathematician, **Jacques Hadamard**.\n",
    "\n",
    "* **Example :** If we have two matrices A and B. The size of $A$ = (2, 2) and $B$ = (2, 2) then the hadamard product of $A$, $B$ denoted as\n",
    "$A \\circ B$  will be of size (2, 2).\n",
    "\n",
    "\n",
    "$\\boldsymbol{A} = \\begin{bmatrix}\n",
    "1& 2 & 3\\\\5&  6 & 4\\end{bmatrix}$\n",
    "$\\boldsymbol{B} = \\begin{bmatrix}\n",
    "5& 7& 3\\\\8& 9 & 10\\end{bmatrix}$\n",
    "\n",
    "$\\\\(A \\circ B)$ =\n",
    "$\\begin{bmatrix}1×5 & 2×7 & 3×3\\\\5×8 & 6×9 & 4×10\\end{bmatrix}$\n",
    "= $\\begin{bmatrix}5 & 14 & 9\\\\40 & 54 & 40\\end{bmatrix}$\n",
    "\n",
    "* In numpy, we can use **multiply()** method or **operator *** to find the hadamard product.\n",
    "\n",
    "\n",
    "\n"
   ]
  },
  {
   "cell_type": "code",
   "execution_count": null,
   "metadata": {
    "colab": {
     "base_uri": "https://localhost:8080/"
    },
    "collapsed": true,
    "executionInfo": {
     "elapsed": 522,
     "status": "ok",
     "timestamp": 1692597800485,
     "user": {
      "displayName": "Shaannoor Mann",
      "userId": "02520257695567980696"
     },
     "user_tz": 300
    },
    "id": "SLBj0LpeFpe0",
    "jupyter": {
     "outputs_hidden": true,
     "source_hidden": true
    },
    "outputId": "810b4410-4caa-4879-937f-437ab686f777"
   },
   "outputs": [
    {
     "name": "stdout",
     "output_type": "stream",
     "text": [
      "the  the matrice A is given as \n",
      " [[1 2 3]\n",
      " [5 6 4]] \n",
      "\n",
      "the  the matrice B is given as \n",
      " [[ 5  7  3]\n",
      " [ 8  9 10]] \n",
      "\n",
      "the hadamard product for the above two matrices is given as \n",
      " [[ 5 14  9]\n",
      " [40 54 40]] \n",
      "\n",
      "the hadamard product for the above two matrices is given as \n",
      " [[ 5 14  9]\n",
      " [40 54 40]]\n"
     ]
    }
   ],
   "source": [
    "#Let's create the above example matrices using numpy\n",
    "A = np.array([[1, 2, 3],[5, 6, 4]])\n",
    "B = np.array([[5, 7, 3],[8, 9, 10]])\n",
    "print(f\"the  the matrice A is given as \\n {A} \\n\")\n",
    "print(f\"the  the matrice B is given as \\n {B} \\n\")\n",
    "#the hadamard product for the above two matrices is given as follows :\n",
    "# We can see the element wise product for the two matrices\n",
    "print(f\"the hadamard product for the above two matrices is given as \\n {np.multiply(A,B)} \\n\")\n",
    "print(f\"the hadamard product for the above two matrices is given as \\n {A*B}\")"
   ]
  },
  {
   "cell_type": "markdown",
   "metadata": {
    "id": "FYMtpU3JpdQb"
   },
   "source": [
    "## <font color = 'dodgerblue'> **Transpose of a matrix**\n",
    "* In linear algebra, the transpose of a matrix is an operator which flips a matrix over its diagonal.\n",
    "* That is, it switches the row and column indices of the matrix $A$ by producing another matrix, it is often denoted by $A^T$.\n",
    "* **Example** - Let us take a matrix\n",
    "\n",
    "  $\\boldsymbol{A} = \\begin{bmatrix}\n",
    "  1& 2 \\\\5&  6 \\end{bmatrix}$\n",
    "\n",
    "  Then the transpose of A is given as follows :-\n",
    "\n",
    "  $\\boldsymbol{A^T} = \\begin{bmatrix}\n",
    "  1& 5 \\\\2&  6 \\end{bmatrix}$\n",
    "\n",
    "* In numpy, we can use **T** in order to transpose a matrix. Let's check an example of matrix transpose using numpy as follows :-"
   ]
  },
  {
   "cell_type": "code",
   "execution_count": 15,
   "metadata": {
    "colab": {
     "base_uri": "https://localhost:8080/"
    },
    "collapsed": true,
    "executionInfo": {
     "elapsed": 244,
     "status": "ok",
     "timestamp": 1692597989542,
     "user": {
      "displayName": "Shaannoor Mann",
      "userId": "02520257695567980696"
     },
     "user_tz": 300
    },
    "id": "Mwb0tfRz7nO3",
    "jupyter": {
     "outputs_hidden": true,
     "source_hidden": true
    },
    "outputId": "ff712fa1-ac71-4358-867d-9563b1eb98a7"
   },
   "outputs": [
    {
     "name": "stdout",
     "output_type": "stream",
     "text": [
      "the matrix A is given as \n",
      " [[1 2]\n",
      " [5 6]]\n"
     ]
    }
   ],
   "source": [
    "# Using transpose of a matrix by using T in numpy\n",
    "A = np.array([[1, 2],[5, 6]])\n",
    "print(f\"the matrix A is given as \\n {A}\")"
   ]
  },
  {
   "cell_type": "code",
   "execution_count": 16,
   "metadata": {
    "colab": {
     "base_uri": "https://localhost:8080/"
    },
    "collapsed": true,
    "executionInfo": {
     "elapsed": 265,
     "status": "ok",
     "timestamp": 1692597990754,
     "user": {
      "displayName": "Shaannoor Mann",
      "userId": "02520257695567980696"
     },
     "user_tz": 300
    },
    "id": "UTqoTWo7dWbX",
    "jupyter": {
     "outputs_hidden": true,
     "source_hidden": true
    },
    "outputId": "c2365eac-fc26-4c8a-aad9-58e69afc4132"
   },
   "outputs": [
    {
     "name": "stdout",
     "output_type": "stream",
     "text": [
      "transpose of matrix A is \n",
      "[[1 5]\n",
      " [2 6]]\n"
     ]
    }
   ],
   "source": [
    "# We can check the tranpose of the matrix A\n",
    "print(f\"transpose of matrix A is \\n{A.T}\")"
   ]
  },
  {
   "cell_type": "markdown",
   "metadata": {
    "id": "G0lN2EWJZW9c"
   },
   "source": [
    "## <font color = 'dodgerblue'> **Inner product or Dot product**\n",
    "Dot product of 2 vectors x and y, represented as `(x.T)(y)` is given by the summation of product of elements at the same position.\n",
    "\n",
    "If we have 2 vectors x: [1, 2, 3, 4] and y: [1, 1, 2, 1]\n",
    "\n",
    "(x.y) will be 1x1 + 2x1 + 3x2 + 4x1 = 13"
   ]
  },
  {
   "cell_type": "markdown",
   "metadata": {
    "id": "LeMZeJG7blYI"
   },
   "source": [
    "To find the inner product of the vectors, we can use the dot() method of NumPy."
   ]
  },
  {
   "cell_type": "code",
   "execution_count": 17,
   "metadata": {
    "colab": {
     "base_uri": "https://localhost:8080/"
    },
    "collapsed": true,
    "executionInfo": {
     "elapsed": 282,
     "status": "ok",
     "timestamp": 1692597996544,
     "user": {
      "displayName": "Shaannoor Mann",
      "userId": "02520257695567980696"
     },
     "user_tz": 300
    },
    "id": "JiJ4FggRdv_P",
    "jupyter": {
     "outputs_hidden": true,
     "source_hidden": true
    },
    "outputId": "5868076a-bf35-4a4b-cc36-267d0d5e3bdb"
   },
   "outputs": [
    {
     "data": {
      "text/plain": [
       "2445"
      ]
     },
     "execution_count": 17,
     "metadata": {},
     "output_type": "execute_result"
    }
   ],
   "source": [
    "# Inner product of vectors\n",
    "import numpy as np\n",
    "my_arr = np.array([12, 45, 32, 1, 2, 4])\n",
    "my_arr1 = np.array([15, 26, 31, 45, 21, 4])\n",
    "# if arrays are of the same length then inner product will be a scalar\n",
    "np.dot(my_arr,my_arr1)"
   ]
  },
  {
   "cell_type": "markdown",
   "metadata": {
    "id": "yw4n1k6fZMP-"
   },
   "source": [
    "## <font color = 'dodgerblue'> **Matrix multiplication**</font>\n",
    "Matrix multiplication is a binary operation on 2 matrices which gives us a matrix which is the product of the 2 matrices.\n",
    "\n",
    "If we are given 2 matrices $A$ of shape $(m * n)$ and $B$ of shape $(q * p)$, we can perform matrix multiplication only when $n = q$ and the resultant product matrix will have shape $(m * p)$.\n",
    "\n",
    "Suppose we are given 2 matrices $A (m * n)$ and $B (n * p)$:\n",
    "\n",
    "$$\\mathbf{A}=\\begin{bmatrix}\n",
    " a_{11} & a_{12} & \\cdots & a_{1n} \\\\\n",
    " a_{21} & a_{22} & \\cdots & a_{2n} \\\\\n",
    "\\vdots & \\vdots & \\ddots & \\vdots \\\\\n",
    " a_{m1} & a_{m2} & \\cdots & a_{mn} \\\\\n",
    "\\end{bmatrix},\\quad\n",
    "\\mathbf{B}=\\begin{bmatrix}\n",
    " b_{11} & b_{12} & \\cdots & b_{1p} \\\\\n",
    " b_{21} & b_{22} & \\cdots & b_{2p} \\\\\n",
    "\\vdots & \\vdots & \\ddots & \\vdots \\\\\n",
    " b_{n1} & b_{n2} & \\cdots & b_{np} \\\\\n",
    "\\end{bmatrix}$$\n",
    "\n",
    "Then after performing matrix multiplication, the resultant matrix C = AB will be:\n",
    "\n",
    "$$\\mathbf{C}=\\begin{bmatrix}\n",
    " c_{11} & c_{12} & \\cdots & c_{1p} \\\\\n",
    " c_{21} & c_{22} & \\cdots & c_{2p} \\\\\n",
    "\\vdots & \\vdots & \\ddots & \\vdots \\\\\n",
    " c_{mp} & c_{mp} & \\cdots & c_{mp} \\\\\n",
    "\\end{bmatrix}$$\n",
    "\n",
    "Here, $c_{ij} = a_{i1}b_{1j} + a_{i2}b_{2j} + ... a_{in}b_{b_nj} = \\sum_{k = 1}^n a_{ik}b_{kj}$\n",
    "\n",
    "for, $i = 1,....m$ and $j = 1,...p$\n",
    "\n",
    "\n",
    "Thus, each element of C, $c_{ij}$ is obtained by dot product of $i^{th}$ row of $A$ and $j^{th}$ column of $B$.\n",
    "\n",
    "**Example** :\n",
    "  1. Let $A$ be a matrix of (4, 3) dimensions.\n",
    "  2. Let $B$ be another matrix of (3, 2) dimensions.\n",
    "  3. Let us denote denote the matrix multiplication of $A$ and $B$ with $C$.\n",
    "  5. Then the dimension of $C$ = (number of rows of $A$,number of columns of $B$)\n",
    "     \n",
    "    dimension of  $C$ = (4, 2)\n",
    "\n",
    "The figure given below will give a good example of matrix multplication :\n",
    "\n",
    "<img src = \"https://drive.google.com/uc?view=export&id=176DF50XdtwkqU5wvxtWuD75sRDHvSJBf\" width =\"250\"/>"
   ]
  },
  {
   "cell_type": "code",
   "execution_count": 18,
   "metadata": {
    "colab": {
     "base_uri": "https://localhost:8080/"
    },
    "collapsed": true,
    "executionInfo": {
     "elapsed": 244,
     "status": "ok",
     "timestamp": 1692598001216,
     "user": {
      "displayName": "Shaannoor Mann",
      "userId": "02520257695567980696"
     },
     "user_tz": 300
    },
    "id": "Zt4ZrE4c9jOq",
    "jupyter": {
     "outputs_hidden": true,
     "source_hidden": true
    },
    "outputId": "eb81a14c-9f07-4d3e-b5c2-7e34b8e1289f"
   },
   "outputs": [
    {
     "name": "stdout",
     "output_type": "stream",
     "text": [
      "The dimensions of the matrix x is : \n",
      "(2, 3)\n",
      "The dimensions of the matrix y is : \n",
      "(3, 3)\n"
     ]
    }
   ],
   "source": [
    "# let's consider two matrices of different shape\n",
    "x = np.array([[1,25,46],[28,45,76]])\n",
    "print(f\"The dimensions of the matrix x is : \\n{x.shape}\")\n",
    "\n",
    "y = np.array([[14,15,7],[12,36,48],[1,25,7]])\n",
    "print(f\"The dimensions of the matrix y is : \\n{y.shape}\")"
   ]
  },
  {
   "cell_type": "code",
   "execution_count": 20,
   "metadata": {
    "colab": {
     "base_uri": "https://localhost:8080/"
    },
    "collapsed": true,
    "executionInfo": {
     "elapsed": 150,
     "status": "ok",
     "timestamp": 1692598165221,
     "user": {
      "displayName": "Shaannoor Mann",
      "userId": "02520257695567980696"
     },
     "user_tz": 300
    },
    "id": "6IzFtR4hxu9x",
    "jupyter": {
     "outputs_hidden": true,
     "source_hidden": true
    },
    "outputId": "6fdce119-bda2-4308-bd6a-325549ab89eb"
   },
   "outputs": [
    {
     "name": "stdout",
     "output_type": "stream",
     "text": [
      "The dimensions of the product matrix  is : \n",
      "(2, 3)\n"
     ]
    }
   ],
   "source": [
    "# Let's the check the rule of matrix multiplication\n",
    "# Since, the number of columns of x = number of rows of y\n",
    "# the shape of the product of both matrix is (number of rows of x, number of columns of y)\n",
    "# the matmul() method helps in multiplying matrices\n",
    "\n",
    "my_prod = np.matmul(x, y)\n",
    "print(f\"The dimensions of the product matrix  is : \\n{my_prod.shape}\")\n"
   ]
  },
  {
   "cell_type": "code",
   "execution_count": null,
   "metadata": {
    "id": "2IG1ZBfktlx7"
   },
   "outputs": [],
   "source": []
  },
  {
   "cell_type": "markdown",
   "metadata": {
    "id": "cI4L4lCPbCar"
   },
   "source": [
    "#### <font color = 'pickle'>**Prediction on Multiple Training Examples via Matrix Multiplication**"
   ]
  },
  {
   "cell_type": "code",
   "execution_count": 21,
   "metadata": {
    "colab": {
     "base_uri": "https://localhost:8080/"
    },
    "executionInfo": {
     "elapsed": 195,
     "status": "ok",
     "timestamp": 1692598211120,
     "user": {
      "displayName": "Shaannoor Mann",
      "userId": "02520257695567980696"
     },
     "user_tz": 300
    },
    "id": "_1-orC5SbYgs",
    "outputId": "22339cec-64e3-475c-a80b-0e54ef2a43d5"
   },
   "outputs": [
    {
     "name": "stdout",
     "output_type": "stream",
     "text": [
      "(5, 2) (2, 1) (1,)\n"
     ]
    }
   ],
   "source": [
    "bias = np.array([0.])\n",
    "theta = np.array([0.2, 9.3])\n",
    "theta = theta.reshape(-1,1)\n",
    "X = np.array(\n",
    "   [[1.8, 9.2],\n",
    "    [0.2, 3.3],\n",
    "    [5.2, 3.4],\n",
    "    [3.4, 4.5],\n",
    "    [6.1, 7.1]]\n",
    ")\n",
    "print(X.shape, theta.shape, bias.shape)"
   ]
  },
  {
   "cell_type": "markdown",
   "metadata": {
    "id": "OpCPrmUFtyO4"
   },
   "source": [
    "```\n",
    "p1 = x11 * theta1 + x21 * theta2 + bias\n",
    "p2 = x12 * theta1 + x22 * theta2 + bias\n",
    "p3 = x13 * theta1 + x23 * theta2 + bias\n",
    "p4 = x14 * theta1 + x24 * theta2 + bias\n",
    "p5 = x15 * theta1 + x25 * theta2 + bias\n",
    "```"
   ]
  },
  {
   "cell_type": "code",
   "execution_count": null,
   "metadata": {
    "colab": {
     "base_uri": "https://localhost:8080/"
    },
    "executionInfo": {
     "elapsed": 387,
     "status": "ok",
     "timestamp": 1692577285284,
     "user": {
      "displayName": "Shaannoor Mann",
      "userId": "02520257695567980696"
     },
     "user_tz": 300
    },
    "id": "KLTjgJt9cfSu",
    "outputId": "784e5685-26b1-4dbc-bee1-85b73816c7ff"
   },
   "outputs": [
    {
     "data": {
      "text/plain": [
       "tensor([[85.9200],\n",
       "        [30.7300],\n",
       "        [32.6600],\n",
       "        [42.5300],\n",
       "        [67.2500]])"
      ]
     },
     "execution_count": 246,
     "metadata": {},
     "output_type": "execute_result"
    }
   ],
   "source": [
    "predictions = X.matmul(theta) + bias\n",
    "predictions"
   ]
  },
  {
   "cell_type": "markdown",
   "metadata": {
    "id": "hydARsEAm_w1"
   },
   "source": [
    "## <font color = 'dodgerblue'>**Interactive Exercise: Simple Dataset Preprocessing** </font>\n",
    "In this exercise, we'll create a simple dataset and perform basic preprocessing tasks such as normalization and splitting into training and testing sets.\n",
    "\n",
    "### Task\n",
    "1. Create a dataset of 100 samples with 3 features.\n",
    "2. Normalize the features using Min-Max scaling.\n",
    "$$\n",
    "X_{\\text{{norm}}} = \\frac{{X - X_{\\text{{min}}}}}{{X_{\\text{{max}}} - X_{\\text{{min}}}}}\n",
    "$$\n",
    "\n",
    "3. Split the dataset into training (80%) and testing (20%) sets.\n",
    "\n",
    "Let's start coding!\n"
   ]
  },
  {
   "cell_type": "code",
   "execution_count": 5,
   "metadata": {
    "colab": {
     "base_uri": "https://localhost:8080/"
    },
    "executionInfo": {
     "elapsed": 166,
     "status": "ok",
     "timestamp": 1692596512190,
     "user": {
      "displayName": "Shaannoor Mann",
      "userId": "02520257695567980696"
     },
     "user_tz": 300
    },
    "id": "5bEhCAH3nRjN",
    "outputId": "c244279e-020c-465e-8a7c-ea0e8fe75e1a"
   },
   "outputs": [
    {
     "data": {
      "text/plain": [
       "((80, 3), (20, 3))"
      ]
     },
     "execution_count": 5,
     "metadata": {},
     "output_type": "execute_result"
    }
   ],
   "source": [
    "# Creating a dataset\n",
    "np.random.seed(42)\n",
    "dataset = np.random.rand(100, 3)\n",
    "\n",
    "# Min-Max scaling (Normalization)\n",
    "normalized_dataset = (dataset - dataset.min(axis=0)) / (dataset.max(axis=0) - dataset.min(axis=0))\n",
    "\n",
    "# Splitting into training and testing sets\n",
    "train_size = int(0.8 * len(normalized_dataset))\n",
    "train_data = normalized_dataset[:train_size]\n",
    "test_data = normalized_dataset[train_size:]\n",
    "\n",
    "train_data.shape, test_data.shape\n"
   ]
  }
 ],
 "metadata": {
  "colab": {
   "authorship_tag": "ABX9TyO1qzQQRTnWYvqnthHPcor7",
   "provenance": [],
   "toc_visible": true
  },
  "kernelspec": {
   "display_name": "Python 3",
   "language": "python",
   "name": "python3"
  },
  "language_info": {
   "codemirror_mode": {
    "name": "ipython",
    "version": 3
   },
   "file_extension": ".py",
   "mimetype": "text/x-python",
   "name": "python",
   "nbconvert_exporter": "python",
   "pygments_lexer": "ipython3",
   "version": "3.7.3"
  }
 },
 "nbformat": 4,
 "nbformat_minor": 1
}
