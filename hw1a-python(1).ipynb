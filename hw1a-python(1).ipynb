{
 "cells": [
  {
   "cell_type": "markdown",
   "metadata": {
    "id": "S2NNKJwGnWpD"
   },
   "source": [
    "# <font color = 'dodgerblue'> **HW 1a Python (Total Points - 5)** </font>\n",
    "\n",
    "You have to submit two files for this part of the  HW\n",
    "1. FirstNameLastName_Hw1a.ipynb (colab notebook)\n",
    "2. FirstNameLastName_Hw1a.pdf pdf file**\n",
    "\n",
    "- This is a HW to test your understanding of Python Basics."
   ]
  },
  {
   "cell_type": "markdown",
   "metadata": {
    "id": "vY0sAXv8nWpH"
   },
   "source": [
    "## <font color = 'dodgerblue'>**Q1: split() function - 0.25 Point**\n",
    "Split the sentence below into list of words (1 Point)"
   ]
  },
  {
   "cell_type": "code",
   "execution_count": 1,
   "metadata": {
    "id": "Rb0wo6m6nWpI",
    "jupyter": {
     "outputs_hidden": true
    }
   },
   "outputs": [],
   "source": [
    "sentence = 'This is a basic python assignment'"
   ]
  },
  {
   "cell_type": "code",
   "execution_count": 2,
   "metadata": {
    "id": "UK8Ky-dLyXXS"
   },
   "outputs": [
    {
     "data": {
      "text/plain": [
       "['This', 'is', 'a', 'basic', 'python', 'assignment']"
      ]
     },
     "execution_count": 2,
     "metadata": {},
     "output_type": "execute_result"
    }
   ],
   "source": [
    "sentence.split(' ')"
   ]
  },
  {
   "cell_type": "code",
   "execution_count": null,
   "metadata": {
    "colab": {
     "base_uri": "https://localhost:8080/"
    },
    "executionInfo": {
     "elapsed": 2,
     "status": "ok",
     "timestamp": 1661139484610,
     "user": {
      "displayName": "Harpreet SIngh",
      "userId": "15106381096049879330"
     },
     "user_tz": 300
    },
    "id": "CXdcLB-nnWpI",
    "outputId": "c8eb736a-3375-48da-c824-7d7f8024d961"
   },
   "outputs": [
    {
     "data": {
      "text/plain": [
       "['This', 'is', 'a', 'basic', 'python', 'assignment']"
      ]
     },
     "execution_count": 3,
     "metadata": {},
     "output_type": "execute_result"
    }
   ],
   "source": [
    "# Do not RUN/MODIFY this cell. This tells you how your solution should look like"
   ]
  },
  {
   "cell_type": "markdown",
   "metadata": {
    "id": "_DQgig_rnWpJ"
   },
   "source": [
    "## <font color = 'dodgerblue'>**Q2 print using f-string literals - 0.25 Point**\n",
    "\n",
    "**Given the variables:**\n",
    "\n",
    "```\n",
    "course = 'Machine Learning'\n",
    "lec_num = 1\n",
    "```\n",
    "Print the sentence\n",
    "\n",
    "```\n",
    "This is lecture 1 of Machine Learning\n",
    "```"
   ]
  },
  {
   "cell_type": "code",
   "execution_count": null,
   "metadata": {
    "collapsed": true,
    "id": "lX4r7xGynWpJ",
    "jupyter": {
     "outputs_hidden": true
    }
   },
   "outputs": [],
   "source": [
    "course  = \"Machine Learning\"\n",
    "lec_num   = 1"
   ]
  },
  {
   "cell_type": "code",
   "execution_count": null,
   "metadata": {
    "id": "34ed87uEytNK"
   },
   "outputs": [],
   "source": [
    "# code here"
   ]
  },
  {
   "cell_type": "code",
   "execution_count": null,
   "metadata": {
    "colab": {
     "base_uri": "https://localhost:8080/"
    },
    "executionInfo": {
     "elapsed": 259,
     "status": "ok",
     "timestamp": 1661140071333,
     "user": {
      "displayName": "Harpreet SIngh",
      "userId": "15106381096049879330"
     },
     "user_tz": 300
    },
    "id": "UfJ7LTxbnWpJ",
    "outputId": "38c788cb-4397-4f6b-8ebc-f6e2de1eeb35"
   },
   "outputs": [
    {
     "name": "stdout",
     "output_type": "stream",
     "text": [
      "This is lecture 1 of Machine Learning\n"
     ]
    }
   ],
   "source": [
    "# Do not RUN/MODIFY this cell. This tells you how your solution should look like"
   ]
  },
  {
   "cell_type": "markdown",
   "metadata": {
    "id": "C7BCqfIunWpK"
   },
   "source": [
    "## <font color = 'dodgerblue'>**Q3 Indexing for nested list - 1.25 Points**\n",
    "\n",
    "Use indexing to get only the word `python` from nested list"
   ]
  },
  {
   "cell_type": "code",
   "execution_count": null,
   "metadata": {
    "collapsed": true,
    "id": "pbe3iNoTnWpK",
    "jupyter": {
     "outputs_hidden": true
    }
   },
   "outputs": [],
   "source": [
    "nested_list = [10,9,[4,'hi'],['good',[10,99,['python is easy', 'c++ is hard']],45,15],12,107]"
   ]
  },
  {
   "cell_type": "code",
   "execution_count": null,
   "metadata": {
    "id": "KCd0s8ANywTn"
   },
   "outputs": [],
   "source": [
    "# code here"
   ]
  },
  {
   "cell_type": "code",
   "execution_count": null,
   "metadata": {
    "colab": {
     "base_uri": "https://localhost:8080/",
     "height": 36
    },
    "executionInfo": {
     "elapsed": 192,
     "status": "ok",
     "timestamp": 1661140421202,
     "user": {
      "displayName": "Harpreet SIngh",
      "userId": "15106381096049879330"
     },
     "user_tz": 300
    },
    "id": "nOBEuSfDnWpK",
    "outputId": "414a2a03-92b4-4328-f1ee-7021a98a2926"
   },
   "outputs": [
    {
     "data": {
      "application/vnd.google.colaboratory.intrinsic+json": {
       "type": "string"
      },
      "text/plain": [
       "'python'"
      ]
     },
     "execution_count": 15,
     "metadata": {},
     "output_type": "execute_result"
    }
   ],
   "source": [
    "# Do not RUN/MODIFY this cell. This tells you how your solution should look like"
   ]
  },
  {
   "cell_type": "markdown",
   "metadata": {
    "id": "WcVd_hiHnWpK"
   },
   "source": [
    "## <font color = 'dodgerblue'>**Q4  Update Dictionary - 0.25 Point**\n",
    "In the dictionary below , change the course number of ML course from 6341 to 6341.ss1"
   ]
  },
  {
   "cell_type": "code",
   "execution_count": null,
   "metadata": {
    "id": "j7_aY7KOnWpL"
   },
   "outputs": [],
   "source": [
    "course_dict = {'Course Name': ['NLP', 'ML', 'DL'], 'Course Number': ['6342', '6341', '6382']}"
   ]
  },
  {
   "cell_type": "code",
   "execution_count": null,
   "metadata": {
    "colab": {
     "base_uri": "https://localhost:8080/"
    },
    "executionInfo": {
     "elapsed": 190,
     "status": "ok",
     "timestamp": 1661140790772,
     "user": {
      "displayName": "Harpreet SIngh",
      "userId": "15106381096049879330"
     },
     "user_tz": 300
    },
    "id": "5VPaleYutNqy",
    "outputId": "1791731b-b16e-4759-cd6f-6e393f26c02e"
   },
   "outputs": [
    {
     "data": {
      "text/plain": [
       "{'Course Name': ['NLP', 'ML', 'DL'], 'Course Number': ['6342', '6341', '6382']}"
      ]
     },
     "execution_count": 21,
     "metadata": {},
     "output_type": "execute_result"
    }
   ],
   "source": [
    "course_dict"
   ]
  },
  {
   "cell_type": "code",
   "execution_count": null,
   "metadata": {
    "id": "y-EQRoLgsclI"
   },
   "outputs": [],
   "source": [
    "# code here"
   ]
  },
  {
   "cell_type": "code",
   "execution_count": null,
   "metadata": {
    "colab": {
     "base_uri": "https://localhost:8080/"
    },
    "executionInfo": {
     "elapsed": 191,
     "status": "ok",
     "timestamp": 1661140849706,
     "user": {
      "displayName": "Harpreet SIngh",
      "userId": "15106381096049879330"
     },
     "user_tz": 300
    },
    "id": "cG7u_2B1ta-9",
    "outputId": "68b75a05-ee70-40a0-e4c3-062d60e864e3"
   },
   "outputs": [
    {
     "data": {
      "text/plain": [
       "{'Course Name': ['NLP', 'ML', 'DL'],\n",
       " 'Course Number': ['6342', '6341.ss1', '6382']}"
      ]
     },
     "execution_count": 25,
     "metadata": {},
     "output_type": "execute_result"
    }
   ],
   "source": [
    "# Do not RUN/MODIFY this cell. This tells you how your solution should look like"
   ]
  },
  {
   "cell_type": "markdown",
   "metadata": {
    "id": "qsHCjwshnWpM"
   },
   "source": [
    "## <font color = 'dodgerblue'>**Q5 List Comprehension and Function - 1.5 Points**\n",
    "\n",
    "Create a function that get all the occurences of the word python (account for capitalization) in a string. You are not allowed to use for loop. (Hint - Use list comprehension. Search how you can use if statement in list comprehension.)"
   ]
  },
  {
   "cell_type": "code",
   "execution_count": null,
   "metadata": {
    "id": "YWA2oGZGnWpN"
   },
   "outputs": [],
   "source": [
    "def list_python(input_string):\n",
    "\n",
    "    # code here"
   ]
  },
  {
   "cell_type": "code",
   "execution_count": null,
   "metadata": {
    "id": "oSK5RqCvy4N4"
   },
   "outputs": [],
   "source": [
    "# string to check your function\n",
    "input_string = 'Python is wasy. I can learn python in one month'"
   ]
  },
  {
   "cell_type": "code",
   "execution_count": null,
   "metadata": {
    "id": "8PPOwQXEzK-h"
   },
   "outputs": [],
   "source": [
    "# Run this cell and make sure that your solution matches teh solution shown below\n",
    "list_python(input_string)"
   ]
  },
  {
   "cell_type": "code",
   "execution_count": null,
   "metadata": {
    "colab": {
     "base_uri": "https://localhost:8080/"
    },
    "executionInfo": {
     "elapsed": 184,
     "status": "ok",
     "timestamp": 1661141562812,
     "user": {
      "displayName": "Harpreet SIngh",
      "userId": "15106381096049879330"
     },
     "user_tz": 300
    },
    "id": "fKhFK6D5nWpN",
    "outputId": "f2615408-5266-42a4-aa27-fe5c1a4734a2"
   },
   "outputs": [
    {
     "data": {
      "text/plain": [
       "['python', 'python']"
      ]
     },
     "execution_count": 33,
     "metadata": {},
     "output_type": "execute_result"
    }
   ],
   "source": [
    "# Do not RUN/MODIFY this cell. This tells you how your solution should look like"
   ]
  },
  {
   "cell_type": "markdown",
   "metadata": {
    "id": "zAp7hQb-nWpN"
   },
   "source": [
    "## <font color = 'dodgerblue'>**Q6 Function and If-elif-else block - 1.5 Points**\n",
    "You all are Pilots. You want to land a plane safely and the altitude required for landing a plane is 1000ft. If it is less than 1000 ft., tell(print) the pilot 'Safe to Land'. If its more than 1000 ft but less than 5000ft, tell (print) the pilot to “Bring down to 1000ft”, else if it more than 5000ft tell (print) the pilot to “Go around and try later”. The altitude is provided to you by the user (already added as the first line in function).\n",
    "\n"
   ]
  },
  {
   "cell_type": "code",
   "execution_count": null,
   "metadata": {
    "collapsed": true,
    "id": "-5qgNjW9nWpO",
    "jupyter": {
     "outputs_hidden": true
    }
   },
   "outputs": [],
   "source": [
    "def land_or_not():\n",
    "  altitude = int(input(\"Enter the altitude: \"))\n",
    "\n",
    "  # code here\n",
    "\n"
   ]
  },
  {
   "cell_type": "code",
   "execution_count": null,
   "metadata": {
    "id": "t6SOOo90z6qj"
   },
   "outputs": [],
   "source": [
    "# Run this cell to check your solution. Try different input values\n",
    "land_or_not()"
   ]
  },
  {
   "cell_type": "code",
   "execution_count": null,
   "metadata": {
    "colab": {
     "base_uri": "https://localhost:8080/"
    },
    "executionInfo": {
     "elapsed": 4288,
     "status": "ok",
     "timestamp": 1661142897028,
     "user": {
      "displayName": "Harpreet SIngh",
      "userId": "15106381096049879330"
     },
     "user_tz": 300
    },
    "id": "bT3ZxErwxIFt",
    "outputId": "dd95b924-b988-44d7-a05c-5dea8e267c2d"
   },
   "outputs": [
    {
     "name": "stdout",
     "output_type": "stream",
     "text": [
      "Enter the altitude: 100\n",
      "Safe to land\n"
     ]
    }
   ],
   "source": [
    "# Do not RUN/MODIFY this cell. This tells you how your solution should look like.\n",
    "land_or_not()"
   ]
  },
  {
   "cell_type": "code",
   "execution_count": null,
   "metadata": {
    "colab": {
     "base_uri": "https://localhost:8080/"
    },
    "executionInfo": {
     "elapsed": 3325,
     "status": "ok",
     "timestamp": 1661142916192,
     "user": {
      "displayName": "Harpreet SIngh",
      "userId": "15106381096049879330"
     },
     "user_tz": 300
    },
    "id": "dVP_soT21P_h",
    "outputId": "6e37aa10-a293-49bf-f494-e1f491fd1d35"
   },
   "outputs": [
    {
     "name": "stdout",
     "output_type": "stream",
     "text": [
      "Enter the altitude: 1200\n",
      "Bring down to 1000 ft!\n"
     ]
    }
   ],
   "source": [
    "# Do not RUN/MODIFY this cell. This tells you how your solution should look like.\n",
    "land_or_not()"
   ]
  },
  {
   "cell_type": "code",
   "execution_count": null,
   "metadata": {
    "colab": {
     "base_uri": "https://localhost:8080/"
    },
    "executionInfo": {
     "elapsed": 3754,
     "status": "ok",
     "timestamp": 1661143063941,
     "user": {
      "displayName": "Harpreet SIngh",
      "userId": "15106381096049879330"
     },
     "user_tz": 300
    },
    "id": "xgIolTQl1U5_",
    "outputId": "4067f52a-0982-44fb-c9a7-ee56c6b4d759"
   },
   "outputs": [
    {
     "name": "stdout",
     "output_type": "stream",
     "text": [
      "Enter the altitude: 30000\n",
      "Go around and try later\n"
     ]
    }
   ],
   "source": [
    "# Do not RUN/MODIFY this cell. This tells you how your solution should look like.\n",
    "land_or_not()"
   ]
  }
 ],
 "metadata": {
  "colab": {
   "provenance": []
  },
  "kernelspec": {
   "display_name": "Python 3",
   "language": "python",
   "name": "python3"
  },
  "language_info": {
   "codemirror_mode": {
    "name": "ipython",
    "version": 3
   },
   "file_extension": ".py",
   "mimetype": "text/x-python",
   "name": "python",
   "nbconvert_exporter": "python",
   "pygments_lexer": "ipython3",
   "version": "3.7.3"
  }
 },
 "nbformat": 4,
 "nbformat_minor": 1
}
