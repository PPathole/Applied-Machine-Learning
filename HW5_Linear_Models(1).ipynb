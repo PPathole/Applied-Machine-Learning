{
 "cells": [
  {
   "cell_type": "markdown",
   "metadata": {
    "id": "W_mWzOOFoQFy"
   },
   "source": [
    "# **HW5 (20 Points): Required Submissions:**\n",
    "1.  Submit  colab/jupyter notebooks.\n",
    "2. There are two Questions with different datasets.\n",
    "3. **You do not need to do EDA again. You can use the EDA from last HW. We are using the same datasets as in the last HW.**\n",
    "\n",
    "2. Pdf version of the notebooks (HWs will not be graded if pdf version is not provided).\n",
    "3. **The notebooks and pdf files should have the output.**\n",
    "4. **Name files as follows : FirstName_file1_hw5, FirstName_file2_h5, FirstName_file3_h5, FirstName_file4_h5**"
   ]
  },
  {
   "cell_type": "markdown",
   "metadata": {
    "id": "vpfWGwYuwcRT"
   },
   "source": [
    "# Question1 (10 Points) : Classification on the ‘credit-g’ dataset using Logistic Regression.\n",
    "\n",
    "\n",
    "Compare KNN (last HW), Logistic Regression\n",
    ". Based on your anaysis which algorithm you will recommend."
   ]
  },
  {
   "cell_type": "markdown",
   "metadata": {
    "id": "VfvwlbajwkVd"
   },
   "source": [
    "# Download Data:\n",
    "You can download the dataset using the commands below  and see it’s description at https://www.openml.org/d/31\n",
    "\n",
    "### Attribute description from https://www.openml.org/d/31\n",
    "\n",
    "1. Status of existing checking account, in Deutsche Mark.\n",
    "2. Duration in months\n",
    "3. Credit history (credits taken, paid back duly, delays, critical accounts)\n",
    "4. Purpose of the credit (car, television,...)\n",
    "5. Credit amount\n",
    "6. Status of savings account/bonds, in Deutsche Mark.\n",
    "7. Present employment, in number of years.\n",
    "8. Installment rate in percentage of disposable income\n",
    "9. Personal status (married, single,...) and sex\n",
    "10. Other debtors / guarantors\n",
    "11. Present residence since X years\n",
    "12. Property (e.g. real estate)\n",
    "13. Age in years\n",
    "14. Other installment plans (banks, stores)\n",
    "15. Housing (rent, own,...)\n",
    "16. Number of existing credits at this bank\n",
    "17. Job\n",
    "18. Number of people being liable to provide maintenance for\n",
    "19. Telephone (yes,no)\n",
    "20. Foreign worker (yes,no)"
   ]
  },
  {
   "cell_type": "markdown",
   "metadata": {
    "id": "O47XL8Gx_mzG"
   },
   "source": [
    "# Question2 (7.5 Points) : Linear Regression on Bike Sharing Dataset. OPTIONAL (Try SVM Regression).\n",
    "\n",
    "- Download the data from following link: https://archive.ics.uci.edu/ml/datasets/Seoul+Bike+Sharing+Demand'\n",
    "\n"
   ]
  },
  {
   "cell_type": "markdown",
   "metadata": {
    "id": "l0_W1117liqc"
   },
   "source": [
    "\n",
    "-  Compare KNN (last HW) and Linear Regression. Basd on your anaysis which algorithm you will recommend.\n",
    "- The aim of the piepline is to predict the rented bike count.\n"
   ]
  }
 ],
 "metadata": {
  "colab": {
   "provenance": [],
   "toc_visible": true
  },
  "kernelspec": {
   "display_name": "Python 3",
   "language": "python",
   "name": "python3"
  },
  "language_info": {
   "codemirror_mode": {
    "name": "ipython",
    "version": 3
   },
   "file_extension": ".py",
   "mimetype": "text/x-python",
   "name": "python",
   "nbconvert_exporter": "python",
   "pygments_lexer": "ipython3",
   "version": "3.7.3"
  }
 },
 "nbformat": 4,
 "nbformat_minor": 1
}
