{
 "cells": [
  {
   "cell_type": "markdown",
   "metadata": {
    "id": "ZJj568ZHe26X"
   },
   "source": [
    "# <font color = 'dodgerblue'> **Introduction**\n",
    "* One of the basic fundamental process in data science is efficient\n",
    "storage and manipulation of numerical arrays.\n",
    "* The special packages to handle these numerical arrays in python are Numpy and pandas.\n",
    "* In this notebook, we will explore Numpy package.\n"
   ]
  },
  {
   "cell_type": "markdown",
   "metadata": {
    "id": "o76flkIUxuvt"
   },
   "source": [
    "# <font color = 'dodgerblue'> **Numpy**\n",
    "* Numpy stands for numerical python.\n",
    "* It provides efficient way to store and manipulate arrays.\n",
    "* It also contains useful linear algebra and random number functions\n",
    "\n",
    "\n"
   ]
  },
  {
   "cell_type": "markdown",
   "metadata": {
    "id": "D1_bVmrNq8i0",
    "jp-MarkdownHeadingCollapsed": true,
    "tags": []
   },
   "source": [
    "## <font color = 'dodgerblue'> **Importing a pacakge** </font>\n",
    "\n",
    "1.  Python has a way to put definitions in a file and use them in your program. Such a file is called a module.\n",
    "2. We use import statement to acquire the definitions from a module or the whole module.\n",
    "3. We can import modules from packages using the dot (.) operator.\n",
    "3. **Syntax**:\n",
    "    \n",
    "  ```\n",
    "  import package_name as alias name\n",
    "  ```\n",
    "  Import statement allows to import all the definitions from the given package.\n",
    "\n",
    "  \"Alias name\" can be used to give a short name for the packages.\n"
   ]
  },
  {
   "cell_type": "code",
   "execution_count": 2,
   "metadata": {
    "execution": {
     "iopub.execute_input": "2022-08-24T23:28:19.108797Z",
     "iopub.status.busy": "2022-08-24T23:28:19.107675Z",
     "iopub.status.idle": "2022-08-24T23:28:19.349026Z",
     "shell.execute_reply": "2022-08-24T23:28:19.348351Z",
     "shell.execute_reply.started": "2022-08-24T23:28:19.108720Z"
    },
    "executionInfo": {
     "elapsed": 363,
     "status": "ok",
     "timestamp": 1692597548183,
     "user": {
      "displayName": "Shaannoor Mann",
      "userId": "02520257695567980696"
     },
     "user_tz": 300
    },
    "id": "ljP9XmoGzo2l",
    "jupyter": {
     "outputs_hidden": true,
     "source_hidden": true
    }
   },
   "outputs": [],
   "source": [
    "# Importing numpy package\n",
    "import numpy as np"
   ]
  },
  {
   "cell_type": "markdown",
   "metadata": {
    "id": "Cd58jTIzoGeZ",
    "jp-MarkdownHeadingCollapsed": true,
    "tags": []
   },
   "source": [
    "\n",
    "## <font color = 'dodgerblue'> **Version  of Numpy**\n",
    "* If there is any prerequisite of package version for any data science project, then its essential to verify the package version.\n",
    "*  We can check the package version as follows `package.__version__`\n",
    "   "
   ]
  },
  {
   "cell_type": "code",
   "execution_count": 3,
   "metadata": {
    "colab": {
     "base_uri": "https://localhost:8080/"
    },
    "collapsed": true,
    "execution": {
     "iopub.execute_input": "2022-08-24T23:28:23.886284Z",
     "iopub.status.busy": "2022-08-24T23:28:23.885931Z",
     "iopub.status.idle": "2022-08-24T23:28:23.890590Z",
     "shell.execute_reply": "2022-08-24T23:28:23.889684Z",
     "shell.execute_reply.started": "2022-08-24T23:28:23.886264Z"
    },
    "executionInfo": {
     "elapsed": 334,
     "status": "ok",
     "timestamp": 1692597612889,
     "user": {
      "displayName": "Shaannoor Mann",
      "userId": "02520257695567980696"
     },
     "user_tz": 300
    },
    "id": "HIOw1QZUqa6a",
    "jupyter": {
     "outputs_hidden": true,
     "source_hidden": true
    },
    "outputId": "ff832631-94fd-4b58-e029-04fe34bff1fb"
   },
   "outputs": [
    {
     "name": "stdout",
     "output_type": "stream",
     "text": [
      "The version of my numpy package is  1.23.5\n"
     ]
    }
   ],
   "source": [
    "# Check the version of the numpy\n",
    "print(\"The version of my numpy package is \",np.__version__)"
   ]
  },
  {
   "cell_type": "code",
   "execution_count": 4,
   "metadata": {
    "collapsed": true,
    "execution": {
     "iopub.execute_input": "2022-08-24T23:28:35.123273Z",
     "iopub.status.busy": "2022-08-24T23:28:35.123009Z",
     "iopub.status.idle": "2022-08-24T23:28:35.127779Z",
     "shell.execute_reply": "2022-08-24T23:28:35.126669Z",
     "shell.execute_reply.started": "2022-08-24T23:28:35.123235Z"
    },
    "executionInfo": {
     "elapsed": 397,
     "status": "ok",
     "timestamp": 1692597614584,
     "user": {
      "displayName": "Shaannoor Mann",
      "userId": "02520257695567980696"
     },
     "user_tz": 300
    },
    "id": "7zQMeJhP2o8c",
    "jupyter": {
     "outputs_hidden": true,
     "source_hidden": true
    },
    "tags": []
   },
   "outputs": [],
   "source": [
    "# set printion option for the notebook\n",
    "np.set_printoptions(precision=2)"
   ]
  },
  {
   "cell_type": "markdown",
   "metadata": {
    "id": "1CZ_1mek9Pfp",
    "tags": []
   },
   "source": [
    "# <font color = 'dodgerblue'> **Creating Numpy Arrays** </font>\n",
    "There are 3 ways for creating arrays by using numpy and they are:\n",
    "\n",
    "1. Conversion from other Python structures (e.g., lists, tuples)\n",
    "\n",
    "2. Intrinsic numpy array creation objects (e.g., arange, ones, zeros, etc.)\n",
    "\n",
    "5. Use of special library functions (e.g., random)"
   ]
  },
  {
   "cell_type": "markdown",
   "metadata": {
    "id": "P62Mai0sE9nR"
   },
   "source": [
    "## <font color = 'dodgerblue'> **Conversion from other python structures using np.array()**\n",
    "\n",
    "We can easily convert any iterable function such as lists, tuples etc. into arrays by using numpy packages.\n",
    "\n",
    "  **Syntax**:\n",
    "  ```\n",
    "  np.array(list)\n",
    "  np.array(tuple)\n",
    "\n",
    "  ```\n",
    "We can pass iterable functions as an argument for the array() method in numpy.\n"
   ]
  },
  {
   "cell_type": "code",
   "execution_count": 3,
   "metadata": {
    "colab": {
     "base_uri": "https://localhost:8080/"
    },
    "execution": {
     "iopub.execute_input": "2022-08-24T23:29:28.619719Z",
     "iopub.status.busy": "2022-08-24T23:29:28.619468Z",
     "iopub.status.idle": "2022-08-24T23:29:28.626691Z",
     "shell.execute_reply": "2022-08-24T23:29:28.625702Z",
     "shell.execute_reply.started": "2022-08-24T23:29:28.619701Z"
    },
    "executionInfo": {
     "elapsed": 3,
     "status": "ok",
     "timestamp": 1692597617302,
     "user": {
      "displayName": "Shaannoor Mann",
      "userId": "02520257695567980696"
     },
     "user_tz": 300
    },
    "id": "j6LK6BJt6m3K",
    "jupyter": {
     "outputs_hidden": true,
     "source_hidden": true
    },
    "outputId": "f7a97293-d21e-4ddf-ed7a-5b4c32f5bed9"
   },
   "outputs": [
    {
     "name": "stdout",
     "output_type": "stream",
     "text": [
      "[1 2 5 4 3 6]\n"
     ]
    }
   ],
   "source": [
    "# Creating array from a list\n",
    "list_array = [1, 2, 5, 4, 3, 6]\n",
    "\n",
    "# creae a numpy array from list\n",
    "numpy_array = np.array(list_array)\n",
    "print(numpy_array)"
   ]
  },
  {
   "cell_type": "code",
   "execution_count": 4,
   "metadata": {
    "colab": {
     "base_uri": "https://localhost:8080/"
    },
    "execution": {
     "iopub.execute_input": "2022-08-24T23:29:36.268961Z",
     "iopub.status.busy": "2022-08-24T23:29:36.267995Z",
     "iopub.status.idle": "2022-08-24T23:29:36.275246Z",
     "shell.execute_reply": "2022-08-24T23:29:36.274325Z",
     "shell.execute_reply.started": "2022-08-24T23:29:36.268918Z"
    },
    "executionInfo": {
     "elapsed": 3,
     "status": "ok",
     "timestamp": 1692597618847,
     "user": {
      "displayName": "Shaannoor Mann",
      "userId": "02520257695567980696"
     },
     "user_tz": 300
    },
    "id": "v3Jsb5Je-JFb",
    "jupyter": {
     "outputs_hidden": true,
     "source_hidden": true
    },
    "outputId": "595466de-91d6-47c3-932e-68fa529ba60d"
   },
   "outputs": [
    {
     "name": "stdout",
     "output_type": "stream",
     "text": [
      "[ 1  2 45 36]\n"
     ]
    }
   ],
   "source": [
    "# Creating arrays from tuple\n",
    "my_tuple = (1, 2, 45, 36)\n",
    "numpy_array= np.array(my_tuple)\n",
    "print(numpy_array)"
   ]
  },
  {
   "cell_type": "code",
   "execution_count": 5,
   "metadata": {
    "colab": {
     "base_uri": "https://localhost:8080/"
    },
    "execution": {
     "iopub.execute_input": "2022-08-24T23:29:42.326640Z",
     "iopub.status.busy": "2022-08-24T23:29:42.326382Z",
     "iopub.status.idle": "2022-08-24T23:29:42.331607Z",
     "shell.execute_reply": "2022-08-24T23:29:42.330297Z",
     "shell.execute_reply.started": "2022-08-24T23:29:42.326623Z"
    },
    "executionInfo": {
     "elapsed": 4,
     "status": "ok",
     "timestamp": 1692597621127,
     "user": {
      "displayName": "Shaannoor Mann",
      "userId": "02520257695567980696"
     },
     "user_tz": 300
    },
    "id": "uoCRfw1J61qz",
    "jupyter": {
     "outputs_hidden": true,
     "source_hidden": true
    },
    "outputId": "1571c742-a1f4-462e-9cbd-c048832f79af"
   },
   "outputs": [
    {
     "name": "stdout",
     "output_type": "stream",
     "text": [
      "The numpy array is : \n",
      " [12 45 78 36 45]\n"
     ]
    }
   ],
   "source": [
    "# Creating 1 dimensional array from numpy package\n",
    "num = np.array([12, 45, 78, 36, 45])\n",
    "print(f'The numpy array is : \\n {num}')"
   ]
  },
  {
   "cell_type": "code",
   "execution_count": 6,
   "metadata": {
    "colab": {
     "base_uri": "https://localhost:8080/"
    },
    "execution": {
     "iopub.execute_input": "2022-08-24T23:29:48.363787Z",
     "iopub.status.busy": "2022-08-24T23:29:48.363392Z",
     "iopub.status.idle": "2022-08-24T23:29:48.369411Z",
     "shell.execute_reply": "2022-08-24T23:29:48.368389Z",
     "shell.execute_reply.started": "2022-08-24T23:29:48.363740Z"
    },
    "executionInfo": {
     "elapsed": 2,
     "status": "ok",
     "timestamp": 1692597621844,
     "user": {
      "displayName": "Shaannoor Mann",
      "userId": "02520257695567980696"
     },
     "user_tz": 300
    },
    "id": "Nxk1VFOR8qwj",
    "jupyter": {
     "outputs_hidden": true,
     "source_hidden": true
    },
    "outputId": "17dc8c22-175a-4902-f72e-ef165bd06daf"
   },
   "outputs": [
    {
     "name": "stdout",
     "output_type": "stream",
     "text": [
      "The 2 dimensional array is:\n",
      " [[12 45 65 78]\n",
      " [12  1  2  3]]\n"
     ]
    }
   ],
   "source": [
    "# Creating 2 dimensional array from numpy package\n",
    "numpy_array = np.array([[12, 45, 65, 78],[12, 1, 2, 3]])\n",
    "print(f'The 2 dimensional array is:\\n {numpy_array}')"
   ]
  },
  {
   "cell_type": "markdown",
   "metadata": {
    "id": "jbjL7WtshGEW"
   },
   "source": [
    "## <font color = 'dodgerblue'> **Notation**\n",
    "\n",
    "* In NumPy, each dimension is called an **axis**.\n",
    "* The number of axes is called the **rank**.\n",
    "    * For example, the above 2x2 matrix is an array of rank 2 (it is 2-dimensional).\n",
    "    * The first axis has length 2, the second has length 4.\n",
    "*  shape gives the size of each dimensions in an array.\n",
    "    * For example, the above array's shape is `(2, 4)`.\n",
    "    * The rank is equal to the shape's length.\n",
    "* The **size** of an array is the total number of elements, which is the product of all axis lengths (eg. 2*4=8)"
   ]
  },
  {
   "cell_type": "markdown",
   "metadata": {
    "id": "NiiDIxat-6sa"
   },
   "source": [
    "## <font color = 'dodgerblue'> **Intrinsic numpy array creation objects**\n",
    "Numpy has a special built in function to create arrays from the scratch.\n",
    "\n",
    "\n"
   ]
  },
  {
   "cell_type": "markdown",
   "metadata": {
    "id": "0ShKWnZKjOW6"
   },
   "source": [
    "### <font color = 'dodgerblue'> **np.zeros**\n",
    "An array filled with zeros can be created by specifying particular shape and data type. The default datatype is **float64**.\n",
    "  \n",
    " **Syntax** :\n",
    "  ```\n",
    "   np.zeros(shape, dtype)\n",
    "  ```"
   ]
  },
  {
   "cell_type": "code",
   "execution_count": 7,
   "metadata": {
    "colab": {
     "base_uri": "https://localhost:8080/"
    },
    "execution": {
     "iopub.execute_input": "2022-08-24T23:30:28.721057Z",
     "iopub.status.busy": "2022-08-24T23:30:28.720788Z",
     "iopub.status.idle": "2022-08-24T23:30:28.730818Z",
     "shell.execute_reply": "2022-08-24T23:30:28.729785Z",
     "shell.execute_reply.started": "2022-08-24T23:30:28.721037Z"
    },
    "executionInfo": {
     "elapsed": 2,
     "status": "ok",
     "timestamp": 1692597624110,
     "user": {
      "displayName": "Shaannoor Mann",
      "userId": "02520257695567980696"
     },
     "user_tz": 300
    },
    "id": "YhUc4wRa9Dt6",
    "jupyter": {
     "outputs_hidden": true,
     "source_hidden": true
    },
    "outputId": "69614250-0fd5-44a0-a9b5-d6b22fd92adc"
   },
   "outputs": [
    {
     "data": {
      "text/plain": [
       "array([0., 0., 0., 0., 0., 0., 0., 0., 0., 0.])"
      ]
     },
     "execution_count": 7,
     "metadata": {},
     "output_type": "execute_result"
    }
   ],
   "source": [
    "# Creating a one dimensional array filled with zeros\n",
    "np.zeros(10, dtype = float)"
   ]
  },
  {
   "cell_type": "code",
   "execution_count": 8,
   "metadata": {
    "colab": {
     "base_uri": "https://localhost:8080/"
    },
    "execution": {
     "iopub.execute_input": "2022-08-24T23:30:34.526342Z",
     "iopub.status.busy": "2022-08-24T23:30:34.526110Z",
     "iopub.status.idle": "2022-08-24T23:30:34.531737Z",
     "shell.execute_reply": "2022-08-24T23:30:34.530878Z",
     "shell.execute_reply.started": "2022-08-24T23:30:34.526319Z"
    },
    "executionInfo": {
     "elapsed": 2,
     "status": "ok",
     "timestamp": 1692597625253,
     "user": {
      "displayName": "Shaannoor Mann",
      "userId": "02520257695567980696"
     },
     "user_tz": 300
    },
    "id": "6HSVgmoBCkaw",
    "jupyter": {
     "outputs_hidden": true,
     "source_hidden": true
    },
    "outputId": "9e07b45c-d12f-4df1-b14c-db5e8cc9d4d0"
   },
   "outputs": [
    {
     "data": {
      "text/plain": [
       "array([[0, 0, 0],\n",
       "       [0, 0, 0]])"
      ]
     },
     "execution_count": 8,
     "metadata": {},
     "output_type": "execute_result"
    }
   ],
   "source": [
    "# Creating a two dimensional array filled with zeros\n",
    "# The following will have 2 rows and 3 columns\n",
    "np.zeros((2, 3), dtype = int)"
   ]
  },
  {
   "cell_type": "markdown",
   "metadata": {
    "id": "RgQeyRdZjmGU"
   },
   "source": [
    "### <font color = 'dodgerblue'> **np.ones**\n",
    " An array filled with only ones can be created by specifying particular shape and data type. The default shape is **float64**.\n",
    "  \n",
    "  **Syntax**:\n",
    "  ```\n",
    "  np.ones(shape, dtype)\n",
    "  ```\n",
    "  where, dtype can be used as int, float etc."
   ]
  },
  {
   "cell_type": "code",
   "execution_count": 9,
   "metadata": {
    "colab": {
     "base_uri": "https://localhost:8080/"
    },
    "executionInfo": {
     "elapsed": 100,
     "status": "ok",
     "timestamp": 1692597626862,
     "user": {
      "displayName": "Shaannoor Mann",
      "userId": "02520257695567980696"
     },
     "user_tz": 300
    },
    "id": "tuw9ETTNC1Mc",
    "jupyter": {
     "outputs_hidden": true,
     "source_hidden": true
    },
    "outputId": "7cf3198e-319c-4312-96ee-79d646499b98"
   },
   "outputs": [
    {
     "data": {
      "text/plain": [
       "array([1, 1, 1, 1, 1, 1, 1, 1, 1, 1, 1, 1, 1, 1, 1, 1, 1, 1, 1, 1])"
      ]
     },
     "execution_count": 9,
     "metadata": {},
     "output_type": "execute_result"
    }
   ],
   "source": [
    "# Creating a 1 dimensional array using ones method\n",
    "np.ones(20, dtype = int)"
   ]
  },
  {
   "cell_type": "code",
   "execution_count": 10,
   "metadata": {
    "colab": {
     "base_uri": "https://localhost:8080/"
    },
    "executionInfo": {
     "elapsed": 4,
     "status": "ok",
     "timestamp": 1692597627707,
     "user": {
      "displayName": "Shaannoor Mann",
      "userId": "02520257695567980696"
     },
     "user_tz": 300
    },
    "id": "ZWaUJx0FDIsI",
    "jupyter": {
     "outputs_hidden": true,
     "source_hidden": true
    },
    "outputId": "f37c3c8e-0ac4-4154-afe0-66018d713924"
   },
   "outputs": [
    {
     "data": {
      "text/plain": [
       "array([[1., 1.],\n",
       "       [1., 1.],\n",
       "       [1., 1.]])"
      ]
     },
     "execution_count": 10,
     "metadata": {},
     "output_type": "execute_result"
    }
   ],
   "source": [
    "# Creating a 2 dimensional array using ones method.\n",
    "# The following array will have 3 rows and 2 columns\n",
    "np.ones((3, 2), dtype = float)"
   ]
  },
  {
   "cell_type": "markdown",
   "metadata": {
    "id": "SeKB1vyfztOO"
   },
   "source": [
    "### <font color = 'dodgerblue'>**np.full()**\n",
    "We can create  an array of the given shape initialized with any given value.\n",
    "\n",
    " **Syntax** :\n",
    "  ```\n",
    "   np.full(shape, fill_value, dtype)\n",
    "  ```"
   ]
  },
  {
   "cell_type": "code",
   "execution_count": 11,
   "metadata": {
    "colab": {
     "base_uri": "https://localhost:8080/"
    },
    "executionInfo": {
     "elapsed": 2,
     "status": "ok",
     "timestamp": 1692597629069,
     "user": {
      "displayName": "Shaannoor Mann",
      "userId": "02520257695567980696"
     },
     "user_tz": 300
    },
    "id": "vkRbXZwW0HE3",
    "jupyter": {
     "outputs_hidden": true,
     "source_hidden": true
    },
    "outputId": "6dc13376-147e-45e9-f6d0-127fb8d5dd6a"
   },
   "outputs": [
    {
     "data": {
      "text/plain": [
       "array([[5, 5, 5],\n",
       "       [5, 5, 5]])"
      ]
     },
     "execution_count": 11,
     "metadata": {},
     "output_type": "execute_result"
    }
   ],
   "source": [
    "np.full((2,3), 5)"
   ]
  },
  {
   "cell_type": "markdown",
   "metadata": {
    "id": "Koo7peFEk4Os"
   },
   "source": [
    "### <font color = 'dodgerblue'> **np.arange()**\n",
    "arange() method is used to create values in the array in an increasing order. It is similar to the built in python range() method.\n",
    "\n",
    " **Syntax** :\n",
    "```\n",
    "np.arange(stop, dtype)\n",
    "np.arange(start, stop, dtype)\n",
    "np.arange(start, stop, step, dtype)\n",
    "```\n",
    "where,\n",
    "\n",
    "> **start** - \tOptional. An integer number specifying the strat position. Default is 0\n",
    "\n",
    "> **stop** - Required. An integer number specifying the stop position (**not included**).\n",
    "\n",
    "> **step (Optional)** - Optional. An integer value which determines the increment. default is 1"
   ]
  },
  {
   "cell_type": "code",
   "execution_count": 14,
   "metadata": {
    "colab": {
     "base_uri": "https://localhost:8080/"
    },
    "collapsed": true,
    "executionInfo": {
     "elapsed": 3,
     "status": "ok",
     "timestamp": 1692597630848,
     "user": {
      "displayName": "Shaannoor Mann",
      "userId": "02520257695567980696"
     },
     "user_tz": 300
    },
    "id": "MqNFHTrLDbhn",
    "jupyter": {
     "outputs_hidden": true,
     "source_hidden": true
    },
    "outputId": "b0120737-5284-41ec-b56a-3407da31fe1c"
   },
   "outputs": [
    {
     "name": "stdout",
     "output_type": "stream",
     "text": [
      "An array starting from default 0 to 9 elements [0. 1. 2. 3. 4. 5. 6. 7. 8. 9.]\n",
      "\n",
      " An array starting from 12 and end at 24 [12 13 14 15 16 17 18 19 20 21 22 23 24]\n",
      "\n",
      " An array starting from 12 ,ending at 29 and incrementing each element by 5 [12 17 22 27]\n"
     ]
    }
   ],
   "source": [
    "# Creating an array using arange() method\n",
    "\n",
    "# It will give an array starting from default 0 to 9 elements\n",
    "a = np.arange(10, dtype = float)\n",
    "print(f\"An array starting from default 0 to 9 elements {a}\")\n",
    "\n",
    "# It will give an array starting from 12 and end at 24\n",
    "b = np.arange(12, 25, dtype = int)\n",
    "print(f\"\\n An array starting from 12 and end at 24 {b}\")\n",
    "\n",
    "# It will give an array starting from 12 ,ending at 29 and incrementing each element by 5\n",
    "c = np.arange(12, 30, 5, dtype = int)\n",
    "print(f\"\\n An array starting from 12 ,ending at 29 and incrementing each element by 5 {c}\")"
   ]
  },
  {
   "cell_type": "markdown",
   "metadata": {
    "id": "2Ok7wbzQxsUc"
   },
   "source": [
    "### <font color = 'dodgerblue'> **np.linspace()**\n",
    "\n",
    "It creates evenly spaced numbers over a specified interval\n",
    "\n",
    "  **Syntax**:\n",
    "\n",
    "  ```\n",
    "  np.linspace(start, stop, num)\n",
    "  ```\n",
    "  - start: strating value of sequence\n",
    "  - end: end value of sequence\n",
    "  - num: number of values to be generated"
   ]
  },
  {
   "cell_type": "code",
   "execution_count": 12,
   "metadata": {
    "colab": {
     "base_uri": "https://localhost:8080/"
    },
    "executionInfo": {
     "elapsed": 3,
     "status": "ok",
     "timestamp": 1692597633241,
     "user": {
      "displayName": "Shaannoor Mann",
      "userId": "02520257695567980696"
     },
     "user_tz": 300
    },
    "id": "IX5VyoH6VX6S",
    "jupyter": {
     "outputs_hidden": true,
     "source_hidden": true
    },
    "outputId": "6672937e-27a8-4632-95fa-945cf0f43e33"
   },
   "outputs": [
    {
     "name": "stdout",
     "output_type": "stream",
     "text": [
      "\n",
      " Ten evenly spaced values between 0 and 5 [0.         0.55555556 1.11111111 1.66666667 2.22222222 2.77777778\n",
      " 3.33333333 3.88888889 4.44444444 5.        ]\n"
     ]
    }
   ],
   "source": [
    "# create an array using np.linspace\n",
    "# create 10 evenly soaced values between 0 and 4\n",
    "d = np.linspace(start=0, stop = 5, num = 10)\n",
    "print(f\"\\n Ten evenly spaced values between 0 and 5 {d}\")"
   ]
  },
  {
   "cell_type": "markdown",
   "metadata": {
    "id": "MNJ6gl3xy_4U"
   },
   "source": [
    "### <font color = 'dodgerblue'> **eye()**\n",
    "This  method can be used to create an identity matrix or array.\n",
    "  * An **identity matrix** is a matrix which does not change any array when we multiply (matrix multiplication) the array with that matrix.\n",
    "  * The principal diagonal elements are ones and all other elements are zeros.\n",
    "\n",
    " **Example**:\n",
    "  $$\\begin{bmatrix} 1 & 0 & 0 \\\\ 0 & 1 & 0 \\\\ 0 & 0 & 1 \\end{bmatrix}$$\n",
    "\n",
    "\n",
    "  **Syntax**:\n",
    "\n",
    "\n",
    "  ```\n",
    "  np.eye(shape of the array, dtype)\n",
    "  ```\n",
    "  It gives a square matrix where rows and columns are same and we can define data type as int, float etc."
   ]
  },
  {
   "cell_type": "code",
   "execution_count": 13,
   "metadata": {
    "colab": {
     "base_uri": "https://localhost:8080/"
    },
    "executionInfo": {
     "elapsed": 2,
     "status": "ok",
     "timestamp": 1692597635127,
     "user": {
      "displayName": "Shaannoor Mann",
      "userId": "02520257695567980696"
     },
     "user_tz": 300
    },
    "id": "Q-7fvRRQLkqV",
    "jupyter": {
     "outputs_hidden": true,
     "source_hidden": true
    },
    "outputId": "d609d5e2-d47f-4a65-c82e-679883366a99"
   },
   "outputs": [
    {
     "data": {
      "text/plain": [
       "array([[1., 0., 0., 0., 0.],\n",
       "       [0., 1., 0., 0., 0.],\n",
       "       [0., 0., 1., 0., 0.],\n",
       "       [0., 0., 0., 1., 0.],\n",
       "       [0., 0., 0., 0., 1.]])"
      ]
     },
     "execution_count": 13,
     "metadata": {},
     "output_type": "execute_result"
    }
   ],
   "source": [
    "# Using eye() method to create an identity matrix or array\n",
    "# The following matrix has 5 rows and 5 columns\n",
    "np.eye(5, dtype = float)"
   ]
  },
  {
   "cell_type": "markdown",
   "metadata": {
    "id": "Cycn0LCEEq0u"
   },
   "source": [
    "## <font color = 'dodgerblue'> **Special library functions**"
   ]
  },
  {
   "cell_type": "markdown",
   "metadata": {
    "id": "aTfdgYF80-nV"
   },
   "source": [
    "### <font color = 'dodgerblue'>**np.random()**\n",
    "\n",
    "numpy.random() method can be used to generate array with random numbers.\n",
    "\n",
    "\n",
    "  **Syntax**:\n",
    "```\n",
    "    np.random.randint(start, end, shape of array) # random integers\n",
    "    np.random.uniform(start, end, shape of array) # random numbers from uniform distribution\n",
    "    np.random.normal(mean, standard deviation, shape) # random numbers from normal distribution\n",
    "\n",
    "```\n",
    "\n"
   ]
  },
  {
   "cell_type": "markdown",
   "metadata": {
    "id": "F6gL4Jw9uR1l"
   },
   "source": [
    "#### <font color = 'dodgerblue'> **Random integers - randint()**"
   ]
  },
  {
   "cell_type": "code",
   "execution_count": 17,
   "metadata": {
    "colab": {
     "base_uri": "https://localhost:8080/"
    },
    "collapsed": true,
    "executionInfo": {
     "elapsed": 119,
     "status": "ok",
     "timestamp": 1692597638207,
     "user": {
      "displayName": "Shaannoor Mann",
      "userId": "02520257695567980696"
     },
     "user_tz": 300
    },
    "id": "IfxYrkbAIO23",
    "jupyter": {
     "outputs_hidden": true,
     "source_hidden": true
    },
    "outputId": "e222a250-838f-4207-ecf6-f9dc5dcc9fcc"
   },
   "outputs": [
    {
     "name": "stdout",
     "output_type": "stream",
     "text": [
      "[[3 4 1]\n",
      " [6 8 9]\n",
      " [4 9 4]]\n",
      "\n",
      "[[6 0 3]\n",
      " [4 1 3]\n",
      " [4 8 6]]\n"
     ]
    }
   ],
   "source": [
    "# Create an array that has random numbers (integers) between 0 to 10 in an array\n",
    "# The array will consist of 3 rows and 3 columns\n",
    "a = np.random.randint(0, 10, (3, 3)) #  here 0 is inclusive but 10 is not\n",
    "print(a)\n",
    "\n",
    "# the command below will also give the same result\n",
    "# when we specify only one paramter then it stats from 0 till that value\n",
    "b = np.random.randint(10, size = (3, 3))\n",
    "print(f'\\n{b}')"
   ]
  },
  {
   "cell_type": "markdown",
   "metadata": {
    "id": "v01_uG5ouUNv"
   },
   "source": [
    "#### <font color = 'dodgerblue'> **Normal Distribution - normal()**"
   ]
  },
  {
   "cell_type": "code",
   "execution_count": 14,
   "metadata": {
    "colab": {
     "base_uri": "https://localhost:8080/"
    },
    "executionInfo": {
     "elapsed": 97,
     "status": "ok",
     "timestamp": 1692597639930,
     "user": {
      "displayName": "Shaannoor Mann",
      "userId": "02520257695567980696"
     },
     "user_tz": 300
    },
    "id": "mOZU1ubPJzOs",
    "jupyter": {
     "outputs_hidden": true,
     "source_hidden": true
    },
    "outputId": "179d862d-6e48-4788-c46d-c1c6076e00e1"
   },
   "outputs": [
    {
     "data": {
      "text/plain": [
       "array([[0.43602324, 0.36891413, 3.16243442],\n",
       "       [2.26888267, 2.1052191 , 1.75780484]])"
      ]
     },
     "execution_count": 14,
     "metadata": {},
     "output_type": "execute_result"
    }
   ],
   "source": [
    "# Create an array normally distributed values\n",
    "# with mean = 2 and standard deviation = 3\n",
    "\n",
    "np.random.normal(2, 3, (2, 3))"
   ]
  },
  {
   "cell_type": "markdown",
   "metadata": {
    "id": "zJRSVnQDuWOd"
   },
   "source": [
    "#### <font color = 'dodgerblue'> **Random Numbers - Uniform DIstributon - uniform()**"
   ]
  },
  {
   "cell_type": "code",
   "execution_count": 15,
   "metadata": {
    "colab": {
     "base_uri": "https://localhost:8080/"
    },
    "executionInfo": {
     "elapsed": 104,
     "status": "ok",
     "timestamp": 1692597640838,
     "user": {
      "displayName": "Shaannoor Mann",
      "userId": "02520257695567980696"
     },
     "user_tz": 300
    },
    "id": "_6IkauyGKIWP",
    "jupyter": {
     "outputs_hidden": true,
     "source_hidden": true
    },
    "outputId": "78bc4114-84e8-436d-f6c9-9ee4a2e00a4b"
   },
   "outputs": [
    {
     "data": {
      "text/plain": [
       "array([[0.61025801, 0.56495297, 0.40663487, 0.85741048],\n",
       "       [0.95729639, 0.9422004 , 0.709226  , 0.18510222],\n",
       "       [0.93069504, 0.91934534, 0.98284312, 0.23061921]])"
      ]
     },
     "execution_count": 15,
     "metadata": {},
     "output_type": "execute_result"
    }
   ],
   "source": [
    "# To create an array of uniformly distributed values.\n",
    "# random values between 0 and 1\n",
    "\n",
    "np.random.uniform(0, 1, (3, 4))"
   ]
  },
  {
   "cell_type": "markdown",
   "metadata": {
    "id": "p52Im_2wuZcg"
   },
   "source": [
    "#### <font color = 'dodgerblue'> **Set Seed - seed()**"
   ]
  },
  {
   "cell_type": "markdown",
   "metadata": {
    "id": "UqHQysUz9X-I"
   },
   "source": [
    "* numpy.random.seed() can be used to initialize random number generators. This will help us to generate same set of random  numbers everytie we run our code.\n",
    "\n",
    "  **Syntax**\n",
    "\n",
    "\n",
    "```\n",
    "    numpy.random.seed()\n",
    "    numpy.random.randint(start,stop)\n",
    "```\n",
    "* We can pass any integer in the seed argument.\n",
    "* Then we can generate a random number which will be same all the time."
   ]
  },
  {
   "cell_type": "code",
   "execution_count": 16,
   "metadata": {
    "colab": {
     "base_uri": "https://localhost:8080/"
    },
    "executionInfo": {
     "elapsed": 2,
     "status": "ok",
     "timestamp": 1692597643015,
     "user": {
      "displayName": "Shaannoor Mann",
      "userId": "02520257695567980696"
     },
     "user_tz": 300
    },
    "id": "5DZFzu-C8AFe",
    "jupyter": {
     "outputs_hidden": true,
     "source_hidden": true
    },
    "outputId": "7d010ba8-1406-46c3-ae26-f0b02010ac4c"
   },
   "outputs": [
    {
     "data": {
      "text/plain": [
       "45"
      ]
     },
     "execution_count": 16,
     "metadata": {},
     "output_type": "execute_result"
    }
   ],
   "source": [
    "# Using seed() function to generate the random numbers\n",
    "# We can run this cell multiple times and we can get same random number\n",
    "# if we comment the first statement (below) then we will get different number everytime we run this cell.\n",
    "\n",
    "np.random.seed(0)\n",
    "np.random.randint(1, 100)"
   ]
  },
  {
   "cell_type": "markdown",
   "metadata": {
    "id": "8fSWwHDw0icl",
    "jp-MarkdownHeadingCollapsed": true,
    "tags": []
   },
   "source": [
    "# <font color = 'dodgerblue'> **List arrays vs Numpy arrays**\n",
    "- Arrays can store data more compactly.\n",
    "- Lists cannot directly handle math operations whereas Numpy arrays are great for numerical operations.\n",
    "- Appending elements to Numpy array will take more time than lists. Lists are good for the scenario where items can grow dynamically.\n",
    "\n",
    "In the example below, we will now compare the addition of two large collections using numpy and python list."
   ]
  },
  {
   "cell_type": "code",
   "execution_count": 17,
   "metadata": {
    "executionInfo": {
     "elapsed": 1,
     "status": "ok",
     "timestamp": 1692597644420,
     "user": {
      "displayName": "Shaannoor Mann",
      "userId": "02520257695567980696"
     },
     "user_tz": 300
    },
    "id": "LnMHE5Qxy-91",
    "jupyter": {
     "outputs_hidden": true,
     "source_hidden": true
    }
   },
   "outputs": [],
   "source": [
    "import time\n",
    "import numpy as np\n",
    "\n",
    "# manipulating 10 million items\n",
    "n = 10000000\n",
    "\n",
    "# Wrrite a function to calculate time to add two arrays of 10 million items\n",
    "# We will use np.arange function to generate numpy arrays\n",
    "# use time() function from time module\n",
    "\n",
    "def numpy_add():\n",
    "    # time in seconds\n",
    "    now = time.time()\n",
    "    # generating numpy array with 10 million items\n",
    "    x = np.array(np.arange(n))\n",
    "    # generating another numpy array with 10 million items\n",
    "    y = np.array(np.arange(n))\n",
    "    result = x + y\n",
    "    return time.time() - now\n",
    "\n",
    "# Wrrite a sumilar function using python list\n",
    "# We will use built in range function to generate list of 10 million items\n",
    "# use time() function from time module\n",
    "\n",
    "def python_add():\n",
    "    # time in seconds\n",
    "    now = time.time()\n",
    "    # generating a list with 10 million items\n",
    "    x = list(range(n))\n",
    "    # generating another list with  10 million items\n",
    "    y = list(range(n))\n",
    "    # using list comprehension to add elements in two  lists\n",
    "    result = [x[i] + y[i] for i in range(len(x))]\n",
    "    return time.time() - now"
   ]
  },
  {
   "cell_type": "code",
   "execution_count": 18,
   "metadata": {
    "colab": {
     "base_uri": "https://localhost:8080/"
    },
    "executionInfo": {
     "elapsed": 2491,
     "status": "ok",
     "timestamp": 1692597647554,
     "user": {
      "displayName": "Shaannoor Mann",
      "userId": "02520257695567980696"
     },
     "user_tz": 300
    },
    "id": "2kChTUyIzF82",
    "jupyter": {
     "outputs_hidden": true,
     "source_hidden": true
    },
    "outputId": "cf786e73-14aa-4f8f-bc75-353393eff4d1"
   },
   "outputs": [
    {
     "name": "stdout",
     "output_type": "stream",
     "text": [
      "Python time: 1.6545867919921875s\n",
      "NumPy time: 0.0999906063079834s\n",
      "Numpy is 16.547422333812598x faster!\n"
     ]
    }
   ],
   "source": [
    "# We can check the time difference between array addition by using numpy and list\n",
    "time_python = python_add()\n",
    "time_numpy = numpy_add()\n",
    "print('Python time: ' + str(time_python) + 's')\n",
    "print('NumPy time: ' + str(time_numpy) + 's')\n",
    "print(\"Numpy is \" + str(time_python / time_numpy) + \"x faster!\")"
   ]
  },
  {
   "cell_type": "markdown",
   "metadata": {
    "id": "iCeSdEhoMCe9"
   },
   "source": [
    "# <font color = 'dodgerblue'> **Numpy operations** </font>\n",
    "1. Numpy operations are used to manipulate or perform various types of mathematical operations on  the arrays.\n",
    "\n",
    "2. Few of the numpy operations are ndim, itemsize(), dtype(), reshape(), slicing(), linspace(), min/max(), sum(), sqrt()/std(), hsatck/vstack(), etc.\n",
    "\n",
    "3. These numpy operations can be classified as follows:\n",
    "  * Attributes of arrays\n",
    "  * Indexing of arrays\n",
    "  * Slicing of arrays\n",
    "  * Reshaping of arrays\n",
    "  * Joining and splitting of arrays"
   ]
  },
  {
   "cell_type": "markdown",
   "metadata": {
    "id": "Ws-GO2IY_Dhn"
   },
   "source": [
    "## <font color = 'dodgerblue'> **Attributes of arrays**\n",
    "\n",
    "Attributes of arrays helps in :-\n",
    "*  Determining the size and shape of arrays\n",
    "* Memory consumption by the arrays.  \n",
    "* Different data types of arrays.\n",
    "\n"
   ]
  },
  {
   "cell_type": "markdown",
   "metadata": {
    "id": "YBRoz7o3I2Rb"
   },
   "source": [
    "### <font color = 'dodgerblue'> **Determining the shape of the array** </font>\n",
    "1. For any kind of computations or operations on an array, it is very important to understand what an array’s “shape” is.\n",
    "2. shape, ndim, size are the methods used to determine the shape of the arrays.\n",
    "\n",
    "* **ndim** : It is used to determine the dimension of an array.  **Example** : an array can be of 1 dimensional, 2 dimensional , 3 dimensional etc.\n",
    "\n",
    "  **Syntax**:\n",
    "\n",
    "\n",
    "  ```\n",
    "      ndarray.ndim\n",
    "  ```\n",
    "  where, ndarray is the name of the array\n",
    "\n",
    "* **shape** : It is used to determine the number of elements in each dimensions in an array. **Example** : if an array is 2 dimensional then it will consist of(number of rows, number of columns) as shape.\n",
    "The output of the shape is always mentioned in a tuple form.\n",
    "\n",
    "  **Syntax**:\n",
    "  \n",
    "   ```\n",
    "   ndarray.shape\n",
    "   ```\n",
    "  where, ndarray is the name of the array\n",
    "* **size** : It determines the total size of  the array. **Example**: if an array consists of 60 elements in it. Then the size of the array is the total number of elements in an array and it will be 60.\n",
    "\n",
    " **Syntax**:\n",
    "\n",
    "\n",
    "  ```\n",
    "    ndarray.size\n",
    "  ```\n",
    "  where, ndarray is the name of the array\n",
    "\n",
    "\n",
    "\n"
   ]
  },
  {
   "cell_type": "markdown",
   "metadata": {
    "id": "fHPb6YLlujgF"
   },
   "source": [
    "#### <font color = 'dodgerblue'> **ndim**"
   ]
  },
  {
   "cell_type": "code",
   "execution_count": 19,
   "metadata": {
    "colab": {
     "base_uri": "https://localhost:8080/"
    },
    "executionInfo": {
     "elapsed": 2,
     "status": "ok",
     "timestamp": 1692597650246,
     "user": {
      "displayName": "Shaannoor Mann",
      "userId": "02520257695567980696"
     },
     "user_tz": 300
    },
    "id": "1M0KS9GqOaZL",
    "jupyter": {
     "outputs_hidden": true,
     "source_hidden": true
    },
    "outputId": "9cafcf1a-0e44-4f5b-c81e-875c2e4a433e",
    "tags": []
   },
   "outputs": [
    {
     "name": "stdout",
     "output_type": "stream",
     "text": [
      "The dimension of the array 1 is: 1\n",
      "\n",
      "The dimension of the array 2 is:  2\n"
     ]
    }
   ],
   "source": [
    "#To find the dimensions in an array\n",
    "my_array1 = np.array([1, 25, 46, 12, 2, 30])\n",
    "my_array2 = np.array([[12, 45, 32, 46],[12, 75, 48, 96]])\n",
    "print(f\"The dimension of the array 1 is: {my_array1.ndim}\")\n",
    "print(f\"\\nThe dimension of the array 2 is:  {my_array2.ndim}\")"
   ]
  },
  {
   "cell_type": "markdown",
   "metadata": {
    "id": "X_8BKAj7ukvl"
   },
   "source": [
    "#### <font color = 'dodgerblue'> **shape**"
   ]
  },
  {
   "cell_type": "code",
   "execution_count": 20,
   "metadata": {
    "colab": {
     "base_uri": "https://localhost:8080/"
    },
    "executionInfo": {
     "elapsed": 113,
     "status": "ok",
     "timestamp": 1692597652749,
     "user": {
      "displayName": "Shaannoor Mann",
      "userId": "02520257695567980696"
     },
     "user_tz": 300
    },
    "id": "Y08t2ml4OaMn",
    "jupyter": {
     "outputs_hidden": true,
     "source_hidden": true
    },
    "outputId": "5747c0a7-3fdf-4cf5-af69-e11021f1e3e0",
    "tags": []
   },
   "outputs": [
    {
     "name": "stdout",
     "output_type": "stream",
     "text": [
      "The shape of the one dimensional array is: (6,)\n",
      "\n",
      "The shape of the two dimensions array  is: (2, 4)\n"
     ]
    }
   ],
   "source": [
    "# To find  the shape of the array\n",
    "# If an array is one dimensional then it presents the number of elements as a size followed by a comma(,)\n",
    "\n",
    "print(f\"The shape of the one dimensional array is: {my_array1.shape}\")\n",
    "print(f\"\\nThe shape of the two dimensions array  is: {my_array2.shape}\")"
   ]
  },
  {
   "cell_type": "markdown",
   "metadata": {
    "id": "1niJqc0OumEJ"
   },
   "source": [
    "#### <font color = 'dodgerblue'> **size**"
   ]
  },
  {
   "cell_type": "code",
   "execution_count": 21,
   "metadata": {
    "colab": {
     "base_uri": "https://localhost:8080/"
    },
    "executionInfo": {
     "elapsed": 97,
     "status": "ok",
     "timestamp": 1692597653960,
     "user": {
      "displayName": "Shaannoor Mann",
      "userId": "02520257695567980696"
     },
     "user_tz": 300
    },
    "id": "p8Ekv81pOGA1",
    "jupyter": {
     "outputs_hidden": true,
     "source_hidden": true
    },
    "outputId": "b24efa43-65d4-4a99-b3c5-cab5caa57cad"
   },
   "outputs": [
    {
     "name": "stdout",
     "output_type": "stream",
     "text": [
      "The size of the one dimensional array is: 6\n",
      "\n",
      "The size of the two dimensions array is: 8\n"
     ]
    }
   ],
   "source": [
    "# To find the size of the array\n",
    "# Size determines the number of elements in an array\n",
    "\n",
    "print(f\"The size of the one dimensional array is: {my_array1.size}\")\n",
    "print(f\"\\nThe size of the two dimensions array is: {my_array2.size}\")"
   ]
  },
  {
   "cell_type": "markdown",
   "metadata": {
    "id": "TaikiVFaWQk8",
    "tags": []
   },
   "source": [
    "### <font color = 'dodgerblue'> **Differenet data types in arrays**\n",
    "\n",
    "Common Data types in numpy are :\n",
    "\n",
    "- bool_\tBoolean (True or False) stored as a byte\n",
    "- int8\tByte (-128 to 127)\n",
    "- int16\tInteger (-32768 to 32767)\n",
    "- int32\tInteger (-2147483648 to 2147483647)\n",
    "- int64\tInteger (-9223372036854775808 to 9223372036854775807)\n",
    "- uint8\tUnsigned integer (0 to 255)\n",
    "- uint16\tUnsigned integer (0 to 65535)\n",
    "- uint32\tUnsigned integer (0 to 4294967295)\n",
    "- uint64\tUnsigned integer (0 to 18446744073709551615)\n",
    "- float_\tShorthand for float64.\n",
    "- float16\tHalf precision float: sign bit, 5 bits exponent, 10 bits mantissa\n",
    "- float32\tSingle precision float: sign bit, 8 bits exponent, 23 bits mantissa\n",
    "- float64\tDouble precision float: sign bit, 11 bits exponent, 52 bits mantissa\n",
    "\n",
    "\n",
    "We can check different data types of arrays by using dtype method.\n",
    "\n",
    "**Syntax**:\n",
    "\n",
    " ```\n",
    "  ndarray.dtype\n",
    "  ```\n"
   ]
  },
  {
   "cell_type": "code",
   "execution_count": 22,
   "metadata": {
    "colab": {
     "base_uri": "https://localhost:8080/"
    },
    "executionInfo": {
     "elapsed": 141,
     "status": "ok",
     "timestamp": 1692597655838,
     "user": {
      "displayName": "Shaannoor Mann",
      "userId": "02520257695567980696"
     },
     "user_tz": 300
    },
    "id": "_tXKjLdfWQGm",
    "jupyter": {
     "outputs_hidden": true,
     "source_hidden": true
    },
    "outputId": "10866622-7bee-46bc-969f-ea2502d399f2"
   },
   "outputs": [
    {
     "name": "stdout",
     "output_type": "stream",
     "text": [
      "The data type of the array  is: int32\n"
     ]
    }
   ],
   "source": [
    "# check the data type of the array\n",
    "my_array = np.array([[12, 45, 78, 12],\n",
    "                   [14, 75, 48, 21],\n",
    "                   [17, 45, 48, 69],\n",
    "                   [12, 45, 74, 48]\n",
    "                   ])\n",
    "print(f\"The data type of the array  is: {my_array.dtype}\")"
   ]
  },
  {
   "cell_type": "code",
   "execution_count": 23,
   "metadata": {
    "colab": {
     "base_uri": "https://localhost:8080/"
    },
    "executionInfo": {
     "elapsed": 7,
     "status": "ok",
     "timestamp": 1692597655839,
     "user": {
      "displayName": "Shaannoor Mann",
      "userId": "02520257695567980696"
     },
     "user_tz": 300
    },
    "id": "t5h-kWpQXFfS",
    "jupyter": {
     "outputs_hidden": true,
     "source_hidden": true
    },
    "outputId": "8826aa4b-0050-4fcb-cfb8-67310b0fe3cf"
   },
   "outputs": [
    {
     "name": "stdout",
     "output_type": "stream",
     "text": [
      "The random array is \n",
      " [[5 0 3 3]\n",
      " [7 9 3 5]\n",
      " [2 4 7 6]]\n",
      "The data type of the array  is: int32\n"
     ]
    }
   ],
   "source": [
    "# check the data type of array generated by using random method\n",
    "random_array = np.random.randint(10, size = (3, 4))\n",
    "print(f\"The random array is \\n {random_array}\")\n",
    "print(f\"The data type of the array  is: {random_array.dtype}\")"
   ]
  },
  {
   "cell_type": "markdown",
   "metadata": {
    "id": "-hTmG3LCRuDn"
   },
   "source": [
    "### <font color = 'dodgerblue'> **Determining the memory consumed by arrays** </font>\n",
    "1. It is important to know that arrays created by numpy take less amount of memory whereas arrays created by lists grasp more memory for storage.\n",
    "2. itemsize and nbytes are used to determine the storage of an array.\n",
    "* **itemsize** : It helps to find the length(in bytes) for each array element.\n",
    "\n",
    "  **Syntax**:\n",
    "\n",
    "   ```\n",
    "  ndarray.itemsize\n",
    "  ```\n",
    "* **nbytes** : It helps in listing the total length(in bytes) of the array.\n",
    "\n",
    "  **Syntax**:\n",
    "\n",
    "    ```\n",
    "  ndarray.nbytes\n",
    "  ```\n",
    "\n",
    "           \n",
    "\n",
    "\n",
    "\n",
    "\n",
    "\n"
   ]
  },
  {
   "cell_type": "markdown",
   "metadata": {
    "id": "cWtNerrWus-v"
   },
   "source": [
    "#### <font color = 'dodgerblue'> **itemsize**"
   ]
  },
  {
   "cell_type": "code",
   "execution_count": 24,
   "metadata": {
    "colab": {
     "base_uri": "https://localhost:8080/"
    },
    "executionInfo": {
     "elapsed": 106,
     "status": "ok",
     "timestamp": 1692597659737,
     "user": {
      "displayName": "Shaannoor Mann",
      "userId": "02520257695567980696"
     },
     "user_tz": 300
    },
    "id": "aOW16qVqUoAK",
    "jupyter": {
     "outputs_hidden": true,
     "source_hidden": true
    },
    "outputId": "fc30ee27-09a8-4264-a3ed-25ab199c8761"
   },
   "outputs": [
    {
     "name": "stdout",
     "output_type": "stream",
     "text": [
      "\n",
      " The storage consumed by each array element in bytes for data type int64 is: 8\n",
      "\n",
      " The storage consumed by each array element in bytes for data type int8 is : 1\n"
     ]
    }
   ],
   "source": [
    "#To check the storage in bytes consumed by  each array element\n",
    "numpy_array1 = np.array([12, 45, 46, 78], dtype=np.int64)\n",
    "print(f\"\\n The storage consumed by each array element in bytes for data type int64 is: {numpy_array1.itemsize}\")\n",
    "\n",
    "numpy_array2 = np.array([12, 45, 46, 78], dtype=np.int8)\n",
    "print(f\"\\n The storage consumed by each array element in bytes for data type int8 is : {numpy_array2.itemsize}\")\n"
   ]
  },
  {
   "cell_type": "markdown",
   "metadata": {
    "id": "ysglFbJTuuC6"
   },
   "source": [
    "#### <font color = 'dodgerblue'> **nbytes**"
   ]
  },
  {
   "cell_type": "code",
   "execution_count": 25,
   "metadata": {
    "colab": {
     "base_uri": "https://localhost:8080/"
    },
    "executionInfo": {
     "elapsed": 1,
     "status": "ok",
     "timestamp": 1692597660562,
     "user": {
      "displayName": "Shaannoor Mann",
      "userId": "02520257695567980696"
     },
     "user_tz": 300
    },
    "id": "COjn5IL_QmEx",
    "jupyter": {
     "outputs_hidden": true,
     "source_hidden": true
    },
    "outputId": "65af19c0-efc8-4c3c-8995-cc77b57bd014"
   },
   "outputs": [
    {
     "name": "stdout",
     "output_type": "stream",
     "text": [
      "Storage (in bytes) consumed by numpy_array1 is: 32\n",
      "\n",
      "Storage (in bytes) consumed by numpy_array2 is: 4\n"
     ]
    }
   ],
   "source": [
    "# To check total storage in bytes consumed by a numpy array\n",
    "print(f\"Storage (in bytes) consumed by numpy_array1 is: {numpy_array1.nbytes}\\n\")\n",
    "print(f\"Storage (in bytes) consumed by numpy_array2 is: {numpy_array2.nbytes}\")"
   ]
  },
  {
   "cell_type": "markdown",
   "metadata": {
    "id": "scxM5jJk_kYI"
   },
   "source": [
    "## <font color = 'dodgerblue'> **Indexing of arrays** </font>\n",
    "\n",
    "1. Indexing of arrays is similar to list indexing.\n",
    "2. We can obtain the array element by mentioning the index number in the square brackets.\n",
    "3. The indexing always starts from 0.\n",
    "\n",
    "**Syntax**:\n",
    "\n",
    "\n",
    "\n",
    "```\n",
    "  ndarray['enter the index number']\n",
    "```\n",
    "\n",
    "\n"
   ]
  },
  {
   "cell_type": "code",
   "execution_count": 26,
   "metadata": {
    "colab": {
     "base_uri": "https://localhost:8080/"
    },
    "executionInfo": {
     "elapsed": 109,
     "status": "ok",
     "timestamp": 1692597663667,
     "user": {
      "displayName": "Shaannoor Mann",
      "userId": "02520257695567980696"
     },
     "user_tz": 300
    },
    "id": "KIpglbK4hFrY",
    "jupyter": {
     "outputs_hidden": true,
     "source_hidden": true
    },
    "outputId": "51da38da-8d1c-411e-e380-9f8052743b8e"
   },
   "outputs": [
    {
     "name": "stdout",
     "output_type": "stream",
     "text": [
      "The element in the third place of the array is: 23\n"
     ]
    }
   ],
   "source": [
    "# To access an element from one dimensional array\n",
    "my_num = np.array([12, 15, 23, 45])\n",
    "\n",
    "print(f\"The element in the third place of the array is: {my_num[2]}\")"
   ]
  },
  {
   "cell_type": "code",
   "execution_count": 27,
   "metadata": {
    "colab": {
     "base_uri": "https://localhost:8080/"
    },
    "executionInfo": {
     "elapsed": 1023,
     "status": "ok",
     "timestamp": 1692597664687,
     "user": {
      "displayName": "Shaannoor Mann",
      "userId": "02520257695567980696"
     },
     "user_tz": 300
    },
    "id": "0v76Kl1VfMgP",
    "jupyter": {
     "outputs_hidden": true,
     "source_hidden": true
    },
    "outputId": "ff1a76da-fa5a-49e5-b678-a25b640d795d"
   },
   "outputs": [
    {
     "name": "stdout",
     "output_type": "stream",
     "text": [
      "The element in the first row and third column  is : 24\n"
     ]
    }
   ],
   "source": [
    "# Access an element from the 2 dimensional array by using indexing\n",
    "my_numpy = np.array([[12, 15, 24, 62],\n",
    "                   [124,15, 46, 23]\n",
    "                   ])\n",
    "print(f\"The element in the first row and third column  is : {my_numpy[0][2]}\")\n"
   ]
  },
  {
   "cell_type": "markdown",
   "metadata": {
    "id": "racSE9Ty_xGW"
   },
   "source": [
    "## <font color = 'dodgerblue'> **Slicing of arrays** </font>\n",
    "1. Sometimes, we don't need huge arrays for the computation purpose. We just need a part of the array. These are known as subarrays.\n",
    "2.  The sub arrays can be acquired by using slicing.\n",
    "3. Just like an array indexing, we can use the square brackets for slicing the array into a sub array.\n",
    "4. Hence, Slicing in python means taking elements from one given index to another given index.\n",
    "  \n",
    "  **Syntax**:\n",
    "\n",
    "\n",
    "\n",
    "   ```\n",
    "      ndarray[start:stop:step]\n",
    "\n",
    "   ```\n",
    "  where,\n",
    "\n",
    "\n",
    ">> **start** : The index number to start the slicing. The default value of start is 0. <br>\n",
    " **stop** :The index number to end the slicing. The default value is the size of the dimension. <br>**step** : Integer value which determines the increment between index values in the sequence. By default it takes 1.\n",
    "  \n",
    "5. If there is any missing value inside the [start:stop:step] then it takes default value.\n",
    "\n",
    "**Example** :-\n",
    "\n",
    "* [: : 2]\n",
    "\n",
    "  Here ,\n",
    "  **start** = 0,\n",
    "\n",
    "  **stop** = size of the dimension,\n",
    "\n",
    "  **step** = 2"
   ]
  },
  {
   "cell_type": "markdown",
   "metadata": {
    "id": "XkXMbmozt1QX"
   },
   "source": [
    "### <font color = 'dodgerblue'> **Access subarrays in one dimension and multiple dimensions**\n",
    "Slicing is used in similar way for one dimensional and multi dimensional arrays just separated by using commas in multi dimensional arrays."
   ]
  },
  {
   "cell_type": "code",
   "execution_count": 28,
   "metadata": {
    "colab": {
     "base_uri": "https://localhost:8080/"
    },
    "executionInfo": {
     "elapsed": 5,
     "status": "ok",
     "timestamp": 1692597666505,
     "user": {
      "displayName": "Shaannoor Mann",
      "userId": "02520257695567980696"
     },
     "user_tz": 300
    },
    "id": "AYZlBbLEmpsB",
    "jupyter": {
     "outputs_hidden": true,
     "source_hidden": true
    },
    "outputId": "d90d5ab3-9667-40a6-ed02-0b2f6cf0976e"
   },
   "outputs": [
    {
     "name": "stdout",
     "output_type": "stream",
     "text": [
      "The one dimensional array is [0 1 2 3 4 5 6 7 8 9]\n"
     ]
    }
   ],
   "source": [
    "# One dimensional sub arrays\n",
    "my_array = np.arange(10)\n",
    "print(f\"The one dimensional array is {my_array}\")"
   ]
  },
  {
   "cell_type": "code",
   "execution_count": 29,
   "metadata": {
    "colab": {
     "base_uri": "https://localhost:8080/"
    },
    "executionInfo": {
     "elapsed": 5,
     "status": "ok",
     "timestamp": 1692597667213,
     "user": {
      "displayName": "Shaannoor Mann",
      "userId": "02520257695567980696"
     },
     "user_tz": 300
    },
    "id": "51QzRr8Z5cOG",
    "jupyter": {
     "outputs_hidden": true,
     "source_hidden": true
    },
    "outputId": "01fee6b2-9d9c-4b68-97f2-22d1d61ac1d4"
   },
   "outputs": [
    {
     "name": "stdout",
     "output_type": "stream",
     "text": [
      "\n",
      " Sub- array consisting first five elements [0 1 2 3 4]\n"
     ]
    }
   ],
   "source": [
    "# sub- array consisting first five elements\n",
    "print(f\"\\n Sub- array consisting first five elements {my_array[:5]}\")"
   ]
  },
  {
   "cell_type": "code",
   "execution_count": 30,
   "metadata": {
    "colab": {
     "base_uri": "https://localhost:8080/"
    },
    "executionInfo": {
     "elapsed": 123,
     "status": "ok",
     "timestamp": 1692597667795,
     "user": {
      "displayName": "Shaannoor Mann",
      "userId": "02520257695567980696"
     },
     "user_tz": 300
    },
    "id": "uxIBp9F85e_u",
    "jupyter": {
     "outputs_hidden": true,
     "source_hidden": true
    },
    "outputId": "d71975f0-3fcc-48fe-8427-ea1e8350ed45"
   },
   "outputs": [
    {
     "name": "stdout",
     "output_type": "stream",
     "text": [
      "\n",
      " Sub- array consisting last five elements [5 6 7 8 9]\n"
     ]
    }
   ],
   "source": [
    "# sub-array consisting of last five elements\n",
    "print(f\"\\n Sub- array consisting last five elements {my_array[-5:]}\")"
   ]
  },
  {
   "cell_type": "code",
   "execution_count": 31,
   "metadata": {
    "colab": {
     "base_uri": "https://localhost:8080/"
    },
    "executionInfo": {
     "elapsed": 4,
     "status": "ok",
     "timestamp": 1692597670145,
     "user": {
      "displayName": "Shaannoor Mann",
      "userId": "02520257695567980696"
     },
     "user_tz": 300
    },
    "id": "6zBYjMog5mTU",
    "jupyter": {
     "outputs_hidden": true,
     "source_hidden": true
    },
    "outputId": "ce0a1b3a-f920-484e-e360-89b1a74c064a"
   },
   "outputs": [
    {
     "name": "stdout",
     "output_type": "stream",
     "text": [
      "\n",
      " Sub-array consisting middle elements [2 4 6 8]\n"
     ]
    }
   ],
   "source": [
    "# sub-array consisting of the middle elements\n",
    "# (also note that step size is 2, so we will skip one element)\n",
    "print(f\"\\n Sub-array consisting middle elements {my_array[2:9:2]}\")\n"
   ]
  },
  {
   "cell_type": "code",
   "execution_count": 32,
   "metadata": {
    "colab": {
     "base_uri": "https://localhost:8080/"
    },
    "executionInfo": {
     "elapsed": 9,
     "status": "ok",
     "timestamp": 1692597671254,
     "user": {
      "displayName": "Shaannoor Mann",
      "userId": "02520257695567980696"
     },
     "user_tz": 300
    },
    "id": "wQAjhKFntR3u",
    "jupyter": {
     "outputs_hidden": true,
     "source_hidden": true
    },
    "outputId": "cb8416ab-4174-482f-a2fd-a80bbbfc5df5"
   },
   "outputs": [
    {
     "name": "stdout",
     "output_type": "stream",
     "text": [
      "The multi dimensional array is :\n",
      " [[8 8 1 6]\n",
      " [7 7 8 1]\n",
      " [5 9 8 9]\n",
      " [4 3 0 3]\n",
      " [5 0 2 3]]\n"
     ]
    }
   ],
   "source": [
    "# Multi-dimensional sub- arrays\n",
    "multi_array = np.random.randint(10, size=(5, 4))\n",
    "print(f'The multi dimensional array is :\\n {multi_array}')"
   ]
  },
  {
   "cell_type": "code",
   "execution_count": 33,
   "metadata": {
    "colab": {
     "base_uri": "https://localhost:8080/"
    },
    "executionInfo": {
     "elapsed": 532,
     "status": "ok",
     "timestamp": 1692597674950,
     "user": {
      "displayName": "Shaannoor Mann",
      "userId": "02520257695567980696"
     },
     "user_tz": 300
    },
    "id": "T-9dVjn6Af5p",
    "jupyter": {
     "outputs_hidden": true,
     "source_hidden": true
    },
    "outputId": "1d1c5410-1944-4b0a-8eb7-302a12878c42"
   },
   "outputs": [
    {
     "name": "stdout",
     "output_type": "stream",
     "text": [
      "shape of the array (5, 4)\n"
     ]
    }
   ],
   "source": [
    "# get the shape of the array\n",
    "print(f\"shape of the array {multi_array.shape}\")"
   ]
  },
  {
   "cell_type": "code",
   "execution_count": 34,
   "metadata": {
    "colab": {
     "base_uri": "https://localhost:8080/"
    },
    "executionInfo": {
     "elapsed": 12,
     "status": "ok",
     "timestamp": 1692597674950,
     "user": {
      "displayName": "Shaannoor Mann",
      "userId": "02520257695567980696"
     },
     "user_tz": 300
    },
    "id": "WbC92yIKySzP",
    "jupyter": {
     "outputs_hidden": true,
     "source_hidden": true
    },
    "outputId": "ac26c0fc-95a1-4eda-96eb-986aaa43ba8f"
   },
   "outputs": [
    {
     "name": "stdout",
     "output_type": "stream",
     "text": [
      "number of rows of the array 5\n",
      "number of columns of the array 4\n"
     ]
    }
   ],
   "source": [
    "# We can access first dimension as rows and second dimension as column\n",
    "print(f\"number of rows of the array {multi_array.shape[0]}\")\n",
    "print(f\"number of columns of the array {multi_array.shape[1]}\")"
   ]
  },
  {
   "cell_type": "code",
   "execution_count": 35,
   "metadata": {
    "colab": {
     "base_uri": "https://localhost:8080/"
    },
    "executionInfo": {
     "elapsed": 10,
     "status": "ok",
     "timestamp": 1692597674951,
     "user": {
      "displayName": "Shaannoor Mann",
      "userId": "02520257695567980696"
     },
     "user_tz": 300
    },
    "id": "HDJm_BPqAjEJ",
    "jupyter": {
     "outputs_hidden": true,
     "source_hidden": true
    },
    "outputId": "6d2b839d-d6aa-4c54-fe6a-2f0d34edd224"
   },
   "outputs": [
    {
     "name": "stdout",
     "output_type": "stream",
     "text": [
      "The first column of the array is:\n",
      " [8 7 5 4 5]\n"
     ]
    }
   ],
   "source": [
    "# get all the rows and first column of the array\n",
    "print(f\"The first column of the array is:\\n {multi_array[:, 0]}\")"
   ]
  },
  {
   "cell_type": "code",
   "execution_count": 40,
   "metadata": {
    "colab": {
     "base_uri": "https://localhost:8080/"
    },
    "collapsed": true,
    "executionInfo": {
     "elapsed": 8,
     "status": "ok",
     "timestamp": 1692597674951,
     "user": {
      "displayName": "Shaannoor Mann",
      "userId": "02520257695567980696"
     },
     "user_tz": 300
    },
    "id": "g0s98whWA-6D",
    "jupyter": {
     "outputs_hidden": true,
     "source_hidden": true
    },
    "outputId": "ecfa8591-7240-4e69-b296-8cd434bd39ea"
   },
   "outputs": [
    {
     "name": "stdout",
     "output_type": "stream",
     "text": [
      "The first row of the array is:\n",
      " [8 8 1 6]\n"
     ]
    }
   ],
   "source": [
    "# get all teh columns and first row of the array\n",
    "print(f\"The first row of the array is:\\n {multi_array[0, :]}\")"
   ]
  },
  {
   "cell_type": "code",
   "execution_count": 36,
   "metadata": {
    "colab": {
     "base_uri": "https://localhost:8080/"
    },
    "executionInfo": {
     "elapsed": 6,
     "status": "ok",
     "timestamp": 1692597674951,
     "user": {
      "displayName": "Shaannoor Mann",
      "userId": "02520257695567980696"
     },
     "user_tz": 300
    },
    "id": "ofSmKjuCyays",
    "jupyter": {
     "outputs_hidden": true,
     "source_hidden": true
    },
    "outputId": "7add0a83-14e7-4bed-c833-b881c8a3bc22"
   },
   "outputs": [
    {
     "name": "stdout",
     "output_type": "stream",
     "text": [
      "Accessing 2 rows and 3 columns\n",
      " [[8 8 1]\n",
      " [7 7 8]]\n"
     ]
    }
   ],
   "source": [
    "# We can use the syntax :- [start:stop:step] for each dimension separated by comma(,)\n",
    "# Accessing first two rows and first three columns from multi_array\n",
    "# let us try to extract first two rows and first three columns\n",
    "\n",
    "print(f\"Accessing 2 rows and 3 columns\\n {multi_array[: 2, : 3]}\")\n"
   ]
  },
  {
   "cell_type": "code",
   "execution_count": 42,
   "metadata": {
    "colab": {
     "base_uri": "https://localhost:8080/"
    },
    "collapsed": true,
    "executionInfo": {
     "elapsed": 1839,
     "status": "ok",
     "timestamp": 1692597678311,
     "user": {
      "displayName": "Shaannoor Mann",
      "userId": "02520257695567980696"
     },
     "user_tz": 300
    },
    "id": "4LaQc4GPz3J9",
    "jupyter": {
     "outputs_hidden": true,
     "source_hidden": true
    },
    "outputId": "60c9f17e-1afa-4d38-8fac-6f55951a3bcb"
   },
   "outputs": [
    {
     "name": "stdout",
     "output_type": "stream",
     "text": [
      "Accessing all rows and alternate columns\n",
      " [[8 1]\n",
      " [7 8]\n",
      " [5 8]\n",
      " [4 0]\n",
      " [5 2]]\n"
     ]
    }
   ],
   "source": [
    "# Accessing all rows and alternate columns\n",
    "print(f\"Accessing all rows and alternate columns\\n {multi_array[:, ::2]}\")"
   ]
  },
  {
   "cell_type": "code",
   "execution_count": 43,
   "metadata": {
    "colab": {
     "base_uri": "https://localhost:8080/"
    },
    "collapsed": true,
    "executionInfo": {
     "elapsed": 6,
     "status": "ok",
     "timestamp": 1692597678312,
     "user": {
      "displayName": "Shaannoor Mann",
      "userId": "02520257695567980696"
     },
     "user_tz": 300
    },
    "id": "lI2tb3bQ5_vq",
    "jupyter": {
     "outputs_hidden": true,
     "source_hidden": true
    },
    "outputId": "71767c42-7125-4afc-cfcf-d33b6794c688"
   },
   "outputs": [
    {
     "name": "stdout",
     "output_type": "stream",
     "text": [
      "\n",
      "Accessing alternate rows and columns\n",
      " [[8 1]\n",
      " [5 8]\n",
      " [5 2]]\n"
     ]
    }
   ],
   "source": [
    "# Accessing alternate rows and columns\n",
    "print(f\"\\nAccessing alternate rows and columns\\n {multi_array[::2, ::2]}\")"
   ]
  },
  {
   "cell_type": "code",
   "execution_count": 44,
   "metadata": {
    "colab": {
     "base_uri": "https://localhost:8080/"
    },
    "collapsed": true,
    "executionInfo": {
     "elapsed": 111,
     "status": "ok",
     "timestamp": 1692597679017,
     "user": {
      "displayName": "Shaannoor Mann",
      "userId": "02520257695567980696"
     },
     "user_tz": 300
    },
    "id": "eEa_R5SiB079",
    "jupyter": {
     "outputs_hidden": true,
     "source_hidden": true
    },
    "outputId": "02be25ab-5c7f-4752-af21-cce9e3b3b360"
   },
   "outputs": [
    {
     "name": "stdout",
     "output_type": "stream",
     "text": [
      "The array with 3 rows and 5 columns is : \n",
      " [[5 0 3 3 7]\n",
      " [9 3 5 2 4]\n",
      " [7 6 8 8 1]]\n",
      "\n",
      "My sub-array is : \n",
      " [5 9 7]\n",
      "\n",
      "Array and subarray after modifying sub array\n",
      "\n",
      "My_array : \n",
      " [[   5    0    3    3    7]\n",
      " [1000    3    5    2    4]\n",
      " [   7    6    8    8    1]]\n",
      "\n",
      "My sub-array is : \n",
      " [   5 1000    7]\n"
     ]
    }
   ],
   "source": [
    "# Modifying a subarray modifies the array also\n",
    "np.random.seed(0)\n",
    "my_arr = np.random.randint(10, size=(3, 5))\n",
    "print(f\"The array with 3 rows and 5 columns is : \\n {my_arr}\")\n",
    "\n",
    "# Let's copy the sub-array from my_arr\n",
    "sub_arr = my_arr[:,0]\n",
    "print(f\"\\nMy sub-array is : \\n {sub_arr}\")\n",
    "\n",
    "# modify subarray\n",
    "sub_arr[1] = 1000\n",
    "\n",
    "print('\\nArray and subarray after modifying sub array')\n",
    "print(f\"\\nMy_array : \\n {my_arr}\")\n",
    "print(f\"\\nMy sub-array is : \\n {sub_arr}\")"
   ]
  },
  {
   "cell_type": "markdown",
   "metadata": {
    "id": "dsEfcgr01r9F"
   },
   "source": [
    "### <font color = 'dodgerblue'> **Creating sub-array by using copy()**\n",
    "By using copy method we can create a separate copy of the sub- array.\n",
    "Any changes in the sub- array will not effect the array.\n",
    "\n",
    "**Syntax**:\n",
    "```\n",
    "ndarray[start:stop:step].copy()\n",
    "```\n",
    "Following examples explains this method clearly :\n"
   ]
  },
  {
   "cell_type": "code",
   "execution_count": 45,
   "metadata": {
    "colab": {
     "base_uri": "https://localhost:8080/"
    },
    "collapsed": true,
    "executionInfo": {
     "elapsed": 6,
     "status": "ok",
     "timestamp": 1692597679017,
     "user": {
      "displayName": "Shaannoor Mann",
      "userId": "02520257695567980696"
     },
     "user_tz": 300
    },
    "id": "00UAuPMA3JpV",
    "jupyter": {
     "outputs_hidden": true,
     "source_hidden": true
    },
    "outputId": "9e00926a-d287-4fd0-ceb9-6928cee36e3c"
   },
   "outputs": [
    {
     "name": "stdout",
     "output_type": "stream",
     "text": [
      "The array with 3 rows and 5 columns is : \n",
      " [[5 0 3 3 7]\n",
      " [9 3 5 2 4]\n",
      " [7 6 8 8 1]]\n",
      "\n",
      "New copy of my sub-array is : \n",
      " [5 9 7]\n",
      "\n",
      "Array and subarray after modifying sub array\n",
      "\n",
      "My_array : \n",
      " [[5 0 3 3 7]\n",
      " [9 3 5 2 4]\n",
      " [7 6 8 8 1]]\n",
      "\n",
      "My sub-array is : \n",
      " [   5 1000    7]\n"
     ]
    }
   ],
   "source": [
    "np.random.seed(0)\n",
    "my_arr = np.random.randint(10, size=(3, 5))\n",
    "print(f\"The array with 3 rows and 5 columns is : \\n {my_arr}\")\n",
    "\n",
    "# Let's copy the sub-array from my_arr\n",
    "my_copy_arr = my_arr[:,0].copy()\n",
    "print(f\"\\nNew copy of my sub-array is : \\n {my_copy_arr}\")\n",
    "\n",
    "# modify subarray\n",
    "my_copy_arr[1] = 1000\n",
    "\n",
    "print('\\nArray and subarray after modifying sub array')\n",
    "print(f\"\\nMy_array : \\n {my_arr}\")\n",
    "print(f\"\\nMy sub-array is : \\n {my_copy_arr}\")"
   ]
  },
  {
   "cell_type": "markdown",
   "metadata": {
    "id": "TkHaJNMY_8o2"
   },
   "source": [
    "## <font color = 'dodgerblue'> **Reshaping of arrays**</font>\n",
    "\n",
    "1. Changing the shape of the arrays is important for computation purpose, especially while doing arithmetic operations.\n",
    "2. This can be done by using reshape() method.\n",
    "\n",
    "  **Syntax**:\n",
    "\n",
    "\n",
    "  ```\n",
    "      ndarray.reshape((mention the size to be given))\n",
    "  ```\n",
    "\n",
    "\n",
    "4. In order to convert higher dimensions into the single dimension we can use flatten or ravel functions.\n",
    "\n",
    "  **Syntax** :\n",
    "\n",
    "\n",
    "```\n",
    "    numpy.array.flatten()\n",
    "    or\n",
    "    numpy.array.reshape().ravel()\n",
    "```\n"
   ]
  },
  {
   "cell_type": "markdown",
   "metadata": {
    "id": "osOQCsvJ_DpP"
   },
   "source": [
    "### <font color = 'dodgerblue'> **reshape**\n",
    "- The reshape function returns a new numpy array object that points at the same data.\n",
    "-  It does not create a copy. This means that modifying one array will also modify the other."
   ]
  },
  {
   "cell_type": "code",
   "execution_count": 37,
   "metadata": {
    "colab": {
     "base_uri": "https://localhost:8080/"
    },
    "executionInfo": {
     "elapsed": 8,
     "status": "ok",
     "timestamp": 1692597684953,
     "user": {
      "displayName": "Shaannoor Mann",
      "userId": "02520257695567980696"
     },
     "user_tz": 300
    },
    "id": "RpLWcecVCJCL",
    "jupyter": {
     "outputs_hidden": true,
     "source_hidden": true
    },
    "outputId": "3699a8c4-4efc-49de-d835-3ee544c7809e"
   },
   "outputs": [
    {
     "name": "stdout",
     "output_type": "stream",
     "text": [
      "\n",
      "The shape of the array is :\n",
      " (9,)\n",
      "\n",
      "the dimension of the array is :\n",
      " 1\n"
     ]
    }
   ],
   "source": [
    "# create a one dimensional array\n",
    "num_arr = np.arange(1, 10)\n",
    "\n",
    "# we can check the shape of the given array\n",
    "print(f\"\\nThe shape of the array is :\\n {num_arr.shape}\")\n",
    "\n",
    "# Check the dimension of the num_arr\n",
    "print(f\"\\nthe dimension of the array is :\\n {num_arr.ndim}\")\n"
   ]
  },
  {
   "cell_type": "code",
   "execution_count": 38,
   "metadata": {
    "colab": {
     "base_uri": "https://localhost:8080/"
    },
    "executionInfo": {
     "elapsed": 8,
     "status": "ok",
     "timestamp": 1692597684954,
     "user": {
      "displayName": "Shaannoor Mann",
      "userId": "02520257695567980696"
     },
     "user_tz": 300
    },
    "id": "w5s_9IjDFZ6P",
    "jupyter": {
     "outputs_hidden": true,
     "source_hidden": true
    },
    "outputId": "c1ed93e9-193c-4bee-9487-2ad595c041f4"
   },
   "outputs": [
    {
     "name": "stdout",
     "output_type": "stream",
     "text": [
      "my array is :\n",
      " [[1 2 3]\n",
      " [4 5 6]\n",
      " [7 8 9]]\n",
      "\n",
      "the shape of the array is :\n",
      " (3, 3)\n",
      "\n",
      "the dimension of the array is :\n",
      " 2\n"
     ]
    }
   ],
   "source": [
    "# Let us reshape the array, so that it has 3 rows and 3 columns.\n",
    "num_arr = num_arr.reshape((3, 3))\n",
    "print(f\"my array is :\\n {num_arr}\")\n",
    "\n",
    "# we can check the shape of the given array\n",
    "print(f\"\\nthe shape of the array is :\\n {num_arr.shape}\")\n",
    "\n",
    "# Check the dimension of the num_arr\n",
    "print(f\"\\nthe dimension of the array is :\\n {num_arr.ndim}\")"
   ]
  },
  {
   "cell_type": "markdown",
   "metadata": {
    "id": "tmk9nsBS_vHr"
   },
   "source": [
    "### <font color = 'dodgerblue'> **ravel**\n",
    "\n",
    "- The ravel function returns a new one dimensional array object that points at the same data. It also does not create a copy.\n",
    "- This means that modifying one array will also modify the other."
   ]
  },
  {
   "cell_type": "code",
   "execution_count": 39,
   "metadata": {
    "colab": {
     "base_uri": "https://localhost:8080/"
    },
    "executionInfo": {
     "elapsed": 11,
     "status": "ok",
     "timestamp": 1692597686186,
     "user": {
      "displayName": "Shaannoor Mann",
      "userId": "02520257695567980696"
     },
     "user_tz": 300
    },
    "id": "llyARHRIHqXE",
    "jupyter": {
     "outputs_hidden": true,
     "source_hidden": true
    },
    "outputId": "5feb6948-3fa7-4d16-b040-06b5c4cd1b6d"
   },
   "outputs": [
    {
     "name": "stdout",
     "output_type": "stream",
     "text": [
      "My array is \n",
      " [[[13  2  2]\n",
      "  [ 6 17 19]]\n",
      "\n",
      " [[10  1  0]\n",
      "  [17 15  9]]]\n",
      "\n",
      "The dimension of my array is : 3\n"
     ]
    }
   ],
   "source": [
    "# Converting 3 dimensional array into 1 dimension\n",
    "\n",
    "# Creating a three-dimensional array\n",
    "np.random.seed(123)\n",
    "my_array = np.random.randint(20, size=(2, 2, 3))\n",
    "print(f\"My array is \\n {my_array}\")\n",
    "print(f\"\\nThe dimension of my array is : {my_array.ndim}\")"
   ]
  },
  {
   "cell_type": "code",
   "execution_count": 40,
   "metadata": {
    "colab": {
     "base_uri": "https://localhost:8080/"
    },
    "executionInfo": {
     "elapsed": 6,
     "status": "ok",
     "timestamp": 1692597686186,
     "user": {
      "displayName": "Shaannoor Mann",
      "userId": "02520257695567980696"
     },
     "user_tz": 300
    },
    "id": "fIKvL684Hlk4",
    "jupyter": {
     "outputs_hidden": true,
     "source_hidden": true
    },
    "outputId": "66444890-8f85-4460-8255-cde40eb2cd6c"
   },
   "outputs": [
    {
     "name": "stdout",
     "output_type": "stream",
     "text": [
      "\n",
      "The new array with 1 dimension is : [13  2  2  6 17 19 10  1  0 17 15  9]\n"
     ]
    }
   ],
   "source": [
    "# lets convert this dimension to 1 by using ravel() method\n",
    "# ravel is useful if you want to convert n-dimensional array to one dimensional array\n",
    "new_arr = my_array.ravel()\n",
    "print(f\"\\nThe new array with 1 dimension is : {new_arr}\")"
   ]
  },
  {
   "cell_type": "code",
   "execution_count": 50,
   "metadata": {
    "colab": {
     "base_uri": "https://localhost:8080/"
    },
    "collapsed": true,
    "executionInfo": {
     "elapsed": 5,
     "status": "ok",
     "timestamp": 1692597687246,
     "user": {
      "displayName": "Shaannoor Mann",
      "userId": "02520257695567980696"
     },
     "user_tz": 300
    },
    "id": "_aNH5IeyHGM_",
    "jupyter": {
     "outputs_hidden": true,
     "source_hidden": true
    },
    "outputId": "51aa73d4-a83f-40eb-813c-eb3122860ca2"
   },
   "outputs": [
    {
     "name": "stdout",
     "output_type": "stream",
     "text": [
      "\n",
      "my_array and new_arr after modifying new_arr\n",
      "\n",
      "My_array : \n",
      " [[[  13    2    2]\n",
      "  [1000   17   19]]\n",
      "\n",
      " [[  10    1    0]\n",
      "  [  17   15    9]]]\n",
      "\n",
      "new_arr is : \n",
      " [  13    2    2 1000   17   19   10    1    0   17   15    9]\n"
     ]
    }
   ],
   "source": [
    "# modify the new_array and observe whether it changes my_array\n",
    "new_arr[3] = 1000\n",
    "print('\\nmy_array and new_arr after modifying new_arr')\n",
    "print(f\"\\nMy_array : \\n {my_array}\")\n",
    "print(f\"\\nnew_arr is : \\n {new_arr}\")"
   ]
  },
  {
   "cell_type": "markdown",
   "metadata": {
    "id": "4sn9vrXKGHmV"
   },
   "source": [
    "### <font color = 'dodgerblue'> **flatten**\n",
    "\n",
    "- The flatten function returns a new one dimensional array object.\n",
    "\n",
    "- flatten always returns a copy. Therefore, in the above example (if we use flatten) changes to new_arr will not affect my_array.\n"
   ]
  },
  {
   "cell_type": "code",
   "execution_count": 41,
   "metadata": {
    "colab": {
     "base_uri": "https://localhost:8080/"
    },
    "executionInfo": {
     "elapsed": 4,
     "status": "ok",
     "timestamp": 1692597687246,
     "user": {
      "displayName": "Shaannoor Mann",
      "userId": "02520257695567980696"
     },
     "user_tz": 300
    },
    "id": "8dJoGvvru9RY",
    "jupyter": {
     "outputs_hidden": true,
     "source_hidden": true
    },
    "outputId": "e0d7abd1-65ec-4dc5-b818-9165b1189218"
   },
   "outputs": [
    {
     "name": "stdout",
     "output_type": "stream",
     "text": [
      "My array is \n",
      " [[[13  2  2  6 17]\n",
      "  [19 10  1  0 17]]\n",
      "\n",
      " [[15  9  0 14  0]\n",
      "  [15 19 14  4  0]]]\n",
      "\n",
      "The dimension of my array is : 3\n",
      "The new array with one dimension is [13  2  2  6 17 19 10  1  0 17 15  9  0 14  0 15 19 14  4  0]\n"
     ]
    }
   ],
   "source": [
    "# Using flatten\n",
    "\n",
    "# Creating a 3 dimensional random numpy array\n",
    "np.random.seed(123)\n",
    "my_array = np.random.randint(20, size=(2, 2, 5))\n",
    "print(f\"My array is \\n {my_array}\")\n",
    "print(f\"\\nThe dimension of my array is : {my_array.ndim}\")\n",
    "\n",
    "# Using ravel to convert it into 1 dimension\n",
    "new_arr = my_array.flatten()\n",
    "print(f\"The new array with one dimension is {new_arr}\")"
   ]
  },
  {
   "cell_type": "code",
   "execution_count": 42,
   "metadata": {
    "colab": {
     "base_uri": "https://localhost:8080/"
    },
    "executionInfo": {
     "elapsed": 3,
     "status": "ok",
     "timestamp": 1692597689037,
     "user": {
      "displayName": "Shaannoor Mann",
      "userId": "02520257695567980696"
     },
     "user_tz": 300
    },
    "id": "rvW-JEA0GGC8",
    "jupyter": {
     "outputs_hidden": true,
     "source_hidden": true
    },
    "outputId": "f101df35-9bfc-484d-be83-3e0dc6b7e068"
   },
   "outputs": [
    {
     "name": "stdout",
     "output_type": "stream",
     "text": [
      "\n",
      "my_array and new_arr after modifying new_arr\n",
      "\n",
      "My_array : \n",
      " [[[13  2  2  6 17]\n",
      "  [19 10  1  0 17]]\n",
      "\n",
      " [[15  9  0 14  0]\n",
      "  [15 19 14  4  0]]]\n",
      "\n",
      "new_arr is : \n",
      " [    13      2      2 100000     17     19     10      1      0     17\n",
      "     15      9      0     14      0     15     19     14      4      0]\n"
     ]
    }
   ],
   "source": [
    "# modify the new_array and observe whether it changes my_array\n",
    "new_arr[3] = 100000\n",
    "print('\\nmy_array and new_arr after modifying new_arr')\n",
    "print(f\"\\nMy_array : \\n {my_array}\")\n",
    "print(f\"\\nnew_arr is : \\n {new_arr}\")"
   ]
  },
  {
   "cell_type": "markdown",
   "metadata": {
    "id": "3264mt70C-ry"
   },
   "source": [
    "### <font color = 'dodgerblue'> **unknown size**\n",
    "In some cases we do not know the size of a particular dimension. In these cases when we specify the shape we can use -1 for that particular dimension. Numpy will infer the size of this dimension."
   ]
  },
  {
   "cell_type": "code",
   "execution_count": 53,
   "metadata": {
    "colab": {
     "base_uri": "https://localhost:8080/"
    },
    "collapsed": true,
    "executionInfo": {
     "elapsed": 1070,
     "status": "ok",
     "timestamp": 1692597693916,
     "user": {
      "displayName": "Shaannoor Mann",
      "userId": "02520257695567980696"
     },
     "user_tz": 300
    },
    "id": "agAA8Sxw9j4y",
    "jupyter": {
     "outputs_hidden": true,
     "source_hidden": true
    },
    "outputId": "7585e076-a9bd-4be5-dc99-6eb92bb6080f"
   },
   "outputs": [
    {
     "name": "stdout",
     "output_type": "stream",
     "text": [
      "The shape of the array is: (1, 3, 3)\n",
      "The new shape of the array is (3, 3)\n"
     ]
    }
   ],
   "source": [
    "my_array = np.random.randint(10, size=(np.random.randint(low=1, high=10), 3, 3))\n",
    "print(f'The shape of the array is: {my_array.shape}')\n",
    "\n",
    "# We want to change it to two dimensional array with n rows and 3 columns. Since we do not know\n",
    "# total number of rows, we can use -1 to specify number of rows\n",
    "\n",
    "my_array = my_array.reshape(-1, 3)\n",
    "print(f'The new shape of the array is {my_array.shape}')"
   ]
  },
  {
   "cell_type": "markdown",
   "metadata": {
    "id": "_eAIDC07AH60"
   },
   "source": [
    "## <font color = 'dodgerblue'> **Stacking arrays**\n",
    "\n",
    "It is sometimes useful to combine/stack arrays. Numpy provide following methods\n",
    "  * vstack\n",
    "  * hstack\n",
    "  * concatenate\n",
    "  * stack\n"
   ]
  },
  {
   "cell_type": "code",
   "execution_count": 54,
   "metadata": {
    "executionInfo": {
     "elapsed": 2,
     "status": "ok",
     "timestamp": 1692597694859,
     "user": {
      "displayName": "Shaannoor Mann",
      "userId": "02520257695567980696"
     },
     "user_tz": 300
    },
    "id": "SRN5wd1Uo8cV"
   },
   "outputs": [],
   "source": [
    "# let us create arrays first\n",
    "x1 = np.random.randint(low=0, high=10, size = (2, 5))\n",
    "x2 = np.ones((4, 5))\n",
    "x3 = np.zeros((2, 3))"
   ]
  },
  {
   "cell_type": "code",
   "execution_count": 55,
   "metadata": {
    "colab": {
     "base_uri": "https://localhost:8080/"
    },
    "executionInfo": {
     "elapsed": 3,
     "status": "ok",
     "timestamp": 1692597694860,
     "user": {
      "displayName": "Shaannoor Mann",
      "userId": "02520257695567980696"
     },
     "user_tz": 300
    },
    "id": "hcxTG8yHpyCg",
    "outputId": "3497e700-7550-4e81-ec1f-bc649c84a977"
   },
   "outputs": [
    {
     "name": "stdout",
     "output_type": "stream",
     "text": [
      "x1\n",
      "[[8 0 7 9 3]\n",
      " [4 6 1 5 6]]\n",
      "\n",
      "x2\n",
      "[[1. 1. 1. 1. 1.]\n",
      " [1. 1. 1. 1. 1.]\n",
      " [1. 1. 1. 1. 1.]\n",
      " [1. 1. 1. 1. 1.]]\n",
      "\n",
      "x3\n",
      "[[0. 0. 0.]\n",
      " [0. 0. 0.]]\n"
     ]
    }
   ],
   "source": [
    "print('x1', x1, sep = '\\n')\n",
    "print('\\nx2', x2, sep = '\\n')\n",
    "print('\\nx3', x3, sep = '\\n')"
   ]
  },
  {
   "cell_type": "markdown",
   "metadata": {
    "id": "wDT3c9jmobJA"
   },
   "source": [
    "### <font color = 'dodgerblue'> **vstack**\n",
    "We can stack arrays vertically using vstack. The arrays should have same number of columns. As x1 and x2 has same number of columsn, we can use vstack to combine these arrays.\n",
    "\n",
    "<img src=\"https://drive.google.com/uc?export=view&id=15iB5N0WTWnlLHuoOWwJhzTZ_S93a7LX5\" width=\"300\"/>"
   ]
  },
  {
   "cell_type": "code",
   "execution_count": 56,
   "metadata": {
    "colab": {
     "base_uri": "https://localhost:8080/"
    },
    "executionInfo": {
     "elapsed": 2,
     "status": "ok",
     "timestamp": 1692597697140,
     "user": {
      "displayName": "Shaannoor Mann",
      "userId": "02520257695567980696"
     },
     "user_tz": 300
    },
    "id": "4NfBPBxEoemf",
    "outputId": "9105083d-3bd5-4fd7-d750-a2f65b92583c"
   },
   "outputs": [
    {
     "data": {
      "text/plain": [
       "array([[8., 0., 7., 9., 3.],\n",
       "       [4., 6., 1., 5., 6.],\n",
       "       [1., 1., 1., 1., 1.],\n",
       "       [1., 1., 1., 1., 1.],\n",
       "       [1., 1., 1., 1., 1.],\n",
       "       [1., 1., 1., 1., 1.]])"
      ]
     },
     "execution_count": 56,
     "metadata": {},
     "output_type": "execute_result"
    }
   ],
   "source": [
    "x1_x2_v= np.vstack((x1, x2))\n",
    "x1_x2_v"
   ]
  },
  {
   "cell_type": "markdown",
   "metadata": {
    "id": "TcZWNs_rpmFt"
   },
   "source": [
    "### <font color = 'dodgerblue'> **hstack**\n",
    "We can stack arrays horizontally using hstack. The arrays should have same number of rows. As x1 and x3 has same number of rows, we can use hstack to combine these arrays.\n",
    "\n",
    "<img src=\"https://drive.google.com/uc?export=view&id=1YXSYv1UAdL3HHFcLIl7iuVwuyVsGqFad\" width=\"300\"/>"
   ]
  },
  {
   "cell_type": "code",
   "execution_count": 57,
   "metadata": {
    "colab": {
     "base_uri": "https://localhost:8080/"
    },
    "executionInfo": {
     "elapsed": 110,
     "status": "ok",
     "timestamp": 1692597698192,
     "user": {
      "displayName": "Shaannoor Mann",
      "userId": "02520257695567980696"
     },
     "user_tz": 300
    },
    "id": "tE6IAcInqym2",
    "outputId": "4ac90fb6-d915-42cd-c942-8fd445367591"
   },
   "outputs": [
    {
     "data": {
      "text/plain": [
       "array([[8., 0., 7., 9., 3., 0., 0., 0.],\n",
       "       [4., 6., 1., 5., 6., 0., 0., 0.]])"
      ]
     },
     "execution_count": 57,
     "metadata": {},
     "output_type": "execute_result"
    }
   ],
   "source": [
    "x1_x3_h = np.hstack((x1, x3))\n",
    "x1_x3_h"
   ]
  },
  {
   "cell_type": "markdown",
   "metadata": {
    "id": "SXmMm0zrq3-T"
   },
   "source": [
    "### <font color = 'dodgerblue'> **concatenate**\n",
    "Concatenate stack arrays along any given axis.\n",
    "- The arrays must have the same shape (except in the concatenating dimension)\n",
    "- x1 and x2 have the same shape except for dim = 0, hence we can conactenate these along dim = 0.\n",
    "- x1 and x3 have the same shape except for dim = 1, hence we can conactenate these along dim = 1\n",
    "- We cannot concatenate x2 and x3 along any dimension.\n",
    "\n",
    "  **NOTE:**\n",
    "  * Concatenation along the rows (axis=0) => Vertical Stacking\n",
    "  * Concatenation along the columns (axis=1)\n",
    "  => Horizontal stacking"
   ]
  },
  {
   "cell_type": "code",
   "execution_count": 58,
   "metadata": {
    "colab": {
     "base_uri": "https://localhost:8080/"
    },
    "executionInfo": {
     "elapsed": 101,
     "status": "ok",
     "timestamp": 1692597701933,
     "user": {
      "displayName": "Shaannoor Mann",
      "userId": "02520257695567980696"
     },
     "user_tz": 300
    },
    "id": "kQIi8gtyrVFd",
    "outputId": "3419f914-fc42-4a86-82a8-c245534874d6"
   },
   "outputs": [
    {
     "data": {
      "text/plain": [
       "array([[8., 0., 7., 9., 3.],\n",
       "       [4., 6., 1., 5., 6.],\n",
       "       [1., 1., 1., 1., 1.],\n",
       "       [1., 1., 1., 1., 1.],\n",
       "       [1., 1., 1., 1., 1.],\n",
       "       [1., 1., 1., 1., 1.]])"
      ]
     },
     "execution_count": 58,
     "metadata": {},
     "output_type": "execute_result"
    }
   ],
   "source": [
    "x1_x2 = np.concatenate((x1, x2), axis = 0 )\n",
    "x1_x2"
   ]
  },
  {
   "cell_type": "code",
   "execution_count": 59,
   "metadata": {
    "colab": {
     "base_uri": "https://localhost:8080/"
    },
    "executionInfo": {
     "elapsed": 5,
     "status": "ok",
     "timestamp": 1692597701934,
     "user": {
      "displayName": "Shaannoor Mann",
      "userId": "02520257695567980696"
     },
     "user_tz": 300
    },
    "id": "59kKB2CDsjBV",
    "outputId": "eb18384e-5ff6-4e46-e556-51f8aaea0f5c"
   },
   "outputs": [
    {
     "data": {
      "text/plain": [
       "array([[8., 0., 7., 9., 3., 0., 0., 0.],\n",
       "       [4., 6., 1., 5., 6., 0., 0., 0.]])"
      ]
     },
     "execution_count": 59,
     "metadata": {},
     "output_type": "execute_result"
    }
   ],
   "source": [
    "x1_x3 = np.concatenate((x1, x3), axis = 1 )\n",
    "x1_x3"
   ]
  },
  {
   "cell_type": "markdown",
   "metadata": {
    "id": "FIDkfoP-s7vL"
   },
   "source": [
    "### <font color = 'dodgerblue'> **stack**\n",
    "The stack function stacks along a new dimension. All the arrays should have the same shape. We cannot use stack with x1, x2 and x3 as these have differnt shape.\n"
   ]
  },
  {
   "cell_type": "code",
   "execution_count": 60,
   "metadata": {
    "colab": {
     "base_uri": "https://localhost:8080/"
    },
    "executionInfo": {
     "elapsed": 672,
     "status": "ok",
     "timestamp": 1692597704352,
     "user": {
      "displayName": "Shaannoor Mann",
      "userId": "02520257695567980696"
     },
     "user_tz": 300
    },
    "id": "UGNUpLfXtdgu",
    "outputId": "4fe20377-fdfd-4e2f-a536-cf1968ed8983"
   },
   "outputs": [
    {
     "data": {
      "text/plain": [
       "array([[[1., 1.],\n",
       "        [1., 1.]],\n",
       "\n",
       "       [[0., 0.],\n",
       "        [0., 0.]],\n",
       "\n",
       "       [[3., 3.],\n",
       "        [3., 3.]]])"
      ]
     },
     "execution_count": 60,
     "metadata": {},
     "output_type": "execute_result"
    }
   ],
   "source": [
    "x4 = np.ones((2,2))\n",
    "x5 = np.zeros((2,2))\n",
    "x6 = np.full((2,2),3)\n",
    "x4_x5_x6 = np.stack((x4, x5, x6))\n",
    "x4_x5_x6"
   ]
  },
  {
   "cell_type": "code",
   "execution_count": 61,
   "metadata": {
    "colab": {
     "base_uri": "https://localhost:8080/"
    },
    "executionInfo": {
     "elapsed": 5,
     "status": "ok",
     "timestamp": 1692597705159,
     "user": {
      "displayName": "Shaannoor Mann",
      "userId": "02520257695567980696"
     },
     "user_tz": 300
    },
    "id": "sk_mrR1jtrZy",
    "outputId": "5cd46329-904c-40c2-fc91-0d6a2edfe796"
   },
   "outputs": [
    {
     "data": {
      "text/plain": [
       "(3, 2, 2)"
      ]
     },
     "execution_count": 61,
     "metadata": {},
     "output_type": "execute_result"
    }
   ],
   "source": [
    "x4_x5_x6.shape"
   ]
  },
  {
   "cell_type": "markdown",
   "metadata": {
    "id": "Ajg3UlcQR_wA"
   },
   "source": [
    "## <font color = 'dodgerblue'> **Splitting arrays**\n",
    "We can use following metods to split arrays in numpy:\n",
    "- vsplit - Split arrays vertically (along first axis, axis =0)\n",
    "- hsplit - Split arrays horizontally (along second axis, axis =1)\n",
    "- split - aplit arrays along any dimension"
   ]
  },
  {
   "cell_type": "markdown",
   "metadata": {
    "id": "hlHU6c12vtqv"
   },
   "source": [
    "### <font color = 'dodgerblue'> **vsplit**\n",
    "Always splits arrays along first axis (i.e rows for 2 dimensional array)\n",
    "\n",
    "  Syntax :\n",
    "  ```\n",
    "  numpy.vsplit(array,indices_or_sections)\n",
    "  ```\n",
    " where, **indices/sections** are used to mention the number of splits."
   ]
  },
  {
   "cell_type": "code",
   "execution_count": 43,
   "metadata": {
    "colab": {
     "base_uri": "https://localhost:8080/"
    },
    "executionInfo": {
     "elapsed": 13,
     "status": "ok",
     "timestamp": 1692597707510,
     "user": {
      "displayName": "Shaannoor Mann",
      "userId": "02520257695567980696"
     },
     "user_tz": 300
    },
    "id": "Oh-RS76iYaag",
    "jupyter": {
     "outputs_hidden": true,
     "source_hidden": true
    },
    "outputId": "d1664bb1-adf8-4fe4-d86e-bb959a6ff7ca"
   },
   "outputs": [
    {
     "name": "stdout",
     "output_type": "stream",
     "text": [
      "My array is \n",
      " [[0 1]\n",
      " [2 3]\n",
      " [4 5]\n",
      " [6 7]\n",
      " [8 9]]\n",
      "\n",
      "When we split at indices 2, subarray 1 is \n",
      "[[0 1]\n",
      " [2 3]]\n",
      "\n",
      "When we split at indices 2, subarray 2 is \n",
      "[[4 5]\n",
      " [6 7]\n",
      " [8 9]]\n"
     ]
    }
   ],
   "source": [
    "# splitting of an array using vsplit() method\n",
    "num_arr = np.arange(10).reshape((5,2))\n",
    "print(f\"My array is \\n {num_arr}\")\n",
    "\n",
    "# splitting above array into 2 sub arrays, we will split at indices 2\n",
    "for i, subarray in enumerate(np.vsplit(num_arr, [2])):\n",
    "  print(f'\\nWhen we split at indices 2, subarray {i+1} is \\n{subarray}')"
   ]
  },
  {
   "cell_type": "code",
   "execution_count": 44,
   "metadata": {
    "colab": {
     "base_uri": "https://localhost:8080/"
    },
    "executionInfo": {
     "elapsed": 3,
     "status": "ok",
     "timestamp": 1692597708695,
     "user": {
      "displayName": "Shaannoor Mann",
      "userId": "02520257695567980696"
     },
     "user_tz": 300
    },
    "id": "mY0ZXstdRlzy",
    "jupyter": {
     "outputs_hidden": true,
     "source_hidden": true
    },
    "outputId": "edd5788d-b70a-4991-8015-900503170b64"
   },
   "outputs": [
    {
     "name": "stdout",
     "output_type": "stream",
     "text": [
      "\n",
      "When we split at indices 4, subarray 1 is \n",
      "[[0 1]\n",
      " [2 3]\n",
      " [4 5]\n",
      " [6 7]]\n",
      "\n",
      "When we split at indices 4, subarray 2 is \n",
      "[[8 9]]\n"
     ]
    }
   ],
   "source": [
    "# let us try splitting at indices 4\n",
    "# splitting above array into 2 sub arrays, we will split at indices 4\n",
    "for i, subarray in enumerate(np.vsplit(num_arr,[4])):\n",
    "  print(f'\\nWhen we split at indices 4, subarray {i+1} is \\n{subarray}')\n"
   ]
  },
  {
   "cell_type": "code",
   "execution_count": 64,
   "metadata": {
    "colab": {
     "base_uri": "https://localhost:8080/"
    },
    "executionInfo": {
     "elapsed": 5,
     "status": "ok",
     "timestamp": 1692597710050,
     "user": {
      "displayName": "Shaannoor Mann",
      "userId": "02520257695567980696"
     },
     "user_tz": 300
    },
    "id": "ElgQPmGWt0tj",
    "jupyter": {
     "outputs_hidden": true,
     "source_hidden": true
    },
    "outputId": "26ace58c-7abf-4867-f929-5670e4eafebb"
   },
   "outputs": [
    {
     "name": "stdout",
     "output_type": "stream",
     "text": [
      "My array is \n",
      " [[ 0  1  2  3  4  5]\n",
      " [ 6  7  8  9 10 11]\n",
      " [12 13 14 15 16 17]]\n",
      "\n",
      "Subarray 1 is \n",
      "[[0 1 2 3 4 5]]\n",
      "\n",
      "Subarray 2 is \n",
      "[[ 6  7  8  9 10 11]]\n",
      "\n",
      "Subarray 3 is \n",
      "[[12 13 14 15 16 17]]\n"
     ]
    }
   ],
   "source": [
    "# Creating Multiple Splits with vsplit\n",
    "num_arr= np.arange(18).reshape((3, 6))\n",
    "print(f\"My array is \\n {num_arr}\")\n",
    "\n",
    "# splitting above array into 3 subarrays\n",
    "for i, subarray in enumerate(np.vsplit(num_arr, 3)):\n",
    "  print(f'\\nSubarray {i+1} is \\n{subarray}')"
   ]
  },
  {
   "cell_type": "markdown",
   "metadata": {
    "id": "63S0lu5Lxlay"
   },
   "source": [
    "### <font color = 'dodgerblue'>  **hsplit**\n",
    "Always splits arrays along second axis (i.e columns for 2 dimensional array)\n",
    "\n",
    "  Syntax :\n",
    "  ```\n",
    "  numpy.hsplit(array,indices_or_sections)\n",
    "  ```\n",
    " where, **indices/sections** are used to mention the number of splits."
   ]
  },
  {
   "cell_type": "code",
   "execution_count": 45,
   "metadata": {
    "colab": {
     "base_uri": "https://localhost:8080/"
    },
    "executionInfo": {
     "elapsed": 5,
     "status": "ok",
     "timestamp": 1692597712169,
     "user": {
      "displayName": "Shaannoor Mann",
      "userId": "02520257695567980696"
     },
     "user_tz": 300
    },
    "id": "4tqAJILTZ_R5",
    "jupyter": {
     "outputs_hidden": true,
     "source_hidden": true
    },
    "outputId": "3a6e7174-0cd0-4140-f84b-a4e004553577"
   },
   "outputs": [
    {
     "name": "stdout",
     "output_type": "stream",
     "text": [
      "My array is \n",
      " [[ 0  1  2  3  4  5]\n",
      " [ 6  7  8  9 10 11]\n",
      " [12 13 14 15 16 17]]\n",
      "\n",
      "When we split at indices 2, subarray 1 is \n",
      "[[ 0  1]\n",
      " [ 6  7]\n",
      " [12 13]]\n",
      "\n",
      "When we split at indices 2, subarray 2 is \n",
      "[[ 2  3  4  5]\n",
      " [ 8  9 10 11]\n",
      " [14 15 16 17]]\n",
      "\n",
      "When we split at indices 4, subarray 1 is \n",
      "[[ 0  1  2  3]\n",
      " [ 6  7  8  9]\n",
      " [12 13 14 15]]\n",
      "\n",
      "When we split at indices 4, subarray 2 is \n",
      "[[ 4  5]\n",
      " [10 11]\n",
      " [16 17]]\n"
     ]
    }
   ],
   "source": [
    "# splitting of an array using hsplit() method\n",
    "num_arr= np.arange(18).reshape((3,6))\n",
    "print(f\"My array is \\n {num_arr}\")\n",
    "\n",
    "# splitting above array into 2 sub arrays, we will split at indices 2\n",
    "for i, subarray in enumerate(np.hsplit(num_arr,[2])):\n",
    "  print(f'\\nWhen we split at indices 2, subarray {i+1} is \\n{subarray}')\n",
    "\n",
    "# let us try splitting at indices 4\n",
    "# splitting above array into 2 sub arrays, we will split at indices 4\n",
    "for i, subarray in enumerate(np.hsplit(num_arr,[4])):\n",
    "  print(f'\\nWhen we split at indices 4, subarray {i+1} is \\n{subarray}')"
   ]
  },
  {
   "cell_type": "code",
   "execution_count": 66,
   "metadata": {
    "colab": {
     "base_uri": "https://localhost:8080/"
    },
    "collapsed": true,
    "executionInfo": {
     "elapsed": 2,
     "status": "ok",
     "timestamp": 1692597713021,
     "user": {
      "displayName": "Shaannoor Mann",
      "userId": "02520257695567980696"
     },
     "user_tz": 300
    },
    "id": "QA6svr0wsEPv",
    "jupyter": {
     "outputs_hidden": true,
     "source_hidden": true
    },
    "outputId": "d9a6189a-fd72-4208-b870-479cea9a7fa9"
   },
   "outputs": [
    {
     "name": "stdout",
     "output_type": "stream",
     "text": [
      "My array is \n",
      " [[ 0  1  2]\n",
      " [ 3  4  5]\n",
      " [ 6  7  8]\n",
      " [ 9 10 11]]\n",
      "\n",
      "Subarray 1 is \n",
      "[[0]\n",
      " [3]\n",
      " [6]\n",
      " [9]]\n",
      "\n",
      "Subarray 2 is \n",
      "[[ 1]\n",
      " [ 4]\n",
      " [ 7]\n",
      " [10]]\n",
      "\n",
      "Subarray 3 is \n",
      "[[ 2]\n",
      " [ 5]\n",
      " [ 8]\n",
      " [11]]\n"
     ]
    }
   ],
   "source": [
    "# Creating Multiple Splits with hsplit\n",
    "num_arr= np.arange(12).reshape((4,3))\n",
    "print(f\"My array is \\n {num_arr}\")\n",
    "\n",
    "# splitting above array into 3 subarrays\n",
    "for i, subarray in enumerate(np.hsplit(num_arr,3)):\n",
    "  print(f'\\nSubarray {i+1} is \\n{subarray}')"
   ]
  },
  {
   "cell_type": "markdown",
   "metadata": {
    "id": "qJNHO5m1u0mQ"
   },
   "source": [
    "### <font color = 'dodgerblue'> **split()** method :\n",
    "   * It is used to split the array into sub- arrays along any specified dimension(axis).\n",
    "\n",
    "  **Syntax** :\n",
    "  ```\n",
    "  numpy.split(array, indices_or_sections, axis)\n",
    "  ```\n",
    "  where, **indices/sections** are used to mention the number of splits."
   ]
  },
  {
   "cell_type": "code",
   "execution_count": 67,
   "metadata": {
    "colab": {
     "base_uri": "https://localhost:8080/"
    },
    "executionInfo": {
     "elapsed": 2,
     "status": "ok",
     "timestamp": 1692597713511,
     "user": {
      "displayName": "Shaannoor Mann",
      "userId": "02520257695567980696"
     },
     "user_tz": 300
    },
    "id": "Oj_LMWG_XJLE",
    "jupyter": {
     "outputs_hidden": true,
     "source_hidden": true
    },
    "outputId": "8066ba31-532e-4059-b841-f50674249a4a"
   },
   "outputs": [
    {
     "name": "stdout",
     "output_type": "stream",
     "text": [
      "My array is \n",
      " [[0 1]\n",
      " [2 3]\n",
      " [4 5]\n",
      " [6 7]\n",
      " [8 9]]\n",
      "\n",
      "Subarray 1 is [[0 1]]\n",
      "\n",
      "Subarray 2 is [[2 3]]\n",
      "\n",
      "Subarray 3 is [[4 5]]\n",
      "\n",
      "Subarray 4 is [[6 7]]\n",
      "\n",
      "Subarray 5 is [[8 9]]\n",
      "\n"
     ]
    }
   ],
   "source": [
    "# splitting of an array using split() method\n",
    "num_arr = np.arange(10).reshape((5,2))\n",
    "print(f\"My array is \\n {num_arr}\\n\")\n",
    "\n",
    "# splitting above array into 5 sub-arrays\n",
    "\n",
    "for i, subarray in enumerate(np.split(num_arr, 5, axis = 0)):\n",
    "  print(f'Subarray {i+1} is {subarray}\\n')"
   ]
  },
  {
   "cell_type": "markdown",
   "metadata": {
    "id": "smSmSl10MefB"
   },
   "source": [
    "# <font color = 'dodgerblue'> **Numpy's Universal functionas (ufuncs)**\n",
    "\n",
    "* ufuncs stands for \"Universal Functions\".  They are vectorized wrappers of simple functions.\n",
    "* There are two types of UFuncs, they are **unary ufuncs** (operate on a single input) and **binary Ufuncs** (operate on two inputs)."
   ]
  },
  {
   "cell_type": "markdown",
   "metadata": {
    "id": "dxB0ZpxdV6Zt"
   },
   "source": [
    "## <font color = 'dodgerblue'>  **binary ufuncs**\n",
    "* This include all arithmetic operators (+, -, *, /, //, **, etc.) and some other functions (add, greater, maximum etc,). They apply elementwise on two ndarrays. These can also be used when arrays have different shape (see Broadcasting).\n",
    "\n",
    "\n"
   ]
  },
  {
   "cell_type": "code",
   "execution_count": 46,
   "metadata": {
    "colab": {
     "base_uri": "https://localhost:8080/"
    },
    "executionInfo": {
     "elapsed": 2,
     "status": "ok",
     "timestamp": 1692597716914,
     "user": {
      "displayName": "Shaannoor Mann",
      "userId": "02520257695567980696"
     },
     "user_tz": 300
    },
    "id": "FszLyX1scujz",
    "jupyter": {
     "outputs_hidden": true,
     "source_hidden": true
    },
    "outputId": "9346448c-a510-42d2-e9df-d392a327947b"
   },
   "outputs": [
    {
     "name": "stdout",
     "output_type": "stream",
     "text": [
      "my_num1 + my_num2  = [12 23 34 47 17]\n",
      "my_num1 - my_num2  = [ 8 17 26 43 13]\n",
      "my_num1 * my_num2  = [ 20  60 120  90  30]\n",
      "my_num1 / my_num2  = [ 5.          6.66666667  7.5        22.5         7.5       ]\n",
      "my_num1 // my_num2  = [ 5  6  7 22  7]\n",
      "my_num1 % my_num2  = [0 2 2 1 1]\n",
      "my_num1 ** my_num2 = [   100   8000 810000   2025    225]\n"
     ]
    }
   ],
   "source": [
    "my_num1 = np.array([10, 20, 30, 45, 15])\n",
    "my_num2 = np.array([2, 3, 4, 2, 2])\n",
    "my_sum = np.add(my_num1, my_num2)\n",
    "\n",
    "print(\"my_num1 + my_num2  =\", my_num1 + my_num2)\n",
    "print(\"my_num1 - my_num2  =\", my_num1 - my_num2)\n",
    "print(\"my_num1 * my_num2  =\", my_num1 * my_num2)\n",
    "print(\"my_num1 / my_num2  =\", my_num1 / my_num2)\n",
    "print(\"my_num1 // my_num2  =\", my_num1 // my_num2) # Floor division e.g. 6//4 =1\n",
    "print(\"my_num1 % my_num2  =\", my_num1 % my_num2) # Modulus/remainder\n",
    "print(\"my_num1 ** my_num2 =\", my_num1 ** my_num2) # Exponential/Power\n"
   ]
  },
  {
   "cell_type": "code",
   "execution_count": 69,
   "metadata": {
    "colab": {
     "base_uri": "https://localhost:8080/"
    },
    "collapsed": true,
    "executionInfo": {
     "elapsed": 464,
     "status": "ok",
     "timestamp": 1692597718661,
     "user": {
      "displayName": "Shaannoor Mann",
      "userId": "02520257695567980696"
     },
     "user_tz": 300
    },
    "id": "aTb-ij7y4II2",
    "jupyter": {
     "outputs_hidden": true,
     "source_hidden": true
    },
    "outputId": "9fd48a20-9a7e-447d-97a4-aae890ec391d"
   },
   "outputs": [
    {
     "data": {
      "text/plain": [
       "array([12, 23, 34, 47, 17])"
      ]
     },
     "execution_count": 69,
     "metadata": {},
     "output_type": "execute_result"
    }
   ],
   "source": [
    "np.add(my_num1, my_num2) # equivalent to my_num1 + my_num2"
   ]
  },
  {
   "cell_type": "code",
   "execution_count": 70,
   "metadata": {
    "colab": {
     "base_uri": "https://localhost:8080/"
    },
    "collapsed": true,
    "executionInfo": {
     "elapsed": 4,
     "status": "ok",
     "timestamp": 1692597719749,
     "user": {
      "displayName": "Shaannoor Mann",
      "userId": "02520257695567980696"
     },
     "user_tz": 300
    },
    "id": "zTLbDZOe4SIo",
    "jupyter": {
     "outputs_hidden": true,
     "source_hidden": true
    },
    "outputId": "d2ecbdca-40e5-41f9-a6da-d3f94c431925"
   },
   "outputs": [
    {
     "data": {
      "text/plain": [
       "array([ True,  True,  True,  True,  True])"
      ]
     },
     "execution_count": 70,
     "metadata": {},
     "output_type": "execute_result"
    }
   ],
   "source": [
    "np.greater(my_num1, my_num2) # equivalent to my_num1 > my_num2"
   ]
  },
  {
   "cell_type": "code",
   "execution_count": 71,
   "metadata": {
    "colab": {
     "base_uri": "https://localhost:8080/"
    },
    "collapsed": true,
    "executionInfo": {
     "elapsed": 2,
     "status": "ok",
     "timestamp": 1692597722249,
     "user": {
      "displayName": "Shaannoor Mann",
      "userId": "02520257695567980696"
     },
     "user_tz": 300
    },
    "id": "NJ8KoUFO4oRr",
    "jupyter": {
     "outputs_hidden": true,
     "source_hidden": true
    },
    "outputId": "50bfc6b8-1837-46cf-c22d-ffb87509eb4f"
   },
   "outputs": [
    {
     "data": {
      "text/plain": [
       "array([10, 20, 30, 45, 15])"
      ]
     },
     "execution_count": 71,
     "metadata": {},
     "output_type": "execute_result"
    }
   ],
   "source": [
    "np.maximum(my_num1, my_num2)"
   ]
  },
  {
   "cell_type": "markdown",
   "metadata": {
    "id": "ck9YXzyK4uUo"
   },
   "source": [
    "## <font color = 'dodgerblue'>  **unary ufuncs**\n",
    "They are fast elementwise functions that apply to all the elements of a single array. For example, when we apply  square function to an array, the finction returns a new ndarray where all the elemnets are squared."
   ]
  },
  {
   "cell_type": "code",
   "execution_count": 72,
   "metadata": {
    "colab": {
     "base_uri": "https://localhost:8080/"
    },
    "collapsed": true,
    "executionInfo": {
     "elapsed": 3,
     "status": "ok",
     "timestamp": 1692597723617,
     "user": {
      "displayName": "Shaannoor Mann",
      "userId": "02520257695567980696"
     },
     "user_tz": 300
    },
    "id": "eabxCoqX87du",
    "jupyter": {
     "outputs_hidden": true,
     "source_hidden": true
    },
    "outputId": "eea2651e-b076-4a5b-f5ef-9c8208446be8"
   },
   "outputs": [
    {
     "name": "stdout",
     "output_type": "stream",
     "text": [
      "Original ndarray\n",
      "[[-3.26  2.99  0.85]\n",
      " [-4.52 -1.74  4.95]]\n",
      "\n",
      "absolute\n",
      " [[3.26 2.99 0.85]\n",
      " [4.52 1.74 4.95]]\n",
      "\n",
      "sqrt\n",
      " [[ nan 1.73 0.92]\n",
      " [ nan  nan 2.23]]\n",
      "\n",
      "log\n",
      "[[  nan  1.1  -0.16]\n",
      " [  nan   nan  1.6 ]]\n",
      "\n",
      "sign \n",
      "[[-1.  1.  1.]\n",
      " [-1. -1.  1.]]\n",
      "\n",
      "trignometric function cos \n",
      ":[[-0.99 -0.99  0.66]\n",
      " [-0.19 -0.16  0.24]]\n",
      "\n",
      "ceil\n",
      "[[-3.  3.  1.]\n",
      " [-4. -1.  5.]]\n"
     ]
    },
    {
     "name": "stderr",
     "output_type": "stream",
     "text": [
      "<ipython-input-72-d00f6f80b7fe>:5: RuntimeWarning: invalid value encountered in sqrt\n",
      "  print(f'\\nsqrt\\n {np.sqrt(my_num3)}')\n",
      "<ipython-input-72-d00f6f80b7fe>:6: RuntimeWarning: invalid value encountered in log\n",
      "  print(f'\\nlog\\n{np.log(my_num3)}')\n"
     ]
    }
   ],
   "source": [
    "np.random.seed(123)\n",
    "my_num3 = np.random.normal(0, 3, (2,3))\n",
    "print(\"Original ndarray\", my_num3, sep ='\\n')\n",
    "print(f'\\nabsolute\\n {np.abs(my_num3)}')\n",
    "print(f'\\nsqrt\\n {np.sqrt(my_num3)}')\n",
    "print(f'\\nlog\\n{np.log(my_num3)}')\n",
    "print(f'\\nsign \\n{np.sign(my_num3)}')\n",
    "print(f'\\ntrignometric function cos \\n:{np.cos(my_num3)}')\n",
    "print(f'\\nceil\\n{np.ceil(my_num3)}') # The ceil of the scalar x is the smallest integer i, such that i >= x."
   ]
  },
  {
   "cell_type": "markdown",
   "metadata": {
    "id": "GERQPhtREPfp"
   },
   "source": [
    "# <font color = 'dodgerblue'> **Broadcasting**\n",
    "The way NumPy handles arrays with different shapes while performing arithmetic operations is known as broadcasting. The smaller array is \"broadcast\" across the larger array, subject to specific conditions.\n",
    "\n",
    "* The following image describes how a 2 dimensional tensor will be added to a 1 dimensional tensor\n",
    "<img src=\"https://drive.google.com/uc?export=view&id=1QG2GO1owGpyXbcugJFVFGb4o_buV4s3j\" width=\"600\"/>"
   ]
  },
  {
   "cell_type": "markdown",
   "metadata": {
    "id": "AAZedm-F6VZJ"
   },
   "source": [
    "## <font color = 'dodgerblue'> **Rules of broadcasting**</font>\n",
    "1. If two arrays differ in their sizes (i.e they have different number of dimensions), the array with the smaller dimension can be appended with '1' to the left in its shape. In other words, the array is transformed to a two-dimensional array.\n",
    "2. Again if the shape of the array does not match, then the transformed array (which has shape equal to 1) will be stretched out to match the shape of the array of higher dimension.\n",
    "We can check the above figure for this.\n",
    "2. When operating on two arrays, NumPy compares their shapes\n",
    " element-wise. It starts with the trailing dimensions and works its way forward. Two dimensions are compatible when\n",
    "\n",
    "   * They are equal, or\n",
    "\n",
    "   * One of them is 1\n",
    "2. If any dimension of the arrays does not match and  neither is equal to 1, then we get an error.\n",
    "\n"
   ]
  },
  {
   "cell_type": "markdown",
   "metadata": {
    "id": "UkNwvqBXwCBW"
   },
   "source": [
    "### <font color = 'dodgerblue'> **Implementation of Broadcasting**"
   ]
  },
  {
   "cell_type": "code",
   "execution_count": 47,
   "metadata": {
    "colab": {
     "base_uri": "https://localhost:8080/"
    },
    "executionInfo": {
     "elapsed": 872,
     "status": "ok",
     "timestamp": 1692597732983,
     "user": {
      "displayName": "Shaannoor Mann",
      "userId": "02520257695567980696"
     },
     "user_tz": 300
    },
    "id": "hx_92rj3tAKv",
    "jupyter": {
     "outputs_hidden": true,
     "source_hidden": true
    },
    "outputId": "8b891a46-ab44-4854-cf2a-432387a689bb"
   },
   "outputs": [
    {
     "name": "stdout",
     "output_type": "stream",
     "text": [
      "Shape of array A is (3, 3)\n",
      "Shape of array B is (3,)\n"
     ]
    }
   ],
   "source": [
    "# Consider 2 matrices A and B\n",
    "A = np.array([[12,16,14],[13,17,13],[14,18,12]])\n",
    "B = np.array([1,2,3])\n",
    "\n",
    "# Checking the shape of both matrices\n",
    "print(f\"Shape of array A is {A.shape}\")\n",
    "print(f\"Shape of array B is {B.shape}\")"
   ]
  },
  {
   "cell_type": "markdown",
   "metadata": {
    "id": "5sCE2mqgwXfe"
   },
   "source": [
    "B has one dimension and A has two dimensions. Numpy will first prepend 1 to the dimension of A so that it also has same number of dimensions."
   ]
  },
  {
   "cell_type": "code",
   "execution_count": 48,
   "metadata": {
    "colab": {
     "base_uri": "https://localhost:8080/"
    },
    "executionInfo": {
     "elapsed": 463,
     "status": "ok",
     "timestamp": 1692597735678,
     "user": {
      "displayName": "Shaannoor Mann",
      "userId": "02520257695567980696"
     },
     "user_tz": 300
    },
    "id": "DMRE-IQ7uGW2",
    "jupyter": {
     "outputs_hidden": true,
     "source_hidden": true
    },
    "outputId": "2ef2b9d2-dac1-423a-de9b-c3fbdec86e8e"
   },
   "outputs": [
    {
     "name": "stdout",
     "output_type": "stream",
     "text": [
      "Shape of matrix B is (1, 3)\n"
     ]
    },
    {
     "data": {
      "text/plain": [
       "array([[1, 2, 3]])"
      ]
     },
     "execution_count": 48,
     "metadata": {},
     "output_type": "execute_result"
    }
   ],
   "source": [
    "# Reshaping matrix B to 2 dimensional array\n",
    "B_new = B.reshape(1,-1)\n",
    "print(f\"Shape of matrix B is {B_new.shape}\")\n",
    "B_new"
   ]
  },
  {
   "cell_type": "markdown",
   "metadata": {
    "id": "NquArydtxD2g"
   },
   "source": [
    "After reshaping, the shape of B still dosen't match to A. Now it will stretch the tensor with smaller dimension so that it has the same shape as the tensor with higher dimensions."
   ]
  },
  {
   "cell_type": "code",
   "execution_count": 49,
   "metadata": {
    "colab": {
     "base_uri": "https://localhost:8080/"
    },
    "executionInfo": {
     "elapsed": 3,
     "status": "ok",
     "timestamp": 1692597737940,
     "user": {
      "displayName": "Shaannoor Mann",
      "userId": "02520257695567980696"
     },
     "user_tz": 300
    },
    "id": "eicXVxGJvIeB",
    "jupyter": {
     "outputs_hidden": true,
     "source_hidden": true
    },
    "outputId": "2f042e18-6ef0-4e7e-9ad8-21175fc57456"
   },
   "outputs": [
    {
     "name": "stdout",
     "output_type": "stream",
     "text": [
      "Shape of stretched matrix B is (3, 3)\n"
     ]
    },
    {
     "data": {
      "text/plain": [
       "array([[1, 2, 3],\n",
       "       [1, 2, 3],\n",
       "       [1, 2, 3]])"
      ]
     },
     "execution_count": 49,
     "metadata": {},
     "output_type": "execute_result"
    }
   ],
   "source": [
    "# Stretching matrix B along the rows\n",
    "B_stretched = B_new.repeat(3, axis=0)\n",
    "print(f\"Shape of stretched matrix B is {B_stretched.shape}\")\n",
    "B_stretched"
   ]
  },
  {
   "cell_type": "markdown",
   "metadata": {
    "id": "2nVWTEfqxxfj"
   },
   "source": [
    "Finally, after stretching matrix B thrice along the rows, the shape becomes equal to that of matrix A. Let's add both the matrices and check the result:"
   ]
  },
  {
   "cell_type": "code",
   "execution_count": 50,
   "metadata": {
    "colab": {
     "base_uri": "https://localhost:8080/"
    },
    "executionInfo": {
     "elapsed": 2,
     "status": "ok",
     "timestamp": 1692597741829,
     "user": {
      "displayName": "Shaannoor Mann",
      "userId": "02520257695567980696"
     },
     "user_tz": 300
    },
    "id": "ieAjyokpvgoK",
    "jupyter": {
     "outputs_hidden": true,
     "source_hidden": true
    },
    "outputId": "9f07ea93-3263-49b1-9a3d-029aa44290a2"
   },
   "outputs": [
    {
     "data": {
      "text/plain": [
       "array([[13, 18, 17],\n",
       "       [14, 19, 16],\n",
       "       [15, 20, 15]])"
      ]
     },
     "execution_count": 50,
     "metadata": {},
     "output_type": "execute_result"
    }
   ],
   "source": [
    "np.add(A,B_stretched)"
   ]
  },
  {
   "cell_type": "markdown",
   "metadata": {
    "id": "PrcmX_XxyICX"
   },
   "source": [
    "Comparing the result of addition of matrix A and stretched matrix B with original matrices A and B:"
   ]
  },
  {
   "cell_type": "code",
   "execution_count": 51,
   "metadata": {
    "colab": {
     "base_uri": "https://localhost:8080/"
    },
    "executionInfo": {
     "elapsed": 1,
     "status": "ok",
     "timestamp": 1692597742177,
     "user": {
      "displayName": "Shaannoor Mann",
      "userId": "02520257695567980696"
     },
     "user_tz": 300
    },
    "id": "JDZl6IeyvqRG",
    "jupyter": {
     "outputs_hidden": true,
     "source_hidden": true
    },
    "outputId": "8c635cf8-50c3-4c82-b9ca-f1d6ce9e7214"
   },
   "outputs": [
    {
     "data": {
      "text/plain": [
       "array([[13, 18, 17],\n",
       "       [14, 19, 16],\n",
       "       [15, 20, 15]])"
      ]
     },
     "execution_count": 51,
     "metadata": {},
     "output_type": "execute_result"
    }
   ],
   "source": [
    "np.add(A,B)"
   ]
  },
  {
   "cell_type": "markdown",
   "metadata": {
    "id": "AfV37ExGyWxY"
   },
   "source": [
    "We can see that both the results match. This example shows what numpy does under the hood to do mathematical operations on arrays of different shapes. So broadcasting is an efficient way of performing operations on arrays of unequal sizes"
   ]
  },
  {
   "cell_type": "markdown",
   "metadata": {
    "id": "FF-UV_WezBlN"
   },
   "source": [
    "### <font color = 'dodgerblue'> **Broadcasting Examples**"
   ]
  },
  {
   "cell_type": "markdown",
   "metadata": {
    "id": "MdN46fETzpJF"
   },
   "source": [
    "Consider the following example :\n",
    "\n",
    " $$A=\\begin{bmatrix} 1 & 2 & 4 \\\\ 4 & 1 & 3\\end{bmatrix}$$\n",
    "\n",
    " $$B=\\begin{bmatrix} 1 & 2 & 4 \\end{bmatrix}$$\n",
    "\n",
    "*  We can observe that shape of A is(2, 3) and shape of B is (3, ) [if there is a single row, we can mention the shape by using number of columns separated by a comma(,)]\n",
    "* Here B is an array with fewer dimensions.\n",
    "* By rule 1, Numpy will first prepend 1 to the dimension of B so that it also has same number of dimensions.:\n",
    "     \n",
    "    So, B shape is (1, 3)\n",
    "* Now, let's check the shape again :\n",
    "   \n",
    "     A = (2, 3) and B = (1, 3)\n",
    "* We can see that all the corresponding dimensions of two arrays are either of the same size or one of the dimension is 1. Hence the arrays are broadcastable and we can do mathamatical opeartions on these arrays."
   ]
  },
  {
   "cell_type": "code",
   "execution_count": 78,
   "metadata": {
    "colab": {
     "base_uri": "https://localhost:8080/"
    },
    "collapsed": true,
    "executionInfo": {
     "elapsed": 541,
     "status": "ok",
     "timestamp": 1692597747016,
     "user": {
      "displayName": "Shaannoor Mann",
      "userId": "02520257695567980696"
     },
     "user_tz": 300
    },
    "id": "5XpDVWNFZk39",
    "jupyter": {
     "outputs_hidden": true,
     "source_hidden": true
    },
    "outputId": "a1490a88-3f53-4147-941e-39fd98d7f829"
   },
   "outputs": [
    {
     "name": "stdout",
     "output_type": "stream",
     "text": [
      "shape of A is (2, 3)\n",
      "shape of B is (3,)\n"
     ]
    }
   ],
   "source": [
    "A = np.array([[1, 2, 4], [4, 1, 3]])\n",
    "B = np.array([1, 2, 4])\n",
    "print(f'shape of A is {A.shape}')\n",
    "print(f'shape of B is {B.shape}')"
   ]
  },
  {
   "cell_type": "code",
   "execution_count": 79,
   "metadata": {
    "colab": {
     "base_uri": "https://localhost:8080/"
    },
    "collapsed": true,
    "executionInfo": {
     "elapsed": 98,
     "status": "ok",
     "timestamp": 1692597748248,
     "user": {
      "displayName": "Shaannoor Mann",
      "userId": "02520257695567980696"
     },
     "user_tz": 300
    },
    "id": "Bo5Xb3TirejK",
    "jupyter": {
     "outputs_hidden": true,
     "source_hidden": true
    },
    "outputId": "2b4d0923-238b-4678-ff7d-45d100e41ad7"
   },
   "outputs": [
    {
     "data": {
      "text/plain": [
       "array([[ 1,  4, 16],\n",
       "       [ 4,  2, 12]])"
      ]
     },
     "execution_count": 79,
     "metadata": {},
     "output_type": "execute_result"
    }
   ],
   "source": [
    "# we can check that the arrays are broadcastable by doing arithmatic operations\n",
    "A * B"
   ]
  },
  {
   "cell_type": "markdown",
   "metadata": {
    "id": "MK3eQ5bscfZz"
   },
   "source": [
    "QUIZ: Consider following two arrays:\n",
    "- arr1 = np.arange(4).reshape((4,1))\n",
    "- arr2 = np.arange(3)\n",
    "\n",
    "1. Can we take the product of these two arrays?\n",
    "2.  What is the shape of the final array?"
   ]
  },
  {
   "cell_type": "code",
   "execution_count": 52,
   "metadata": {
    "colab": {
     "base_uri": "https://localhost:8080/"
    },
    "executionInfo": {
     "elapsed": 1211,
     "status": "ok",
     "timestamp": 1692597753142,
     "user": {
      "displayName": "Shaannoor Mann",
      "userId": "02520257695567980696"
     },
     "user_tz": 300
    },
    "id": "pzCfKLbJKth7",
    "jupyter": {
     "outputs_hidden": true,
     "source_hidden": true
    },
    "outputId": "44416391-4e80-4e84-914b-a54c236e5230"
   },
   "outputs": [
    {
     "name": "stdout",
     "output_type": "stream",
     "text": [
      "array 1 is :\n",
      " [[0]\n",
      " [1]\n",
      " [2]\n",
      " [3]]\n",
      "array 2 is : \n",
      " [0 1 2]\n",
      "The shape of array 1 is :\n",
      " (4, 1)\n",
      "The shape of array 2 is :\n",
      " (3,)\n"
     ]
    }
   ],
   "source": [
    "# Create arrays\n",
    "arr1 = np.arange(4).reshape((4,1))\n",
    "arr2 = np.arange(3)\n",
    "print(f\"array 1 is :\\n {arr1}\")\n",
    "print(f\"array 2 is : \\n {arr2}\")\n",
    "\n",
    "#check the shape of the arrays\n",
    "print(f\"The shape of array 1 is :\\n {arr1.shape}\")\n",
    "print(f\"The shape of array 2 is :\\n {arr2.shape}\")\n"
   ]
  },
  {
   "cell_type": "code",
   "execution_count": 53,
   "metadata": {
    "colab": {
     "base_uri": "https://localhost:8080/"
    },
    "executionInfo": {
     "elapsed": 335,
     "status": "ok",
     "timestamp": 1692597753964,
     "user": {
      "displayName": "Shaannoor Mann",
      "userId": "02520257695567980696"
     },
     "user_tz": 300
    },
    "id": "aZJppKHL6GUY",
    "jupyter": {
     "outputs_hidden": true,
     "source_hidden": true
    },
    "outputId": "675ef29d-5f81-4aa8-c653-6bfcf6a670be"
   },
   "outputs": [
    {
     "name": "stdout",
     "output_type": "stream",
     "text": [
      "The product of the arrays is :\n",
      " [[0 0 0]\n",
      " [0 1 2]\n",
      " [0 2 4]\n",
      " [0 3 6]]\n",
      "The shape of the new array prod is : (4, 3)\n"
     ]
    }
   ],
   "source": [
    "# array2 has fewer number of dimensions\n",
    "# We can prepend 1 on the left side , the hsape of array 2 will ne (1, 3)\n",
    "# If we compare the arrays, we can see that they follow broadcasting rules.\n",
    "# Hence we can take product.\n",
    "\n",
    "prod= np.multiply(arr1,arr2)\n",
    "print(f\"The product of the arrays is :\\n {prod}\")\n",
    "\n",
    "# The shape of the new array will be (4,3)\n",
    "print(f\"The shape of the new array prod is : {prod.shape}\")"
   ]
  },
  {
   "cell_type": "markdown",
   "metadata": {
    "id": "Af2iZBN_6PoH"
   },
   "source": [
    "<font color = 'red'> **In summary:** </font> <font color = 'aqua'> Two arrays are “broadcastable” if the following rules hold:\n",
    "\n",
    "When iterating over the dimension sizes, starting at the trailing dimension, the dimension sizes must either be equal or one of them should be 1.\n",
    "Else, they are not broadcastable.</font>"
   ]
  },
  {
   "cell_type": "markdown",
   "metadata": {
    "id": "T8ncWoKNYvwF"
   },
   "source": [
    "# <font color = 'dodgerblue'> **Aggregate functions**\n",
    "\n",
    "* These are ndarray methods that compute the aggregate value (like mean, min, sum, product, variance, any, all) of all the elements of ndarray or aggregate value along a particulat axis (for example for 2 d- dimensional ndarrays we can compute the mean along rows or columns).\n",
    "\n",
    "\n",
    "\n"
   ]
  },
  {
   "cell_type": "markdown",
   "metadata": {
    "id": "HigQqNALBzDT"
   },
   "source": [
    "## <font color = 'dodgerblue'> **aggregate all values**"
   ]
  },
  {
   "cell_type": "code",
   "execution_count": 54,
   "metadata": {
    "colab": {
     "base_uri": "https://localhost:8080/"
    },
    "executionInfo": {
     "elapsed": 476,
     "status": "ok",
     "timestamp": 1692597757857,
     "user": {
      "displayName": "Shaannoor Mann",
      "userId": "02520257695567980696"
     },
     "user_tz": 300
    },
    "id": "fjfNCwSj1bOr",
    "jupyter": {
     "outputs_hidden": true,
     "source_hidden": true
    },
    "outputId": "12943128-b0b1-49b8-e01e-330fe82898b6"
   },
   "outputs": [
    {
     "name": "stdout",
     "output_type": "stream",
     "text": [
      "original array :\n",
      "  [[-1  2  7]\n",
      " [15 36 48]] \n",
      "\n",
      "the sum of all elements of the arrays is : 107\n",
      "the product of all elements of  arrays is : -362880\n",
      "The minimum number in the array is : -1\n",
      "the variance of the array is : 328.47222222222223\n",
      "check if any value of array is greater than 0: True\n",
      "check if all the values of array are greater than 0: False\n"
     ]
    }
   ],
   "source": [
    "array1 = np.array([[-1, 2, 7], [15, 36, 48]])\n",
    "print('original array :\\n ', array1, '\\n')\n",
    "print(f\"the sum of all elements of the arrays is : {np.sum(array1)}\")\n",
    "print(f\"the product of all elements of  arrays is : {np.product(array1)}\")\n",
    "print(f\"The minimum number in the array is : {np.min(array1)}\")\n",
    "print(f\"the variance of the array is : {np.var(array1)}\")\n",
    "print(f\"check if any value of array is greater than 0: {np.any(array1>0)}\")\n",
    "print(f\"check if all the values of array are greater than 0: {np.all(array1>0)}\")"
   ]
  },
  {
   "cell_type": "markdown",
   "metadata": {
    "id": "BCjOyk3oB9O5"
   },
   "source": [
    "## <font color = 'dodgerblue'> **aggregate along a dimension**"
   ]
  },
  {
   "cell_type": "code",
   "execution_count": 55,
   "metadata": {
    "colab": {
     "base_uri": "https://localhost:8080/"
    },
    "executionInfo": {
     "elapsed": 419,
     "status": "ok",
     "timestamp": 1692597775834,
     "user": {
      "displayName": "Shaannoor Mann",
      "userId": "02520257695567980696"
     },
     "user_tz": 300
    },
    "id": "wjWKbmUEXbTB",
    "jupyter": {
     "outputs_hidden": true,
     "source_hidden": true
    },
    "outputId": "e925b63c-b7b1-4f4a-b798-fa3e7ca136fc"
   },
   "outputs": [
    {
     "name": "stdout",
     "output_type": "stream",
     "text": [
      "column sum for each row: [ 8 99]\n",
      "Shape of the original array is (2, 3)\n",
      "the shape of array after summation : (2,)\n"
     ]
    }
   ],
   "source": [
    "# For multidimensional array, we can aggrgate along a specific dimension as well\n",
    "\n",
    "column_sum = np.sum(array1, axis = 1) # column sum for each row\n",
    "print(f\"column sum for each row: {column_sum}\")\n",
    "print(f'Shape of the original array is {array1.shape}')\n",
    "print(f\"the shape of array after summation : {column_sum.shape}\")"
   ]
  },
  {
   "cell_type": "markdown",
   "metadata": {
    "id": "lroqh84enDkU"
   },
   "source": [
    "Let us say we want to divide all the elements of a row with the column sum for that row. The shape of original array (2, 3) and the column sum (2,) are not compatible (we cannot bradcast these two arrays). If we try this operation it will give us an error."
   ]
  },
  {
   "cell_type": "code",
   "execution_count": 85,
   "metadata": {
    "colab": {
     "base_uri": "https://localhost:8080/",
     "height": 176
    },
    "executionInfo": {
     "elapsed": 600,
     "status": "error",
     "timestamp": 1692597779108,
     "user": {
      "displayName": "Shaannoor Mann",
      "userId": "02520257695567980696"
     },
     "user_tz": 300
    },
    "id": "IuVdTuLarRBC",
    "jupyter": {
     "outputs_hidden": true,
     "source_hidden": true
    },
    "outputId": "520ab443-86bf-419e-a87a-9fa9f0bb6580"
   },
   "outputs": [
    {
     "ename": "ValueError",
     "evalue": "ignored",
     "output_type": "error",
     "traceback": [
      "\u001b[0;31m---------------------------------------------------------------------------\u001b[0m",
      "\u001b[0;31mValueError\u001b[0m                                Traceback (most recent call last)",
      "\u001b[0;32m<ipython-input-85-d7069708d7b4>\u001b[0m in \u001b[0;36m<cell line: 1>\u001b[0;34m()\u001b[0m\n\u001b[0;32m----> 1\u001b[0;31m \u001b[0mnormalized_array1\u001b[0m\u001b[0;34m=\u001b[0m \u001b[0marray1\u001b[0m\u001b[0;34m/\u001b[0m\u001b[0mcolumn_sum\u001b[0m\u001b[0;34m\u001b[0m\u001b[0;34m\u001b[0m\u001b[0m\n\u001b[0m",
      "\u001b[0;31mValueError\u001b[0m: operands could not be broadcast together with shapes (2,3) (2,) "
     ]
    }
   ],
   "source": [
    "normalized_array1= array1/column_sum"
   ]
  },
  {
   "cell_type": "markdown",
   "metadata": {
    "id": "kNuSt9pIZn0V"
   },
   "source": [
    "## <font color = 'dodgerblue'> **keepdims**"
   ]
  },
  {
   "cell_type": "markdown",
   "metadata": {
    "id": "O3OT0UvQr0NA"
   },
   "source": [
    "In the above example the number of dimensions reduces after aggregation. If we want to keep the number of dimesnions same as as original array, we can pass the argument keepdims= True."
   ]
  },
  {
   "cell_type": "code",
   "execution_count": 86,
   "metadata": {
    "colab": {
     "base_uri": "https://localhost:8080/"
    },
    "collapsed": true,
    "executionInfo": {
     "elapsed": 465,
     "status": "ok",
     "timestamp": 1692597785972,
     "user": {
      "displayName": "Shaannoor Mann",
      "userId": "02520257695567980696"
     },
     "user_tz": 300
    },
    "id": "ANbIso2VYGWE",
    "jupyter": {
     "outputs_hidden": true,
     "source_hidden": true
    },
    "outputId": "351c7270-d064-41b5-80df-d8638798b2e7"
   },
   "outputs": [
    {
     "name": "stdout",
     "output_type": "stream",
     "text": [
      "column sum for each row:\n",
      " [[ 8]\n",
      " [99]]\n",
      "Shape of the original array is (2, 3)\n",
      "the shape of array after summation : (2, 1)\n"
     ]
    }
   ],
   "source": [
    "# keep number of dimensions same by passing keepdims = True\n",
    "column_sum = np.sum(array1, axis = 1, keepdims=True) # column sum for each row\n",
    "print(f\"column sum for each row:\\n {column_sum}\")\n",
    "print(f'Shape of the original array is {array1.shape}')\n",
    "print(f\"the shape of array after summation : {column_sum.shape}\")"
   ]
  },
  {
   "cell_type": "markdown",
   "metadata": {
    "id": "ZlfNNC29s50e"
   },
   "source": [
    "We can see that now the shapes of the original array and column sum are broadcastable."
   ]
  },
  {
   "cell_type": "code",
   "execution_count": 87,
   "metadata": {
    "colab": {
     "base_uri": "https://localhost:8080/"
    },
    "collapsed": true,
    "executionInfo": {
     "elapsed": 674,
     "status": "ok",
     "timestamp": 1692597791593,
     "user": {
      "displayName": "Shaannoor Mann",
      "userId": "02520257695567980696"
     },
     "user_tz": 300
    },
    "id": "i86p8aZ2tHxp",
    "jupyter": {
     "outputs_hidden": true,
     "source_hidden": true
    },
    "outputId": "bec23876-657a-42cd-83a7-84c015f5b641"
   },
   "outputs": [
    {
     "name": "stdout",
     "output_type": "stream",
     "text": [
      "column sum for each row: [[ 8]\n",
      " [99]]\n",
      "original array: [[-1  2  7]\n",
      " [15 36 48]]\n",
      "normalized array: [[-0.12  0.25  0.88]\n",
      " [ 0.15  0.36  0.48]]\n"
     ]
    }
   ],
   "source": [
    "normalized_array1 = array1/column_sum\n",
    "print(f'column sum for each row: {column_sum}')\n",
    "print(f'original array: {array1}')\n",
    "print(f'normalized array: {normalized_array1}')"
   ]
  },
  {
   "cell_type": "markdown",
   "metadata": {
    "id": "6ty9YhgdZ3Xu"
   },
   "source": [
    "# <font color = 'dodgerblue'> **Matrix - 2 Dimensional arrays**\n",
    "* A matrix is a rectangular arrays of numbers, symbols, or expressions, arranged in rows and columns.\n",
    "* A matrix with $m$ rows and $n$ columns is called $\n",
    "m * n$ (or) $m$ by  $n$ matrix. Where $m$ and $n$ are called dimensions.\n",
    "* The following matrix is an example of $m$ by $n$ matrix ($m$ rows and $n$ columns )\n",
    "\\begin{bmatrix}\n",
    "x_{1,1} & x_{1,2} & \\cdots & x_{1,n} \\\\ x_{2,1} & x_{2,2}&\\cdots& x_{2,n}  \\\\\\vdots & \\vdots & \\ddots & \\vdots \\\\ x_{m,1} & x_{m,2} &\\cdots& x_{m,n} \\end{bmatrix}"
   ]
  },
  {
   "cell_type": "markdown",
   "metadata": {
    "id": "i8CXhxYlnz2u"
   },
   "source": [
    "## <font color = 'dodgerblue'> **Matrix addition**\n",
    "* Suppose we have two matrices and they are\n",
    "\n",
    "$\\boldsymbol{A} = \\begin{bmatrix}\n",
    "1 & 2 & 3\\\\5 & 6 & 4\\\\4 & 4 & 7\\end{bmatrix}$\n",
    "$\\boldsymbol{B} = \\begin{bmatrix}\n",
    "5& 7& 3\\\\8& 9 & 10\\\\4& 3 & 9\\end{bmatrix}$\n",
    "* We can find the **sum of matrices** simply by adding the corresponding entries in matrices $A$ and $B$.\n",
    "\n",
    "  Therefore, $A+B =  \\begin{bmatrix}\n",
    "  1+5 & 2+7 & 3+3\\\\5+8 & 6+9 & 4+10\\\\4+4 & 4+3 & 7+9\\end{bmatrix}$\n",
    "    \n",
    "  $=\\begin{bmatrix}\n",
    "  6 & 9 & 6\\\\13 & 15 & 14\\\\8 & 7 & 16\\end{bmatrix}$\n",
    "\n",
    "* In numpy, we can use **add()** method to perform addition of matrices."
   ]
  },
  {
   "cell_type": "code",
   "execution_count": 88,
   "metadata": {
    "colab": {
     "base_uri": "https://localhost:8080/"
    },
    "collapsed": true,
    "executionInfo": {
     "elapsed": 448,
     "status": "ok",
     "timestamp": 1692597796573,
     "user": {
      "displayName": "Shaannoor Mann",
      "userId": "02520257695567980696"
     },
     "user_tz": 300
    },
    "id": "YGWlph942iba",
    "jupyter": {
     "outputs_hidden": true,
     "source_hidden": true
    },
    "outputId": "d42f5c6f-a49f-4c11-e447-de38745bd755"
   },
   "outputs": [
    {
     "name": "stdout",
     "output_type": "stream",
     "text": [
      "The addition of two matrices A+B  is \n",
      " [[ 6  9  6]\n",
      " [13 15 14]\n",
      " [ 8  7 16]]\n"
     ]
    }
   ],
   "source": [
    "# Addition of matrices by using add() method\n",
    "A = np.array([[1, 2, 3], [5, 6, 4],[4, 4, 7]])\n",
    "B = np.array([[5, 7, 3], [8, 9, 10],[4, 3, 9]])\n",
    "print(f\"The addition of two matrices A+B  is \\n {np.add(A,B)}\")"
   ]
  },
  {
   "cell_type": "markdown",
   "metadata": {
    "id": "AkLMM2hyXn1X"
   },
   "source": [
    "## <font color = 'dodgerblue'> **Matrix Subtraction**\n",
    "* We can find the **difference between matrices** simply by subtracting the corresponding entries in matrices $A$ and $B$.\n",
    "* Let's consider the above two matrices $A$ and $B$.\n",
    "Therefore, $A-B =  \\begin{bmatrix}\n",
    "1-5 & 2-7 & 3-3\\\\5-8 & 6-9 &4-10\\\\4-4 & 4-3 & 7-9\\end{bmatrix}$\n",
    "$\\ =\\begin{bmatrix}\n",
    "-4 & -5 &  0\\\\-3 &-3 & -6\\\\  0 &  1 & -2\\end{bmatrix}$\n",
    "\n",
    "\n",
    "* In numpy, we can use **subtract()** method to subtract two matrices."
   ]
  },
  {
   "cell_type": "code",
   "execution_count": 89,
   "metadata": {
    "colab": {
     "base_uri": "https://localhost:8080/"
    },
    "collapsed": true,
    "executionInfo": {
     "elapsed": 2,
     "status": "ok",
     "timestamp": 1692597798577,
     "user": {
      "displayName": "Shaannoor Mann",
      "userId": "02520257695567980696"
     },
     "user_tz": 300
    },
    "id": "TTNzRw-T5weg",
    "jupyter": {
     "outputs_hidden": true,
     "source_hidden": true
    },
    "outputId": "6360c304-d07a-4a6e-9915-5ce5ec8e7a25"
   },
   "outputs": [
    {
     "name": "stdout",
     "output_type": "stream",
     "text": [
      "The difference between two matrices A-B  is \n",
      " [[-4 -5  0]\n",
      " [-3 -3 -6]\n",
      " [ 0  1 -2]]\n"
     ]
    }
   ],
   "source": [
    "#finding the difference between the two matrices by using subtract() method.\n",
    "A = np.array([[1, 2, 3], [5, 6, 4],[4, 4, 7]])\n",
    "B = np.array([[5, 7, 3], [8, 9, 10],[4, 3, 9]])\n",
    "print(f\"The difference between two matrices A-B  is \\n {np.subtract(A,B)}\")"
   ]
  },
  {
   "cell_type": "markdown",
   "metadata": {
    "id": "NiaZ7ucioBK9"
   },
   "source": [
    "## <font color = 'dodgerblue'> **Hadamard product**\n",
    "* Hadamard product of two vectors is very similar to matrix addition, elements corresponding to same row and columns of given vectors/matrices are multiplied together to form a new vector/matrix.\n",
    "* It is named after French Mathematician, **Jacques Hadamard**.\n",
    "\n",
    "* **Example :** If we have two matrices A and B. The size of $A$ = (2, 2) and $B$ = (2, 2) then the hadamard product of $A$, $B$ denoted as\n",
    "$A \\circ B$  will be of size (2, 2).\n",
    "\n",
    "\n",
    "$\\boldsymbol{A} = \\begin{bmatrix}\n",
    "1& 2 & 3\\\\5&  6 & 4\\end{bmatrix}$\n",
    "$\\boldsymbol{B} = \\begin{bmatrix}\n",
    "5& 7& 3\\\\8& 9 & 10\\end{bmatrix}$\n",
    "\n",
    "$\\\\(A \\circ B)$ =\n",
    "$\\begin{bmatrix}1×5 & 2×7 & 3×3\\\\5×8 & 6×9 & 4×10\\end{bmatrix}$\n",
    "= $\\begin{bmatrix}5 & 14 & 9\\\\40 & 54 & 40\\end{bmatrix}$\n",
    "\n",
    "* In numpy, we can use **multiply()** method or **operator *** to find the hadamard product.\n",
    "\n",
    "\n",
    "\n"
   ]
  },
  {
   "cell_type": "code",
   "execution_count": 90,
   "metadata": {
    "colab": {
     "base_uri": "https://localhost:8080/"
    },
    "collapsed": true,
    "executionInfo": {
     "elapsed": 522,
     "status": "ok",
     "timestamp": 1692597800485,
     "user": {
      "displayName": "Shaannoor Mann",
      "userId": "02520257695567980696"
     },
     "user_tz": 300
    },
    "id": "SLBj0LpeFpe0",
    "jupyter": {
     "outputs_hidden": true,
     "source_hidden": true
    },
    "outputId": "810b4410-4caa-4879-937f-437ab686f777"
   },
   "outputs": [
    {
     "name": "stdout",
     "output_type": "stream",
     "text": [
      "the  the matrice A is given as \n",
      " [[1 2 3]\n",
      " [5 6 4]] \n",
      "\n",
      "the  the matrice B is given as \n",
      " [[ 5  7  3]\n",
      " [ 8  9 10]] \n",
      "\n",
      "the hadamard product for the above two matrices is given as \n",
      " [[ 5 14  9]\n",
      " [40 54 40]] \n",
      "\n",
      "the hadamard product for the above two matrices is given as \n",
      " [[ 5 14  9]\n",
      " [40 54 40]]\n"
     ]
    }
   ],
   "source": [
    "#Let's create the above example matrices using numpy\n",
    "A = np.array([[1, 2, 3],[5, 6, 4]])\n",
    "B = np.array([[5, 7, 3],[8, 9, 10]])\n",
    "print(f\"the  the matrice A is given as \\n {A} \\n\")\n",
    "print(f\"the  the matrice B is given as \\n {B} \\n\")\n",
    "#the hadamard product for the above two matrices is given as follows :\n",
    "# We can see the element wise product for the two matrices\n",
    "print(f\"the hadamard product for the above two matrices is given as \\n {np.multiply(A,B)} \\n\")\n",
    "print(f\"the hadamard product for the above two matrices is given as \\n {A*B}\")"
   ]
  },
  {
   "cell_type": "markdown",
   "metadata": {
    "id": "Tvmy8UPgpIVa"
   },
   "source": [
    "## <font color = 'dodgerblue'> **Trace of a matrix**\n",
    "* In linear algebra, the trace of a square matrix A, denoted by  **tr(A)**\n",
    "* It is defined to be the sum of elements on the main diagonal (from the upper left to the lower right) of A.\n",
    "* **Example** :- **trace of matrix A** is given below :-\n",
    "\n",
    "$\\bf{A} =\n",
    "  \\begin{pmatrix}\n",
    "    a_{11} & a_{12} & a_{13} \\\\\n",
    "    a_{21} & a_{22} & a_{23} \\\\\n",
    "    a_{31} & a_{32} & a_{33}\n",
    "  \\end{pmatrix}$\n",
    "  $= \\begin{pmatrix}\n",
    "    1 &  5 &  3 \\\\\n",
    "    11 &  10 &  7 \\\\\n",
    "     6 & 12 & -2\n",
    "  \\end{pmatrix}$\n",
    "\n",
    "  Then the trace of $A$ is given as :-\n",
    "\n",
    "  $\\operatorname{tr}({A}) = \\sum_{i=1}^{3} a_{ii} = a_{11} + a_{22} + a_{33} = 1 + 10 + (-2) = 9$\n",
    "\n",
    "* In numpy, we can find the trace of a matrix by using trace() method."
   ]
  },
  {
   "cell_type": "code",
   "execution_count": 91,
   "metadata": {
    "collapsed": true,
    "executionInfo": {
     "elapsed": 2,
     "status": "ok",
     "timestamp": 1692597802587,
     "user": {
      "displayName": "Shaannoor Mann",
      "userId": "02520257695567980696"
     },
     "user_tz": 300
    },
    "id": "X665b5s0HiNG",
    "jupyter": {
     "outputs_hidden": true,
     "source_hidden": true
    }
   },
   "outputs": [],
   "source": [
    "#matrix A\n",
    "A = np.array([[1, 5, 3],[11, 10, 7],[6, 12, -2]])"
   ]
  },
  {
   "cell_type": "code",
   "execution_count": 92,
   "metadata": {
    "colab": {
     "base_uri": "https://localhost:8080/"
    },
    "collapsed": true,
    "executionInfo": {
     "elapsed": 2,
     "status": "ok",
     "timestamp": 1692597803458,
     "user": {
      "displayName": "Shaannoor Mann",
      "userId": "02520257695567980696"
     },
     "user_tz": 300
    },
    "id": "sUut1lRskqw0",
    "jupyter": {
     "outputs_hidden": true,
     "source_hidden": true
    },
    "outputId": "e46d396e-50c1-45df-d519-142bf7b73cad"
   },
   "outputs": [
    {
     "name": "stdout",
     "output_type": "stream",
     "text": [
      "Trace of matrix: 9\n"
     ]
    }
   ],
   "source": [
    "# Trace of matrix\n",
    "print(f\"Trace of matrix: {np.trace(A)}\")"
   ]
  },
  {
   "cell_type": "markdown",
   "metadata": {
    "id": "FYMtpU3JpdQb"
   },
   "source": [
    "## <font color = 'dodgerblue'> **Transpose of a matrix**\n",
    "* In linear algebra, the transpose of a matrix is an operator which flips a matrix over its diagonal.\n",
    "* That is, it switches the row and column indices of the matrix $A$ by producing another matrix, it is often denoted by $A^T$.\n",
    "* **Example** - Let us take a matrix\n",
    "\n",
    "  $\\boldsymbol{A} = \\begin{bmatrix}\n",
    "  1& 2 \\\\5&  6 \\end{bmatrix}$\n",
    "\n",
    "  Then the transpose of A is given as follows :-\n",
    "\n",
    "  $\\boldsymbol{A^T} = \\begin{bmatrix}\n",
    "  1& 5 \\\\2&  6 \\end{bmatrix}$\n",
    "\n",
    "* In numpy, we can use **T** in order to transpose a matrix. Let's check an example of matrix transpose using numpy as follows :-"
   ]
  },
  {
   "cell_type": "code",
   "execution_count": 93,
   "metadata": {
    "colab": {
     "base_uri": "https://localhost:8080/"
    },
    "collapsed": true,
    "executionInfo": {
     "elapsed": 1105,
     "status": "ok",
     "timestamp": 1692597807068,
     "user": {
      "displayName": "Shaannoor Mann",
      "userId": "02520257695567980696"
     },
     "user_tz": 300
    },
    "id": "Mwb0tfRz7nO3",
    "jupyter": {
     "outputs_hidden": true,
     "source_hidden": true
    },
    "outputId": "11f52e0f-9797-4956-aeae-fd5a563afda6"
   },
   "outputs": [
    {
     "name": "stdout",
     "output_type": "stream",
     "text": [
      "the matrix A is given as \n",
      " [[1 2]\n",
      " [5 6]]\n"
     ]
    }
   ],
   "source": [
    "# Using transpose of a matrix by using T in numpy\n",
    "A = np.array([[1, 2],[5, 6]])\n",
    "print(f\"the matrix A is given as \\n {A}\")"
   ]
  },
  {
   "cell_type": "code",
   "execution_count": 94,
   "metadata": {
    "colab": {
     "base_uri": "https://localhost:8080/"
    },
    "collapsed": true,
    "executionInfo": {
     "elapsed": 4,
     "status": "ok",
     "timestamp": 1692597807068,
     "user": {
      "displayName": "Shaannoor Mann",
      "userId": "02520257695567980696"
     },
     "user_tz": 300
    },
    "id": "UTqoTWo7dWbX",
    "jupyter": {
     "outputs_hidden": true,
     "source_hidden": true
    },
    "outputId": "f2de7461-681e-4a55-b0f7-12a6d355fc85"
   },
   "outputs": [
    {
     "name": "stdout",
     "output_type": "stream",
     "text": [
      "transpose of matrix A is \n",
      "[[1 5]\n",
      " [2 6]]\n"
     ]
    }
   ],
   "source": [
    "# We can check the tranpose of the matrix A\n",
    "print(f\"transpose of matrix A is \\n{A.T}\")"
   ]
  },
  {
   "cell_type": "markdown",
   "metadata": {
    "id": "G0lN2EWJZW9c"
   },
   "source": [
    "## <font color = 'dodgerblue'> **Inner product or Dot product**\n",
    "Dot product of 2 vectors x and y, represented as `(x.T)(y)` is given by the summation of product of elements at the same position.\n",
    "\n",
    "If we have 2 vectors x: [1, 2, 3, 4] and y: [1, 1, 2, 1]\n",
    "\n",
    "(x.y) will be 1x1 + 2x1 + 3x2 + 4x1 = 13"
   ]
  },
  {
   "cell_type": "markdown",
   "metadata": {
    "id": "LeMZeJG7blYI"
   },
   "source": [
    "To find the inner product of the vectors, we can use the dot() method of NumPy."
   ]
  },
  {
   "cell_type": "code",
   "execution_count": 95,
   "metadata": {
    "colab": {
     "base_uri": "https://localhost:8080/"
    },
    "collapsed": true,
    "executionInfo": {
     "elapsed": 2,
     "status": "ok",
     "timestamp": 1692597808411,
     "user": {
      "displayName": "Shaannoor Mann",
      "userId": "02520257695567980696"
     },
     "user_tz": 300
    },
    "id": "JiJ4FggRdv_P",
    "jupyter": {
     "outputs_hidden": true,
     "source_hidden": true
    },
    "outputId": "8348ba55-ed3f-46d2-f1ab-8d70f6554b67"
   },
   "outputs": [
    {
     "data": {
      "text/plain": [
       "2445"
      ]
     },
     "execution_count": 95,
     "metadata": {},
     "output_type": "execute_result"
    }
   ],
   "source": [
    "# Inner product of vectors\n",
    "import numpy as np\n",
    "my_arr = np.array([12, 45, 32, 1, 2, 4])\n",
    "my_arr1 = np.array([15, 26, 31, 45, 21, 4])\n",
    "# if arrays are of the same length then inner product will be a scalar\n",
    "np.dot(my_arr,my_arr1)"
   ]
  },
  {
   "cell_type": "markdown",
   "metadata": {
    "id": "yw4n1k6fZMP-"
   },
   "source": [
    "## <font color = 'dodgerblue'> **Matrix multiplication**</font>\n",
    "Matrix multiplication is a binary operation on 2 matrices which gives us a matrix which is the product of the 2 matrices.\n",
    "\n",
    "If we are given 2 matrices $A$ of shape $(m * n)$ and $B$ of shape $(q * p)$, we can perform matrix multiplication only when $n = q$ and the resultant product matrix will have shape $(m * p)$.\n",
    "\n",
    "Suppose we are given 2 matrices $A (m * n)$ and $B (n * p)$:\n",
    "\n",
    "$$\\mathbf{A}=\\begin{bmatrix}\n",
    " a_{11} & a_{12} & \\cdots & a_{1n} \\\\\n",
    " a_{21} & a_{22} & \\cdots & a_{2n} \\\\\n",
    "\\vdots & \\vdots & \\ddots & \\vdots \\\\\n",
    " a_{m1} & a_{m2} & \\cdots & a_{mn} \\\\\n",
    "\\end{bmatrix},\\quad\n",
    "\\mathbf{B}=\\begin{bmatrix}\n",
    " b_{11} & b_{12} & \\cdots & b_{1p} \\\\\n",
    " b_{21} & b_{22} & \\cdots & b_{2p} \\\\\n",
    "\\vdots & \\vdots & \\ddots & \\vdots \\\\\n",
    " b_{n1} & b_{n2} & \\cdots & b_{np} \\\\\n",
    "\\end{bmatrix}$$\n",
    "\n",
    "Then after performing matrix multiplication, the resultant matrix C = AB will be:\n",
    "\n",
    "$$\\mathbf{C}=\\begin{bmatrix}\n",
    " c_{11} & c_{12} & \\cdots & c_{1p} \\\\\n",
    " c_{21} & c_{22} & \\cdots & c_{2p} \\\\\n",
    "\\vdots & \\vdots & \\ddots & \\vdots \\\\\n",
    " c_{mp} & c_{mp} & \\cdots & c_{mp} \\\\\n",
    "\\end{bmatrix}$$\n",
    "\n",
    "Here, $c_{ij} = a_{i1}b_{1j} + a_{i2}b_{2j} + ... a_{in}b_{b_nj} = \\sum_{k = 1}^n a_{ik}b_{kj}$\n",
    "\n",
    "for, $i = 1,....m$ and $j = 1,...p$\n",
    "\n",
    "\n",
    "Thus, each element of C, $c_{ij}$ is obtained by dot product of $i^{th}$ row of $A$ and $j^{th}$ column of $B$.\n",
    "\n",
    "**Example** :\n",
    "  1. Let $A$ be a matrix of (4, 3) dimensions.\n",
    "  2. Let $B$ be another matrix of (3, 2) dimensions.\n",
    "  3. Let us denote denote the matrix multiplication of $A$ and $B$ with $C$.\n",
    "  5. Then the dimension of $C$ = (number of rows of $A$,number of columns of $B$)\n",
    "     \n",
    "    dimension of  $C$ = (4, 2)\n",
    "\n",
    "The figure given below will give a good example of matrix multplication :\n",
    "\n",
    "<img src = \"https://drive.google.com/uc?view=export&id=176DF50XdtwkqU5wvxtWuD75sRDHvSJBf\" width =\"250\"/>"
   ]
  },
  {
   "cell_type": "code",
   "execution_count": 96,
   "metadata": {
    "colab": {
     "base_uri": "https://localhost:8080/"
    },
    "collapsed": true,
    "executionInfo": {
     "elapsed": 3,
     "status": "ok",
     "timestamp": 1692597811249,
     "user": {
      "displayName": "Shaannoor Mann",
      "userId": "02520257695567980696"
     },
     "user_tz": 300
    },
    "id": "Zt4ZrE4c9jOq",
    "jupyter": {
     "outputs_hidden": true,
     "source_hidden": true
    },
    "outputId": "c88b4ec0-b9bc-4958-9ac3-1853857aefaf"
   },
   "outputs": [
    {
     "name": "stdout",
     "output_type": "stream",
     "text": [
      "The dimensions of the matrix x is : \n",
      "(2, 3)\n",
      "The dimensions of the matrix y is : \n",
      "(3, 3)\n"
     ]
    }
   ],
   "source": [
    "# let's consider two matrices of different shape\n",
    "x = np.array([[1,25,46],[28,45,76]])\n",
    "print(f\"The dimensions of the matrix x is : \\n{x.shape}\")\n",
    "\n",
    "y = np.array([[14,15,7],[12,36,48],[1,25,7]])\n",
    "print(f\"The dimensions of the matrix y is : \\n{y.shape}\")"
   ]
  },
  {
   "cell_type": "code",
   "execution_count": 97,
   "metadata": {
    "colab": {
     "base_uri": "https://localhost:8080/"
    },
    "collapsed": true,
    "executionInfo": {
     "elapsed": 426,
     "status": "ok",
     "timestamp": 1692597812790,
     "user": {
      "displayName": "Shaannoor Mann",
      "userId": "02520257695567980696"
     },
     "user_tz": 300
    },
    "id": "6IzFtR4hxu9x",
    "jupyter": {
     "outputs_hidden": true,
     "source_hidden": true
    },
    "outputId": "071d77f6-8974-4ffd-9768-c9b05c749e0b"
   },
   "outputs": [
    {
     "name": "stdout",
     "output_type": "stream",
     "text": [
      "The dimensions of the product matrix  is : \n",
      "(2, 3)\n"
     ]
    }
   ],
   "source": [
    "# Let's the check the rule of matrix multiplication\n",
    "# Since, the number of columns of x = number of rows of y\n",
    "# the shape of the product of both matrix is (number of rows of x, number of columns of y)\n",
    "# the matmul() method helps in multiplying matrices\n",
    "\n",
    "my_prod = np.matmul(x, y)\n",
    "print(f\"The dimensions of the product matrix  is : \\n{my_prod.shape}\")\n"
   ]
  },
  {
   "cell_type": "markdown",
   "metadata": {
    "id": "RWKO1RCVZZUC"
   },
   "source": [
    "## <font color = 'dodgerblue'> **Outer product**\n",
    "\n",
    "* If $H$ and $M$ are column vectors of any size, then $H M^T$ is the\n",
    "outer product of $H$ and $M$.\n",
    "* Example: $\\boldsymbol{H} = \\begin{bmatrix}\n",
    "1\\\\7\\\\5\\end{bmatrix}$\n",
    "$\\boldsymbol{M} = \\begin{bmatrix}\n",
    "2\\\\4\\\\ 9\\end{bmatrix}$\n",
    "\n",
    "  **H** and **M** are column vectors, each having 3 elements.\n",
    "\n",
    "  **H'** is the transpose of **H**, which makes **H'** a row vector,\n",
    "\n",
    "  **M'** is the transpose of **M**, which makes **M'** a row vector.\n",
    "\n",
    "\n",
    "* We can apply the matrix multiplication rule and check the required dimension.\n",
    "\n",
    "Now, the outer product of the matrix is defined as follows :-\n",
    "\n",
    "$HM' =  \\begin{bmatrix}\n",
    "1\\\\ 7\\\\ 5\\end{bmatrix} × \\begin{bmatrix}\n",
    "2\\ 4\\ 9\\end{bmatrix}$ = $\\begin{bmatrix}1×2 & 1×4 & 1×9 \\\\7×2 & 7×4 & 7×9\\\\5×2 & 5×4 & 5×9\\end{bmatrix}$\n",
    "= $\\begin{bmatrix}2 & 4 & 9 \\\\14 & 28 & 63\\\\10 & 20 & 45\\end{bmatrix}$\n",
    "\n"
   ]
  },
  {
   "cell_type": "markdown",
   "metadata": {
    "id": "7AiOUtI3cv8P"
   },
   "source": [
    "The outer product of the vectors and matrices can be found using the outer() method of NumPy.\n",
    "\n",
    "**Syntax**\n",
    "\n",
    "\n",
    "```\n",
    "numpy.outer(a, b, out = None)\n",
    "```\n",
    "where a, b are the vectors  or matrices.\n",
    "out = A location where the result is stored(optional argument)\n",
    "\n"
   ]
  },
  {
   "cell_type": "code",
   "execution_count": 98,
   "metadata": {
    "colab": {
     "base_uri": "https://localhost:8080/"
    },
    "collapsed": true,
    "executionInfo": {
     "elapsed": 417,
     "status": "ok",
     "timestamp": 1692597825155,
     "user": {
      "displayName": "Shaannoor Mann",
      "userId": "02520257695567980696"
     },
     "user_tz": 300
    },
    "id": "wgvaSjlncuFC",
    "jupyter": {
     "outputs_hidden": true,
     "source_hidden": true
    },
    "outputId": "cf3d3b31-bdc7-4351-ff35-f10632ce5063"
   },
   "outputs": [
    {
     "data": {
      "text/plain": [
       "array([[ 2,  4,  9],\n",
       "       [14, 28, 63],\n",
       "       [10, 20, 45]])"
      ]
     },
     "execution_count": 98,
     "metadata": {},
     "output_type": "execute_result"
    }
   ],
   "source": [
    "#let's consider above example\n",
    "#let a be a column matrix\n",
    "a = np.array([[1]\n",
    "              ,[7]\n",
    "              ,[5]])\n",
    "#b be a row matrix\n",
    "b = np.array([2, 4, 9])\n",
    "#the outer product of the matrices are\n",
    "np.outer(a,b, out =None)"
   ]
  },
  {
   "cell_type": "markdown",
   "metadata": {
    "id": "ARcbnRB4pNDX"
   },
   "source": [
    "## <font color = 'dodgerblue'> **Inverse of matrix**\n",
    "Wikipedia Definition (https://en.wikipedia.org/wiki/Invertible_matrix)<br><br>\n",
    "In linear algebra, an n-by-n square matrix $\\mathbf{A}$ is called invertible (also nonsingular or nondegenerate), if there exists an $n$ by $n$ square matrix $\\mathbf{B}$ such that\n",
    "\\begin{equation}\n",
    "  \\mathbf{A}\\mathbf{B} = \\mathbf{B}\\mathbf{A} = \\mathbf{I_n}\n",
    "\\end{equation}\n",
    "\n",
    "where $\\mathbf{I_n}$ denotes the n-by-n identity matrix and the multiplication used is ordinary matrix multiplication. If this is the case, then the matrix $\\mathbf{B}$ is uniquely determined by $\\mathbf{A}$, and is called the (multiplicative) inverse of $\\mathbf{A}$, denoted by $\\mathbf{A^{-1}}$"
   ]
  },
  {
   "cell_type": "code",
   "execution_count": 99,
   "metadata": {
    "collapsed": true,
    "executionInfo": {
     "elapsed": 102,
     "status": "ok",
     "timestamp": 1692597827611,
     "user": {
      "displayName": "Shaannoor Mann",
      "userId": "02520257695567980696"
     },
     "user_tz": 300
    },
    "id": "zilBM0e7iiPs",
    "jupyter": {
     "outputs_hidden": true,
     "source_hidden": true
    }
   },
   "outputs": [],
   "source": [
    "# Let's create an 1-D array\n",
    "\n",
    "my_mat = np.array([[1, 5, 4],\n",
    "             [2, 4, 8],\n",
    "             [4, 7, 2]\n",
    "             ])\n",
    "\n"
   ]
  },
  {
   "cell_type": "code",
   "execution_count": 100,
   "metadata": {
    "colab": {
     "base_uri": "https://localhost:8080/"
    },
    "collapsed": true,
    "executionInfo": {
     "elapsed": 3,
     "status": "ok",
     "timestamp": 1692597828993,
     "user": {
      "displayName": "Shaannoor Mann",
      "userId": "02520257695567980696"
     },
     "user_tz": 300
    },
    "id": "QbpEqV6ilsAX",
    "jupyter": {
     "outputs_hidden": true,
     "source_hidden": true
    },
    "outputId": "076dc11a-8106-4820-b1f9-4087afdd9e6b"
   },
   "outputs": [
    {
     "name": "stdout",
     "output_type": "stream",
     "text": [
      "Inverse of matrix : \n",
      " [[-5.71e-01  2.14e-01  2.86e-01]\n",
      " [ 3.33e-01 -1.67e-01  1.71e-17]\n",
      " [-2.38e-02  1.55e-01 -7.14e-02]]\n"
     ]
    }
   ],
   "source": [
    "# inverse of the matrix\n",
    "my_mat_inv = np.linalg.inv(my_mat)\n",
    "print(f\"Inverse of matrix : \\n {my_mat_inv}\")"
   ]
  },
  {
   "cell_type": "code",
   "execution_count": 101,
   "metadata": {
    "colab": {
     "base_uri": "https://localhost:8080/"
    },
    "collapsed": true,
    "executionInfo": {
     "elapsed": 2,
     "status": "ok",
     "timestamp": 1692597830456,
     "user": {
      "displayName": "Shaannoor Mann",
      "userId": "02520257695567980696"
     },
     "user_tz": 300
    },
    "id": "2TVpV_YLGEmY",
    "jupyter": {
     "outputs_hidden": true,
     "source_hidden": true
    },
    "outputId": "b08ced55-6951-474d-8ccd-a356b45d0614"
   },
   "outputs": [
    {
     "name": "stdout",
     "output_type": "stream",
     "text": [
      "[[ 1.00e+00  0.00e+00  0.00e+00]\n",
      " [-2.78e-17  1.00e+00 -1.11e-16]\n",
      " [-6.94e-18 -5.55e-17  1.00e+00]]\n"
     ]
    }
   ],
   "source": [
    "# let us check teh condition A A_inv = I\n",
    "print(np.matmul(my_mat, my_mat_inv))"
   ]
  },
  {
   "cell_type": "code",
   "execution_count": null,
   "metadata": {
    "id": "_GCCNOj8sT5u"
   },
   "outputs": [],
   "source": []
  }
 ],
 "metadata": {
  "colab": {
   "provenance": []
  },
  "kernelspec": {
   "display_name": "Python 3",
   "language": "python",
   "name": "python3"
  },
  "language_info": {
   "codemirror_mode": {
    "name": "ipython",
    "version": 3
   },
   "file_extension": ".py",
   "mimetype": "text/x-python",
   "name": "python",
   "nbconvert_exporter": "python",
   "pygments_lexer": "ipython3",
   "version": "3.7.3"
  }
 },
 "nbformat": 4,
 "nbformat_minor": 1
}
