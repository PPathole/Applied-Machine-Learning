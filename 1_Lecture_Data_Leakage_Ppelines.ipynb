{
 "cells": [
  {
   "cell_type": "markdown",
   "metadata": {
    "id": "_LHZe88YcY7N"
   },
   "source": [
    "# <font color = 'shade'>**Introduction**</font>\n",
    "<font color = 'indianred'>**In this lecture, we will learn what data leakage is, what problems can occur due to it, and how to resolve it**.</font>"
   ]
  },
  {
   "cell_type": "markdown",
   "metadata": {
    "id": "bb4kb2iHWA8J"
   },
   "source": [
    "# <font color = 'shade'>**Import Libraries**"
   ]
  },
  {
   "cell_type": "markdown",
   "metadata": {
    "id": "kBUT6800cVTV"
   },
   "source": [
    "First, we will all the required libraries that we will use across this lecture.\n",
    "\n",
    "It is always a good practice to import all the required libraries initially."
   ]
  },
  {
   "cell_type": "code",
   "execution_count": null,
   "metadata": {
    "id": "IdqdJx7WNaQe"
   },
   "outputs": [],
   "source": [
    "# Importing numpy for numerical operations like arrays and matrices\n",
    "import numpy as np\n",
    "\n",
    "# Importing textwrap to control the width of the text displayed, useful for formatting\n",
    "import textwrap as tw\n",
    "\n",
    "# Importing dataset generation and retrieval functions from sklearn\n",
    "from sklearn.datasets import load_diabetes, fetch_openml, make_classification\n",
    "\n",
    "# Importing pre-processing and data splitting utilities from sklearn\n",
    "from sklearn.model_selection import GridSearchCV, KFold, cross_val_score, train_test_split\n",
    "\n",
    "# Importing sklearn utilities for data transformation\n",
    "from sklearn.preprocessing import PolynomialFeatures, StandardScaler, MinMaxScaler, OneHotEncoder\n",
    "# SimpleImputer for handling missing values\n",
    "from sklearn.impute import SimpleImputer\n",
    "\n",
    "# Importing feature selection and pipeline utilities\n",
    "# SelectKBest for feature selection based on statistical tests\n",
    "from sklearn.feature_selection import SelectKBest\n",
    "# make_pipeline and Pipeline for creating pipelines\n",
    "from sklearn.pipeline import make_pipeline, Pipeline\n",
    "# make_column_transformer and ColumnTransformer for applying transformers to specific columns\n",
    "from sklearn.compose import make_column_transformer, ColumnTransformer\n",
    "\n",
    "# Importing metric for model evaluation\n",
    "from sklearn.metrics import accuracy_score\n",
    "\n",
    "# Importing machine learning models from sklearn\n",
    "# KNeighborsClassifier and KNeighborsRegressor for k-NN models\n",
    "from sklearn.neighbors import KNeighborsClassifier, KNeighborsRegressor\n",
    "# Ridge and Lasso for linear models with regularization\n",
    "from sklearn.linear_model import Ridge, Lasso\n",
    "# DecisionTreeRegressor and DecisionTreeClassifier for decision tree models\n",
    "from sklearn.tree import DecisionTreeRegressor, DecisionTreeClassifier\n"
   ]
  },
  {
   "cell_type": "markdown",
   "metadata": {
    "id": "jhFSQR0Xp_bq"
   },
   "source": [
    "# <font color = 'shade'>**Common Pitfalls**"
   ]
  },
  {
   "cell_type": "markdown",
   "metadata": {
    "id": "5-GFFYE-qH0e"
   },
   "source": [
    "## <font color = 'shade'>**Inconsistent Preprocessing**\n"
   ]
  },
  {
   "cell_type": "markdown",
   "metadata": {
    "id": "c8hgsQBEkeZy"
   },
   "source": [
    "* Inconsistent preprocessing can lead to issues in model performance and generalization.\n",
    "* For example, if the training data is scaled but the test data is not, the model may not perform as expected on the test set.\n",
    "* To resolve this, apply the same preprocessing steps and parameters to both the training and test datasets."
   ]
  },
  {
   "cell_type": "markdown",
   "metadata": {
    "id": "0ljhL7vuC4Wj"
   },
   "source": [
    "Sklearn's `make_classification()` function is a versatile utility for generating synthetic classification datasets. This is particularly useful for model exploration, testing, and debugging in machine learning workflows.\n",
    "\n",
    "Here are some of the key parameters:\n",
    "\n",
    "- `n_samples`: Specifies the total number of data points in the dataset.\n",
    "- `n_features`: Sets the total number of features to be generated for each data point.\n",
    "- `n_informative`: Determines the number of features that are actually informative — i.e., actually useful for predicting the target variable.\n",
    "- `n_redundant`: Controls the number of redundant features, which are linear combinations of the informative features.\n",
    "- `random_state`: An optional parameter that ensures reproducibility by setting the random state of the generator. Providing a specific integer will produce the same dataset each time the code is run.\n",
    "\n",
    "For a more comprehensive understanding, consult the [official documentation](https://scikit-learn.org/stable/modules/generated/sklearn.datasets.make_classification.html)."
   ]
  },
  {
   "cell_type": "code",
   "execution_count": null,
   "metadata": {
    "id": "VnkEqOZCFTiC"
   },
   "outputs": [],
   "source": [
    "# Creating 1000 features with 2 class labels using make_classification() that we have imported earlier.\n",
    "X12, y = make_classification(n_samples=1000, n_features=2, n_informative=2, n_redundant=0, random_state=7)"
   ]
  },
  {
   "cell_type": "code",
   "execution_count": null,
   "metadata": {
    "id": "k6Ur1LwGw8px"
   },
   "outputs": [],
   "source": [
    "# Creating standard normally distributed 1000 features.\n",
    "np.random.seed(0)\n",
    "X3 = 1000 * np.random.standard_normal((1000, 1))"
   ]
  },
  {
   "cell_type": "code",
   "execution_count": null,
   "metadata": {
    "id": "B1_mPmj6FY3B"
   },
   "outputs": [],
   "source": [
    "# Concatenating the feature\n",
    "X = np.concatenate((X12,X3), axis =1)"
   ]
  },
  {
   "cell_type": "markdown",
   "metadata": {
    "id": "Gti7GrpRlGqD"
   },
   "source": [
    "So, we have created our randomly generated dataset."
   ]
  },
  {
   "cell_type": "code",
   "execution_count": null,
   "metadata": {
    "colab": {
     "base_uri": "https://localhost:8080/"
    },
    "executionInfo": {
     "elapsed": 113,
     "status": "ok",
     "timestamp": 1693822461677,
     "user": {
      "displayName": "Shaannoor Mann",
      "userId": "02520257695567980696"
     },
     "user_tz": 300
    },
    "id": "QLeHPeCYJSUn",
    "outputId": "3471f881-ec0b-4e59-a382-344497a97690"
   },
   "outputs": [
    {
     "name": "stdout",
     "output_type": "stream",
     "text": [
      "0.04148292912185122 -0.000783387580940758 -45.25670749019538\n"
     ]
    }
   ],
   "source": [
    "print(X[:,0].mean(), X[:,1].mean(), X[:,2].mean())"
   ]
  },
  {
   "cell_type": "markdown",
   "metadata": {
    "id": "FDoGnAGxlSlo"
   },
   "source": [
    "Now, let's split our data into train and test set."
   ]
  },
  {
   "cell_type": "code",
   "execution_count": null,
   "metadata": {
    "id": "U4P-KQTQ_CiD"
   },
   "outputs": [],
   "source": [
    "# split the data into train/test split\n",
    "X_train, X_test, y_train, y_test = train_test_split( X, y, random_state=200, train_size = 0.3)"
   ]
  },
  {
   "cell_type": "markdown",
   "metadata": {
    "id": "UodWE6JcoAzm"
   },
   "source": [
    "Now, let's standardize our training data and train a simple KNN model.\n",
    "\n",
    "**Note:** StandardScaler() is used to standardize the data in such a way that it has a mean of 0 and a standard deviation of 1."
   ]
  },
  {
   "cell_type": "code",
   "execution_count": null,
   "metadata": {
    "id": "b1LSSxwLBSKK"
   },
   "outputs": [],
   "source": [
    "# Initializing StandardScaler that we have imported earlier.\n",
    "preprocessor = StandardScaler()"
   ]
  },
  {
   "cell_type": "code",
   "execution_count": null,
   "metadata": {
    "id": "CCLwM0bh_G5u"
   },
   "outputs": [],
   "source": [
    "# select top 10 features\n",
    "X_train = preprocessor.fit_transform(X_train)"
   ]
  },
  {
   "cell_type": "code",
   "execution_count": null,
   "metadata": {
    "colab": {
     "base_uri": "https://localhost:8080/",
     "height": 75
    },
    "executionInfo": {
     "elapsed": 110,
     "status": "ok",
     "timestamp": 1693822477641,
     "user": {
      "displayName": "Shaannoor Mann",
      "userId": "02520257695567980696"
     },
     "user_tz": 300
    },
    "id": "hr8qutnz_MXV",
    "outputId": "1da75f43-7a6e-474a-c651-1116fed90a9a"
   },
   "outputs": [
    {
     "data": {
      "text/html": [
       "<style>#sk-container-id-1 {color: black;background-color: white;}#sk-container-id-1 pre{padding: 0;}#sk-container-id-1 div.sk-toggleable {background-color: white;}#sk-container-id-1 label.sk-toggleable__label {cursor: pointer;display: block;width: 100%;margin-bottom: 0;padding: 0.3em;box-sizing: border-box;text-align: center;}#sk-container-id-1 label.sk-toggleable__label-arrow:before {content: \"▸\";float: left;margin-right: 0.25em;color: #696969;}#sk-container-id-1 label.sk-toggleable__label-arrow:hover:before {color: black;}#sk-container-id-1 div.sk-estimator:hover label.sk-toggleable__label-arrow:before {color: black;}#sk-container-id-1 div.sk-toggleable__content {max-height: 0;max-width: 0;overflow: hidden;text-align: left;background-color: #f0f8ff;}#sk-container-id-1 div.sk-toggleable__content pre {margin: 0.2em;color: black;border-radius: 0.25em;background-color: #f0f8ff;}#sk-container-id-1 input.sk-toggleable__control:checked~div.sk-toggleable__content {max-height: 200px;max-width: 100%;overflow: auto;}#sk-container-id-1 input.sk-toggleable__control:checked~label.sk-toggleable__label-arrow:before {content: \"▾\";}#sk-container-id-1 div.sk-estimator input.sk-toggleable__control:checked~label.sk-toggleable__label {background-color: #d4ebff;}#sk-container-id-1 div.sk-label input.sk-toggleable__control:checked~label.sk-toggleable__label {background-color: #d4ebff;}#sk-container-id-1 input.sk-hidden--visually {border: 0;clip: rect(1px 1px 1px 1px);clip: rect(1px, 1px, 1px, 1px);height: 1px;margin: -1px;overflow: hidden;padding: 0;position: absolute;width: 1px;}#sk-container-id-1 div.sk-estimator {font-family: monospace;background-color: #f0f8ff;border: 1px dotted black;border-radius: 0.25em;box-sizing: border-box;margin-bottom: 0.5em;}#sk-container-id-1 div.sk-estimator:hover {background-color: #d4ebff;}#sk-container-id-1 div.sk-parallel-item::after {content: \"\";width: 100%;border-bottom: 1px solid gray;flex-grow: 1;}#sk-container-id-1 div.sk-label:hover label.sk-toggleable__label {background-color: #d4ebff;}#sk-container-id-1 div.sk-serial::before {content: \"\";position: absolute;border-left: 1px solid gray;box-sizing: border-box;top: 0;bottom: 0;left: 50%;z-index: 0;}#sk-container-id-1 div.sk-serial {display: flex;flex-direction: column;align-items: center;background-color: white;padding-right: 0.2em;padding-left: 0.2em;position: relative;}#sk-container-id-1 div.sk-item {position: relative;z-index: 1;}#sk-container-id-1 div.sk-parallel {display: flex;align-items: stretch;justify-content: center;background-color: white;position: relative;}#sk-container-id-1 div.sk-item::before, #sk-container-id-1 div.sk-parallel-item::before {content: \"\";position: absolute;border-left: 1px solid gray;box-sizing: border-box;top: 0;bottom: 0;left: 50%;z-index: -1;}#sk-container-id-1 div.sk-parallel-item {display: flex;flex-direction: column;z-index: 1;position: relative;background-color: white;}#sk-container-id-1 div.sk-parallel-item:first-child::after {align-self: flex-end;width: 50%;}#sk-container-id-1 div.sk-parallel-item:last-child::after {align-self: flex-start;width: 50%;}#sk-container-id-1 div.sk-parallel-item:only-child::after {width: 0;}#sk-container-id-1 div.sk-dashed-wrapped {border: 1px dashed gray;margin: 0 0.4em 0.5em 0.4em;box-sizing: border-box;padding-bottom: 0.4em;background-color: white;}#sk-container-id-1 div.sk-label label {font-family: monospace;font-weight: bold;display: inline-block;line-height: 1.2em;}#sk-container-id-1 div.sk-label-container {text-align: center;}#sk-container-id-1 div.sk-container {/* jupyter's `normalize.less` sets `[hidden] { display: none; }` but bootstrap.min.css set `[hidden] { display: none !important; }` so we also need the `!important` here to be able to override the default hidden behavior on the sphinx rendered scikit-learn.org. See: https://github.com/scikit-learn/scikit-learn/issues/21755 */display: inline-block !important;position: relative;}#sk-container-id-1 div.sk-text-repr-fallback {display: none;}</style><div id=\"sk-container-id-1\" class=\"sk-top-container\"><div class=\"sk-text-repr-fallback\"><pre>KNeighborsClassifier()</pre><b>In a Jupyter environment, please rerun this cell to show the HTML representation or trust the notebook. <br />On GitHub, the HTML representation is unable to render, please try loading this page with nbviewer.org.</b></div><div class=\"sk-container\" hidden><div class=\"sk-item\"><div class=\"sk-estimator sk-toggleable\"><input class=\"sk-toggleable__control sk-hidden--visually\" id=\"sk-estimator-id-1\" type=\"checkbox\" checked><label for=\"sk-estimator-id-1\" class=\"sk-toggleable__label sk-toggleable__label-arrow\">KNeighborsClassifier</label><div class=\"sk-toggleable__content\"><pre>KNeighborsClassifier()</pre></div></div></div></div></div>"
      ],
      "text/plain": [
       "KNeighborsClassifier()"
      ]
     },
     "execution_count": 9,
     "metadata": {},
     "output_type": "execute_result"
    }
   ],
   "source": [
    "# Taining KNN classification model\n",
    "knn = KNeighborsClassifier()\n",
    "knn.fit(X_train, y_train)"
   ]
  },
  {
   "cell_type": "code",
   "execution_count": null,
   "metadata": {
    "colab": {
     "base_uri": "https://localhost:8080/"
    },
    "executionInfo": {
     "elapsed": 137,
     "status": "ok",
     "timestamp": 1693822480677,
     "user": {
      "displayName": "Shaannoor Mann",
      "userId": "02520257695567980696"
     },
     "user_tz": 300
    },
    "id": "oznSXxWlByDZ",
    "outputId": "681fbb04-081f-4a13-dec1-ecb440e23d4b"
   },
   "outputs": [
    {
     "data": {
      "text/plain": [
       "0.9433333333333334"
      ]
     },
     "execution_count": 10,
     "metadata": {},
     "output_type": "execute_result"
    }
   ],
   "source": [
    "# score on train data set\n",
    "knn.score(X_train, y_train)"
   ]
  },
  {
   "cell_type": "code",
   "execution_count": null,
   "metadata": {
    "colab": {
     "base_uri": "https://localhost:8080/"
    },
    "executionInfo": {
     "elapsed": 123,
     "status": "ok",
     "timestamp": 1693822482707,
     "user": {
      "displayName": "Shaannoor Mann",
      "userId": "02520257695567980696"
     },
     "user_tz": 300
    },
    "id": "ww9NARg8_QeC",
    "outputId": "b6deb833-f643-4b82-dd4e-1063c454ad5c"
   },
   "outputs": [
    {
     "data": {
      "text/plain": [
       "0.49"
      ]
     },
     "execution_count": 11,
     "metadata": {},
     "output_type": "execute_result"
    }
   ],
   "source": [
    "# Score the model on test dataset\n",
    "knn.score(X_test, y_test)"
   ]
  },
  {
   "cell_type": "markdown",
   "metadata": {
    "id": "mGj8CtW3F24D"
   },
   "source": [
    "<font color = 'indianred'>**Question**\n",
    "- <font color = 'indianred'>**Why model perfrmed poorly on Test Data?**\n",
    "\n",
    "  - KNN Classifier is sensitive to scale of variables.\n",
    "  - We scaled the train dataset but not the test dataset.\n",
    "  - Since the magnitude of X3 is higher, the distance calculations will be dominated by X3. Since X3 is randomly generated and has no corelation with Y, the perfromance on X_test is similar to random predictions - close to 50%.\n"
   ]
  },
  {
   "cell_type": "markdown",
   "metadata": {
    "id": "ybUPz_UxGE3r"
   },
   "source": [
    "<font color = 'indianred'>**Solution:**\n",
    "- Scale both X_train and X_test\n",
    "- **Better approach - Use a Pipeline** (explained later in the lecture), which makes it easier to chain transformations with estimators, and reduces the possibility of forgetting to apply a transformation on Test data.\n"
   ]
  },
  {
   "cell_type": "code",
   "execution_count": null,
   "metadata": {
    "colab": {
     "base_uri": "https://localhost:8080/"
    },
    "executionInfo": {
     "elapsed": 112,
     "status": "ok",
     "timestamp": 1693822539074,
     "user": {
      "displayName": "Shaannoor Mann",
      "userId": "02520257695567980696"
     },
     "user_tz": 300
    },
    "id": "vYwtqO2BLjja",
    "outputId": "43419d1c-f732-4e92-fe4c-698862a1ed2a"
   },
   "outputs": [
    {
     "data": {
      "text/plain": [
       "0.94"
      ]
     },
     "execution_count": 12,
     "metadata": {},
     "output_type": "execute_result"
    }
   ],
   "source": [
    "X_test  = preprocessor.transform(X_test)\n",
    "knn.score(X_test, y_test)"
   ]
  },
  {
   "cell_type": "markdown",
   "metadata": {
    "id": "3UQetnS7qTE4"
   },
   "source": [
    "## <font color = 'shade'>**Data Leakage**\n",
    "\n",
    "*In statistics and machine learning, leakage (also known as data leakage or target leakage) is the use of information in the model training process which would not be expected to be available at prediction time, causing the predictive scores (metrics) to overestimate the model's utility when run in a production environment*\n",
    "\n",
    "Source: [Wikipedia](https://en.wikipedia.org/wiki/Leakage_(machine_learning)\n",
    "\n",
    "\n",
    "* Leakage means that information is revealed to the model, giving it an unrealistic advantage to make better predictions.\n",
    "* This could happen when test data is leaked into the training set or when data from the future is leaked to the past. Any time a model is given information that it shouldn’t have access to when making predictions in real-time in production, there is leakage.\n",
    "\n",
    "— Page 93, Feature Engineering for Machine Learning, 2018."
   ]
  },
  {
   "cell_type": "markdown",
   "metadata": {
    "id": "sVvI6lM-GXQh"
   },
   "source": [
    "### <font color = 'shade'>**Data Leakage - Preprocessing before train/test split**\n",
    "\n",
    "This is not a direct type of data leakage. The model is not trained on the test dataset. However, some information from the test data set is captured during the preprocessing step and made available to model during training."
   ]
  },
  {
   "cell_type": "code",
   "execution_count": null,
   "metadata": {
    "id": "1qXLNaisNENC"
   },
   "outputs": [],
   "source": [
    "# Creating 2000 normally distributed data with 2 class labels and 5000 features.\n",
    "np.random.seed(123)\n",
    "X = np.random.standard_normal((2000, 5000))\n",
    "y = np.random.choice(2, 2000)"
   ]
  },
  {
   "cell_type": "code",
   "execution_count": null,
   "metadata": {
    "colab": {
     "base_uri": "https://localhost:8080/"
    },
    "executionInfo": {
     "elapsed": 130,
     "status": "ok",
     "timestamp": 1693822568674,
     "user": {
      "displayName": "Shaannoor Mann",
      "userId": "02520257695567980696"
     },
     "user_tz": 300
    },
    "id": "YrQtG9A3Q2FG",
    "outputId": "603858a8-dccd-4629-f6ab-0b38996ac969"
   },
   "outputs": [
    {
     "data": {
      "text/plain": [
       "array([1, 1, 1, 0, 1])"
      ]
     },
     "execution_count": 14,
     "metadata": {},
     "output_type": "execute_result"
    }
   ],
   "source": [
    "y[0:5]"
   ]
  },
  {
   "cell_type": "code",
   "execution_count": null,
   "metadata": {
    "colab": {
     "base_uri": "https://localhost:8080/"
    },
    "executionInfo": {
     "elapsed": 130,
     "status": "ok",
     "timestamp": 1693822572066,
     "user": {
      "displayName": "Shaannoor Mann",
      "userId": "02520257695567980696"
     },
     "user_tz": 300
    },
    "id": "sncQQkZXQ97M",
    "outputId": "c08b3102-d18b-402a-efb5-da81e4ce09be"
   },
   "outputs": [
    {
     "data": {
      "text/plain": [
       "array([[-1.0856306 ,  0.99734545,  0.2829785 , ..., -1.85971515,\n",
       "         0.91382219, -1.35383977],\n",
       "       [ 0.3187635 ,  1.51110387, -1.13662678, ..., -0.47226641,\n",
       "         0.58196437,  0.97061286],\n",
       "       [-1.24096967, -0.31294679, -0.84894679, ..., -1.82934642,\n",
       "         0.9741791 , -0.6933265 ],\n",
       "       [ 0.90756418,  1.68521718, -1.1163093 , ..., -1.40283982,\n",
       "         1.04454086,  0.36928112],\n",
       "       [ 1.03159348,  1.33194488,  0.09584389, ...,  0.65930018,\n",
       "        -0.29068836,  0.98800033]])"
      ]
     },
     "execution_count": 15,
     "metadata": {},
     "output_type": "execute_result"
    }
   ],
   "source": [
    "X[0:5]"
   ]
  },
  {
   "cell_type": "markdown",
   "metadata": {
    "id": "m1wMbIgIs0FJ"
   },
   "source": [
    "Now, let's use SelectKBest() to get the top 20 features among 5000 features."
   ]
  },
  {
   "cell_type": "code",
   "execution_count": null,
   "metadata": {
    "id": "Cbw_CZC5R0IN"
   },
   "outputs": [],
   "source": [
    "# select top 10 features\n",
    "X_selected = SelectKBest(k=20).fit_transform(X, y)"
   ]
  },
  {
   "cell_type": "code",
   "execution_count": null,
   "metadata": {
    "id": "0t737Fn9SDVx"
   },
   "outputs": [],
   "source": [
    "# split the data into train/test split\n",
    "X_train, X_test, y_train, y_test = train_test_split( X_selected, y, random_state=200, train_size = 0.3)"
   ]
  },
  {
   "cell_type": "code",
   "execution_count": null,
   "metadata": {
    "colab": {
     "base_uri": "https://localhost:8080/",
     "height": 75
    },
    "executionInfo": {
     "elapsed": 3,
     "status": "ok",
     "timestamp": 1693822576932,
     "user": {
      "displayName": "Shaannoor Mann",
      "userId": "02520257695567980696"
     },
     "user_tz": 300
    },
    "id": "R7ZxCvTuSS9_",
    "outputId": "bd0b1892-6f23-4694-e2b2-63317c4024b4"
   },
   "outputs": [
    {
     "data": {
      "text/html": [
       "<style>#sk-container-id-2 {color: black;background-color: white;}#sk-container-id-2 pre{padding: 0;}#sk-container-id-2 div.sk-toggleable {background-color: white;}#sk-container-id-2 label.sk-toggleable__label {cursor: pointer;display: block;width: 100%;margin-bottom: 0;padding: 0.3em;box-sizing: border-box;text-align: center;}#sk-container-id-2 label.sk-toggleable__label-arrow:before {content: \"▸\";float: left;margin-right: 0.25em;color: #696969;}#sk-container-id-2 label.sk-toggleable__label-arrow:hover:before {color: black;}#sk-container-id-2 div.sk-estimator:hover label.sk-toggleable__label-arrow:before {color: black;}#sk-container-id-2 div.sk-toggleable__content {max-height: 0;max-width: 0;overflow: hidden;text-align: left;background-color: #f0f8ff;}#sk-container-id-2 div.sk-toggleable__content pre {margin: 0.2em;color: black;border-radius: 0.25em;background-color: #f0f8ff;}#sk-container-id-2 input.sk-toggleable__control:checked~div.sk-toggleable__content {max-height: 200px;max-width: 100%;overflow: auto;}#sk-container-id-2 input.sk-toggleable__control:checked~label.sk-toggleable__label-arrow:before {content: \"▾\";}#sk-container-id-2 div.sk-estimator input.sk-toggleable__control:checked~label.sk-toggleable__label {background-color: #d4ebff;}#sk-container-id-2 div.sk-label input.sk-toggleable__control:checked~label.sk-toggleable__label {background-color: #d4ebff;}#sk-container-id-2 input.sk-hidden--visually {border: 0;clip: rect(1px 1px 1px 1px);clip: rect(1px, 1px, 1px, 1px);height: 1px;margin: -1px;overflow: hidden;padding: 0;position: absolute;width: 1px;}#sk-container-id-2 div.sk-estimator {font-family: monospace;background-color: #f0f8ff;border: 1px dotted black;border-radius: 0.25em;box-sizing: border-box;margin-bottom: 0.5em;}#sk-container-id-2 div.sk-estimator:hover {background-color: #d4ebff;}#sk-container-id-2 div.sk-parallel-item::after {content: \"\";width: 100%;border-bottom: 1px solid gray;flex-grow: 1;}#sk-container-id-2 div.sk-label:hover label.sk-toggleable__label {background-color: #d4ebff;}#sk-container-id-2 div.sk-serial::before {content: \"\";position: absolute;border-left: 1px solid gray;box-sizing: border-box;top: 0;bottom: 0;left: 50%;z-index: 0;}#sk-container-id-2 div.sk-serial {display: flex;flex-direction: column;align-items: center;background-color: white;padding-right: 0.2em;padding-left: 0.2em;position: relative;}#sk-container-id-2 div.sk-item {position: relative;z-index: 1;}#sk-container-id-2 div.sk-parallel {display: flex;align-items: stretch;justify-content: center;background-color: white;position: relative;}#sk-container-id-2 div.sk-item::before, #sk-container-id-2 div.sk-parallel-item::before {content: \"\";position: absolute;border-left: 1px solid gray;box-sizing: border-box;top: 0;bottom: 0;left: 50%;z-index: -1;}#sk-container-id-2 div.sk-parallel-item {display: flex;flex-direction: column;z-index: 1;position: relative;background-color: white;}#sk-container-id-2 div.sk-parallel-item:first-child::after {align-self: flex-end;width: 50%;}#sk-container-id-2 div.sk-parallel-item:last-child::after {align-self: flex-start;width: 50%;}#sk-container-id-2 div.sk-parallel-item:only-child::after {width: 0;}#sk-container-id-2 div.sk-dashed-wrapped {border: 1px dashed gray;margin: 0 0.4em 0.5em 0.4em;box-sizing: border-box;padding-bottom: 0.4em;background-color: white;}#sk-container-id-2 div.sk-label label {font-family: monospace;font-weight: bold;display: inline-block;line-height: 1.2em;}#sk-container-id-2 div.sk-label-container {text-align: center;}#sk-container-id-2 div.sk-container {/* jupyter's `normalize.less` sets `[hidden] { display: none; }` but bootstrap.min.css set `[hidden] { display: none !important; }` so we also need the `!important` here to be able to override the default hidden behavior on the sphinx rendered scikit-learn.org. See: https://github.com/scikit-learn/scikit-learn/issues/21755 */display: inline-block !important;position: relative;}#sk-container-id-2 div.sk-text-repr-fallback {display: none;}</style><div id=\"sk-container-id-2\" class=\"sk-top-container\"><div class=\"sk-text-repr-fallback\"><pre>KNeighborsClassifier()</pre><b>In a Jupyter environment, please rerun this cell to show the HTML representation or trust the notebook. <br />On GitHub, the HTML representation is unable to render, please try loading this page with nbviewer.org.</b></div><div class=\"sk-container\" hidden><div class=\"sk-item\"><div class=\"sk-estimator sk-toggleable\"><input class=\"sk-toggleable__control sk-hidden--visually\" id=\"sk-estimator-id-2\" type=\"checkbox\" checked><label for=\"sk-estimator-id-2\" class=\"sk-toggleable__label sk-toggleable__label-arrow\">KNeighborsClassifier</label><div class=\"sk-toggleable__content\"><pre>KNeighborsClassifier()</pre></div></div></div></div></div>"
      ],
      "text/plain": [
       "KNeighborsClassifier()"
      ]
     },
     "execution_count": 18,
     "metadata": {},
     "output_type": "execute_result"
    }
   ],
   "source": [
    "# fit KNNClassifier on train data\n",
    "knn = KNeighborsClassifier()\n",
    "knn.fit(X_train, y_train)"
   ]
  },
  {
   "cell_type": "code",
   "execution_count": null,
   "metadata": {
    "colab": {
     "base_uri": "https://localhost:8080/"
    },
    "executionInfo": {
     "elapsed": 128,
     "status": "ok",
     "timestamp": 1693822578970,
     "user": {
      "displayName": "Shaannoor Mann",
      "userId": "02520257695567980696"
     },
     "user_tz": 300
    },
    "id": "quY6Qo-UShEA",
    "outputId": "9dc6c7a3-6bf3-4790-bd65-5ffa316d17a0"
   },
   "outputs": [
    {
     "data": {
      "text/plain": [
       "0.695"
      ]
     },
     "execution_count": 19,
     "metadata": {},
     "output_type": "execute_result"
    }
   ],
   "source": [
    "knn.score(X_train, y_train)"
   ]
  },
  {
   "cell_type": "code",
   "execution_count": null,
   "metadata": {
    "colab": {
     "base_uri": "https://localhost:8080/"
    },
    "executionInfo": {
     "elapsed": 103,
     "status": "ok",
     "timestamp": 1693822580177,
     "user": {
      "displayName": "Shaannoor Mann",
      "userId": "02520257695567980696"
     },
     "user_tz": 300
    },
    "id": "nH3_KTJcSo6W",
    "outputId": "e5db79c3-6ac2-4f93-99a7-cfd6508b1f37"
   },
   "outputs": [
    {
     "data": {
      "text/plain": [
       "0.5685714285714286"
      ]
     },
     "execution_count": 20,
     "metadata": {},
     "output_type": "execute_result"
    }
   ],
   "source": [
    "knn.score(X_test, y_test)"
   ]
  },
  {
   "cell_type": "markdown",
   "metadata": {
    "id": "kteufTtOWRVt"
   },
   "source": [
    "<font color = 'indianred'>**Questions:**\n",
    "- What should be the expected score on test data?\n",
    "- What is wrong in the above model?\n",
    "\n",
    "  - X and y are randomly generated. X has no correlation with Y.  \n",
    "  - Hence the perfromance of the model should not be better than the random predictions.\n",
    "  - In the preprocessing, step we selected the features that have best correllation with Y in the training data. That is why we observe higher accuracy in train dataset.\n",
    "  - However the model should not generalize to unseen data. Hence, the accuracy of model on test data set should not be more than 50%.\n",
    "  - By performing, preprocessing on complete dataset, we exposed the information from test dataset to the model as well. The best features were selected based on the complete dataset. This is called **\"Data Leakage\"**. It can artifically inflate the perfromance on Test dats set.\n"
   ]
  },
  {
   "cell_type": "markdown",
   "metadata": {
    "id": "NiuhYz3zGwhS"
   },
   "source": [
    "#### <font color = 'indianred'>**Soution**\n",
    "- <font color = 'indianred'>**Always do preprocessing after train/test split.**</font>\n",
    "- <font color = 'indianred'>**Use fit_transform on Train.**</font>\n",
    "- <font color = 'indianred'>**Use only transform on Test**</font>\n",
    "- <font color = 'indianred'>**If we use fit_transform on Test data then we will never know how the model perfromed on unseen data.**</font> If we use fit on test dataset, we are using information from the test dataset. This is true even for pre-processing steps.\n",
    "- For example - When doing mean imputation, we will use the mean value calculated from training data to impute missing values in both train and test dats sets.\n",
    "\n",
    "**Better approach - Use a Pipeline** (explained later in the lecture), which makes it easier to chain transformations with estimators, and reduces the possibility of data leakage."
   ]
  },
  {
   "cell_type": "code",
   "execution_count": null,
   "metadata": {
    "id": "2XF6YYygUvol"
   },
   "outputs": [],
   "source": [
    "# split the data into train/test split\n",
    "X_train, X_test, y_train, y_test = train_test_split( X, y, random_state=200, train_size = 0.3)"
   ]
  },
  {
   "cell_type": "code",
   "execution_count": null,
   "metadata": {
    "id": "kEz4phssVOyF"
   },
   "outputs": [],
   "source": [
    "preprocessor = SelectKBest(k=20)"
   ]
  },
  {
   "cell_type": "code",
   "execution_count": null,
   "metadata": {
    "id": "pe80n1VbUySh"
   },
   "outputs": [],
   "source": [
    "X_train_selected = preprocessor.fit_transform(X_train, y_train)"
   ]
  },
  {
   "cell_type": "code",
   "execution_count": null,
   "metadata": {
    "id": "ef_rqltmU4tA"
   },
   "outputs": [],
   "source": [
    "# note we do not need y_test in this step\n",
    "# We are just selecting subset of X_test determined based on the training data\n",
    "X_test_selected = preprocessor.transform(X_test)"
   ]
  },
  {
   "cell_type": "code",
   "execution_count": null,
   "metadata": {
    "colab": {
     "base_uri": "https://localhost:8080/",
     "height": 75
    },
    "executionInfo": {
     "elapsed": 192,
     "status": "ok",
     "timestamp": 1693822732345,
     "user": {
      "displayName": "Shaannoor Mann",
      "userId": "02520257695567980696"
     },
     "user_tz": 300
    },
    "id": "6q7l2CSUVK-t",
    "outputId": "4a58d328-00ac-4fe1-a986-492c6b78492a"
   },
   "outputs": [
    {
     "data": {
      "text/html": [
       "<style>#sk-container-id-3 {color: black;background-color: white;}#sk-container-id-3 pre{padding: 0;}#sk-container-id-3 div.sk-toggleable {background-color: white;}#sk-container-id-3 label.sk-toggleable__label {cursor: pointer;display: block;width: 100%;margin-bottom: 0;padding: 0.3em;box-sizing: border-box;text-align: center;}#sk-container-id-3 label.sk-toggleable__label-arrow:before {content: \"▸\";float: left;margin-right: 0.25em;color: #696969;}#sk-container-id-3 label.sk-toggleable__label-arrow:hover:before {color: black;}#sk-container-id-3 div.sk-estimator:hover label.sk-toggleable__label-arrow:before {color: black;}#sk-container-id-3 div.sk-toggleable__content {max-height: 0;max-width: 0;overflow: hidden;text-align: left;background-color: #f0f8ff;}#sk-container-id-3 div.sk-toggleable__content pre {margin: 0.2em;color: black;border-radius: 0.25em;background-color: #f0f8ff;}#sk-container-id-3 input.sk-toggleable__control:checked~div.sk-toggleable__content {max-height: 200px;max-width: 100%;overflow: auto;}#sk-container-id-3 input.sk-toggleable__control:checked~label.sk-toggleable__label-arrow:before {content: \"▾\";}#sk-container-id-3 div.sk-estimator input.sk-toggleable__control:checked~label.sk-toggleable__label {background-color: #d4ebff;}#sk-container-id-3 div.sk-label input.sk-toggleable__control:checked~label.sk-toggleable__label {background-color: #d4ebff;}#sk-container-id-3 input.sk-hidden--visually {border: 0;clip: rect(1px 1px 1px 1px);clip: rect(1px, 1px, 1px, 1px);height: 1px;margin: -1px;overflow: hidden;padding: 0;position: absolute;width: 1px;}#sk-container-id-3 div.sk-estimator {font-family: monospace;background-color: #f0f8ff;border: 1px dotted black;border-radius: 0.25em;box-sizing: border-box;margin-bottom: 0.5em;}#sk-container-id-3 div.sk-estimator:hover {background-color: #d4ebff;}#sk-container-id-3 div.sk-parallel-item::after {content: \"\";width: 100%;border-bottom: 1px solid gray;flex-grow: 1;}#sk-container-id-3 div.sk-label:hover label.sk-toggleable__label {background-color: #d4ebff;}#sk-container-id-3 div.sk-serial::before {content: \"\";position: absolute;border-left: 1px solid gray;box-sizing: border-box;top: 0;bottom: 0;left: 50%;z-index: 0;}#sk-container-id-3 div.sk-serial {display: flex;flex-direction: column;align-items: center;background-color: white;padding-right: 0.2em;padding-left: 0.2em;position: relative;}#sk-container-id-3 div.sk-item {position: relative;z-index: 1;}#sk-container-id-3 div.sk-parallel {display: flex;align-items: stretch;justify-content: center;background-color: white;position: relative;}#sk-container-id-3 div.sk-item::before, #sk-container-id-3 div.sk-parallel-item::before {content: \"\";position: absolute;border-left: 1px solid gray;box-sizing: border-box;top: 0;bottom: 0;left: 50%;z-index: -1;}#sk-container-id-3 div.sk-parallel-item {display: flex;flex-direction: column;z-index: 1;position: relative;background-color: white;}#sk-container-id-3 div.sk-parallel-item:first-child::after {align-self: flex-end;width: 50%;}#sk-container-id-3 div.sk-parallel-item:last-child::after {align-self: flex-start;width: 50%;}#sk-container-id-3 div.sk-parallel-item:only-child::after {width: 0;}#sk-container-id-3 div.sk-dashed-wrapped {border: 1px dashed gray;margin: 0 0.4em 0.5em 0.4em;box-sizing: border-box;padding-bottom: 0.4em;background-color: white;}#sk-container-id-3 div.sk-label label {font-family: monospace;font-weight: bold;display: inline-block;line-height: 1.2em;}#sk-container-id-3 div.sk-label-container {text-align: center;}#sk-container-id-3 div.sk-container {/* jupyter's `normalize.less` sets `[hidden] { display: none; }` but bootstrap.min.css set `[hidden] { display: none !important; }` so we also need the `!important` here to be able to override the default hidden behavior on the sphinx rendered scikit-learn.org. See: https://github.com/scikit-learn/scikit-learn/issues/21755 */display: inline-block !important;position: relative;}#sk-container-id-3 div.sk-text-repr-fallback {display: none;}</style><div id=\"sk-container-id-3\" class=\"sk-top-container\"><div class=\"sk-text-repr-fallback\"><pre>KNeighborsClassifier()</pre><b>In a Jupyter environment, please rerun this cell to show the HTML representation or trust the notebook. <br />On GitHub, the HTML representation is unable to render, please try loading this page with nbviewer.org.</b></div><div class=\"sk-container\" hidden><div class=\"sk-item\"><div class=\"sk-estimator sk-toggleable\"><input class=\"sk-toggleable__control sk-hidden--visually\" id=\"sk-estimator-id-3\" type=\"checkbox\" checked><label for=\"sk-estimator-id-3\" class=\"sk-toggleable__label sk-toggleable__label-arrow\">KNeighborsClassifier</label><div class=\"sk-toggleable__content\"><pre>KNeighborsClassifier()</pre></div></div></div></div></div>"
      ],
      "text/plain": [
       "KNeighborsClassifier()"
      ]
     },
     "execution_count": 25,
     "metadata": {},
     "output_type": "execute_result"
    }
   ],
   "source": [
    "# fit KNNClassifier on train data\n",
    "knn = KNeighborsClassifier()\n",
    "knn.fit(X_train_selected, y_train)"
   ]
  },
  {
   "cell_type": "code",
   "execution_count": null,
   "metadata": {
    "colab": {
     "base_uri": "https://localhost:8080/"
    },
    "executionInfo": {
     "elapsed": 124,
     "status": "ok",
     "timestamp": 1693822734827,
     "user": {
      "displayName": "Shaannoor Mann",
      "userId": "02520257695567980696"
     },
     "user_tz": 300
    },
    "id": "gTOnj4anVi4k",
    "outputId": "806373ff-4193-4030-d6b6-fda5c5ad2685"
   },
   "outputs": [
    {
     "data": {
      "text/plain": [
       "0.7233333333333334"
      ]
     },
     "execution_count": 26,
     "metadata": {},
     "output_type": "execute_result"
    }
   ],
   "source": [
    "knn.score(X_train_selected, y_train)"
   ]
  },
  {
   "cell_type": "code",
   "execution_count": null,
   "metadata": {
    "colab": {
     "base_uri": "https://localhost:8080/"
    },
    "executionInfo": {
     "elapsed": 269,
     "status": "ok",
     "timestamp": 1693822737929,
     "user": {
      "displayName": "Shaannoor Mann",
      "userId": "02520257695567980696"
     },
     "user_tz": 300
    },
    "id": "VF_CLZ2vU9T6",
    "outputId": "7bb471cf-c49e-4fa5-d03a-1d2681da5f1e"
   },
   "outputs": [
    {
     "data": {
      "text/plain": [
       "0.49142857142857144"
      ]
     },
     "execution_count": 27,
     "metadata": {},
     "output_type": "execute_result"
    }
   ],
   "source": [
    "knn.score(X_test_selected, y_test)"
   ]
  },
  {
   "cell_type": "markdown",
   "metadata": {
    "id": "CfhdUB9oNzqW"
   },
   "source": [
    "- Once we apply preprocesing after train/test split and use only transform on test dataset, we can see that model perfroms as expected i.e. it gives the same perfromance as random prediction (50% accuracy)."
   ]
  },
  {
   "cell_type": "markdown",
   "metadata": {
    "id": "UgW1ifB9G9eL"
   },
   "source": [
    "### <font color = 'shade'>**Data Leakage in Cross Validation**</font>\n",
    "\n",
    "Let us revisit KFold Cross Validation.\n",
    "- The main purpose of the croos- validation is to use multiple train/valid folds and take the average score across valid folds in muliple splits to acees how the model will generalize to unseen data.\n",
    "\n",
    "<img src =\"https://drive.google.com/uc?export=view&id=1LQ_9W5Xeqnj4LNuM5mPmZV3M-nYiy8Hv\" width =400 >"
   ]
  },
  {
   "cell_type": "markdown",
   "metadata": {
    "id": "AkAMXmvObWKv"
   },
   "source": [
    "**We will have similar data leakage issue as in the previous section, if we apply data transformation before cross validation**"
   ]
  },
  {
   "cell_type": "code",
   "execution_count": null,
   "metadata": {
    "id": "3OMvOXKAZ570"
   },
   "outputs": [],
   "source": [
    "# Geneate Data\n",
    "np.random.seed(123)\n",
    "X = np.random.standard_normal((2000, 5000))\n",
    "y = np.random.choice(2, 2000)\n",
    "# split the data into train/test split\n",
    "X_train, X_test, y_train, y_test = train_test_split( X, y, random_state=200, train_size = 0.3)"
   ]
  },
  {
   "cell_type": "code",
   "execution_count": null,
   "metadata": {
    "colab": {
     "base_uri": "https://localhost:8080/"
    },
    "executionInfo": {
     "elapsed": 236,
     "status": "ok",
     "timestamp": 1693822768294,
     "user": {
      "displayName": "Shaannoor Mann",
      "userId": "02520257695567980696"
     },
     "user_tz": 300
    },
    "id": "A0fryc4gaDnl",
    "outputId": "263ac51b-1b54-4597-86fa-034ab471236e"
   },
   "outputs": [
    {
     "data": {
      "text/plain": [
       "0.5883333333333334"
      ]
     },
     "execution_count": 29,
     "metadata": {},
     "output_type": "execute_result"
    }
   ],
   "source": [
    "preprocessor = SelectKBest(k=20)\n",
    "X_train_selected = preprocessor.fit_transform(X_train, y_train)\n",
    "X_test_selected = preprocessor.transform(X_test)\n",
    "\n",
    "# Cross Validation\n",
    "knn = KNeighborsClassifier()\n",
    "kfolds = KFold(n_splits = 5, random_state=0, shuffle = True)\n",
    "scores = cross_val_score(knn, X_train_selected, y_train, cv=kfolds)\n",
    "\n",
    "scores.mean()"
   ]
  },
  {
   "cell_type": "code",
   "execution_count": null,
   "metadata": {
    "colab": {
     "base_uri": "https://localhost:8080/"
    },
    "executionInfo": {
     "elapsed": 95,
     "status": "ok",
     "timestamp": 1693822772119,
     "user": {
      "displayName": "Shaannoor Mann",
      "userId": "02520257695567980696"
     },
     "user_tz": 300
    },
    "id": "qVRRDROLJ7s2",
    "outputId": "92c131ce-f28b-486a-a7ab-497810724f92"
   },
   "outputs": [
    {
     "data": {
      "text/plain": [
       "0.49142857142857144"
      ]
     },
     "execution_count": 30,
     "metadata": {},
     "output_type": "execute_result"
    }
   ],
   "source": [
    "knn.fit(X_train_selected, y_train)\n",
    "knn.score(X_test_selected, y_test)"
   ]
  },
  {
   "cell_type": "markdown",
   "metadata": {
    "id": "Z6EN0jKYKLnn"
   },
   "source": [
    "- <font color = 'indianred'>**The cross validation score is over-optimistic. The cross validation score should also be close to 50%**.\n",
    "- **This happened because of data leakage in cross validation step.**</font>\n"
   ]
  },
  {
   "cell_type": "markdown",
   "metadata": {
    "id": "vDkqFsRgK3Mw"
   },
   "source": [
    "**Let  us see the inner working of above code**"
   ]
  },
  {
   "cell_type": "code",
   "execution_count": null,
   "metadata": {
    "colab": {
     "base_uri": "https://localhost:8080/"
    },
    "executionInfo": {
     "elapsed": 255,
     "status": "ok",
     "timestamp": 1693822781301,
     "user": {
      "displayName": "Shaannoor Mann",
      "userId": "02520257695567980696"
     },
     "user_tz": 300
    },
    "id": "ZOibVEwphNqp",
    "outputId": "ff90ce3e-a22c-47fc-c68b-d3b1c293ff8d"
   },
   "outputs": [
    {
     "data": {
      "text/plain": [
       "0.5883333333333334"
      ]
     },
     "execution_count": 31,
     "metadata": {},
     "output_type": "execute_result"
    }
   ],
   "source": [
    "preprocessor = SelectKBest(k=20)\n",
    "X_train_selected = preprocessor.fit_transform(X_train, y_train)\n",
    "X_test_selected = preprocessor.transform(X_test)\n",
    "\n",
    "kfolds = KFold(n_splits = 5, random_state=0, shuffle = True)\n",
    "scores =[]\n",
    "for train, valid in kfolds.split(X_train_selected, y_train):\n",
    "  knn = KNeighborsClassifier().fit(X_train_selected[train], y_train[train])\n",
    "\n",
    "  # the model is evaluated on X_train_selected[valid]\n",
    "  score = knn.score(X_train_selected[valid], y_train[valid])\n",
    "  scores.append(score)\n",
    "\n",
    "np.mean(scores)"
   ]
  },
  {
   "cell_type": "markdown",
   "metadata": {
    "id": "XziqDgSONPO_"
   },
   "source": [
    "<font color = 'indianred'>\n",
    "\n",
    "- **In cross validation model was evaluated on X_train_selected[valid].**\n",
    "- **This does not reflect the perfromnace on unseen data, The model has seen the X_train_selected[valid] during the preprocessing step.**\n",
    "-**The features were selected based on the complete X_train_selected.**\n",
    "</font>"
   ]
  },
  {
   "cell_type": "markdown",
   "metadata": {
    "id": "Ut5FbWulHnps"
   },
   "source": [
    "#### <font color = 'shade'>**Solution : Need to include pre-processing inside  CV**"
   ]
  },
  {
   "cell_type": "code",
   "execution_count": null,
   "metadata": {
    "colab": {
     "base_uri": "https://localhost:8080/"
    },
    "executionInfo": {
     "elapsed": 969,
     "status": "ok",
     "timestamp": 1693823477719,
     "user": {
      "displayName": "Shaannoor Mann",
      "userId": "02520257695567980696"
     },
     "user_tz": 300
    },
    "id": "nqQZ1V34McRp",
    "outputId": "d08de61f-cbaa-49a3-9422-46bc865b9cad"
   },
   "outputs": [
    {
     "name": "stdout",
     "output_type": "stream",
     "text": [
      "Mean Cross Validation Score\n"
     ]
    },
    {
     "data": {
      "text/plain": [
       "0.49000000000000005"
      ]
     },
     "execution_count": 32,
     "metadata": {},
     "output_type": "execute_result"
    }
   ],
   "source": [
    "# let us do pre-processing inside the CV loop now.\n",
    "\n",
    "kfolds = KFold(n_splits = 5, random_state=0, shuffle = True)\n",
    "preprocessor = SelectKBest(k=20)\n",
    "scores =[]\n",
    "for train, valid in kfolds.split(X_train, y_train):\n",
    "\n",
    "  # fit and transform train fold using preprocessor\n",
    "  X_KBest_train_fold = preprocessor.fit_transform(X_train[train], y_train[train])\n",
    "\n",
    "  # in each iteration the KBest features are selected only based on train fold\n",
    "  # the same selected Kbest features are used to transform valid fold\n",
    "  X_KBest_valid_fold = preprocessor.transform(X_train[valid])\n",
    "\n",
    "  # output of preprocessor will become input to classifier\n",
    "  # we fit model on X_KBest_train_fold\n",
    "  knn = KNeighborsClassifier().fit(X_KBest_train_fold, y_train[train])\n",
    "\n",
    "  # the  scores are claculated on valid fold\n",
    "  # the model has now never seen the valid fold, hence will reflect the ability of model to\n",
    "  # generalize on unseen data\n",
    "  score = knn.score(X_KBest_valid_fold, y_train[valid])\n",
    "  scores.append(score)\n",
    "\n",
    "print('Mean Cross Validation Score')\n",
    "np.mean(scores)"
   ]
  },
  {
   "cell_type": "code",
   "execution_count": null,
   "metadata": {
    "colab": {
     "base_uri": "https://localhost:8080/"
    },
    "executionInfo": {
     "elapsed": 161,
     "status": "ok",
     "timestamp": 1693823483804,
     "user": {
      "displayName": "Shaannoor Mann",
      "userId": "02520257695567980696"
     },
     "user_tz": 300
    },
    "id": "4WYpq28LPgz7",
    "outputId": "8cc8df9b-c6a6-499e-8c52-0435b85023ef"
   },
   "outputs": [
    {
     "name": "stdout",
     "output_type": "stream",
     "text": [
      "Test Score\n"
     ]
    },
    {
     "data": {
      "text/plain": [
       "0.49142857142857144"
      ]
     },
     "execution_count": 33,
     "metadata": {},
     "output_type": "execute_result"
    }
   ],
   "source": [
    "print('Test Score')\n",
    "knn.score(X_test_selected, y_test)"
   ]
  },
  {
   "cell_type": "markdown",
   "metadata": {
    "id": "0I2zSWYFPlHU"
   },
   "source": [
    "- In the above example, pre-processing was moved inside the cross-validation\n",
    "- The pre-processing was done based on X_train[train]\n",
    "- The best features were selected based on X_train[train]\n",
    "- The model was fitted on X_train[train]\n",
    "\n",
    "- The same two steps are applied on X_train[valid]\n",
    "- However, the features are selected based on X_train[train]\n",
    "- We only used the transform method on X_train[valid]\n",
    "- The model has never seen X_train[valid]\n",
    "- Thus, the cross-validation score reflected the model's ability to generalize on unseen data\n",
    "- Many pre-processing steps like imputing missing values with mean use statistics from training data. These pre-processing steps should be done inside the cross-validation loop."
   ]
  },
  {
   "cell_type": "markdown",
   "metadata": {
    "id": "obQ7Kpo2VnIp"
   },
   "source": [
    "### <font color = 'shade'>**Incorrect Hyperparameter Tuning**\n",
    "<font color = 'indianred'>**Data leakage in Cross Validation step of Hyperparameter Tuning using GridSearch**"
   ]
  },
  {
   "cell_type": "code",
   "execution_count": null,
   "metadata": {
    "id": "8_DVBbaEY_UT"
   },
   "outputs": [],
   "source": [
    "np.random.seed(123)\n",
    "X = np.random.standard_normal((2000, 5000))\n",
    "y = np.random.choice(2, 2000)\n",
    "# split the data into train/test split\n",
    "X_train, X_test, y_train, y_test = train_test_split( X, y, random_state=200, train_size = 0.3)"
   ]
  },
  {
   "cell_type": "code",
   "execution_count": null,
   "metadata": {
    "colab": {
     "base_uri": "https://localhost:8080/",
     "height": 117
    },
    "executionInfo": {
     "elapsed": 1522,
     "status": "ok",
     "timestamp": 1693823494331,
     "user": {
      "displayName": "Shaannoor Mann",
      "userId": "02520257695567980696"
     },
     "user_tz": 300
    },
    "id": "svoGTRsGV4RC",
    "outputId": "8f9cff3b-4440-41ca-afb9-593631bb5bcb"
   },
   "outputs": [
    {
     "data": {
      "text/html": [
       "<style>#sk-container-id-4 {color: black;background-color: white;}#sk-container-id-4 pre{padding: 0;}#sk-container-id-4 div.sk-toggleable {background-color: white;}#sk-container-id-4 label.sk-toggleable__label {cursor: pointer;display: block;width: 100%;margin-bottom: 0;padding: 0.3em;box-sizing: border-box;text-align: center;}#sk-container-id-4 label.sk-toggleable__label-arrow:before {content: \"▸\";float: left;margin-right: 0.25em;color: #696969;}#sk-container-id-4 label.sk-toggleable__label-arrow:hover:before {color: black;}#sk-container-id-4 div.sk-estimator:hover label.sk-toggleable__label-arrow:before {color: black;}#sk-container-id-4 div.sk-toggleable__content {max-height: 0;max-width: 0;overflow: hidden;text-align: left;background-color: #f0f8ff;}#sk-container-id-4 div.sk-toggleable__content pre {margin: 0.2em;color: black;border-radius: 0.25em;background-color: #f0f8ff;}#sk-container-id-4 input.sk-toggleable__control:checked~div.sk-toggleable__content {max-height: 200px;max-width: 100%;overflow: auto;}#sk-container-id-4 input.sk-toggleable__control:checked~label.sk-toggleable__label-arrow:before {content: \"▾\";}#sk-container-id-4 div.sk-estimator input.sk-toggleable__control:checked~label.sk-toggleable__label {background-color: #d4ebff;}#sk-container-id-4 div.sk-label input.sk-toggleable__control:checked~label.sk-toggleable__label {background-color: #d4ebff;}#sk-container-id-4 input.sk-hidden--visually {border: 0;clip: rect(1px 1px 1px 1px);clip: rect(1px, 1px, 1px, 1px);height: 1px;margin: -1px;overflow: hidden;padding: 0;position: absolute;width: 1px;}#sk-container-id-4 div.sk-estimator {font-family: monospace;background-color: #f0f8ff;border: 1px dotted black;border-radius: 0.25em;box-sizing: border-box;margin-bottom: 0.5em;}#sk-container-id-4 div.sk-estimator:hover {background-color: #d4ebff;}#sk-container-id-4 div.sk-parallel-item::after {content: \"\";width: 100%;border-bottom: 1px solid gray;flex-grow: 1;}#sk-container-id-4 div.sk-label:hover label.sk-toggleable__label {background-color: #d4ebff;}#sk-container-id-4 div.sk-serial::before {content: \"\";position: absolute;border-left: 1px solid gray;box-sizing: border-box;top: 0;bottom: 0;left: 50%;z-index: 0;}#sk-container-id-4 div.sk-serial {display: flex;flex-direction: column;align-items: center;background-color: white;padding-right: 0.2em;padding-left: 0.2em;position: relative;}#sk-container-id-4 div.sk-item {position: relative;z-index: 1;}#sk-container-id-4 div.sk-parallel {display: flex;align-items: stretch;justify-content: center;background-color: white;position: relative;}#sk-container-id-4 div.sk-item::before, #sk-container-id-4 div.sk-parallel-item::before {content: \"\";position: absolute;border-left: 1px solid gray;box-sizing: border-box;top: 0;bottom: 0;left: 50%;z-index: -1;}#sk-container-id-4 div.sk-parallel-item {display: flex;flex-direction: column;z-index: 1;position: relative;background-color: white;}#sk-container-id-4 div.sk-parallel-item:first-child::after {align-self: flex-end;width: 50%;}#sk-container-id-4 div.sk-parallel-item:last-child::after {align-self: flex-start;width: 50%;}#sk-container-id-4 div.sk-parallel-item:only-child::after {width: 0;}#sk-container-id-4 div.sk-dashed-wrapped {border: 1px dashed gray;margin: 0 0.4em 0.5em 0.4em;box-sizing: border-box;padding-bottom: 0.4em;background-color: white;}#sk-container-id-4 div.sk-label label {font-family: monospace;font-weight: bold;display: inline-block;line-height: 1.2em;}#sk-container-id-4 div.sk-label-container {text-align: center;}#sk-container-id-4 div.sk-container {/* jupyter's `normalize.less` sets `[hidden] { display: none; }` but bootstrap.min.css set `[hidden] { display: none !important; }` so we also need the `!important` here to be able to override the default hidden behavior on the sphinx rendered scikit-learn.org. See: https://github.com/scikit-learn/scikit-learn/issues/21755 */display: inline-block !important;position: relative;}#sk-container-id-4 div.sk-text-repr-fallback {display: none;}</style><div id=\"sk-container-id-4\" class=\"sk-top-container\"><div class=\"sk-text-repr-fallback\"><pre>GridSearchCV(cv=KFold(n_splits=5, random_state=0, shuffle=True),\n",
       "             estimator=KNeighborsClassifier(),\n",
       "             param_grid={&#x27;n_neighbors&#x27;: array([ 1,  3,  5,  7,  9, 11, 13, 15])},\n",
       "             return_train_score=True)</pre><b>In a Jupyter environment, please rerun this cell to show the HTML representation or trust the notebook. <br />On GitHub, the HTML representation is unable to render, please try loading this page with nbviewer.org.</b></div><div class=\"sk-container\" hidden><div class=\"sk-item sk-dashed-wrapped\"><div class=\"sk-label-container\"><div class=\"sk-label sk-toggleable\"><input class=\"sk-toggleable__control sk-hidden--visually\" id=\"sk-estimator-id-4\" type=\"checkbox\" ><label for=\"sk-estimator-id-4\" class=\"sk-toggleable__label sk-toggleable__label-arrow\">GridSearchCV</label><div class=\"sk-toggleable__content\"><pre>GridSearchCV(cv=KFold(n_splits=5, random_state=0, shuffle=True),\n",
       "             estimator=KNeighborsClassifier(),\n",
       "             param_grid={&#x27;n_neighbors&#x27;: array([ 1,  3,  5,  7,  9, 11, 13, 15])},\n",
       "             return_train_score=True)</pre></div></div></div><div class=\"sk-parallel\"><div class=\"sk-parallel-item\"><div class=\"sk-item\"><div class=\"sk-label-container\"><div class=\"sk-label sk-toggleable\"><input class=\"sk-toggleable__control sk-hidden--visually\" id=\"sk-estimator-id-5\" type=\"checkbox\" ><label for=\"sk-estimator-id-5\" class=\"sk-toggleable__label sk-toggleable__label-arrow\">estimator: KNeighborsClassifier</label><div class=\"sk-toggleable__content\"><pre>KNeighborsClassifier()</pre></div></div></div><div class=\"sk-serial\"><div class=\"sk-item\"><div class=\"sk-estimator sk-toggleable\"><input class=\"sk-toggleable__control sk-hidden--visually\" id=\"sk-estimator-id-6\" type=\"checkbox\" ><label for=\"sk-estimator-id-6\" class=\"sk-toggleable__label sk-toggleable__label-arrow\">KNeighborsClassifier</label><div class=\"sk-toggleable__content\"><pre>KNeighborsClassifier()</pre></div></div></div></div></div></div></div></div></div></div>"
      ],
      "text/plain": [
       "GridSearchCV(cv=KFold(n_splits=5, random_state=0, shuffle=True),\n",
       "             estimator=KNeighborsClassifier(),\n",
       "             param_grid={'n_neighbors': array([ 1,  3,  5,  7,  9, 11, 13, 15])},\n",
       "             return_train_score=True)"
      ]
     },
     "execution_count": 35,
     "metadata": {},
     "output_type": "execute_result"
    }
   ],
   "source": [
    "preprocessor = SelectKBest(k=20)\n",
    "X_train_selected = preprocessor.fit_transform(X_train, y_train)\n",
    "X_test_selected = preprocessor.transform(X_test)\n",
    "\n",
    "kfolds = KFold(n_splits = 5, random_state=0, shuffle = True)\n",
    "\n",
    "# giving the param_grid values\n",
    "param_grid = {'n_neighbors':  np.arange(1, 16, 2)}\n",
    "\n",
    "# Using GridSearchCV for kNN classification and returning the train_score as True\n",
    "grid = GridSearchCV(KNeighborsClassifier(), param_grid=param_grid, cv=kfolds,\n",
    "                   return_train_score=True)\n",
    "\n",
    "# Now fit the  GridSearchCV on the X_train, y_train by using fit() method\n",
    "grid.fit(X_train_selected, y_train)"
   ]
  },
  {
   "cell_type": "code",
   "execution_count": null,
   "metadata": {
    "colab": {
     "base_uri": "https://localhost:8080/"
    },
    "executionInfo": {
     "elapsed": 137,
     "status": "ok",
     "timestamp": 1693823497682,
     "user": {
      "displayName": "Shaannoor Mann",
      "userId": "02520257695567980696"
     },
     "user_tz": 300
    },
    "id": "MtgqfwxBcIeB",
    "outputId": "aa30fd2a-dd60-48de-8432-2470305e7e24"
   },
   "outputs": [
    {
     "name": "stdout",
     "output_type": "stream",
     "text": [
      "best mean cross-validation score: 0.6216666666666667\n",
      "best parameters: {'n_neighbors': 15}\n",
      "train-set score: 0.695\n",
      "test-set score: 0.489\n"
     ]
    }
   ],
   "source": [
    "# The grid can be used to generate the mean of cross validation by using best_score_\n",
    "# grid.best_params_ generates the best parameter i.e n_neighbor\n",
    "# grid.score(data) gives the score on the data after fitting the model on # complete training data using the best hyper parameters\n",
    "\n",
    "print(f\"best mean cross-validation score: {grid.best_score_}\")\n",
    "print(f\"best parameters: {grid.best_params_}\")\n",
    "\n",
    "# We can check the accuracy score of training dataset and test dataset.\n",
    "print(f\"train-set score: {grid.score(X_train_selected, y_train):.3f}\")\n",
    "print(f\"test-set score: {grid.score(X_test_selected, y_test):.3f}\")"
   ]
  },
  {
   "cell_type": "markdown",
   "metadata": {
    "id": "ufgdNi5YUp8K"
   },
   "source": [
    "<font color = 'indianred'>**- Here again the cross validation score is over-optimistic**\n",
    "\n",
    "<font color = 'indianred'>**- Let us look at the inner working of this code**"
   ]
  },
  {
   "cell_type": "code",
   "execution_count": null,
   "metadata": {
    "colab": {
     "base_uri": "https://localhost:8080/",
     "height": 111
    },
    "executionInfo": {
     "elapsed": 447,
     "status": "ok",
     "timestamp": 1693823503445,
     "user": {
      "displayName": "Shaannoor Mann",
      "userId": "02520257695567980696"
     },
     "user_tz": 300
    },
    "id": "8SqVXaRXZn00",
    "outputId": "330605ca-a5ee-4dcb-b908-111361c8fb31"
   },
   "outputs": [
    {
     "name": "stdout",
     "output_type": "stream",
     "text": [
      "best cross-validation score: 0.622\n",
      "best_value_of_k: 15\n"
     ]
    },
    {
     "data": {
      "text/html": [
       "<style>#sk-container-id-5 {color: black;background-color: white;}#sk-container-id-5 pre{padding: 0;}#sk-container-id-5 div.sk-toggleable {background-color: white;}#sk-container-id-5 label.sk-toggleable__label {cursor: pointer;display: block;width: 100%;margin-bottom: 0;padding: 0.3em;box-sizing: border-box;text-align: center;}#sk-container-id-5 label.sk-toggleable__label-arrow:before {content: \"▸\";float: left;margin-right: 0.25em;color: #696969;}#sk-container-id-5 label.sk-toggleable__label-arrow:hover:before {color: black;}#sk-container-id-5 div.sk-estimator:hover label.sk-toggleable__label-arrow:before {color: black;}#sk-container-id-5 div.sk-toggleable__content {max-height: 0;max-width: 0;overflow: hidden;text-align: left;background-color: #f0f8ff;}#sk-container-id-5 div.sk-toggleable__content pre {margin: 0.2em;color: black;border-radius: 0.25em;background-color: #f0f8ff;}#sk-container-id-5 input.sk-toggleable__control:checked~div.sk-toggleable__content {max-height: 200px;max-width: 100%;overflow: auto;}#sk-container-id-5 input.sk-toggleable__control:checked~label.sk-toggleable__label-arrow:before {content: \"▾\";}#sk-container-id-5 div.sk-estimator input.sk-toggleable__control:checked~label.sk-toggleable__label {background-color: #d4ebff;}#sk-container-id-5 div.sk-label input.sk-toggleable__control:checked~label.sk-toggleable__label {background-color: #d4ebff;}#sk-container-id-5 input.sk-hidden--visually {border: 0;clip: rect(1px 1px 1px 1px);clip: rect(1px, 1px, 1px, 1px);height: 1px;margin: -1px;overflow: hidden;padding: 0;position: absolute;width: 1px;}#sk-container-id-5 div.sk-estimator {font-family: monospace;background-color: #f0f8ff;border: 1px dotted black;border-radius: 0.25em;box-sizing: border-box;margin-bottom: 0.5em;}#sk-container-id-5 div.sk-estimator:hover {background-color: #d4ebff;}#sk-container-id-5 div.sk-parallel-item::after {content: \"\";width: 100%;border-bottom: 1px solid gray;flex-grow: 1;}#sk-container-id-5 div.sk-label:hover label.sk-toggleable__label {background-color: #d4ebff;}#sk-container-id-5 div.sk-serial::before {content: \"\";position: absolute;border-left: 1px solid gray;box-sizing: border-box;top: 0;bottom: 0;left: 50%;z-index: 0;}#sk-container-id-5 div.sk-serial {display: flex;flex-direction: column;align-items: center;background-color: white;padding-right: 0.2em;padding-left: 0.2em;position: relative;}#sk-container-id-5 div.sk-item {position: relative;z-index: 1;}#sk-container-id-5 div.sk-parallel {display: flex;align-items: stretch;justify-content: center;background-color: white;position: relative;}#sk-container-id-5 div.sk-item::before, #sk-container-id-5 div.sk-parallel-item::before {content: \"\";position: absolute;border-left: 1px solid gray;box-sizing: border-box;top: 0;bottom: 0;left: 50%;z-index: -1;}#sk-container-id-5 div.sk-parallel-item {display: flex;flex-direction: column;z-index: 1;position: relative;background-color: white;}#sk-container-id-5 div.sk-parallel-item:first-child::after {align-self: flex-end;width: 50%;}#sk-container-id-5 div.sk-parallel-item:last-child::after {align-self: flex-start;width: 50%;}#sk-container-id-5 div.sk-parallel-item:only-child::after {width: 0;}#sk-container-id-5 div.sk-dashed-wrapped {border: 1px dashed gray;margin: 0 0.4em 0.5em 0.4em;box-sizing: border-box;padding-bottom: 0.4em;background-color: white;}#sk-container-id-5 div.sk-label label {font-family: monospace;font-weight: bold;display: inline-block;line-height: 1.2em;}#sk-container-id-5 div.sk-label-container {text-align: center;}#sk-container-id-5 div.sk-container {/* jupyter's `normalize.less` sets `[hidden] { display: none; }` but bootstrap.min.css set `[hidden] { display: none !important; }` so we also need the `!important` here to be able to override the default hidden behavior on the sphinx rendered scikit-learn.org. See: https://github.com/scikit-learn/scikit-learn/issues/21755 */display: inline-block !important;position: relative;}#sk-container-id-5 div.sk-text-repr-fallback {display: none;}</style><div id=\"sk-container-id-5\" class=\"sk-top-container\"><div class=\"sk-text-repr-fallback\"><pre>KNeighborsClassifier(n_neighbors=15)</pre><b>In a Jupyter environment, please rerun this cell to show the HTML representation or trust the notebook. <br />On GitHub, the HTML representation is unable to render, please try loading this page with nbviewer.org.</b></div><div class=\"sk-container\" hidden><div class=\"sk-item\"><div class=\"sk-estimator sk-toggleable\"><input class=\"sk-toggleable__control sk-hidden--visually\" id=\"sk-estimator-id-7\" type=\"checkbox\" checked><label for=\"sk-estimator-id-7\" class=\"sk-toggleable__label sk-toggleable__label-arrow\">KNeighborsClassifier</label><div class=\"sk-toggleable__content\"><pre>KNeighborsClassifier(n_neighbors=15)</pre></div></div></div></div></div>"
      ],
      "text/plain": [
       "KNeighborsClassifier(n_neighbors=15)"
      ]
     },
     "execution_count": 37,
     "metadata": {},
     "output_type": "execute_result"
    }
   ],
   "source": [
    "# split the data into train/test split\n",
    "X_train, X_test, y_train, y_test = train_test_split( X, y, random_state=200, train_size = 0.3)\n",
    "\n",
    "preprocessor = SelectKBest(k=20)\n",
    "X_train_selected = preprocessor.fit_transform(X_train, y_train)\n",
    "X_test_selected = preprocessor.transform(X_test)\n",
    "\n",
    "# create empty list to store cross validation scores\n",
    "cross_val_scores = []\n",
    "kfolds = KFold(n_splits = 5, random_state=0, shuffle = True)\n",
    "\n",
    "# Taking k values ranging from 1 to 15 with a step of 2\n",
    "neighbors = np.arange(1, 16, 2)\n",
    "for i in neighbors:\n",
    "    knn = KNeighborsClassifier(n_neighbors=i)\n",
    "\n",
    "    scores = cross_val_score(knn, X_train_selected, y_train, cv=kfolds)\n",
    "\n",
    "    # scores will give us five values corrsponding to five validation splits\n",
    "    # We will take mean of these five values and append the mean value to cross_val_score list\n",
    "    cross_val_scores.append(np.mean(scores))\n",
    "\n",
    "# consider the accuracy i.e highest score by using max() function\n",
    "print(f\"best cross-validation score: {np.max(cross_val_scores):.3}\")\n",
    "\n",
    "# Consider the neighbor from the split which gives  maximum cross validation score\n",
    "best_n_neighbors = neighbors[np.argmax(cross_val_scores)]\n",
    "print(f\"best_value_of_k: {best_n_neighbors}\")\n",
    "\n",
    "# Retrain the model with the best_value_of_k\n",
    "\n",
    "knn = KNeighborsClassifier(n_neighbors = best_n_neighbors)\n",
    "knn.fit(X_train_selected, y_train)"
   ]
  },
  {
   "cell_type": "markdown",
   "metadata": {
    "id": "AwSwubyij3H9"
   },
   "source": [
    "**Summary: GridSeachCV (Grid Serach Cross Validation to find best parameters)**\n",
    "\n",
    "<img src =\"https://drive.google.com/uc?export=view&id=1iK80BvXepRL1xHwJWqQa14BiNhJMVH9S\" width =600 >"
   ]
  },
  {
   "cell_type": "code",
   "execution_count": null,
   "metadata": {
    "colab": {
     "base_uri": "https://localhost:8080/"
    },
    "executionInfo": {
     "elapsed": 187,
     "status": "ok",
     "timestamp": 1693823534421,
     "user": {
      "displayName": "Shaannoor Mann",
      "userId": "02520257695567980696"
     },
     "user_tz": 300
    },
    "id": "qQT0zyQcdLmU",
    "outputId": "f5ab8621-3894-4e36-d359-1ecad798b6a8"
   },
   "outputs": [
    {
     "name": "stdout",
     "output_type": "stream",
     "text": [
      "best mean cross-validation score: 0.622\n",
      "best parameters: 15\n",
      "train-set score: 0.695\n",
      "test-set score: 0.489\n"
     ]
    }
   ],
   "source": [
    "print(f\"best mean cross-validation score: {np.max(cross_val_scores):.3}\")\n",
    "print(f\"best parameters: {best_n_neighbors}\")\n",
    "\n",
    "# We can check the accuracy score of training dataset and test dataset.\n",
    "print(f\"train-set score: {knn.score(X_train_selected, y_train):.3f}\")\n",
    "print(f\"test-set score: {knn.score(X_test_selected, y_test):.3f}\")"
   ]
  },
  {
   "cell_type": "markdown",
   "metadata": {
    "id": "w7kIhQoNhopB"
   },
   "source": [
    "<font color = 'dodgerblue'>- **The best hyperparameter is selected based on mean of cross_val_score.**\n",
    "\n",
    "<font color = 'dodgerblue'>- **However, as seen earlier, the cross_val_score is incorrect**\n",
    "\n",
    "<font color = 'indianred'>- **Key Take Away - Chain together pre-processing steps and classification/regression steps. The combined preprocessing steps and classifcation/regression steps should be considered as final model**"
   ]
  },
  {
   "cell_type": "markdown",
   "metadata": {
    "id": "IfnZ3LsUHxNl"
   },
   "source": [
    "## <font color = 'shade'>**What is Pipeline**\n",
    "\n",
    "<font color = 'indianred'>**Pipeline**</font> is a simple way of combining pre-processing and modeling steps so you can use the combination as if it were a single step. This will help us to counter both problems - **Inconsistent Preprocessing and Data Leakage**\n",
    "\n",
    "<font color = 'indianred'>**Advantages of a Pipeline:**</font>\n",
    "\n",
    "- <font color = 'indianred'>**Cleaner Code and reduce data leakage**:</font> We may have to apply multiple pre-processing steps. For example, mean imputation followed by variable transformation. Manually keeping track of training and validation folds at each stage can get messy and increase the chance of data leakage. Using pipelines will reduce the likelihood of data leakage significantly.\n",
    "- <font color = 'indianred'>**Avoid inconsistent pre-processing**:</font> You are less likely to forget to apply a pre-processing step to a test or newer dataset. Hence pipelines can help us to avoid inconsistent pre-processing.\n",
    "- <font color = 'indianred'>**Easier to Productionize**:</font> Since everything is done in one step, it becomes easier to deploy the model in **production pipelines**.\n",
    "- <font color = 'indianred'>**More Options for Model Validation**:</font> We can optimize choices in pre-processing and classification/regression steps together."
   ]
  },
  {
   "cell_type": "markdown",
   "metadata": {
    "id": "PTlEMO7KhH9v"
   },
   "source": [
    "## <font color = 'shade'>**Pipelines - Use Cases**"
   ]
  },
  {
   "cell_type": "markdown",
   "metadata": {
    "id": "4S97sHPCzhdW"
   },
   "source": [
    "Till now, we have learned some common pitfalls like inconsistent pre-processing, data leakage issues in various scenarios like in cross-validation, during hyperparameter tuning, etc.\n",
    "\n",
    "So, now we will learn how to create pipelines that resolve these issues.\n",
    "\n",
    "\n",
    "**Note:** *In the below explanations, we may use machine learning algorithms like Ridge, Lasso, LogisticeRegresssion, etc. In this lecture, we will not learn about these models; these models are just to show how to create pipelines with various ML models. All the required and necessary machine learning model implementation will be explained in future lectures.*"
   ]
  },
  {
   "cell_type": "markdown",
   "metadata": {
    "id": "3dzuYGOQJdCD"
   },
   "source": [
    "### <font color = 'shade'>**Pipeline for inconsistent pre-processing**"
   ]
  },
  {
   "cell_type": "code",
   "execution_count": null,
   "metadata": {
    "id": "eRItHasmh7EN"
   },
   "outputs": [],
   "source": [
    "# Generate dataset\n",
    "X12, y = make_classification(n_samples=1000, n_features=2, n_informative=2, n_redundant=0, random_state=7)\n",
    "X3 = 1000 * np.random.standard_normal((1000, 1))\n",
    "X = np.concatenate((X12,X3), axis =1)\n",
    "X_train, X_test, y_train, y_test = train_test_split( X, y, random_state=200, train_size = 0.3)"
   ]
  },
  {
   "cell_type": "code",
   "execution_count": null,
   "metadata": {
    "id": "vO69d2Q-h7EO"
   },
   "outputs": [],
   "source": [
    "# specify the preprocessing step and model\n",
    "preprocessor = StandardScaler()\n",
    "knn = KNeighborsClassifier()\n",
    "# chain preprocessing step and model into one step using pipeline\n",
    "\n",
    "model = make_pipeline(preprocessor, knn)"
   ]
  },
  {
   "cell_type": "markdown",
   "metadata": {
    "id": "jE6c5s7RjVWL"
   },
   "source": [
    "- Pipeline chains together multiple transformations and final estimator in one step.\n",
    "- The transformations and estimators are applied sequentially."
   ]
  },
  {
   "cell_type": "code",
   "execution_count": null,
   "metadata": {
    "colab": {
     "base_uri": "https://localhost:8080/",
     "height": 126
    },
    "executionInfo": {
     "elapsed": 138,
     "status": "ok",
     "timestamp": 1693823554893,
     "user": {
      "displayName": "Shaannoor Mann",
      "userId": "02520257695567980696"
     },
     "user_tz": 300
    },
    "id": "cmaHyvZ5h7EO",
    "outputId": "e9cc7551-76e6-494f-ba25-c52a7f6472d1"
   },
   "outputs": [
    {
     "data": {
      "text/html": [
       "<style>#sk-container-id-6 {color: black;background-color: white;}#sk-container-id-6 pre{padding: 0;}#sk-container-id-6 div.sk-toggleable {background-color: white;}#sk-container-id-6 label.sk-toggleable__label {cursor: pointer;display: block;width: 100%;margin-bottom: 0;padding: 0.3em;box-sizing: border-box;text-align: center;}#sk-container-id-6 label.sk-toggleable__label-arrow:before {content: \"▸\";float: left;margin-right: 0.25em;color: #696969;}#sk-container-id-6 label.sk-toggleable__label-arrow:hover:before {color: black;}#sk-container-id-6 div.sk-estimator:hover label.sk-toggleable__label-arrow:before {color: black;}#sk-container-id-6 div.sk-toggleable__content {max-height: 0;max-width: 0;overflow: hidden;text-align: left;background-color: #f0f8ff;}#sk-container-id-6 div.sk-toggleable__content pre {margin: 0.2em;color: black;border-radius: 0.25em;background-color: #f0f8ff;}#sk-container-id-6 input.sk-toggleable__control:checked~div.sk-toggleable__content {max-height: 200px;max-width: 100%;overflow: auto;}#sk-container-id-6 input.sk-toggleable__control:checked~label.sk-toggleable__label-arrow:before {content: \"▾\";}#sk-container-id-6 div.sk-estimator input.sk-toggleable__control:checked~label.sk-toggleable__label {background-color: #d4ebff;}#sk-container-id-6 div.sk-label input.sk-toggleable__control:checked~label.sk-toggleable__label {background-color: #d4ebff;}#sk-container-id-6 input.sk-hidden--visually {border: 0;clip: rect(1px 1px 1px 1px);clip: rect(1px, 1px, 1px, 1px);height: 1px;margin: -1px;overflow: hidden;padding: 0;position: absolute;width: 1px;}#sk-container-id-6 div.sk-estimator {font-family: monospace;background-color: #f0f8ff;border: 1px dotted black;border-radius: 0.25em;box-sizing: border-box;margin-bottom: 0.5em;}#sk-container-id-6 div.sk-estimator:hover {background-color: #d4ebff;}#sk-container-id-6 div.sk-parallel-item::after {content: \"\";width: 100%;border-bottom: 1px solid gray;flex-grow: 1;}#sk-container-id-6 div.sk-label:hover label.sk-toggleable__label {background-color: #d4ebff;}#sk-container-id-6 div.sk-serial::before {content: \"\";position: absolute;border-left: 1px solid gray;box-sizing: border-box;top: 0;bottom: 0;left: 50%;z-index: 0;}#sk-container-id-6 div.sk-serial {display: flex;flex-direction: column;align-items: center;background-color: white;padding-right: 0.2em;padding-left: 0.2em;position: relative;}#sk-container-id-6 div.sk-item {position: relative;z-index: 1;}#sk-container-id-6 div.sk-parallel {display: flex;align-items: stretch;justify-content: center;background-color: white;position: relative;}#sk-container-id-6 div.sk-item::before, #sk-container-id-6 div.sk-parallel-item::before {content: \"\";position: absolute;border-left: 1px solid gray;box-sizing: border-box;top: 0;bottom: 0;left: 50%;z-index: -1;}#sk-container-id-6 div.sk-parallel-item {display: flex;flex-direction: column;z-index: 1;position: relative;background-color: white;}#sk-container-id-6 div.sk-parallel-item:first-child::after {align-self: flex-end;width: 50%;}#sk-container-id-6 div.sk-parallel-item:last-child::after {align-self: flex-start;width: 50%;}#sk-container-id-6 div.sk-parallel-item:only-child::after {width: 0;}#sk-container-id-6 div.sk-dashed-wrapped {border: 1px dashed gray;margin: 0 0.4em 0.5em 0.4em;box-sizing: border-box;padding-bottom: 0.4em;background-color: white;}#sk-container-id-6 div.sk-label label {font-family: monospace;font-weight: bold;display: inline-block;line-height: 1.2em;}#sk-container-id-6 div.sk-label-container {text-align: center;}#sk-container-id-6 div.sk-container {/* jupyter's `normalize.less` sets `[hidden] { display: none; }` but bootstrap.min.css set `[hidden] { display: none !important; }` so we also need the `!important` here to be able to override the default hidden behavior on the sphinx rendered scikit-learn.org. See: https://github.com/scikit-learn/scikit-learn/issues/21755 */display: inline-block !important;position: relative;}#sk-container-id-6 div.sk-text-repr-fallback {display: none;}</style><div id=\"sk-container-id-6\" class=\"sk-top-container\"><div class=\"sk-text-repr-fallback\"><pre>Pipeline(steps=[(&#x27;standardscaler&#x27;, StandardScaler()),\n",
       "                (&#x27;kneighborsclassifier&#x27;, KNeighborsClassifier())])</pre><b>In a Jupyter environment, please rerun this cell to show the HTML representation or trust the notebook. <br />On GitHub, the HTML representation is unable to render, please try loading this page with nbviewer.org.</b></div><div class=\"sk-container\" hidden><div class=\"sk-item sk-dashed-wrapped\"><div class=\"sk-label-container\"><div class=\"sk-label sk-toggleable\"><input class=\"sk-toggleable__control sk-hidden--visually\" id=\"sk-estimator-id-8\" type=\"checkbox\" ><label for=\"sk-estimator-id-8\" class=\"sk-toggleable__label sk-toggleable__label-arrow\">Pipeline</label><div class=\"sk-toggleable__content\"><pre>Pipeline(steps=[(&#x27;standardscaler&#x27;, StandardScaler()),\n",
       "                (&#x27;kneighborsclassifier&#x27;, KNeighborsClassifier())])</pre></div></div></div><div class=\"sk-serial\"><div class=\"sk-item\"><div class=\"sk-estimator sk-toggleable\"><input class=\"sk-toggleable__control sk-hidden--visually\" id=\"sk-estimator-id-9\" type=\"checkbox\" ><label for=\"sk-estimator-id-9\" class=\"sk-toggleable__label sk-toggleable__label-arrow\">StandardScaler</label><div class=\"sk-toggleable__content\"><pre>StandardScaler()</pre></div></div></div><div class=\"sk-item\"><div class=\"sk-estimator sk-toggleable\"><input class=\"sk-toggleable__control sk-hidden--visually\" id=\"sk-estimator-id-10\" type=\"checkbox\" ><label for=\"sk-estimator-id-10\" class=\"sk-toggleable__label sk-toggleable__label-arrow\">KNeighborsClassifier</label><div class=\"sk-toggleable__content\"><pre>KNeighborsClassifier()</pre></div></div></div></div></div></div></div>"
      ],
      "text/plain": [
       "Pipeline(steps=[('standardscaler', StandardScaler()),\n",
       "                ('kneighborsclassifier', KNeighborsClassifier())])"
      ]
     },
     "execution_count": 41,
     "metadata": {},
     "output_type": "execute_result"
    }
   ],
   "source": [
    "# fit the model on train dataset\n",
    "model.fit(X_train, y_train)"
   ]
  },
  {
   "cell_type": "code",
   "execution_count": null,
   "metadata": {
    "colab": {
     "base_uri": "https://localhost:8080/"
    },
    "executionInfo": {
     "elapsed": 123,
     "status": "ok",
     "timestamp": 1693823556860,
     "user": {
      "displayName": "Shaannoor Mann",
      "userId": "02520257695567980696"
     },
     "user_tz": 300
    },
    "id": "5U2aba7Uj70U",
    "outputId": "b7281694-2e3e-4532-b4c0-137907fac1b0"
   },
   "outputs": [
    {
     "name": "stdout",
     "output_type": "stream",
     "text": [
      "Model score on training dataset: 0.9433333333333334\n",
      "Model score on test dataset: 0.9471428571428572\n"
     ]
    }
   ],
   "source": [
    "print(f'Model score on training dataset: {model.score(X_train, y_train)}')\n",
    "print(f'Model score on test dataset: {model.score(X_test, y_test)}')"
   ]
  },
  {
   "cell_type": "markdown",
   "metadata": {
    "id": "VmTmpEthnT9Q"
   },
   "source": [
    "**Since we have chained everything into one step, it is difficult to omit to apply pre-processing step on test data.**"
   ]
  },
  {
   "cell_type": "markdown",
   "metadata": {
    "id": "PJLaxllaf-CS"
   },
   "source": [
    "### <font color = 'shade'>**Pipeline for  Data leakage**"
   ]
  },
  {
   "cell_type": "code",
   "execution_count": null,
   "metadata": {
    "id": "hkVps_yDltC4"
   },
   "outputs": [],
   "source": [
    "np.random.seed(123)\n",
    "X = np.random.standard_normal((2000, 5000))\n",
    "y = np.random.choice(2, 2000)"
   ]
  },
  {
   "cell_type": "code",
   "execution_count": null,
   "metadata": {
    "id": "kbcaLQwIl2Oj"
   },
   "outputs": [],
   "source": [
    "# make a pipeline to combine SelectKBest and KNeighborsClassifier() in to one step\n",
    "model = make_pipeline(SelectKBest(k=20), KNeighborsClassifier())"
   ]
  },
  {
   "cell_type": "code",
   "execution_count": null,
   "metadata": {
    "id": "9HNrWkJ6mCcY"
   },
   "outputs": [],
   "source": [
    "# split the data into train/test split\n",
    "X_train, X_test, y_train, y_test = train_test_split( X, y, random_state=200, train_size = 0.3)"
   ]
  },
  {
   "cell_type": "code",
   "execution_count": null,
   "metadata": {
    "colab": {
     "base_uri": "https://localhost:8080/"
    },
    "executionInfo": {
     "elapsed": 286,
     "status": "ok",
     "timestamp": 1693823616877,
     "user": {
      "displayName": "Shaannoor Mann",
      "userId": "02520257695567980696"
     },
     "user_tz": 300
    },
    "id": "1VxnXFCfmVQI",
    "outputId": "46a6af5b-3d42-48a6-cc24-dc3029186db0"
   },
   "outputs": [
    {
     "name": "stdout",
     "output_type": "stream",
     "text": [
      "Model score on training dataset: 0.7233333333333334\n",
      "Model score on test dataset: 0.49142857142857144\n"
     ]
    }
   ],
   "source": [
    "model.fit(X_train, y_train)\n",
    "print(f'Model score on training dataset: {model.score(X_train, y_train)}')\n",
    "print(f'Model score on test dataset: {model.score(X_test, y_test)}')"
   ]
  },
  {
   "cell_type": "markdown",
   "metadata": {
    "id": "IkQc8yUxnsVz"
   },
   "source": [
    "<font color = 'indianred'>**Since we fit the combined model (preprocesing + classifier) on training data, the features are selected only based on the training data. When we call the score, both the steps are applied to the test dataset.**\n",
    "\n"
   ]
  },
  {
   "cell_type": "markdown",
   "metadata": {
    "id": "6QUr7smcgLtY"
   },
   "source": [
    "### <font color = 'shade'>**Pipeline - Data leakage in cross validation**\n",
    "**Task** - Redo the cross validation in section \"Data Leakage in Cross Validation\" using Pipelines. Exaplin how using pipelines will resolve the data leakage."
   ]
  },
  {
   "cell_type": "code",
   "execution_count": null,
   "metadata": {
    "colab": {
     "base_uri": "https://localhost:8080/"
    },
    "executionInfo": {
     "elapsed": 395,
     "status": "ok",
     "timestamp": 1693823620338,
     "user": {
      "displayName": "Shaannoor Mann",
      "userId": "02520257695567980696"
     },
     "user_tz": 300
    },
    "id": "OzQFtE9ynCNB",
    "outputId": "c4960972-526e-43b1-c5f8-0c3ce2f72d21"
   },
   "outputs": [
    {
     "data": {
      "text/plain": [
       "0.49000000000000005"
      ]
     },
     "execution_count": 53,
     "metadata": {},
     "output_type": "execute_result"
    }
   ],
   "source": [
    "kfolds = KFold(n_splits = 5, random_state=0, shuffle = True)\n",
    "scores = cross_val_score(model, X_train, y_train, cv=kfolds)\n",
    "scores.mean()"
   ]
  },
  {
   "cell_type": "markdown",
   "metadata": {
    "id": "r4JEoVEKnN0q"
   },
   "source": [
    "- In each cross-validation split, the model (pre-processor + classifier) is fitted on the training fold.\n",
    "\n",
    "- Therefore, during training, the model is never exposed to data from the validation fold.\n",
    "- The scores are then calculated by applying the trained model (pre-processor + classifier) on the validation fold.\n",
    "\n",
    "- Thus, the cross-validation score gives a good approximation of how the model will perform on the unseen data."
   ]
  },
  {
   "cell_type": "markdown",
   "metadata": {
    "id": "UaaS36obKTbG"
   },
   "source": [
    "### <font color = 'shade'>**Pipeline and GridserachCV- Correct Hyperparameter Tuning**\n",
    "\n",
    "**Task** - Redo the hyperparameter tuning in section \"Incorrect Hyperparameter Tuning\" using Pipelines. Explain how using pipelines will resolve the data leakage."
   ]
  },
  {
   "cell_type": "code",
   "execution_count": null,
   "metadata": {
    "colab": {
     "base_uri": "https://localhost:8080/",
     "height": 152
    },
    "executionInfo": {
     "elapsed": 4404,
     "status": "ok",
     "timestamp": 1693823627065,
     "user": {
      "displayName": "Shaannoor Mann",
      "userId": "02520257695567980696"
     },
     "user_tz": 300
    },
    "id": "onkUxiGi2RA7",
    "outputId": "4b9b7e27-745b-4690-9d9b-9f5a33a50b43"
   },
   "outputs": [
    {
     "data": {
      "text/html": [
       "<style>#sk-container-id-8 {color: black;background-color: white;}#sk-container-id-8 pre{padding: 0;}#sk-container-id-8 div.sk-toggleable {background-color: white;}#sk-container-id-8 label.sk-toggleable__label {cursor: pointer;display: block;width: 100%;margin-bottom: 0;padding: 0.3em;box-sizing: border-box;text-align: center;}#sk-container-id-8 label.sk-toggleable__label-arrow:before {content: \"▸\";float: left;margin-right: 0.25em;color: #696969;}#sk-container-id-8 label.sk-toggleable__label-arrow:hover:before {color: black;}#sk-container-id-8 div.sk-estimator:hover label.sk-toggleable__label-arrow:before {color: black;}#sk-container-id-8 div.sk-toggleable__content {max-height: 0;max-width: 0;overflow: hidden;text-align: left;background-color: #f0f8ff;}#sk-container-id-8 div.sk-toggleable__content pre {margin: 0.2em;color: black;border-radius: 0.25em;background-color: #f0f8ff;}#sk-container-id-8 input.sk-toggleable__control:checked~div.sk-toggleable__content {max-height: 200px;max-width: 100%;overflow: auto;}#sk-container-id-8 input.sk-toggleable__control:checked~label.sk-toggleable__label-arrow:before {content: \"▾\";}#sk-container-id-8 div.sk-estimator input.sk-toggleable__control:checked~label.sk-toggleable__label {background-color: #d4ebff;}#sk-container-id-8 div.sk-label input.sk-toggleable__control:checked~label.sk-toggleable__label {background-color: #d4ebff;}#sk-container-id-8 input.sk-hidden--visually {border: 0;clip: rect(1px 1px 1px 1px);clip: rect(1px, 1px, 1px, 1px);height: 1px;margin: -1px;overflow: hidden;padding: 0;position: absolute;width: 1px;}#sk-container-id-8 div.sk-estimator {font-family: monospace;background-color: #f0f8ff;border: 1px dotted black;border-radius: 0.25em;box-sizing: border-box;margin-bottom: 0.5em;}#sk-container-id-8 div.sk-estimator:hover {background-color: #d4ebff;}#sk-container-id-8 div.sk-parallel-item::after {content: \"\";width: 100%;border-bottom: 1px solid gray;flex-grow: 1;}#sk-container-id-8 div.sk-label:hover label.sk-toggleable__label {background-color: #d4ebff;}#sk-container-id-8 div.sk-serial::before {content: \"\";position: absolute;border-left: 1px solid gray;box-sizing: border-box;top: 0;bottom: 0;left: 50%;z-index: 0;}#sk-container-id-8 div.sk-serial {display: flex;flex-direction: column;align-items: center;background-color: white;padding-right: 0.2em;padding-left: 0.2em;position: relative;}#sk-container-id-8 div.sk-item {position: relative;z-index: 1;}#sk-container-id-8 div.sk-parallel {display: flex;align-items: stretch;justify-content: center;background-color: white;position: relative;}#sk-container-id-8 div.sk-item::before, #sk-container-id-8 div.sk-parallel-item::before {content: \"\";position: absolute;border-left: 1px solid gray;box-sizing: border-box;top: 0;bottom: 0;left: 50%;z-index: -1;}#sk-container-id-8 div.sk-parallel-item {display: flex;flex-direction: column;z-index: 1;position: relative;background-color: white;}#sk-container-id-8 div.sk-parallel-item:first-child::after {align-self: flex-end;width: 50%;}#sk-container-id-8 div.sk-parallel-item:last-child::after {align-self: flex-start;width: 50%;}#sk-container-id-8 div.sk-parallel-item:only-child::after {width: 0;}#sk-container-id-8 div.sk-dashed-wrapped {border: 1px dashed gray;margin: 0 0.4em 0.5em 0.4em;box-sizing: border-box;padding-bottom: 0.4em;background-color: white;}#sk-container-id-8 div.sk-label label {font-family: monospace;font-weight: bold;display: inline-block;line-height: 1.2em;}#sk-container-id-8 div.sk-label-container {text-align: center;}#sk-container-id-8 div.sk-container {/* jupyter's `normalize.less` sets `[hidden] { display: none; }` but bootstrap.min.css set `[hidden] { display: none !important; }` so we also need the `!important` here to be able to override the default hidden behavior on the sphinx rendered scikit-learn.org. See: https://github.com/scikit-learn/scikit-learn/issues/21755 */display: inline-block !important;position: relative;}#sk-container-id-8 div.sk-text-repr-fallback {display: none;}</style><div id=\"sk-container-id-8\" class=\"sk-top-container\"><div class=\"sk-text-repr-fallback\"><pre>GridSearchCV(cv=KFold(n_splits=5, random_state=0, shuffle=True),\n",
       "             estimator=Pipeline(steps=[(&#x27;selectkbest&#x27;, SelectKBest(k=20)),\n",
       "                                       (&#x27;kneighborsclassifier&#x27;,\n",
       "                                        KNeighborsClassifier())]),\n",
       "             param_grid={&#x27;kneighborsclassifier__n_neighbors&#x27;: array([ 1,  3,  5,  7,  9, 11, 13, 15])},\n",
       "             return_train_score=True)</pre><b>In a Jupyter environment, please rerun this cell to show the HTML representation or trust the notebook. <br />On GitHub, the HTML representation is unable to render, please try loading this page with nbviewer.org.</b></div><div class=\"sk-container\" hidden><div class=\"sk-item sk-dashed-wrapped\"><div class=\"sk-label-container\"><div class=\"sk-label sk-toggleable\"><input class=\"sk-toggleable__control sk-hidden--visually\" id=\"sk-estimator-id-15\" type=\"checkbox\" ><label for=\"sk-estimator-id-15\" class=\"sk-toggleable__label sk-toggleable__label-arrow\">GridSearchCV</label><div class=\"sk-toggleable__content\"><pre>GridSearchCV(cv=KFold(n_splits=5, random_state=0, shuffle=True),\n",
       "             estimator=Pipeline(steps=[(&#x27;selectkbest&#x27;, SelectKBest(k=20)),\n",
       "                                       (&#x27;kneighborsclassifier&#x27;,\n",
       "                                        KNeighborsClassifier())]),\n",
       "             param_grid={&#x27;kneighborsclassifier__n_neighbors&#x27;: array([ 1,  3,  5,  7,  9, 11, 13, 15])},\n",
       "             return_train_score=True)</pre></div></div></div><div class=\"sk-parallel\"><div class=\"sk-parallel-item\"><div class=\"sk-item\"><div class=\"sk-label-container\"><div class=\"sk-label sk-toggleable\"><input class=\"sk-toggleable__control sk-hidden--visually\" id=\"sk-estimator-id-16\" type=\"checkbox\" ><label for=\"sk-estimator-id-16\" class=\"sk-toggleable__label sk-toggleable__label-arrow\">estimator: Pipeline</label><div class=\"sk-toggleable__content\"><pre>Pipeline(steps=[(&#x27;selectkbest&#x27;, SelectKBest(k=20)),\n",
       "                (&#x27;kneighborsclassifier&#x27;, KNeighborsClassifier())])</pre></div></div></div><div class=\"sk-serial\"><div class=\"sk-item\"><div class=\"sk-serial\"><div class=\"sk-item\"><div class=\"sk-estimator sk-toggleable\"><input class=\"sk-toggleable__control sk-hidden--visually\" id=\"sk-estimator-id-17\" type=\"checkbox\" ><label for=\"sk-estimator-id-17\" class=\"sk-toggleable__label sk-toggleable__label-arrow\">SelectKBest</label><div class=\"sk-toggleable__content\"><pre>SelectKBest(k=20)</pre></div></div></div><div class=\"sk-item\"><div class=\"sk-estimator sk-toggleable\"><input class=\"sk-toggleable__control sk-hidden--visually\" id=\"sk-estimator-id-18\" type=\"checkbox\" ><label for=\"sk-estimator-id-18\" class=\"sk-toggleable__label sk-toggleable__label-arrow\">KNeighborsClassifier</label><div class=\"sk-toggleable__content\"><pre>KNeighborsClassifier()</pre></div></div></div></div></div></div></div></div></div></div></div></div>"
      ],
      "text/plain": [
       "GridSearchCV(cv=KFold(n_splits=5, random_state=0, shuffle=True),\n",
       "             estimator=Pipeline(steps=[('selectkbest', SelectKBest(k=20)),\n",
       "                                       ('kneighborsclassifier',\n",
       "                                        KNeighborsClassifier())]),\n",
       "             param_grid={'kneighborsclassifier__n_neighbors': array([ 1,  3,  5,  7,  9, 11, 13, 15])},\n",
       "             return_train_score=True)"
      ]
     },
     "execution_count": 54,
     "metadata": {},
     "output_type": "execute_result"
    }
   ],
   "source": [
    "model = make_pipeline(SelectKBest(k=20), KNeighborsClassifier())\n",
    "# giving the param_grid values\n",
    "param_grid = {'kneighborsclassifier__n_neighbors':  np.arange(1, 16, 2)}\n",
    "\n",
    "# Using GridSearchCV for kNN classification and returning the train_score as True\n",
    "grid = GridSearchCV(model, param_grid=param_grid, cv=kfolds,\n",
    "                   return_train_score=True)\n",
    "\n",
    "# Now fit the  GridSearchCV on the X_train, y_train by using fit() method\n",
    "grid.fit(X_train, y_train)"
   ]
  },
  {
   "cell_type": "code",
   "execution_count": null,
   "metadata": {
    "colab": {
     "base_uri": "https://localhost:8080/"
    },
    "executionInfo": {
     "elapsed": 132,
     "status": "ok",
     "timestamp": 1693823634160,
     "user": {
      "displayName": "Shaannoor Mann",
      "userId": "02520257695567980696"
     },
     "user_tz": 300
    },
    "id": "njJK1KqA1cCE",
    "outputId": "cd374342-28cf-474e-e65e-045e3476472b"
   },
   "outputs": [
    {
     "name": "stdout",
     "output_type": "stream",
     "text": [
      "best mean cross-validation score: 0.5066666666666666\n",
      "best parameters: {'kneighborsclassifier__n_neighbors': 3}\n",
      "train-set score: 0.782\n",
      "test-set score: 0.496\n"
     ]
    }
   ],
   "source": [
    "print(f\"best mean cross-validation score: {grid.best_score_}\")\n",
    "print(f\"best parameters: {grid.best_params_}\")\n",
    "\n",
    "# We can check the accuracy score of training dataset and test dataset.\n",
    "print(f\"train-set score: {grid.score(X_train, y_train):.3f}\")\n",
    "print(f\"test-set score: {grid.score(X_test, y_test):.3f}\")"
   ]
  },
  {
   "cell_type": "markdown",
   "metadata": {
    "id": "jTV764XA3DpM"
   },
   "source": [
    "- Since we combined preprocessing and classifier into one step, there is no data leakage in the cross-validation step that is used to find the hyperparameters.\n",
    "- We no longer see over-optimistic best cross-validation score."
   ]
  },
  {
   "cell_type": "markdown",
   "metadata": {
    "id": "TyfjA3ixKbmQ"
   },
   "source": [
    "### <font color = 'shade'>**Optimizing PreProcessing and Classifier together**"
   ]
  },
  {
   "cell_type": "markdown",
   "metadata": {
    "id": "pqS8lsZr8qTg"
   },
   "source": [
    "**Task**\n",
    "- Create a pipeline where we add polynomial features (PolynomialFeatures(), followed by scaling (StandardScaler() and finally KNeighborsRegressor().\n",
    "- Optimize Polynomial features (degree of 1, 2, and 3) and KNeighborsRegressor (n_neighbors = 1 to 10) jointly in a single pipeline. Here you will evaluate different combinations of pre-processing steps and KNeighborsRegressor."
   ]
  },
  {
   "cell_type": "code",
   "execution_count": null,
   "metadata": {
    "colab": {
     "base_uri": "https://localhost:8080/"
    },
    "executionInfo": {
     "elapsed": 103,
     "status": "ok",
     "timestamp": 1693823665480,
     "user": {
      "displayName": "Shaannoor Mann",
      "userId": "02520257695567980696"
     },
     "user_tz": 300
    },
    "id": "sdKj5nD28b6E",
    "outputId": "139ab1b2-3ea7-42ed-a49c-fa837033a6f4"
   },
   "outputs": [
    {
     "name": "stdout",
     "output_type": "stream",
     "text": [
      ".. _diabetes_dataset:  Diabetes dataset ----------------  Ten baseline variables, age, sex, body\n",
      "mass index, average blood pressure, and six blood serum measurements were obtained for each of n =\n",
      "442 diabetes patients, as well as the response of interest, a quantitative measure of disease\n",
      "progression one year after baseline.  **Data Set Characteristics:**    :Number of Instances: 442\n",
      ":Number of Attributes: First 10 columns are numeric predictive values    :Target: Column 11 is a\n",
      "quantitative measure of disease progression one year after baseline    :Attribute Information:\n",
      "- age     age in years       - sex       - bmi     body mass index       - bp      average blood\n",
      "pressure       - s1      tc, total serum cholesterol       - s2      ldl, low-density lipoproteins\n",
      "- s3      hdl, high-density lipoproteins       - s4      tch, total cholesterol / HDL       - s5\n",
      "ltg, possibly log of serum triglycerides level       - s6      glu, blood sugar level  Note: Each of\n",
      "these 10 feature variables have been mean centered and scaled by the standard deviation times the\n",
      "square root of `n_samples` (i.e. the sum of squares of each column totals 1).  Source URL:\n",
      "https://www4.stat.ncsu.edu/~boos/var.select/diabetes.html  For more information see: Bradley Efron,\n",
      "Trevor Hastie, Iain Johnstone and Robert Tibshirani (2004) \"Least Angle Regression,\" Annals of\n",
      "Statistics (with discussion), 407-499.\n",
      "(https://web.stanford.edu/~hastie/Papers/LARS/LeastAngle_2002.pdf)\n"
     ]
    }
   ],
   "source": [
    "diabetes = load_diabetes()\n",
    "print(tw.fill(diabetes.DESCR, 100))\n",
    "X_train, X_test, y_train, y_test = train_test_split(\n",
    "    diabetes.data, diabetes.target, random_state=1)"
   ]
  },
  {
   "cell_type": "code",
   "execution_count": null,
   "metadata": {
    "colab": {
     "base_uri": "https://localhost:8080/",
     "height": 187
    },
    "executionInfo": {
     "elapsed": 3272,
     "status": "ok",
     "timestamp": 1693823672367,
     "user": {
      "displayName": "Shaannoor Mann",
      "userId": "02520257695567980696"
     },
     "user_tz": 300
    },
    "id": "wi0RHeAT8hk4",
    "outputId": "47fcd33b-e784-48e0-d0be-340282d15cdd"
   },
   "outputs": [
    {
     "data": {
      "text/html": [
       "<style>#sk-container-id-9 {color: black;background-color: white;}#sk-container-id-9 pre{padding: 0;}#sk-container-id-9 div.sk-toggleable {background-color: white;}#sk-container-id-9 label.sk-toggleable__label {cursor: pointer;display: block;width: 100%;margin-bottom: 0;padding: 0.3em;box-sizing: border-box;text-align: center;}#sk-container-id-9 label.sk-toggleable__label-arrow:before {content: \"▸\";float: left;margin-right: 0.25em;color: #696969;}#sk-container-id-9 label.sk-toggleable__label-arrow:hover:before {color: black;}#sk-container-id-9 div.sk-estimator:hover label.sk-toggleable__label-arrow:before {color: black;}#sk-container-id-9 div.sk-toggleable__content {max-height: 0;max-width: 0;overflow: hidden;text-align: left;background-color: #f0f8ff;}#sk-container-id-9 div.sk-toggleable__content pre {margin: 0.2em;color: black;border-radius: 0.25em;background-color: #f0f8ff;}#sk-container-id-9 input.sk-toggleable__control:checked~div.sk-toggleable__content {max-height: 200px;max-width: 100%;overflow: auto;}#sk-container-id-9 input.sk-toggleable__control:checked~label.sk-toggleable__label-arrow:before {content: \"▾\";}#sk-container-id-9 div.sk-estimator input.sk-toggleable__control:checked~label.sk-toggleable__label {background-color: #d4ebff;}#sk-container-id-9 div.sk-label input.sk-toggleable__control:checked~label.sk-toggleable__label {background-color: #d4ebff;}#sk-container-id-9 input.sk-hidden--visually {border: 0;clip: rect(1px 1px 1px 1px);clip: rect(1px, 1px, 1px, 1px);height: 1px;margin: -1px;overflow: hidden;padding: 0;position: absolute;width: 1px;}#sk-container-id-9 div.sk-estimator {font-family: monospace;background-color: #f0f8ff;border: 1px dotted black;border-radius: 0.25em;box-sizing: border-box;margin-bottom: 0.5em;}#sk-container-id-9 div.sk-estimator:hover {background-color: #d4ebff;}#sk-container-id-9 div.sk-parallel-item::after {content: \"\";width: 100%;border-bottom: 1px solid gray;flex-grow: 1;}#sk-container-id-9 div.sk-label:hover label.sk-toggleable__label {background-color: #d4ebff;}#sk-container-id-9 div.sk-serial::before {content: \"\";position: absolute;border-left: 1px solid gray;box-sizing: border-box;top: 0;bottom: 0;left: 50%;z-index: 0;}#sk-container-id-9 div.sk-serial {display: flex;flex-direction: column;align-items: center;background-color: white;padding-right: 0.2em;padding-left: 0.2em;position: relative;}#sk-container-id-9 div.sk-item {position: relative;z-index: 1;}#sk-container-id-9 div.sk-parallel {display: flex;align-items: stretch;justify-content: center;background-color: white;position: relative;}#sk-container-id-9 div.sk-item::before, #sk-container-id-9 div.sk-parallel-item::before {content: \"\";position: absolute;border-left: 1px solid gray;box-sizing: border-box;top: 0;bottom: 0;left: 50%;z-index: -1;}#sk-container-id-9 div.sk-parallel-item {display: flex;flex-direction: column;z-index: 1;position: relative;background-color: white;}#sk-container-id-9 div.sk-parallel-item:first-child::after {align-self: flex-end;width: 50%;}#sk-container-id-9 div.sk-parallel-item:last-child::after {align-self: flex-start;width: 50%;}#sk-container-id-9 div.sk-parallel-item:only-child::after {width: 0;}#sk-container-id-9 div.sk-dashed-wrapped {border: 1px dashed gray;margin: 0 0.4em 0.5em 0.4em;box-sizing: border-box;padding-bottom: 0.4em;background-color: white;}#sk-container-id-9 div.sk-label label {font-family: monospace;font-weight: bold;display: inline-block;line-height: 1.2em;}#sk-container-id-9 div.sk-label-container {text-align: center;}#sk-container-id-9 div.sk-container {/* jupyter's `normalize.less` sets `[hidden] { display: none; }` but bootstrap.min.css set `[hidden] { display: none !important; }` so we also need the `!important` here to be able to override the default hidden behavior on the sphinx rendered scikit-learn.org. See: https://github.com/scikit-learn/scikit-learn/issues/21755 */display: inline-block !important;position: relative;}#sk-container-id-9 div.sk-text-repr-fallback {display: none;}</style><div id=\"sk-container-id-9\" class=\"sk-top-container\"><div class=\"sk-text-repr-fallback\"><pre>GridSearchCV(estimator=Pipeline(steps=[(&#x27;polynomialfeatures&#x27;,\n",
       "                                        PolynomialFeatures()),\n",
       "                                       (&#x27;standardscaler&#x27;, StandardScaler()),\n",
       "                                       (&#x27;kneighborsregressor&#x27;,\n",
       "                                        KNeighborsRegressor())]),\n",
       "             n_jobs=-1,\n",
       "             param_grid={&#x27;kneighborsregressor__n_neighbors&#x27;: range(1, 10),\n",
       "                         &#x27;polynomialfeatures__degree&#x27;: [1, 2, 3]},\n",
       "             return_train_score=True)</pre><b>In a Jupyter environment, please rerun this cell to show the HTML representation or trust the notebook. <br />On GitHub, the HTML representation is unable to render, please try loading this page with nbviewer.org.</b></div><div class=\"sk-container\" hidden><div class=\"sk-item sk-dashed-wrapped\"><div class=\"sk-label-container\"><div class=\"sk-label sk-toggleable\"><input class=\"sk-toggleable__control sk-hidden--visually\" id=\"sk-estimator-id-19\" type=\"checkbox\" ><label for=\"sk-estimator-id-19\" class=\"sk-toggleable__label sk-toggleable__label-arrow\">GridSearchCV</label><div class=\"sk-toggleable__content\"><pre>GridSearchCV(estimator=Pipeline(steps=[(&#x27;polynomialfeatures&#x27;,\n",
       "                                        PolynomialFeatures()),\n",
       "                                       (&#x27;standardscaler&#x27;, StandardScaler()),\n",
       "                                       (&#x27;kneighborsregressor&#x27;,\n",
       "                                        KNeighborsRegressor())]),\n",
       "             n_jobs=-1,\n",
       "             param_grid={&#x27;kneighborsregressor__n_neighbors&#x27;: range(1, 10),\n",
       "                         &#x27;polynomialfeatures__degree&#x27;: [1, 2, 3]},\n",
       "             return_train_score=True)</pre></div></div></div><div class=\"sk-parallel\"><div class=\"sk-parallel-item\"><div class=\"sk-item\"><div class=\"sk-label-container\"><div class=\"sk-label sk-toggleable\"><input class=\"sk-toggleable__control sk-hidden--visually\" id=\"sk-estimator-id-20\" type=\"checkbox\" ><label for=\"sk-estimator-id-20\" class=\"sk-toggleable__label sk-toggleable__label-arrow\">estimator: Pipeline</label><div class=\"sk-toggleable__content\"><pre>Pipeline(steps=[(&#x27;polynomialfeatures&#x27;, PolynomialFeatures()),\n",
       "                (&#x27;standardscaler&#x27;, StandardScaler()),\n",
       "                (&#x27;kneighborsregressor&#x27;, KNeighborsRegressor())])</pre></div></div></div><div class=\"sk-serial\"><div class=\"sk-item\"><div class=\"sk-serial\"><div class=\"sk-item\"><div class=\"sk-estimator sk-toggleable\"><input class=\"sk-toggleable__control sk-hidden--visually\" id=\"sk-estimator-id-21\" type=\"checkbox\" ><label for=\"sk-estimator-id-21\" class=\"sk-toggleable__label sk-toggleable__label-arrow\">PolynomialFeatures</label><div class=\"sk-toggleable__content\"><pre>PolynomialFeatures()</pre></div></div></div><div class=\"sk-item\"><div class=\"sk-estimator sk-toggleable\"><input class=\"sk-toggleable__control sk-hidden--visually\" id=\"sk-estimator-id-22\" type=\"checkbox\" ><label for=\"sk-estimator-id-22\" class=\"sk-toggleable__label sk-toggleable__label-arrow\">StandardScaler</label><div class=\"sk-toggleable__content\"><pre>StandardScaler()</pre></div></div></div><div class=\"sk-item\"><div class=\"sk-estimator sk-toggleable\"><input class=\"sk-toggleable__control sk-hidden--visually\" id=\"sk-estimator-id-23\" type=\"checkbox\" ><label for=\"sk-estimator-id-23\" class=\"sk-toggleable__label sk-toggleable__label-arrow\">KNeighborsRegressor</label><div class=\"sk-toggleable__content\"><pre>KNeighborsRegressor()</pre></div></div></div></div></div></div></div></div></div></div></div></div>"
      ],
      "text/plain": [
       "GridSearchCV(estimator=Pipeline(steps=[('polynomialfeatures',\n",
       "                                        PolynomialFeatures()),\n",
       "                                       ('standardscaler', StandardScaler()),\n",
       "                                       ('kneighborsregressor',\n",
       "                                        KNeighborsRegressor())]),\n",
       "             n_jobs=-1,\n",
       "             param_grid={'kneighborsregressor__n_neighbors': range(1, 10),\n",
       "                         'polynomialfeatures__degree': [1, 2, 3]},\n",
       "             return_train_score=True)"
      ]
     },
     "execution_count": 57,
     "metadata": {},
     "output_type": "execute_result"
    }
   ],
   "source": [
    "model  = make_pipeline(PolynomialFeatures(),\n",
    "                       StandardScaler(),\n",
    "                       KNeighborsRegressor()\n",
    "                      )\n",
    "param_grid = {'polynomialfeatures__degree': [1, 2, 3],\n",
    "              'kneighborsregressor__n_neighbors': range(1, 10)}\n",
    "grid = GridSearchCV(model, param_grid=param_grid, n_jobs=-1, return_train_score=True)\n",
    "grid.fit(X_train, y_train)"
   ]
  },
  {
   "cell_type": "code",
   "execution_count": null,
   "metadata": {
    "colab": {
     "base_uri": "https://localhost:8080/"
    },
    "executionInfo": {
     "elapsed": 120,
     "status": "ok",
     "timestamp": 1693823673917,
     "user": {
      "displayName": "Shaannoor Mann",
      "userId": "02520257695567980696"
     },
     "user_tz": 300
    },
    "id": "rf8zk9TAUsQo",
    "outputId": "57233615-618c-4ed8-c2cb-1c056d0e6d37"
   },
   "outputs": [
    {
     "name": "stdout",
     "output_type": "stream",
     "text": [
      "best mean cross-validation score: 0.41862723410123037\n",
      "best parameters: {'kneighborsregressor__n_neighbors': 9, 'polynomialfeatures__degree': 1}\n",
      "train-set score: 0.550\n",
      "test-set score: 0.414\n"
     ]
    }
   ],
   "source": [
    "print(f\"best mean cross-validation score: {grid.best_score_}\")\n",
    "print(f\"best parameters: {grid.best_params_}\")\n",
    "\n",
    "# We can check the accuracy score of training dataset and test dataset.\n",
    "print(f\"train-set score: {grid.score(X_train, y_train):.3f}\")\n",
    "print(f\"test-set score: {grid.score(X_test, y_test):.3f}\")"
   ]
  },
  {
   "cell_type": "markdown",
   "metadata": {
    "id": "ZRcnChymKscc"
   },
   "source": [
    "### <font color = 'shade'>**Using Named Steps and Multiple Models**\n",
    "**Task**: Create a pipeline with folllowing\n",
    "- scale all variables follwed by regression.\n",
    "  - for scaling pipeline should evaluate StandardScaler(), MinMaxScaler(), 'passthrough' as options for scaling.\n",
    "  - pipeline should evaluate Ridge(), Lasso() as option fpr regression\n",
    "  - Both Ridge() and Lasso() has a hyperparamter alpha. Specify the range np.logspace() for these hyperparameter."
   ]
  },
  {
   "cell_type": "code",
   "execution_count": null,
   "metadata": {
    "colab": {
     "base_uri": "https://localhost:8080/",
     "height": 152
    },
    "executionInfo": {
     "elapsed": 989,
     "status": "ok",
     "timestamp": 1693823694044,
     "user": {
      "displayName": "Shaannoor Mann",
      "userId": "02520257695567980696"
     },
     "user_tz": 300
    },
    "id": "fIfduzegVvlP",
    "outputId": "c053a6cd-3a58-4d56-fdb9-3229c18d2f6b"
   },
   "outputs": [
    {
     "data": {
      "text/html": [
       "<style>#sk-container-id-10 {color: black;background-color: white;}#sk-container-id-10 pre{padding: 0;}#sk-container-id-10 div.sk-toggleable {background-color: white;}#sk-container-id-10 label.sk-toggleable__label {cursor: pointer;display: block;width: 100%;margin-bottom: 0;padding: 0.3em;box-sizing: border-box;text-align: center;}#sk-container-id-10 label.sk-toggleable__label-arrow:before {content: \"▸\";float: left;margin-right: 0.25em;color: #696969;}#sk-container-id-10 label.sk-toggleable__label-arrow:hover:before {color: black;}#sk-container-id-10 div.sk-estimator:hover label.sk-toggleable__label-arrow:before {color: black;}#sk-container-id-10 div.sk-toggleable__content {max-height: 0;max-width: 0;overflow: hidden;text-align: left;background-color: #f0f8ff;}#sk-container-id-10 div.sk-toggleable__content pre {margin: 0.2em;color: black;border-radius: 0.25em;background-color: #f0f8ff;}#sk-container-id-10 input.sk-toggleable__control:checked~div.sk-toggleable__content {max-height: 200px;max-width: 100%;overflow: auto;}#sk-container-id-10 input.sk-toggleable__control:checked~label.sk-toggleable__label-arrow:before {content: \"▾\";}#sk-container-id-10 div.sk-estimator input.sk-toggleable__control:checked~label.sk-toggleable__label {background-color: #d4ebff;}#sk-container-id-10 div.sk-label input.sk-toggleable__control:checked~label.sk-toggleable__label {background-color: #d4ebff;}#sk-container-id-10 input.sk-hidden--visually {border: 0;clip: rect(1px 1px 1px 1px);clip: rect(1px, 1px, 1px, 1px);height: 1px;margin: -1px;overflow: hidden;padding: 0;position: absolute;width: 1px;}#sk-container-id-10 div.sk-estimator {font-family: monospace;background-color: #f0f8ff;border: 1px dotted black;border-radius: 0.25em;box-sizing: border-box;margin-bottom: 0.5em;}#sk-container-id-10 div.sk-estimator:hover {background-color: #d4ebff;}#sk-container-id-10 div.sk-parallel-item::after {content: \"\";width: 100%;border-bottom: 1px solid gray;flex-grow: 1;}#sk-container-id-10 div.sk-label:hover label.sk-toggleable__label {background-color: #d4ebff;}#sk-container-id-10 div.sk-serial::before {content: \"\";position: absolute;border-left: 1px solid gray;box-sizing: border-box;top: 0;bottom: 0;left: 50%;z-index: 0;}#sk-container-id-10 div.sk-serial {display: flex;flex-direction: column;align-items: center;background-color: white;padding-right: 0.2em;padding-left: 0.2em;position: relative;}#sk-container-id-10 div.sk-item {position: relative;z-index: 1;}#sk-container-id-10 div.sk-parallel {display: flex;align-items: stretch;justify-content: center;background-color: white;position: relative;}#sk-container-id-10 div.sk-item::before, #sk-container-id-10 div.sk-parallel-item::before {content: \"\";position: absolute;border-left: 1px solid gray;box-sizing: border-box;top: 0;bottom: 0;left: 50%;z-index: -1;}#sk-container-id-10 div.sk-parallel-item {display: flex;flex-direction: column;z-index: 1;position: relative;background-color: white;}#sk-container-id-10 div.sk-parallel-item:first-child::after {align-self: flex-end;width: 50%;}#sk-container-id-10 div.sk-parallel-item:last-child::after {align-self: flex-start;width: 50%;}#sk-container-id-10 div.sk-parallel-item:only-child::after {width: 0;}#sk-container-id-10 div.sk-dashed-wrapped {border: 1px dashed gray;margin: 0 0.4em 0.5em 0.4em;box-sizing: border-box;padding-bottom: 0.4em;background-color: white;}#sk-container-id-10 div.sk-label label {font-family: monospace;font-weight: bold;display: inline-block;line-height: 1.2em;}#sk-container-id-10 div.sk-label-container {text-align: center;}#sk-container-id-10 div.sk-container {/* jupyter's `normalize.less` sets `[hidden] { display: none; }` but bootstrap.min.css set `[hidden] { display: none !important; }` so we also need the `!important` here to be able to override the default hidden behavior on the sphinx rendered scikit-learn.org. See: https://github.com/scikit-learn/scikit-learn/issues/21755 */display: inline-block !important;position: relative;}#sk-container-id-10 div.sk-text-repr-fallback {display: none;}</style><div id=\"sk-container-id-10\" class=\"sk-top-container\"><div class=\"sk-text-repr-fallback\"><pre>GridSearchCV(estimator=Pipeline(steps=[(&#x27;scaler&#x27;, StandardScaler()),\n",
       "                                       (&#x27;regressor&#x27;, Ridge())]),\n",
       "             n_jobs=-1,\n",
       "             param_grid={&#x27;regressor&#x27;: [Ridge(), Lasso()],\n",
       "                         &#x27;regressor__alpha&#x27;: array([1.e-03, 1.e-02, 1.e-01, 1.e+00, 1.e+01, 1.e+02, 1.e+03]),\n",
       "                         &#x27;scaler&#x27;: [StandardScaler(), MinMaxScaler(),\n",
       "                                    &#x27;passthrough&#x27;]},\n",
       "             return_train_score=True)</pre><b>In a Jupyter environment, please rerun this cell to show the HTML representation or trust the notebook. <br />On GitHub, the HTML representation is unable to render, please try loading this page with nbviewer.org.</b></div><div class=\"sk-container\" hidden><div class=\"sk-item sk-dashed-wrapped\"><div class=\"sk-label-container\"><div class=\"sk-label sk-toggleable\"><input class=\"sk-toggleable__control sk-hidden--visually\" id=\"sk-estimator-id-24\" type=\"checkbox\" ><label for=\"sk-estimator-id-24\" class=\"sk-toggleable__label sk-toggleable__label-arrow\">GridSearchCV</label><div class=\"sk-toggleable__content\"><pre>GridSearchCV(estimator=Pipeline(steps=[(&#x27;scaler&#x27;, StandardScaler()),\n",
       "                                       (&#x27;regressor&#x27;, Ridge())]),\n",
       "             n_jobs=-1,\n",
       "             param_grid={&#x27;regressor&#x27;: [Ridge(), Lasso()],\n",
       "                         &#x27;regressor__alpha&#x27;: array([1.e-03, 1.e-02, 1.e-01, 1.e+00, 1.e+01, 1.e+02, 1.e+03]),\n",
       "                         &#x27;scaler&#x27;: [StandardScaler(), MinMaxScaler(),\n",
       "                                    &#x27;passthrough&#x27;]},\n",
       "             return_train_score=True)</pre></div></div></div><div class=\"sk-parallel\"><div class=\"sk-parallel-item\"><div class=\"sk-item\"><div class=\"sk-label-container\"><div class=\"sk-label sk-toggleable\"><input class=\"sk-toggleable__control sk-hidden--visually\" id=\"sk-estimator-id-25\" type=\"checkbox\" ><label for=\"sk-estimator-id-25\" class=\"sk-toggleable__label sk-toggleable__label-arrow\">estimator: Pipeline</label><div class=\"sk-toggleable__content\"><pre>Pipeline(steps=[(&#x27;scaler&#x27;, StandardScaler()), (&#x27;regressor&#x27;, Ridge())])</pre></div></div></div><div class=\"sk-serial\"><div class=\"sk-item\"><div class=\"sk-serial\"><div class=\"sk-item\"><div class=\"sk-estimator sk-toggleable\"><input class=\"sk-toggleable__control sk-hidden--visually\" id=\"sk-estimator-id-26\" type=\"checkbox\" ><label for=\"sk-estimator-id-26\" class=\"sk-toggleable__label sk-toggleable__label-arrow\">StandardScaler</label><div class=\"sk-toggleable__content\"><pre>StandardScaler()</pre></div></div></div><div class=\"sk-item\"><div class=\"sk-estimator sk-toggleable\"><input class=\"sk-toggleable__control sk-hidden--visually\" id=\"sk-estimator-id-27\" type=\"checkbox\" ><label for=\"sk-estimator-id-27\" class=\"sk-toggleable__label sk-toggleable__label-arrow\">Ridge</label><div class=\"sk-toggleable__content\"><pre>Ridge()</pre></div></div></div></div></div></div></div></div></div></div></div></div>"
      ],
      "text/plain": [
       "GridSearchCV(estimator=Pipeline(steps=[('scaler', StandardScaler()),\n",
       "                                       ('regressor', Ridge())]),\n",
       "             n_jobs=-1,\n",
       "             param_grid={'regressor': [Ridge(), Lasso()],\n",
       "                         'regressor__alpha': array([1.e-03, 1.e-02, 1.e-01, 1.e+00, 1.e+01, 1.e+02, 1.e+03]),\n",
       "                         'scaler': [StandardScaler(), MinMaxScaler(),\n",
       "                                    'passthrough']},\n",
       "             return_train_score=True)"
      ]
     },
     "execution_count": 59,
     "metadata": {},
     "output_type": "execute_result"
    }
   ],
   "source": [
    "model = Pipeline([('scaler', StandardScaler()), ('regressor', Ridge())])\n",
    "\n",
    "param_grid = {'scaler': [StandardScaler(), MinMaxScaler(), 'passthrough'],\n",
    "              'regressor': [Ridge(), Lasso()],\n",
    "              'regressor__alpha': np.logspace(-3, 3, 7)}\n",
    "\n",
    "\n",
    "grid = GridSearchCV(model, param_grid, n_jobs=-1, return_train_score=True)\n",
    "grid.fit(X_train, y_train)"
   ]
  },
  {
   "cell_type": "code",
   "execution_count": null,
   "metadata": {
    "colab": {
     "base_uri": "https://localhost:8080/"
    },
    "executionInfo": {
     "elapsed": 251,
     "status": "ok",
     "timestamp": 1693823701359,
     "user": {
      "displayName": "Shaannoor Mann",
      "userId": "02520257695567980696"
     },
     "user_tz": 300
    },
    "id": "4fBWp72sX1gu",
    "outputId": "c07e1821-7cf6-47dc-96a7-ec74ad268cbb"
   },
   "outputs": [
    {
     "name": "stdout",
     "output_type": "stream",
     "text": [
      "best mean cross-validation score: 0.48071304972623013\n",
      "best parameters: {'regressor': Ridge(), 'regressor__alpha': 1.0, 'scaler': MinMaxScaler()}\n",
      "train-set score: 0.533\n",
      "test-set score: 0.438\n"
     ]
    }
   ],
   "source": [
    "print(f\"best mean cross-validation score: {grid.best_score_}\")\n",
    "print(f\"best parameters: {grid.best_params_}\")\n",
    "\n",
    "# We can check the accuracy score of training dataset and test dataset.\n",
    "print(f\"train-set score: {grid.score(X_train, y_train):.3f}\")\n",
    "print(f\"test-set score: {grid.score(X_test, y_test):.3f}\")"
   ]
  },
  {
   "cell_type": "markdown",
   "metadata": {
    "id": "UhtPjYSSLBvo"
   },
   "source": [
    "### <font color = 'shade'>**Multiple Models with Different Hyper Parameters**\n",
    "\n",
    "**Task**: Create a pipeline with folllowing\n",
    "\n",
    "- The ppipeline should evaluate following two options\n",
    "  - (1) scaler followed by Ridge(). For Ridge Regression , you will tune hyperparameter alpha and evaluate following values: [0.1, 1]. For scaler give the following options -- StandardScaler(), MinMaxScaler(), 'passthrough'\n",
    "\n",
    "  - (2) scaler followed by DecisionTreeRegressor().  For DecisionTreeRegressor(), you will tune hyperparameter max_depth and evaluate following values [2, 3, 4]. For scaler you will only use 'passthrough'.\n"
   ]
  },
  {
   "cell_type": "code",
   "execution_count": null,
   "metadata": {
    "colab": {
     "base_uri": "https://localhost:8080/",
     "height": 152
    },
    "executionInfo": {
     "elapsed": 362,
     "status": "ok",
     "timestamp": 1693823705935,
     "user": {
      "displayName": "Shaannoor Mann",
      "userId": "02520257695567980696"
     },
     "user_tz": 300
    },
    "id": "URLPkHJfYGep",
    "outputId": "edcf076d-4091-4026-8fc0-fd2077926f16"
   },
   "outputs": [
    {
     "data": {
      "text/html": [
       "<style>#sk-container-id-11 {color: black;background-color: white;}#sk-container-id-11 pre{padding: 0;}#sk-container-id-11 div.sk-toggleable {background-color: white;}#sk-container-id-11 label.sk-toggleable__label {cursor: pointer;display: block;width: 100%;margin-bottom: 0;padding: 0.3em;box-sizing: border-box;text-align: center;}#sk-container-id-11 label.sk-toggleable__label-arrow:before {content: \"▸\";float: left;margin-right: 0.25em;color: #696969;}#sk-container-id-11 label.sk-toggleable__label-arrow:hover:before {color: black;}#sk-container-id-11 div.sk-estimator:hover label.sk-toggleable__label-arrow:before {color: black;}#sk-container-id-11 div.sk-toggleable__content {max-height: 0;max-width: 0;overflow: hidden;text-align: left;background-color: #f0f8ff;}#sk-container-id-11 div.sk-toggleable__content pre {margin: 0.2em;color: black;border-radius: 0.25em;background-color: #f0f8ff;}#sk-container-id-11 input.sk-toggleable__control:checked~div.sk-toggleable__content {max-height: 200px;max-width: 100%;overflow: auto;}#sk-container-id-11 input.sk-toggleable__control:checked~label.sk-toggleable__label-arrow:before {content: \"▾\";}#sk-container-id-11 div.sk-estimator input.sk-toggleable__control:checked~label.sk-toggleable__label {background-color: #d4ebff;}#sk-container-id-11 div.sk-label input.sk-toggleable__control:checked~label.sk-toggleable__label {background-color: #d4ebff;}#sk-container-id-11 input.sk-hidden--visually {border: 0;clip: rect(1px 1px 1px 1px);clip: rect(1px, 1px, 1px, 1px);height: 1px;margin: -1px;overflow: hidden;padding: 0;position: absolute;width: 1px;}#sk-container-id-11 div.sk-estimator {font-family: monospace;background-color: #f0f8ff;border: 1px dotted black;border-radius: 0.25em;box-sizing: border-box;margin-bottom: 0.5em;}#sk-container-id-11 div.sk-estimator:hover {background-color: #d4ebff;}#sk-container-id-11 div.sk-parallel-item::after {content: \"\";width: 100%;border-bottom: 1px solid gray;flex-grow: 1;}#sk-container-id-11 div.sk-label:hover label.sk-toggleable__label {background-color: #d4ebff;}#sk-container-id-11 div.sk-serial::before {content: \"\";position: absolute;border-left: 1px solid gray;box-sizing: border-box;top: 0;bottom: 0;left: 50%;z-index: 0;}#sk-container-id-11 div.sk-serial {display: flex;flex-direction: column;align-items: center;background-color: white;padding-right: 0.2em;padding-left: 0.2em;position: relative;}#sk-container-id-11 div.sk-item {position: relative;z-index: 1;}#sk-container-id-11 div.sk-parallel {display: flex;align-items: stretch;justify-content: center;background-color: white;position: relative;}#sk-container-id-11 div.sk-item::before, #sk-container-id-11 div.sk-parallel-item::before {content: \"\";position: absolute;border-left: 1px solid gray;box-sizing: border-box;top: 0;bottom: 0;left: 50%;z-index: -1;}#sk-container-id-11 div.sk-parallel-item {display: flex;flex-direction: column;z-index: 1;position: relative;background-color: white;}#sk-container-id-11 div.sk-parallel-item:first-child::after {align-self: flex-end;width: 50%;}#sk-container-id-11 div.sk-parallel-item:last-child::after {align-self: flex-start;width: 50%;}#sk-container-id-11 div.sk-parallel-item:only-child::after {width: 0;}#sk-container-id-11 div.sk-dashed-wrapped {border: 1px dashed gray;margin: 0 0.4em 0.5em 0.4em;box-sizing: border-box;padding-bottom: 0.4em;background-color: white;}#sk-container-id-11 div.sk-label label {font-family: monospace;font-weight: bold;display: inline-block;line-height: 1.2em;}#sk-container-id-11 div.sk-label-container {text-align: center;}#sk-container-id-11 div.sk-container {/* jupyter's `normalize.less` sets `[hidden] { display: none; }` but bootstrap.min.css set `[hidden] { display: none !important; }` so we also need the `!important` here to be able to override the default hidden behavior on the sphinx rendered scikit-learn.org. See: https://github.com/scikit-learn/scikit-learn/issues/21755 */display: inline-block !important;position: relative;}#sk-container-id-11 div.sk-text-repr-fallback {display: none;}</style><div id=\"sk-container-id-11\" class=\"sk-top-container\"><div class=\"sk-text-repr-fallback\"><pre>GridSearchCV(estimator=Pipeline(steps=[(&#x27;scaler&#x27;, StandardScaler()),\n",
       "                                       (&#x27;regressor&#x27;, Ridge())]),\n",
       "             n_jobs=-1,\n",
       "             param_grid=[{&#x27;regressor&#x27;: [DecisionTreeRegressor()],\n",
       "                          &#x27;regressor__max_depth&#x27;: [2, 3, 4],\n",
       "                          &#x27;scaler&#x27;: [&#x27;passthrough&#x27;]},\n",
       "                         {&#x27;regressor&#x27;: [Ridge(alpha=1)],\n",
       "                          &#x27;regressor__alpha&#x27;: [0.1, 1],\n",
       "                          &#x27;scaler&#x27;: [StandardScaler(), MinMaxScaler(),\n",
       "                                     &#x27;passthrough&#x27;]}],\n",
       "             return_train_score=True)</pre><b>In a Jupyter environment, please rerun this cell to show the HTML representation or trust the notebook. <br />On GitHub, the HTML representation is unable to render, please try loading this page with nbviewer.org.</b></div><div class=\"sk-container\" hidden><div class=\"sk-item sk-dashed-wrapped\"><div class=\"sk-label-container\"><div class=\"sk-label sk-toggleable\"><input class=\"sk-toggleable__control sk-hidden--visually\" id=\"sk-estimator-id-28\" type=\"checkbox\" ><label for=\"sk-estimator-id-28\" class=\"sk-toggleable__label sk-toggleable__label-arrow\">GridSearchCV</label><div class=\"sk-toggleable__content\"><pre>GridSearchCV(estimator=Pipeline(steps=[(&#x27;scaler&#x27;, StandardScaler()),\n",
       "                                       (&#x27;regressor&#x27;, Ridge())]),\n",
       "             n_jobs=-1,\n",
       "             param_grid=[{&#x27;regressor&#x27;: [DecisionTreeRegressor()],\n",
       "                          &#x27;regressor__max_depth&#x27;: [2, 3, 4],\n",
       "                          &#x27;scaler&#x27;: [&#x27;passthrough&#x27;]},\n",
       "                         {&#x27;regressor&#x27;: [Ridge(alpha=1)],\n",
       "                          &#x27;regressor__alpha&#x27;: [0.1, 1],\n",
       "                          &#x27;scaler&#x27;: [StandardScaler(), MinMaxScaler(),\n",
       "                                     &#x27;passthrough&#x27;]}],\n",
       "             return_train_score=True)</pre></div></div></div><div class=\"sk-parallel\"><div class=\"sk-parallel-item\"><div class=\"sk-item\"><div class=\"sk-label-container\"><div class=\"sk-label sk-toggleable\"><input class=\"sk-toggleable__control sk-hidden--visually\" id=\"sk-estimator-id-29\" type=\"checkbox\" ><label for=\"sk-estimator-id-29\" class=\"sk-toggleable__label sk-toggleable__label-arrow\">estimator: Pipeline</label><div class=\"sk-toggleable__content\"><pre>Pipeline(steps=[(&#x27;scaler&#x27;, StandardScaler()), (&#x27;regressor&#x27;, Ridge())])</pre></div></div></div><div class=\"sk-serial\"><div class=\"sk-item\"><div class=\"sk-serial\"><div class=\"sk-item\"><div class=\"sk-estimator sk-toggleable\"><input class=\"sk-toggleable__control sk-hidden--visually\" id=\"sk-estimator-id-30\" type=\"checkbox\" ><label for=\"sk-estimator-id-30\" class=\"sk-toggleable__label sk-toggleable__label-arrow\">StandardScaler</label><div class=\"sk-toggleable__content\"><pre>StandardScaler()</pre></div></div></div><div class=\"sk-item\"><div class=\"sk-estimator sk-toggleable\"><input class=\"sk-toggleable__control sk-hidden--visually\" id=\"sk-estimator-id-31\" type=\"checkbox\" ><label for=\"sk-estimator-id-31\" class=\"sk-toggleable__label sk-toggleable__label-arrow\">Ridge</label><div class=\"sk-toggleable__content\"><pre>Ridge()</pre></div></div></div></div></div></div></div></div></div></div></div></div>"
      ],
      "text/plain": [
       "GridSearchCV(estimator=Pipeline(steps=[('scaler', StandardScaler()),\n",
       "                                       ('regressor', Ridge())]),\n",
       "             n_jobs=-1,\n",
       "             param_grid=[{'regressor': [DecisionTreeRegressor()],\n",
       "                          'regressor__max_depth': [2, 3, 4],\n",
       "                          'scaler': ['passthrough']},\n",
       "                         {'regressor': [Ridge(alpha=1)],\n",
       "                          'regressor__alpha': [0.1, 1],\n",
       "                          'scaler': [StandardScaler(), MinMaxScaler(),\n",
       "                                     'passthrough']}],\n",
       "             return_train_score=True)"
      ]
     },
     "execution_count": 61,
     "metadata": {},
     "output_type": "execute_result"
    }
   ],
   "source": [
    "model  = Pipeline([('scaler', StandardScaler()), ('regressor', Ridge())])\n",
    "\n",
    "param_grid = [{'regressor': [DecisionTreeRegressor()],\n",
    "               'regressor__max_depth': [2, 3, 4],\n",
    "               'scaler': ['passthrough']},\n",
    "              {'regressor': [Ridge()],\n",
    "               'regressor__alpha': [0.1, 1],\n",
    "               'scaler': [StandardScaler(), MinMaxScaler(), 'passthrough']}\n",
    "             ]\n",
    "grid = GridSearchCV(model, param_grid, n_jobs=-1, return_train_score=True)\n",
    "grid.fit(X_train, y_train)"
   ]
  },
  {
   "cell_type": "code",
   "execution_count": null,
   "metadata": {
    "colab": {
     "base_uri": "https://localhost:8080/"
    },
    "executionInfo": {
     "elapsed": 108,
     "status": "ok",
     "timestamp": 1693823709144,
     "user": {
      "displayName": "Shaannoor Mann",
      "userId": "02520257695567980696"
     },
     "user_tz": 300
    },
    "id": "uGZZeLBGxYp0",
    "outputId": "d12f8fe2-e232-4fbf-9b59-cbf5e145b427"
   },
   "outputs": [
    {
     "name": "stdout",
     "output_type": "stream",
     "text": [
      "best mean cross-validation score: 0.48071304972623013\n",
      "best parameters: {'regressor': Ridge(alpha=1), 'regressor__alpha': 1, 'scaler': MinMaxScaler()}\n",
      "train-set score: 0.533\n",
      "test-set score: 0.438\n"
     ]
    }
   ],
   "source": [
    "print(f\"best mean cross-validation score: {grid.best_score_}\")\n",
    "print(f\"best parameters: {grid.best_params_}\")\n",
    "\n",
    "# We can check the accuracy score of training dataset and test dataset.\n",
    "print(f\"train-set score: {grid.score(X_train, y_train):.3f}\")\n",
    "print(f\"test-set score: {grid.score(X_test, y_test):.3f}\")"
   ]
  },
  {
   "cell_type": "markdown",
   "metadata": {
    "id": "z7ZPdzRjKsyn"
   },
   "source": [
    "###  <font color = 'shade'>**Different PreProcessing Steps for Different Variables**"
   ]
  },
  {
   "cell_type": "markdown",
   "metadata": {
    "id": "Jf4Tb78M_-bV"
   },
   "source": [
    "You can download the Titanic dataset using the commands below and see it’s description at https://www.openml.org/d/40945"
   ]
  },
  {
   "cell_type": "code",
   "execution_count": null,
   "metadata": {
    "colab": {
     "base_uri": "https://localhost:8080/"
    },
    "executionInfo": {
     "elapsed": 2643,
     "status": "ok",
     "timestamp": 1693823716449,
     "user": {
      "displayName": "Shaannoor Mann",
      "userId": "02520257695567980696"
     },
     "user_tz": 300
    },
    "id": "P5oA3Rf6AtyZ",
    "outputId": "6056864f-4af7-4cc3-cf48-7d17a1cbf9e6"
   },
   "outputs": [
    {
     "name": "stderr",
     "output_type": "stream",
     "text": [
      "/usr/local/lib/python3.10/dist-packages/sklearn/datasets/_openml.py:968: FutureWarning: The default value of `parser` will change from `'liac-arff'` to `'auto'` in 1.4. You can set `parser='auto'` to silence this warning. Therefore, an `ImportError` will be raised from 1.4 if the dataset is dense and pandas is not installed. Note that the pandas parser may return different data types. See the Notes Section in fetch_openml's API doc for details.\n",
      "  warn(\n"
     ]
    }
   ],
   "source": [
    "X, y = fetch_openml(\"Titanic\", version=1, as_frame=True, return_X_y=True)"
   ]
  },
  {
   "cell_type": "code",
   "execution_count": null,
   "metadata": {
    "colab": {
     "base_uri": "https://localhost:8080/"
    },
    "executionInfo": {
     "elapsed": 2,
     "status": "ok",
     "timestamp": 1693823716449,
     "user": {
      "displayName": "Shaannoor Mann",
      "userId": "02520257695567980696"
     },
     "user_tz": 300
    },
    "id": "e-stJUgAANf9",
    "outputId": "4b2ba7c6-b4d6-46c4-91c6-7b79ed2c51a3"
   },
   "outputs": [
    {
     "name": "stdout",
     "output_type": "stream",
     "text": [
      "<class 'pandas.core.frame.DataFrame'>\n",
      "RangeIndex: 1309 entries, 0 to 1308\n",
      "Data columns (total 13 columns):\n",
      " #   Column     Non-Null Count  Dtype   \n",
      "---  ------     --------------  -----   \n",
      " 0   pclass     1309 non-null   float64 \n",
      " 1   name       1309 non-null   object  \n",
      " 2   sex        1309 non-null   category\n",
      " 3   age        1046 non-null   float64 \n",
      " 4   sibsp      1309 non-null   float64 \n",
      " 5   parch      1309 non-null   float64 \n",
      " 6   ticket     1309 non-null   object  \n",
      " 7   fare       1308 non-null   float64 \n",
      " 8   cabin      295 non-null    object  \n",
      " 9   embarked   1307 non-null   category\n",
      " 10  boat       486 non-null    object  \n",
      " 11  body       121 non-null    object  \n",
      " 12  home.dest  745 non-null    object  \n",
      "dtypes: category(2), float64(5), object(6)\n",
      "memory usage: 115.4+ KB\n"
     ]
    }
   ],
   "source": [
    "X.info()"
   ]
  },
  {
   "cell_type": "code",
   "execution_count": null,
   "metadata": {
    "id": "WI5SL9O8Ady9"
   },
   "outputs": [],
   "source": [
    "X =  X[['pclass','sex','sibsp','parch']]\n",
    "categorical = ['sex']\n",
    "continuous=['pclass','sibsp','parch']\n",
    "X_train, X_test, y_train, y_test = train_test_split(X, y, random_state=0)"
   ]
  },
  {
   "cell_type": "code",
   "execution_count": null,
   "metadata": {
    "colab": {
     "base_uri": "https://localhost:8080/"
    },
    "executionInfo": {
     "elapsed": 157,
     "status": "ok",
     "timestamp": 1693823720687,
     "user": {
      "displayName": "Shaannoor Mann",
      "userId": "02520257695567980696"
     },
     "user_tz": 300
    },
    "id": "LrcUB5G-_GsN",
    "outputId": "7664c747-1a20-4ff8-8aff-22660c0a5d9e"
   },
   "outputs": [
    {
     "name": "stdout",
     "output_type": "stream",
     "text": [
      "<class 'pandas.core.frame.DataFrame'>\n",
      "Int64Index: 981 entries, 747 to 684\n",
      "Data columns (total 4 columns):\n",
      " #   Column  Non-Null Count  Dtype   \n",
      "---  ------  --------------  -----   \n",
      " 0   pclass  981 non-null    float64 \n",
      " 1   sex     981 non-null    category\n",
      " 2   sibsp   981 non-null    float64 \n",
      " 3   parch   981 non-null    float64 \n",
      "dtypes: category(1), float64(3)\n",
      "memory usage: 31.7 KB\n"
     ]
    }
   ],
   "source": [
    "X_train.info()"
   ]
  },
  {
   "cell_type": "markdown",
   "metadata": {
    "id": "eWo_55h4x8f0"
   },
   "source": [
    "#### <font color = 'shade'>**Column Transformer**\n",
    "Task : Logistic with standar sacler (for continuous variables only) and onehot encoder (for categorical variable only)."
   ]
  },
  {
   "cell_type": "code",
   "execution_count": null,
   "metadata": {
    "id": "3G-fuk6mOk9E"
   },
   "outputs": [],
   "source": [
    "preprocess1= make_column_transformer(\n",
    "    (StandardScaler(),continuous),\n",
    "    (OneHotEncoder(drop='first'), categorical),\n",
    "    remainder='passthrough'\n",
    ")"
   ]
  },
  {
   "cell_type": "code",
   "execution_count": null,
   "metadata": {
    "id": "tXl92N2zO59N"
   },
   "outputs": [],
   "source": [
    "from sklearn.linear_model import LogisticRegression\n",
    "model = make_pipeline( preprocess1, LogisticRegression())"
   ]
  },
  {
   "cell_type": "code",
   "execution_count": null,
   "metadata": {
    "colab": {
     "base_uri": "https://localhost:8080/"
    },
    "executionInfo": {
     "elapsed": 110,
     "status": "ok",
     "timestamp": 1693823727330,
     "user": {
      "displayName": "Shaannoor Mann",
      "userId": "02520257695567980696"
     },
     "user_tz": 300
    },
    "id": "r6jlcs9HPAIi",
    "outputId": "037e588c-30c4-4518-8980-8bad130137a6"
   },
   "outputs": [
    {
     "data": {
      "text/plain": [
       "0.7865853658536586"
      ]
     },
     "execution_count": 69,
     "metadata": {},
     "output_type": "execute_result"
    }
   ],
   "source": [
    "model.fit(X_train, y_train)\n",
    "model.score(X_test, y_test)"
   ]
  },
  {
   "cell_type": "markdown",
   "metadata": {
    "id": "xqEHX4JDyEXv"
   },
   "source": [
    "#### <font color = 'shade'>**Feature Engine**"
   ]
  },
  {
   "cell_type": "code",
   "execution_count": null,
   "metadata": {
    "colab": {
     "base_uri": "https://localhost:8080/"
    },
    "executionInfo": {
     "elapsed": 7028,
     "status": "ok",
     "timestamp": 1693823737514,
     "user": {
      "displayName": "Shaannoor Mann",
      "userId": "02520257695567980696"
     },
     "user_tz": 300
    },
    "id": "bbO-8_2EWDLD",
    "outputId": "22febcf0-feb3-4497-c81d-81cf13494db5"
   },
   "outputs": [
    {
     "name": "stdout",
     "output_type": "stream",
     "text": [
      "\u001b[?25l     \u001b[90m━━━━━━━━━━━━━━━━━━━━━━━━━━━━━━━━━━━━━━━━\u001b[0m \u001b[32m0.0/326.6 kB\u001b[0m \u001b[31m?\u001b[0m eta \u001b[36m-:--:--\u001b[0m\r",
      "\u001b[2K     \u001b[91m━━━\u001b[0m\u001b[91m╸\u001b[0m\u001b[90m━━━━━━━━━━━━━━━━━━━━━━━━━━━━━━━━━━\u001b[0m \u001b[32m30.7/326.6 kB\u001b[0m \u001b[31m832.1 kB/s\u001b[0m eta \u001b[36m0:00:01\u001b[0m\r",
      "\u001b[2K     \u001b[91m━━━━━━━━━━━━━━━━━━━━━━━━━━━━\u001b[0m\u001b[90m╺\u001b[0m\u001b[90m━━━━━━━━━━\u001b[0m \u001b[32m235.5/326.6 kB\u001b[0m \u001b[31m3.2 MB/s\u001b[0m eta \u001b[36m0:00:01\u001b[0m\r",
      "\u001b[2K     \u001b[90m━━━━━━━━━━━━━━━━━━━━━━━━━━━━━━━━━━━━━━━\u001b[0m \u001b[32m326.6/326.6 kB\u001b[0m \u001b[31m3.7 MB/s\u001b[0m eta \u001b[36m0:00:00\u001b[0m\n",
      "\u001b[?25h"
     ]
    }
   ],
   "source": [
    "!pip install feature_engine -qq"
   ]
  },
  {
   "cell_type": "code",
   "execution_count": null,
   "metadata": {
    "id": "r1Ee8QvUV_vV"
   },
   "outputs": [],
   "source": [
    "from feature_engine.encoding import OneHotEncoder as fe_ohe\n",
    "from feature_engine.wrappers import SklearnTransformerWrapper"
   ]
  },
  {
   "cell_type": "code",
   "execution_count": null,
   "metadata": {
    "id": "vtOFU-xsPh49"
   },
   "outputs": [],
   "source": [
    "model = Pipeline([\n",
    "\n",
    "    ('one_hot_encoder',\n",
    "      fe_ohe(variables=categorical, drop_last= True, ignore_format=True)),\n",
    "    ('scalar',\n",
    "      SklearnTransformerWrapper(StandardScaler(), variables = continuous)),\n",
    "    ('logreg',\n",
    "     LogisticRegression())\n",
    "])"
   ]
  },
  {
   "cell_type": "code",
   "execution_count": null,
   "metadata": {
    "colab": {
     "base_uri": "https://localhost:8080/"
    },
    "executionInfo": {
     "elapsed": 118,
     "status": "ok",
     "timestamp": 1693823745983,
     "user": {
      "displayName": "Shaannoor Mann",
      "userId": "02520257695567980696"
     },
     "user_tz": 300
    },
    "id": "WfgKQXZVWWe0",
    "outputId": "0c345d78-472b-4885-b87b-afd7134a3cb0"
   },
   "outputs": [
    {
     "data": {
      "text/plain": [
       "0.7865853658536586"
      ]
     },
     "execution_count": 73,
     "metadata": {},
     "output_type": "execute_result"
    }
   ],
   "source": [
    "model.fit(X_train, y_train)\n",
    "model.score(X_test, y_test)"
   ]
  },
  {
   "cell_type": "markdown",
   "metadata": {
    "id": "F4t0dQSSMwGd"
   },
   "source": [
    "### <font color = 'shade'>**Different PreProcessing Steps and Different Models**\n",
    "\n",
    "Task : (1) Decsion Tree with One hot encoder (categorical) and (2) KNNRegression with standar sacler (continuous) and onehot encoder (categorical)."
   ]
  },
  {
   "cell_type": "code",
   "execution_count": null,
   "metadata": {
    "id": "Xc6D2-oCXkH1"
   },
   "outputs": [],
   "source": [
    "preprocessor1= make_column_transformer(\n",
    "    (OneHotEncoder(drop='first'), categorical),\n",
    "    remainder='passthrough'\n",
    ")"
   ]
  },
  {
   "cell_type": "code",
   "execution_count": null,
   "metadata": {
    "id": "3ZZXVJoKXoNq"
   },
   "outputs": [],
   "source": [
    "preprocessor2 = make_column_transformer(\n",
    "    (StandardScaler(),continuous),\n",
    "    (OneHotEncoder(drop='first'), categorical),\n",
    "    remainder='passthrough'\n",
    ")"
   ]
  },
  {
   "cell_type": "code",
   "execution_count": null,
   "metadata": {
    "id": "AJ9t1M4OQB-B"
   },
   "outputs": [],
   "source": [
    "model  = Pipeline([('preprocessor', preprocessor2), ('regressor', Ridge())])\n",
    "\n",
    "param_grid = [{'regressor': [DecisionTreeRegressor()],\n",
    "               'preprocessor' : [preprocessor1]},\n",
    "\n",
    "              {'regressor': [Ridge()],\n",
    "               'preprocessor' : [preprocessor2]}\n",
    "\n",
    "             ]"
   ]
  },
  {
   "cell_type": "markdown",
   "metadata": {
    "id": "_PBNTeVOxO0f"
   },
   "source": []
  },
  {
   "cell_type": "code",
   "execution_count": null,
   "metadata": {
    "colab": {
     "base_uri": "https://localhost:8080/"
    },
    "executionInfo": {
     "elapsed": 469,
     "status": "ok",
     "timestamp": 1693823977239,
     "user": {
      "displayName": "Shaannoor Mann",
      "userId": "02520257695567980696"
     },
     "user_tz": 300
    },
    "id": "s3trt7W_Yfr-",
    "outputId": "14bce68b-c9fb-49f2-940b-1c85ab48f609"
   },
   "outputs": [
    {
     "data": {
      "text/plain": [
       "0.3341705140118807"
      ]
     },
     "execution_count": 84,
     "metadata": {},
     "output_type": "execute_result"
    }
   ],
   "source": [
    "# y_train_float = float(y_train)\n",
    "# y_test_float = float(y_test)\n",
    "grid = GridSearchCV(model, param_grid, n_jobs=-1, return_train_score=True)\n",
    "grid.fit(X_train, y_train.values)\n",
    "grid.score(X_test, y_test.values)"
   ]
  }
 ],
 "metadata": {
  "colab": {
   "collapsed_sections": [
    "IfnZ3LsUHxNl"
   ],
   "provenance": []
  },
  "kernelspec": {
   "display_name": "Python 3",
   "language": "python",
   "name": "python3"
  },
  "language_info": {
   "codemirror_mode": {
    "name": "ipython",
    "version": 3
   },
   "file_extension": ".py",
   "mimetype": "text/x-python",
   "name": "python",
   "nbconvert_exporter": "python",
   "pygments_lexer": "ipython3",
   "version": "3.7.3"
  }
 },
 "nbformat": 4,
 "nbformat_minor": 1
}
