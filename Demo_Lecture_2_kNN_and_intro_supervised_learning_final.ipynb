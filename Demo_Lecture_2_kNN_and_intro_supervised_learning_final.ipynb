{
 "cells": [
  {
   "cell_type": "markdown",
   "metadata": {
    "id": "nNUKczYUJk5-"
   },
   "source": [
    "# <font color = 'pickle'>**Classification of Machine learning algorithms** </font>\n",
    "Machine learning systems can be classified broadly into four categories  based on the amount and type of supervision they get during training and they are :\n",
    "1. Supervised learning\n",
    "\n",
    "2. Unsupervised learning\n",
    "\n",
    "3. Semi-supervised learning\n",
    "\n",
    "4. Reinforcement learning\n",
    "\n",
    "<img src =\"https://drive.google.com/uc?export=view&id=1AGf0YbdrsI6DiEpB3HL-jEj65s7X8ElC\" width =500 >\n"
   ]
  },
  {
   "cell_type": "markdown",
   "metadata": {
    "id": "yD4IhDEKMV_9"
   },
   "source": [
    "# <font color = 'pickle'>**Supervised learning**\n",
    "* In supervised learning, models are trained using labelled dataset, where the model learns about relationship between outcomes and inputs. Once the training process is completed, the model can be used to predict the unknown outcomes for new data.\n",
    "* In real life world supervised learning is used for image classification, Risk Assessment, Fraud Detection, spam filtering, customer churn, etc.\n",
    "\n",
    "We can explain about the supervised learning clearly as follows :\n",
    "<img src =\"https://drive.google.com/uc?export=view&id=1b70BKFOppKvgNDZ_PznfBfuDs3SyB5uE\" width =600 >\n",
    "\n"
   ]
  },
  {
   "cell_type": "markdown",
   "metadata": {
    "id": "3oWN71xGXcxX"
   },
   "source": [
    "## <font color = 'pickle'>**Types of the supervised learning**\n",
    "\n",
    "Supervised learning again can be classified into two categories they are\n",
    "* **Classification** -\n",
    "In classification problem, the output variable is a categorical or nominal, such as Black or White or disease and no disease.\n",
    "\n",
    "* **Regression** -  In regression problem, the output variable is a numerical or continuous such as price, weight, age etc\n"
   ]
  },
  {
   "cell_type": "markdown",
   "metadata": {
    "id": "xv62eHu8YFib"
   },
   "source": [
    "## <font color = 'pickle'>**Some of the supervised learning algorithms**</font>\n",
    "Following are the most important supervised learning algorithms :\n",
    "1. k- nearest neighbors\n",
    "2. Linear regression\n",
    "3. Logistic Regression\n",
    "4. Support Vector Machines(SVMs)\n",
    "5. Decision Trees and Random Forests\n",
    "6. Neural Networks\n"
   ]
  },
  {
   "cell_type": "markdown",
   "metadata": {
    "id": "UrRtADeMGafm"
   },
   "source": [
    "# <font color = 'pickle'>**k-nearest neighbor (kNN)**\n",
    " We can compare the kNN with the famous saying as -\n",
    "**“BIRDS OF FEATHER FLOCK TOGETHER”**. Since this algorithm assumes that\n",
    "similar things exist in close proximity. In other words, similar things are near to each other.\n",
    "*  K- Nearest Neighbors is one of the easiest classification algorithms of supervised learning.\n",
    "\n",
    "* It has applications in pattern recognition, data mining, and intrusion detection\n",
    "* It is widely used in real-life scenarios since it is **non-parametric**. (Non-parametric data does not make any underlying assumptions about the distribution of data)"
   ]
  },
  {
   "cell_type": "markdown",
   "metadata": {
    "id": "LoR90DOTJRNv"
   },
   "source": [
    "## <font color = 'pickle'> **How kNN works**</font>\n",
    "\n",
    "We can check the following steps for understanding the process of kNN and how to implement it.\n",
    "1. split the dataset into the training and test data\n",
    "2. choose the value of k (number of nearest neighbours)\n",
    "4. for each point in the test data:\n",
    "  * find the distance (e.g. Euclidean distance) to all the training data points.\n",
    "  * store the distances in a list and sort it.\n",
    "  * choose k data points which are nearest to the focal test data point\n",
    "   (based on the euclidean distance).\n",
    "  * assign the class to the focal test data point based on the majority of classes present in the k closest points in the training data.\n",
    "4. End\n",
    "\n",
    "Note: For regression problem we predict the outcome for the focal test data point based on the average of outcome of k closest points in the training data."
   ]
  },
  {
   "cell_type": "markdown",
   "metadata": {
    "id": "703vREdXcejr"
   },
   "source": [
    "## <font color = 'pickle'>**Importing libraries**</font>\n",
    "First let us import the required libraries for executing our model such as :-\n",
    "1. matplotlib - for visualizing the data\n",
    "2. scikit learn - to build the classification dataset\n",
    "3.  Numpy - for array manipulation"
   ]
  },
  {
   "cell_type": "code",
   "execution_count": 2,
   "metadata": {
    "id": "ELhbpFgDcdP6"
   },
   "outputs": [],
   "source": [
    "from sklearn.datasets import make_blobs\n",
    "import numpy as np\n",
    "import matplotlib.pyplot as plt\n",
    "from matplotlib import colors"
   ]
  },
  {
   "cell_type": "markdown",
   "metadata": {
    "id": "Na4sQLcpdlk1"
   },
   "source": [
    "## <font color = 'pickle'>**Generating classification dataset** </font>\n",
    "* Classification is the problem of assigning labels to observations.\n",
    "\n",
    "* The **scikit-learn** Python library provides many functions for generating samples from configurable test problems for regression and classification.\n",
    "\n"
   ]
  },
  {
   "cell_type": "markdown",
   "metadata": {
    "id": "N3Zgvtktg1z6"
   },
   "source": [
    "### <font color = 'pickle'>**make_blob classification** </font>\n",
    "* The **make_blobs()** function in scikit learn can be used to generate blobs of points with a Gaussian distribution.\n",
    "\n",
    "\n",
    "**Syntax** :\n",
    "\n",
    "\n",
    "```\n",
    "sklearn.datasets.make_blobs(n_samples, n_features, centers=None, cluster_std, center_box , shuffle=True, return_centers=False)\n",
    "```\n",
    "Here,\n",
    "\n",
    "n_samples = total number of the points equally divided among the clusters\n",
    "\n",
    "n_features = Number of features for each sample\n",
    "\n",
    "cluster_std = standard deviation of the cluster."
   ]
  },
  {
   "cell_type": "markdown",
   "metadata": {
    "id": "zvvoEfJifIse"
   },
   "source": [
    "With the help of above libraries. Let's generate a data set:"
   ]
  },
  {
   "cell_type": "code",
   "execution_count": 3,
   "metadata": {
    "colab": {
     "base_uri": "https://localhost:8080/",
     "height": 380
    },
    "executionInfo": {
     "elapsed": 728,
     "status": "ok",
     "timestamp": 1662323550600,
     "user": {
      "displayName": "Harpreet SIngh",
      "userId": "15106381096049879330"
     },
     "user_tz": 300
    },
    "id": "ZJJSAq_1i9pP",
    "outputId": "095f4754-250d-44b5-80da-09fe8919f368"
   },
   "outputs": [
    {
     "data": {
      "text/plain": [
       "<matplotlib.collections.PathCollection at 0x1adc067deb8>"
      ]
     },
     "execution_count": 3,
     "metadata": {},
     "output_type": "execute_result"
    },
    {
     "data": {
      "image/png": "[encoded data removed]",
      "text/plain": [
       "<Figure size 600x400 with 1 Axes>"
      ]
     },
     "metadata": {
      "needs_background": "light"
     },
     "output_type": "display_data"
    }
   ],
   "source": [
    "%matplotlib inline\n",
    "# Giving color, size for the plot\n",
    "# For more colormaps, refer \"https://gallantlab.github.io/pycortex/colormaps.html\"\n",
    "plt.rcParams['image.cmap'] = \"Accent_r\"\n",
    "plt.rcParams['figure.dpi'] = \"100\"\n",
    "\n",
    "# Generate a 2-D classification dataset\n",
    "X, y = make_blobs(centers=2, cluster_std=2, random_state=0, n_samples=60, n_features = 2)\n",
    "\n",
    "# plot the figure using plt\n",
    "plt.figure()\n",
    "plt.gca().set_aspect(\"equal\")\n",
    "\n",
    "# We will be using scatter plot from the matplotlib\n",
    "plt.scatter(X[:, 0], X[:, 1], c=y)"
   ]
  },
  {
   "cell_type": "markdown",
   "metadata": {
    "id": "O7KdXS33nRua"
   },
   "source": [
    "## <font color = 'pickle'>**Adding new points**\n",
    "We have added three new points represented as **Stars** in our scatterplot."
   ]
  },
  {
   "cell_type": "markdown",
   "metadata": {
    "id": "5yk1FoUhu43d"
   },
   "source": [
    "\n",
    "\n",
    "\n",
    "<img src =\"https://drive.google.com/uc?export=view&id=1aX94_JUVtQDm47woCrbTE9EjTVPDYOo2\" width =400 >"
   ]
  },
  {
   "cell_type": "markdown",
   "metadata": {
    "id": "K12xC97tPoGs"
   },
   "source": [
    "## <font color = 'pickle'>**Calculate Distance**</font>\n",
    "\n",
    "* We can use following disatnce formulae to find nearest neighbours:-\n",
    "   * Euclidian distance\n",
    "   * Manhattan distance\n",
    "* **Euclidian distance** :\n",
    "  If we have  data $(x_{11}, x_{12}),(x_{21},x_{22})$ points  then finding the\n",
    "  distance between those points by using Euclidean distance is done as follows :\n",
    "\n",
    "  **Euclidean distance** = $\\sqrt{(x_{11}, x_{12})^2 + (x_{21},x_{22})^2}$      \n",
    "\n",
    "* **Manhattan distance** :\n",
    "  Just like Euclidian distance we can find the Manhattan distance for the above points\n",
    "as follows :\n",
    "\n",
    "   **Manhattan distance** =  $|x_{11}, x_{12}| + |x_{21},x_{22}|$      "
   ]
  },
  {
   "cell_type": "markdown",
   "metadata": {
    "id": "7M_0cw-2vK11"
   },
   "source": [
    "### <font color = 'pickle'>**Classifying the new data points** </font>\n",
    "Now we need to classify these new data points.We can predict the classification of these new data points based on the euclidean distance.\n",
    "\n",
    "If we use one nearest neighbour then kNN will predict the label of the new data point  based on the label of closest point in the training data."
   ]
  },
  {
   "cell_type": "markdown",
   "metadata": {
    "id": "JeVQMEoGwaPh"
   },
   "source": [
    "<img src =\"https://drive.google.com/uc?export=view&id=1256ce01O6b6aTySzgHkX6EOObakdec32\" width =400 >"
   ]
  },
  {
   "cell_type": "markdown",
   "metadata": {
    "id": "LHMayvx00dJU"
   },
   "source": [
    "* From the above figure we can see that the new point has been classified based on  the nearest point. We have also shown which nearest data points are used to classify new data points.\n",
    "\n",
    "* In this case new points were classified as black\n",
    "* Hence, the new points changed it's color (from red to black or green) based on the nearest point color."
   ]
  },
  {
   "cell_type": "markdown",
   "metadata": {
    "id": "Uetez5u50-iH"
   },
   "source": [
    "#<font color = 'pickle'>**Splitting the dataset**</font>\n",
    "* We need to split the data into a **training set** and a **test set**.\n",
    "* We can consider 75 % of the data as a training set then we use training set to train the model.\n",
    "* The rest of the 25% of the data is considered as a test set which is used to test our model accuracy.\n",
    "\n",
    "If our assumption is correct, and we get a 90% success rate on the test data, we expect about a 90% success rate on any future data, for which we don't have labels.\n",
    "\n",
    "But, **why do we need to split the dataset into train and test sets**?\n",
    "Let's discuss about this as follows :-\n"
   ]
  },
  {
   "cell_type": "markdown",
   "metadata": {
    "id": "vdXOCUOMyt7F"
   },
   "source": [
    "## <font color = 'pickle'>**Why to split the dataset**\n",
    "\n",
    "* Let us assume that we want to teach multiplicaion to students. For demonstration we used numbers from 1 to 9.\n",
    "* Now we have to test whether our students understood the multiplication.\n",
    "* If we give the same set of numbers to multiply, there is a possibility that the student might have **memorized the results**. But we want to know whether he/she understood the concept of number multiplication.\n",
    "* Hence we will give them a new set of numbers probably ranging from 11 to 20 and ask them to give results on the new set of numbers.\n",
    "* From this example, we can derive following things :-\n",
    "\n",
    "**Teaching students multiplication** - training the model.\n",
    "\n",
    "**students** - students are considered as our model.\n",
    "\n",
    "**Numbers from 1 to 9** - This is our training data set. We will train our model based on these numbers.\n",
    "\n",
    "**Number from 11 to 20** - This is considered as test data set. By applying our model on test data set we will get to know how well our model works on the new set of datasets. We can conclude that it can perform well on any other datasets as well.\n",
    "\n",
    "*  The train and test data sets also help us to avoid the problems of overfitting which will discuss in detail below.\n",
    "\n",
    "Thus, the above example gives a clear explanation about the importance of splitting the data.\n",
    "Now let's check how to split the data by using scikit learn as follows :-"
   ]
  },
  {
   "cell_type": "markdown",
   "metadata": {
    "id": "o8Ulv5Rp1u9c"
   },
   "source": [
    "## <font color = 'pickle'>**Splitting dataset using scikit-learn**\n",
    "  Scikit learn is one of the essential packages for data science. We can use scikit learn to split the data into two parts i.e train and test data sets.\n",
    "\n",
    "  **Syntax** :\n",
    "\n",
    "\n",
    "```\n",
    " from sklearn.model.selection import train_test_split\n",
    " X_train, X_test, Y_train, Y_test = train_test_split(X,Y)\n",
    "\n",
    "```\n",
    "where X, Y is our dataset.\n",
    "\n"
   ]
  },
  {
   "cell_type": "code",
   "execution_count": 4,
   "metadata": {
    "id": "u4oXIZC20bhk"
   },
   "outputs": [],
   "source": [
    "# Split the dataset using scikit-learn\n",
    "# We provide it with the data X, which are our two features, and the labels y.\n",
    "# ramdom_state is used for reproducability. It will make sure that every time we\n",
    "# run this cell we get the exact same train/test split\n",
    "\n",
    "# import train/test split\n",
    "from sklearn.model_selection import train_test_split\n",
    "\n",
    "# split X, y in to (X_train, X_test ) and (y_train, y_test)\n",
    "X_train, X_test, y_train, y_test = train_test_split(X, y, test_size=0.25, random_state=42)\n"
   ]
  },
  {
   "cell_type": "code",
   "execution_count": 5,
   "metadata": {
    "colab": {
     "base_uri": "https://localhost:8080/"
    },
    "executionInfo": {
     "elapsed": 396,
     "status": "ok",
     "timestamp": 1662323982722,
     "user": {
      "displayName": "Harpreet SIngh",
      "userId": "15106381096049879330"
     },
     "user_tz": 300
    },
    "id": "Mcefi4CA2b21",
    "outputId": "27cc4f97-6575-4951-dbd1-6b4cfbff3aca"
   },
   "outputs": [
    {
     "name": "stdout",
     "output_type": "stream",
     "text": [
      "Accuracy: 0.67\n"
     ]
    }
   ],
   "source": [
    "# Let's calculate kNN for k=1 which is one neighbors classifier\n",
    "\n",
    "from sklearn.neighbors import KNeighborsClassifier\n",
    "\n",
    "# applying kNeighborClassifier by taking the number of neighbors as 1\n",
    "my_knn = KNeighborsClassifier(n_neighbors=1)\n",
    "\n",
    "# Now we call the fit method\n",
    "# The fit method builds the model and stores any estimated quantities in the model object.\n",
    "# Here its my_knn. In case of KNeighborsClassifier, the fit method helps in remembering\n",
    "# the whole training set.\n",
    "\n",
    "# fit the model\n",
    "my_knn.fit(X_train, y_train)\n",
    "\n",
    "# Let's use the score method\n",
    "# Score method will compute the accuracy for classification problems\n",
    "\n",
    "print(f\"Accuracy: {my_knn.score(X_test, y_test):.2f}\")\n"
   ]
  },
  {
   "cell_type": "markdown",
   "metadata": {
    "id": "ChEl9tzwBO9L"
   },
   "source": [
    "# <font color = 'pickle'>**Overfitting and Underfitting**"
   ]
  },
  {
   "cell_type": "markdown",
   "metadata": {
    "id": "Q0ezPgS2EIeE"
   },
   "source": [
    "## <font color = 'pickle'>**Overfitting**\n",
    "\n",
    "* Overfitting usually happens when a model learns the detail and noise in the training data to the extent that it negatively impacts the performance of the model on new data (test data).\n",
    "* This means that the noise or random fluctuations in the training data is picked up and learned as concepts by the model.\n",
    "* The problem is that these concepts do not apply to new data and negatively impact the models ability to generalize.\n",
    "* Hence, our training dataset gives good result but when we apply on the test data set it doesn't give us good accuracy compared to training data's accuracy.\n",
    "* We can understand more about overfitting by the following figure :-\n",
    "\n",
    "\n",
    "If we are trying to do a classification model then the appropriate model is given below :\n",
    "\n",
    "<img src =\"https://drive.google.com/uc?export=view&id=141-VRrdVwtqhi40LqVvqvNaieLx898xC\" width =200 >\n",
    "\n",
    "\n",
    "If we train our model in a wrong way, then we may face the problem of overfitting as follows :-\n",
    "\n",
    "<img src =\"https://drive.google.com/uc?export=view&id=1wWifbGcjSwVHjaoybtkzH6f1fCORfSN4\" width =200 >"
   ]
  },
  {
   "cell_type": "markdown",
   "metadata": {
    "id": "VoRAsTY2_6x2"
   },
   "source": [
    "## <font color = 'pickle'>**Underfitting**\n",
    "\n",
    "* Underfitting refers to a model that can neither model the training data nor generalize to new data(test data).\n",
    "\n",
    "* Its occurrence simply means that our model or the algorithm does not fit the data well enough.  \n",
    "\n",
    "* The reason for the occurence of underfitting can be due to the less amount of features in the data or when we try to build a linear model with a non-linear data.\n",
    "\n",
    "\n",
    "Following example gives a good example of underfitting of the model as follows :-\n",
    "\n",
    "\n",
    "<img src =\"https://drive.google.com/uc?export=view&id=1oZEtiZf5QP7qSR5g6aHyT5s-2xUkoLZR\" width =200 >"
   ]
  },
  {
   "cell_type": "markdown",
   "metadata": {
    "id": "Fhat0qaxrUoF"
   },
   "source": [
    "<font color = 'dodgerblue'>**Summary**\n",
    "\n",
    "* <font color = 'dodgerblue'> If model is too simple , we will observe **underfitting**.\n",
    "* <font color = 'dodgerblue'> If model is too complex, we will observe **overfitting**.\n",
    "* Somewhere in the middle, we can find a **sweet spot**. Which lies between underfitting and overfitting.\n",
    "* The goal is to select the sweet spot, which is challenging to do in practice.\n",
    "* So, for KNeighborsClassifier, what parameters correspond to high/low model complexity?\n",
    "\n",
    " <font color = 'dodgerblue'>  **high n_neighbors = low complexity**\n",
    "\n",
    "<img src =\"https://drive.google.com/uc?export=view&id=1api1X6sPpwPRNrfNAZo6G317m994PUSn\" width =500 >"
   ]
  },
  {
   "cell_type": "markdown",
   "metadata": {
    "id": "0gvSPcLWV-lh"
   },
   "source": [
    "#<font color = 'pickle'> **Model complexity**"
   ]
  },
  {
   "cell_type": "markdown",
   "metadata": {
    "id": "TfENUCXT6_u2"
   },
   "source": [
    "##<font color = 'pickle'> **Model Complexity (KNN) Influence of number of neighbors**\n",
    "* The number of neighbors(k) in kNN is a <font color = 'dodgerblue'> **hyperparameter** </font> that we need choose at the time of model building.\n",
    "* We can think of k as a controlling variable for the prediction model.\n",
    "* Samller value of k can lead to overfitting whereas higher values of k can lead to underfitting\n",
    "\n"
   ]
  },
  {
   "cell_type": "markdown",
   "metadata": {
    "id": "ows8ZgmoQ9Y5"
   },
   "source": [
    "The kNN classification by considering K = 5 :-\n",
    "\n",
    "<img src =\"https://drive.google.com/uc?export=view&id=1-1Ci8e7ZSClo7YixJtJu1PP5U8O5Ng_P\" width =300 >\n",
    "\n",
    "We can draw the following conclusions :-\n",
    "* The new data points are classified based on the 5 nearest data points.\n",
    "* If the 5 datapoint around the new data point are of different colour then it will be classified based on the higher number of same coloured data points.\n",
    "* For example, if there are 3 green data points and 2 black data points then our new data point will be classified as green. Since, we have more  green points(i.e 3) when compared to black points(i.e 2).\n",
    "* Similarly, we have kNN regression, the value for the new data point is calculated based on the average of the values of k nearest neighbors.\n",
    "Where k value is given by the user or we can calculate by using cross validation methods which will discussed below.\n",
    "\n"
   ]
  },
  {
   "cell_type": "markdown",
   "metadata": {
    "id": "xHR-e9LgSlX7"
   },
   "source": [
    "* Let's plot decision boundary using different number of neighbors(K).\n",
    "\n",
    "> Definition of Decision Boundary from [wikipedia ](https://en.wikipedia.org/wiki/Decision_boundary): \"*In a statistical-classification problem with two classes, a decision boundary or decision surface is a hypersurface that partitions the underlying vector space into two sets, one for each class. The classifier will classify all the points on one side of the decision boundary as belonging to one class and all those on the other side as belonging to the other class*.\"\n",
    "\n",
    "\n",
    "We have chosen data with only two features (x1 and x2). Decision boundary will be a function of x1 and x2."
   ]
  },
  {
   "cell_type": "markdown",
   "metadata": {
    "id": "h24V4phPxRHQ"
   },
   "source": [
    "<img src =\"https://drive.google.com/uc?export=view&id=1-1o0Cjqz9xCEG5HiQ8izWrYz-6ihjL_Z\" width = 700 >"
   ]
  },
  {
   "cell_type": "markdown",
   "metadata": {
    "id": "pFZCffik_VVz"
   },
   "source": [
    "From the above figure we can derive how classification changes based on the different number of neighbors.\n",
    "* A scattered plot is used to plot the x1 and x2 values .\n",
    "* black and green circles represents two classses of points in training dataset.\n",
    "* the background represents a class a new datapoint  (e.g. point in test data set) would be assigned to for each value of x1 and x2.\n",
    "* If we choose **k = 1**, we will pick up a **lot of noise** in the model.\n",
    "* But if we increase the value of of k (k = 5, 10, 40), we will notice that we achieve smooth separation.\n",
    "* This cleaner cut off is achieved at the cost of miss - labeling some data points such as when the  **k = 50**.\n",
    "* When **n_neighbors** = 60 i.e it reaches to the total number of samples then it will remove the decsion boundary and  will display the backgorund color based on the class which has more points in training dataset. In this example the black points has more observations and hence background color is black. In other words when n_neighbors = number of samples, then we use a very simple model, which always predict a new point based on the class which has more observations in the training dataset.\n"
   ]
  },
  {
   "cell_type": "markdown",
   "metadata": {
    "id": "mNswYrfQAQhY"
   },
   "source": [
    "Now let's check in detail behavior of our data for different values of k mentioned above: 1, 5, 10, 30, 40, 50."
   ]
  },
  {
   "cell_type": "code",
   "execution_count": null,
   "metadata": {
    "id": "_sOF_BiyIHp2"
   },
   "outputs": [],
   "source": [
    "# Let's classify the data again based on the different k values\n",
    "# Consider different k values ranging from 1 to 30 with a difference of 2\n",
    "neighbors = range(1, 31, 2)\n",
    "\n",
    "# Create the empty lists\n",
    "training_scores = []\n",
    "test_scores = []\n",
    "\n",
    "# Split teh data\n",
    "X_train, X_test, y_train, y_test = train_test_split(X, y, random_state=13)\n",
    "\n",
    "for n_neighbors in neighbors:\n",
    "    # fit the model\n",
    "    nn = KNeighborsClassifier(n_neighbors=n_neighbors).fit(X_train, y_train)\n",
    "    # get the accuracy by using score method for train and test data\n",
    "    training_scores.append(# code here)\n",
    "    test_scores.append(# code here)"
   ]
  },
  {
   "cell_type": "code",
   "execution_count": null,
   "metadata": {
    "colab": {
     "base_uri": "https://localhost:8080/"
    },
    "executionInfo": {
     "elapsed": 152,
     "status": "ok",
     "timestamp": 1662324660861,
     "user": {
      "displayName": "Harpreet SIngh",
      "userId": "15106381096049879330"
     },
     "user_tz": 300
    },
    "id": "HxDh6VlzL4pJ",
    "outputId": "41fbf38d-f320-4aa7-ae86-eb750576238e"
   },
   "outputs": [
    {
     "name": "stdout",
     "output_type": "stream",
     "text": [
      "training_scores: [1.0, 0.8222222222222222, 0.8, 0.7777777777777778, 0.6888888888888889, 0.8, 0.6888888888888889, 0.6666666666666666, 0.6888888888888889, 0.7111111111111111, 0.7111111111111111, 0.6888888888888889, 0.7111111111111111, 0.7111111111111111, 0.7111111111111111]\n",
      "test_scores: [0.6666666666666666, 0.8, 0.7333333333333333, 0.8, 0.7333333333333333, 0.7333333333333333, 0.7333333333333333, 0.6666666666666666, 0.8, 0.8, 0.7333333333333333, 0.7333333333333333, 0.7333333333333333, 0.6666666666666666, 0.7333333333333333]\n"
     ]
    }
   ],
   "source": [
    "print(f\"training_scores: {training_scores}\\ntest_scores: {test_scores}\")"
   ]
  },
  {
   "cell_type": "markdown",
   "metadata": {
    "id": "U65vLjEXKiRo"
   },
   "source": [
    "Now let's plot the above training_scores and test_scores as follows :"
   ]
  },
  {
   "cell_type": "code",
   "execution_count": null,
   "metadata": {
    "colab": {
     "base_uri": "https://localhost:8080/",
     "height": 400
    },
    "executionInfo": {
     "elapsed": 370,
     "status": "ok",
     "timestamp": 1662324667430,
     "user": {
      "displayName": "Harpreet SIngh",
      "userId": "15106381096049879330"
     },
     "user_tz": 300
    },
    "id": "wogyaKzvJp3k",
    "outputId": "48205f73-bdac-40cc-9430-f0735e250a57"
   },
   "outputs": [
    {
     "data": {
      "text/plain": [
       "<matplotlib.legend.Legend at 0x7f0be9e2f410>"
      ]
     },
     "execution_count": 9,
     "metadata": {},
     "output_type": "execute_result"
    },
    {
     "data": {
      "image/png": "[encoded data removed]",
      "text/plain": [
       "<Figure size 600x400 with 1 Axes>"
      ]
     },
     "metadata": {
      "needs_background": "light"
     },
     "output_type": "display_data"
    }
   ],
   "source": [
    "# let's plot the data as follows\n",
    "# Here we will check the accuracy for different neighbors ranging from 1 to 30\n",
    "plt.figure()\n",
    "# plot the number of neighbors and training_scores\n",
    "plt.plot(neighbors, training_scores, label=\"training scores\")\n",
    "# plot the number of neighbors and test_scores\n",
    "plt.plot(neighbors, test_scores, label=\"test scores\")\n",
    "plt.ylabel(\"accuracy\")\n",
    "plt.xlabel(\"n_neighbors\")\n",
    "plt.legend()\n"
   ]
  },
  {
   "cell_type": "markdown",
   "metadata": {
    "id": "lRUmUsOFK6Mm"
   },
   "source": [
    "From the above graph we can make following assumptions :\n",
    "1. if k = 1, then our accuracy is 1(perfect) but the test score is 50% (not so good).\n",
    "2. If we increase the k values, the training scores goes down.\n",
    "4. We will decide the k values based on the test dataset accuracy. Since, we want to know the accuracy of our model based on the new data. Hence, we give preference to testdata set accuracy rate.\n",
    "\n",
    "3. Since, it is difficult to interpret the best k values by using above graph. We have several ways to find the best k value. <font color = 'dodgerblue'> **The process of finding best values for hyperparameters is caled hyperparameter tuning.**</font>\n",
    "4. We can use cross validation techniques, three fold split, Grid SearchCv etc. to find the best k values. We will now discuss these in detail :\n"
   ]
  },
  {
   "cell_type": "markdown",
   "metadata": {
    "id": "LIHsUIV9QM0m"
   },
   "source": [
    "# <font color = 'pickle'> **Three fold split**\n",
    "So far we have done the splitting of the data into training and test datasets. However, <font color = 'dodgerblue'> if we select optimized  k value based on test data set, then it could happen that the selected k values gives very good results for the test dataset but may not generalize to unseen data. In other words we will never now whether the optinmized k value is causing the overfitting.</font>\n",
    "\n",
    "* In order to solve this problem of overfitting the test dataset, we can split the data into three folds that is training set, validation set and test set.\n",
    "* We will train the model by using training set.\n",
    "* The Validation set is used for tuning the hyperparameters.\n",
    "* The test set will be used for the final evaluation of the model.\n",
    "\n",
    "\n",
    "<img src =\"https://drive.google.com/uc?export=view&id=13i9nd9Jp_4Dd0cN-mvDQnyvoEQfAbiON\" width =300 >\n",
    "\n",
    "Note : <font color = 'dodgerblue'> **Hyperparameter is a parameter that cannnot be estimated by fitting the model on training data.**</font> The value of hyerparamter is used to control the learning process e.g. k in the kNN is the hyperparameter. The process of finding the best vaue of hyperparameter using the strategies like cross-validation, gridsearch is called hyperparameter tuning.\n"
   ]
  },
  {
   "cell_type": "code",
   "execution_count": null,
   "metadata": {
    "colab": {
     "base_uri": "https://localhost:8080/"
    },
    "executionInfo": {
     "elapsed": 124,
     "status": "ok",
     "timestamp": 1662325042152,
     "user": {
      "displayName": "Harpreet SIngh",
      "userId": "15106381096049879330"
     },
     "user_tz": 300
    },
    "id": "ld17bh9CTKuS",
    "outputId": "a3a05cee-b7c9-48c4-a602-9ca841b795d9"
   },
   "outputs": [
    {
     "name": "stdout",
     "output_type": "stream",
     "text": [
      "best validation score: 0.75\n",
      "best_value_of_k: 1\n",
      "test-set score: 0.67\n"
     ]
    }
   ],
   "source": [
    "# Three fold split\n",
    "# Using train_test_split to split the data into train, val and test\n",
    "# first split the data into trainval and test datasets\n",
    "X_trainval, X_test, y_trainval, y_test = train_test_split(X, y)\n",
    "# then split trainval into train and val datasets\n",
    "X_train, X_val, y_train, y_val = train_test_split(X_trainval, y_trainval)\n",
    "\n",
    "val_scores = []\n",
    "# Taking k values ranging from 1 to 15 with a step of 2\n",
    "neighbors = np.arange(1, 16, 2)\n",
    "for i in neighbors:\n",
    "    # following same steps for traning the data with kNeighborsClassifier model\n",
    "    nn = KNeighborsClassifier(n_neighbors=i)\n",
    "    nn.fit(X_train, y_train)\n",
    "\n",
    "    # Adding the validation scores to the val_scores\n",
    "    val_scores.append(nn.score(X_val, y_val))\n",
    "\n",
    "# let's consider the highest score for validation data across different k values\n",
    "# the val score for each k was saved in val_score list. The max value will\n",
    "# give us the best validation score\n",
    "print(f\"best validation score: {np.max(val_scores):.3}\")\n",
    "\n",
    "# the index coresponding to best value will give us the best value of k\n",
    "# using the index we will select the corresponding values from neighbours list\n",
    "best_value_of_k = neighbors[# code here]\n",
    "print(\"best_value_of_k:\", best_value_of_k)\n",
    "\n",
    "# fit the model using best k on combined train/validation data\n",
    "knn = KNeighborsClassifier(# code here)\n",
    "knn.fit(X_trainval, y_trainval)\n",
    "\n",
    "print(f\"test-set score: {knn.score(X_test, y_test):.2f}\")"
   ]
  },
  {
   "cell_type": "markdown",
   "metadata": {
    "id": "hARdAhlcaGyW"
   },
   "source": [
    "In the three fold split we might be using the 70 % to 80% of the data. Our results mostly depends on how we split the data. In to order make it more robust we will be using cross validation as follows :-"
   ]
  },
  {
   "cell_type": "markdown",
   "metadata": {
    "id": "TdqMqQLNBXFX"
   },
   "source": [
    "#<font color = 'pickle'> **Cross-Validation (CV)**\n",
    "\n"
   ]
  },
  {
   "cell_type": "markdown",
   "metadata": {
    "id": "7iQdrgBHBti3"
   },
   "source": [
    "* In cross-validation, we split our training data into multiple folds, usually 5 or 10\n",
    "* Then we build multiple models based on these folds. Following image gives a clear idea about the concept :\n",
    "\n",
    "\n",
    "<img src =\"https://drive.google.com/uc?export=view&id=1LQ_9W5Xeqnj4LNuM5mPmZV3M-nYiy8Hv\" width =700 >\n",
    "\n",
    "*  In the split 1, We start by using fold1  as the validation data, and the remaining ones as the training data. You build your model on the training data, and evaluate it on the test fold. In each split, a different fold is used as validation data.\n",
    "*  For each of the splits of the data, we get a model evaluation and a score. In the end, we can aggregate the scores, for example by taking the mean.\n",
    "* This usually takes longer time but gives better results.\n",
    "\n",
    "* We can use **cross_val_score** from scikit learn to perform cross validation on the data."
   ]
  },
  {
   "cell_type": "markdown",
   "metadata": {
    "id": "RD3a5B_QQ-Zr"
   },
   "source": [
    "## <font color = 'pickle'> **Cross-Validation Example**"
   ]
  },
  {
   "cell_type": "code",
   "execution_count": null,
   "metadata": {
    "id": "AhVbmr264X8S"
   },
   "outputs": [],
   "source": [
    "# First split the data into train and test\n",
    "x_train_dummy = np.array([0, 1, 2, 3, 4, 5, 6, 7, 8, 9])\n",
    "y_train_dummy = np.array([0, 0 ,0 ,0 ,0 ,0 ,0 ,1, 1, 1])"
   ]
  },
  {
   "cell_type": "code",
   "execution_count": null,
   "metadata": {
    "colab": {
     "base_uri": "https://localhost:8080/"
    },
    "executionInfo": {
     "elapsed": 124,
     "status": "ok",
     "timestamp": 1662325191685,
     "user": {
      "displayName": "Harpreet SIngh",
      "userId": "15106381096049879330"
     },
     "user_tz": 300
    },
    "id": "N3jIrJK44X8U",
    "outputId": "d7f68bf2-dd48-48b8-beef-a6e6fac9f21c"
   },
   "outputs": [
    {
     "name": "stdout",
     "output_type": "stream",
     "text": [
      "X_train splits\n",
      "Train fold for split 1: [0 1 3 5 6 7] Valid fold for split 1 : [2 4 8 9]\n",
      "Train fold for split 2: [0 2 3 4 5 8 9] Valid fold for split 2 : [1 6 7]\n",
      "Train fold for split 3: [1 2 4 6 7 8 9] Valid fold for split 3 : [0 3 5]\n",
      "\n",
      "y_train splits\n",
      "Train fold for split 1 : [0 0 0 0 0 1] Valid fold for split 1: [0 0 1 1]\n",
      "Train fold for split 2 : [0 0 0 0 0 1 1] Valid fold for split 2: [0 0 1]\n",
      "Train fold for split 3 : [0 0 0 0 1 1 1] Valid fold for split 3: [0 0 0]\n"
     ]
    }
   ],
   "source": [
    "from sklearn.model_selection import KFold\n",
    "kfolds = KFold(n_splits = 3, random_state=0, shuffle = True)\n",
    "print(f'X_train splits')\n",
    "for i, (train_fold, valid_fold) in enumerate(kfolds.split(x_train_dummy)):\n",
    "  print(f'Train fold for split {i+1}: {x_train_dummy[train_fold]} Valid fold for split {i+1} : {x_train_dummy[valid_fold]}')\n",
    "\n",
    "\n",
    "print(f'\\ny_train splits')\n",
    "for i, (train_fold, valid_fold) in enumerate(kfolds.split(y_train_dummy)):\n",
    "  print(f'Train fold for split {i+1} : {y_train_dummy[train_fold]} Valid fold for split {i+1}: {y_train_dummy[valid_fold]}')"
   ]
  },
  {
   "cell_type": "markdown",
   "metadata": {
    "id": "HlAGumZmQaEQ"
   },
   "source": [
    "## <font color = 'pickle'> **Finding the best value of k (hyperparameter) using CV**\n",
    "\n"
   ]
  },
  {
   "cell_type": "code",
   "execution_count": null,
   "metadata": {
    "colab": {
     "base_uri": "https://localhost:8080/"
    },
    "executionInfo": {
     "elapsed": 257,
     "status": "ok",
     "timestamp": 1662325483565,
     "user": {
      "displayName": "Harpreet SIngh",
      "userId": "15106381096049879330"
     },
     "user_tz": 300
    },
    "id": "0x8uqJ1IV3Dl",
    "outputId": "02c1fa4a-bc34-447b-8c5c-cd712db70acc"
   },
   "outputs": [
    {
     "name": "stdout",
     "output_type": "stream",
     "text": [
      "best cross-validation score: 0.733\n",
      "best_value_of_k: 1\n",
      "test-set score: 0.600\n"
     ]
    }
   ],
   "source": [
    "# Use cross_val_score from scikit learn\n",
    "from sklearn.model_selection import cross_val_score\n",
    "\n",
    "# First split the data into train and test\n",
    "X_train, X_test, y_train, y_test = train_test_split(X, y)\n",
    "\n",
    "# create empty list to store cross validation scores\n",
    "cross_val_scores = []\n",
    "kfolds = # code here\n",
    "\n",
    "# Taking k values ranging from 1 to 15 with a step of 2\n",
    "neighbors = np.arange(1, 16, 2)\n",
    "for i in neighbors:\n",
    "    knn = KNeighborsClassifier(n_neighbors=i)\n",
    "    # Let's take the cross validation splits as 5\n",
    "    # For each split we get accuracy score i.e we have 5 accuracy values\n",
    "    scores = # code here\n",
    "\n",
    "    # scores will give us five values corrsponding to five validation splits\n",
    "    # We will take mean of these five values and append the mean value to cross_val_score list\n",
    "    cross_val_scores.append(np.mean(scores))\n",
    "\n",
    "# get the  the accuracy i.e highest score by using max() function\n",
    "print(f\"best cross-validation score: {# code here}\")\n",
    "\n",
    "# get the value of number oif neighbors that gives  maximum cross validation score\n",
    "best_n_neighbors = neighbors[# code here]\n",
    "print(f\"best_value_of_k: {best_n_neighbors}\")\n",
    "\n",
    "# Retrain the model with the best_value_of_k\n",
    "\n",
    "knn = KNeighborsClassifier(n_neighbors = best_n_neighbors)\n",
    "knn.fit(X_train, y_train)\n",
    "\n",
    "# evaluating the model by using the test set\n",
    "print(f\"test-set score: {knn.score(X_test, y_test):.3f}\")\n"
   ]
  },
  {
   "cell_type": "markdown",
   "metadata": {
    "id": "d93mVinV1nS6"
   },
   "source": [
    "<font color = 'dodgerblue'> **QUESTION: How many total models we estimated in the above code**"
   ]
  },
  {
   "cell_type": "markdown",
   "metadata": {
    "id": "pdCaoR0ON9VA"
   },
   "source": [
    "<img src =\"https://drive.google.com/uc?export=view&id=1iK80BvXepRL1xHwJWqQa14BiNhJMVH9S\" width =600 >\n",
    "\n",
    "* In the above figure we are splitting the dataset in to training and test set.\n",
    "* We used cross-validation to find the best parameters.\n",
    "* We use the best parameters and the training set to build a model with the best parameters, and finally evaluate it on the test set.\n",
    "* GridSearch CV, does all the steps (implemented using for loop in the code above). Let's discuss more about this .\n",
    "\n",
    "Figure inspired from https://scikit-learn.org/stable/modules/cross_validation.html"
   ]
  },
  {
   "cell_type": "markdown",
   "metadata": {
    "id": "zZ4n4jHAkqHU"
   },
   "source": [
    "## <font color = 'pickle'> **Grid search CV**\n",
    "* GridSearchCV is a class, and it behaves just like any other model in scikit-learn, with a fit, predict and score method.\n",
    "* After specifying the KNeighborsClassifier, we can use grid search method by specifying the parameters we want to search, and the cross-validation strategy.\n",
    "* Then grid search will handle  the cross-validation and parameter selection, and retrains a model with the best parameter.\n",
    "\n",
    "\n",
    "\n",
    "**Syntax** :\n",
    "\n",
    "\n",
    "\n",
    "```\n",
    "from sklearn.model_selection import GridSearchCV\n",
    "GridSearchCV(estimator, param_grid, scoring=None, refit=True, cv=None, return_train_score = False)\n",
    "(or)\n",
    "sklearn.model_selection.GridSearchCV(estimator, param_grid, scoring=None, refit=True, cv=None return_train_score=False)\n",
    "```\n",
    "where ,\n",
    "\n",
    "**param_grid** = It is a  Dictionary with parameters names (str) as keys and lists of parameter settings to try as values.\n",
    "\n",
    "**cv** =  cross validation generator by default it is considered as 5.\n",
    "\n",
    "**return_train_score** = By default the return_train_score is considered as  **False**, Our cross validation will not include scortes from training fold.\n",
    "\n",
    "\n"
   ]
  },
  {
   "cell_type": "code",
   "execution_count": null,
   "metadata": {
    "colab": {
     "base_uri": "https://localhost:8080/"
    },
    "executionInfo": {
     "elapsed": 281,
     "status": "ok",
     "timestamp": 1662325648017,
     "user": {
      "displayName": "Harpreet SIngh",
      "userId": "15106381096049879330"
     },
     "user_tz": 300
    },
    "id": "ad1OZQvskbnL",
    "outputId": "1d66bcc3-85e7-42ec-9432-fa54dd161993"
   },
   "outputs": [
    {
     "name": "stdout",
     "output_type": "stream",
     "text": [
      "best mean cross-validation score: 0.711111111111111\n",
      "best parameters: {'n_neighbors': 1}\n",
      "train-set score: 1.000\n",
      "test-set score: 0.467\n"
     ]
    }
   ],
   "source": [
    "# We will now implement above code using GridSearchCV\n",
    "# performing kNN classification and using GridSearchCV for predciting best parameter and retraining\n",
    "# the model\n",
    "from sklearn.model_selection import GridSearchCV\n",
    "from sklearn.neighbors import KNeighborsClassifier\n",
    "\n",
    "# split the data into train set and test set\n",
    "X_train, X_test, y_train, y_test = train_test_split(X, y, stratify=y)\n",
    "\n",
    "# speciy the param_grid values\n",
    "param_grid = # code here\n",
    "\n",
    "kfolds = KFold(n_splits = 5, random_state=0, shuffle = True)\n",
    "\n",
    "# Using GridSearchCV for kNN classification and returning the train_score as True\n",
    "grid = # code here\n",
    "\n",
    "# Now fit the  GridSearchCV on the X_train, y_train by using fit() method\n",
    "grid.fit(X_train, y_train)\n",
    "\n",
    "# grid.best_score_ gives the best vaklue for the mean of cross validation score\n",
    "# grid.best_params_ generates the best parameter i.e n_neighbor\n",
    "# grid.score(data) gives the score on the data after fitting the model on\n",
    "# complete training data using the best hyper parameters\n",
    "\n",
    "print(f\"best mean cross-validation score: {grid.best_score_}\")\n",
    "print(f\"best parameters: {grid.best_params_}\")\n",
    "\n",
    "# We can check the accuracy score of training dataset and test dataset.\n",
    "print(f\"train-set score: {grid.score(X_train, y_train):.3f}\")\n",
    "print(f\"test-set score: {grid.score(X_test, y_test):.3f}\")"
   ]
  },
  {
   "cell_type": "code",
   "execution_count": null,
   "metadata": {
    "colab": {
     "base_uri": "https://localhost:8080/",
     "height": 769
    },
    "executionInfo": {
     "elapsed": 527,
     "status": "ok",
     "timestamp": 1662325667574,
     "user": {
      "displayName": "Harpreet SIngh",
      "userId": "15106381096049879330"
     },
     "user_tz": 300
    },
    "id": "GIf2XKIPain7",
    "outputId": "d634f8f9-585b-45a4-f87a-48252cab9bac"
   },
   "outputs": [
    {
     "data": {
      "text/html": [
       "\n",
       "  <div id=\"df-3198db04-7ef3-413e-aa0a-74bf6f785795\">\n",
       "    <div class=\"colab-df-container\">\n",
       "      <div>\n",
       "<style scoped>\n",
       "    .dataframe tbody tr th:only-of-type {\n",
       "        vertical-align: middle;\n",
       "    }\n",
       "\n",
       "    .dataframe tbody tr th {\n",
       "        vertical-align: top;\n",
       "    }\n",
       "\n",
       "    .dataframe thead th {\n",
       "        text-align: right;\n",
       "    }\n",
       "</style>\n",
       "<table border=\"1\" class=\"dataframe\">\n",
       "  <thead>\n",
       "    <tr style=\"text-align: right;\">\n",
       "      <th></th>\n",
       "      <th>0</th>\n",
       "      <th>1</th>\n",
       "      <th>2</th>\n",
       "      <th>3</th>\n",
       "      <th>4</th>\n",
       "      <th>5</th>\n",
       "      <th>6</th>\n",
       "      <th>7</th>\n",
       "    </tr>\n",
       "  </thead>\n",
       "  <tbody>\n",
       "    <tr>\n",
       "      <th>mean_fit_time</th>\n",
       "      <td>0.00078</td>\n",
       "      <td>0.00065</td>\n",
       "      <td>0.000633</td>\n",
       "      <td>0.000816</td>\n",
       "      <td>0.000675</td>\n",
       "      <td>0.000647</td>\n",
       "      <td>0.000649</td>\n",
       "      <td>0.000597</td>\n",
       "    </tr>\n",
       "    <tr>\n",
       "      <th>std_fit_time</th>\n",
       "      <td>0.000253</td>\n",
       "      <td>0.000022</td>\n",
       "      <td>0.000016</td>\n",
       "      <td>0.000333</td>\n",
       "      <td>0.000123</td>\n",
       "      <td>0.000023</td>\n",
       "      <td>0.000018</td>\n",
       "      <td>0.000019</td>\n",
       "    </tr>\n",
       "    <tr>\n",
       "      <th>mean_score_time</th>\n",
       "      <td>0.001233</td>\n",
       "      <td>0.001169</td>\n",
       "      <td>0.001115</td>\n",
       "      <td>0.001312</td>\n",
       "      <td>0.001206</td>\n",
       "      <td>0.001119</td>\n",
       "      <td>0.001223</td>\n",
       "      <td>0.00111</td>\n",
       "    </tr>\n",
       "    <tr>\n",
       "      <th>std_score_time</th>\n",
       "      <td>0.00027</td>\n",
       "      <td>0.000055</td>\n",
       "      <td>0.000015</td>\n",
       "      <td>0.000253</td>\n",
       "      <td>0.000236</td>\n",
       "      <td>0.00002</td>\n",
       "      <td>0.000101</td>\n",
       "      <td>0.000018</td>\n",
       "    </tr>\n",
       "    <tr>\n",
       "      <th>param_n_neighbors</th>\n",
       "      <td>1</td>\n",
       "      <td>3</td>\n",
       "      <td>5</td>\n",
       "      <td>7</td>\n",
       "      <td>9</td>\n",
       "      <td>11</td>\n",
       "      <td>13</td>\n",
       "      <td>15</td>\n",
       "    </tr>\n",
       "    <tr>\n",
       "      <th>params</th>\n",
       "      <td>{'n_neighbors': 1}</td>\n",
       "      <td>{'n_neighbors': 3}</td>\n",
       "      <td>{'n_neighbors': 5}</td>\n",
       "      <td>{'n_neighbors': 7}</td>\n",
       "      <td>{'n_neighbors': 9}</td>\n",
       "      <td>{'n_neighbors': 11}</td>\n",
       "      <td>{'n_neighbors': 13}</td>\n",
       "      <td>{'n_neighbors': 15}</td>\n",
       "    </tr>\n",
       "    <tr>\n",
       "      <th>split0_test_score</th>\n",
       "      <td>0.444444</td>\n",
       "      <td>0.333333</td>\n",
       "      <td>0.555556</td>\n",
       "      <td>0.555556</td>\n",
       "      <td>0.555556</td>\n",
       "      <td>0.555556</td>\n",
       "      <td>0.555556</td>\n",
       "      <td>0.555556</td>\n",
       "    </tr>\n",
       "    <tr>\n",
       "      <th>split1_test_score</th>\n",
       "      <td>0.888889</td>\n",
       "      <td>0.666667</td>\n",
       "      <td>0.777778</td>\n",
       "      <td>0.666667</td>\n",
       "      <td>0.666667</td>\n",
       "      <td>0.888889</td>\n",
       "      <td>0.888889</td>\n",
       "      <td>0.888889</td>\n",
       "    </tr>\n",
       "    <tr>\n",
       "      <th>split2_test_score</th>\n",
       "      <td>0.555556</td>\n",
       "      <td>0.777778</td>\n",
       "      <td>0.666667</td>\n",
       "      <td>0.666667</td>\n",
       "      <td>0.888889</td>\n",
       "      <td>0.888889</td>\n",
       "      <td>0.888889</td>\n",
       "      <td>0.777778</td>\n",
       "    </tr>\n",
       "    <tr>\n",
       "      <th>split3_test_score</th>\n",
       "      <td>0.777778</td>\n",
       "      <td>0.666667</td>\n",
       "      <td>0.666667</td>\n",
       "      <td>0.555556</td>\n",
       "      <td>0.666667</td>\n",
       "      <td>0.666667</td>\n",
       "      <td>0.666667</td>\n",
       "      <td>0.666667</td>\n",
       "    </tr>\n",
       "    <tr>\n",
       "      <th>split4_test_score</th>\n",
       "      <td>0.888889</td>\n",
       "      <td>0.666667</td>\n",
       "      <td>0.666667</td>\n",
       "      <td>0.666667</td>\n",
       "      <td>0.555556</td>\n",
       "      <td>0.555556</td>\n",
       "      <td>0.555556</td>\n",
       "      <td>0.555556</td>\n",
       "    </tr>\n",
       "    <tr>\n",
       "      <th>mean_test_score</th>\n",
       "      <td>0.711111</td>\n",
       "      <td>0.622222</td>\n",
       "      <td>0.666667</td>\n",
       "      <td>0.622222</td>\n",
       "      <td>0.666667</td>\n",
       "      <td>0.711111</td>\n",
       "      <td>0.711111</td>\n",
       "      <td>0.688889</td>\n",
       "    </tr>\n",
       "    <tr>\n",
       "      <th>std_test_score</th>\n",
       "      <td>0.180534</td>\n",
       "      <td>0.150718</td>\n",
       "      <td>0.070273</td>\n",
       "      <td>0.054433</td>\n",
       "      <td>0.121716</td>\n",
       "      <td>0.150718</td>\n",
       "      <td>0.150718</td>\n",
       "      <td>0.129577</td>\n",
       "    </tr>\n",
       "    <tr>\n",
       "      <th>rank_test_score</th>\n",
       "      <td>1</td>\n",
       "      <td>8</td>\n",
       "      <td>5</td>\n",
       "      <td>7</td>\n",
       "      <td>5</td>\n",
       "      <td>1</td>\n",
       "      <td>1</td>\n",
       "      <td>4</td>\n",
       "    </tr>\n",
       "    <tr>\n",
       "      <th>split0_train_score</th>\n",
       "      <td>1.0</td>\n",
       "      <td>0.916667</td>\n",
       "      <td>0.861111</td>\n",
       "      <td>0.75</td>\n",
       "      <td>0.777778</td>\n",
       "      <td>0.75</td>\n",
       "      <td>0.833333</td>\n",
       "      <td>0.805556</td>\n",
       "    </tr>\n",
       "    <tr>\n",
       "      <th>split1_train_score</th>\n",
       "      <td>1.0</td>\n",
       "      <td>0.805556</td>\n",
       "      <td>0.722222</td>\n",
       "      <td>0.777778</td>\n",
       "      <td>0.75</td>\n",
       "      <td>0.694444</td>\n",
       "      <td>0.75</td>\n",
       "      <td>0.722222</td>\n",
       "    </tr>\n",
       "    <tr>\n",
       "      <th>split2_train_score</th>\n",
       "      <td>1.0</td>\n",
       "      <td>0.777778</td>\n",
       "      <td>0.777778</td>\n",
       "      <td>0.75</td>\n",
       "      <td>0.694444</td>\n",
       "      <td>0.722222</td>\n",
       "      <td>0.75</td>\n",
       "      <td>0.75</td>\n",
       "    </tr>\n",
       "    <tr>\n",
       "      <th>split3_train_score</th>\n",
       "      <td>1.0</td>\n",
       "      <td>0.833333</td>\n",
       "      <td>0.75</td>\n",
       "      <td>0.777778</td>\n",
       "      <td>0.722222</td>\n",
       "      <td>0.722222</td>\n",
       "      <td>0.75</td>\n",
       "      <td>0.75</td>\n",
       "    </tr>\n",
       "    <tr>\n",
       "      <th>split4_train_score</th>\n",
       "      <td>1.0</td>\n",
       "      <td>0.722222</td>\n",
       "      <td>0.75</td>\n",
       "      <td>0.694444</td>\n",
       "      <td>0.722222</td>\n",
       "      <td>0.722222</td>\n",
       "      <td>0.722222</td>\n",
       "      <td>0.75</td>\n",
       "    </tr>\n",
       "    <tr>\n",
       "      <th>mean_train_score</th>\n",
       "      <td>1.0</td>\n",
       "      <td>0.811111</td>\n",
       "      <td>0.772222</td>\n",
       "      <td>0.75</td>\n",
       "      <td>0.733333</td>\n",
       "      <td>0.722222</td>\n",
       "      <td>0.761111</td>\n",
       "      <td>0.755556</td>\n",
       "    </tr>\n",
       "    <tr>\n",
       "      <th>std_train_score</th>\n",
       "      <td>0.0</td>\n",
       "      <td>0.06431</td>\n",
       "      <td>0.047791</td>\n",
       "      <td>0.030429</td>\n",
       "      <td>0.028328</td>\n",
       "      <td>0.017568</td>\n",
       "      <td>0.03768</td>\n",
       "      <td>0.027217</td>\n",
       "    </tr>\n",
       "  </tbody>\n",
       "</table>\n",
       "</div>\n",
       "      <button class=\"colab-df-convert\" onclick=\"convertToInteractive('df-3198db04-7ef3-413e-aa0a-74bf6f785795')\"\n",
       "              title=\"Convert this dataframe to an interactive table.\"\n",
       "              style=\"display:none;\">\n",
       "        \n",
       "  <svg xmlns=\"http://www.w3.org/2000/svg\" height=\"24px\"viewBox=\"0 0 24 24\"\n",
       "       width=\"24px\">\n",
       "    <path d=\"M0 0h24v24H0V0z\" fill=\"none\"/>\n",
       "    <path d=\"M18.56 5.44l.94 2.06.94-2.06 2.06-.94-2.06-.94-.94-2.06-.94 2.06-2.06.94zm-11 1L8.5 8.5l.94-2.06 2.06-.94-2.06-.94L8.5 2.5l-.94 2.06-2.06.94zm10 10l.94 2.06.94-2.06 2.06-.94-2.06-.94-.94-2.06-.94 2.06-2.06.94z\"/><path d=\"M17.41 7.96l-1.37-1.37c-.4-.4-.92-.59-1.43-.59-.52 0-1.04.2-1.43.59L10.3 9.45l-7.72 7.72c-.78.78-.78 2.05 0 2.83L4 21.41c.39.39.9.59 1.41.59.51 0 1.02-.2 1.41-.59l7.78-7.78 2.81-2.81c.8-.78.8-2.07 0-2.86zM5.41 20L4 18.59l7.72-7.72 1.47 1.35L5.41 20z\"/>\n",
       "  </svg>\n",
       "      </button>\n",
       "      \n",
       "  <style>\n",
       "    .colab-df-container {\n",
       "      display:flex;\n",
       "      flex-wrap:wrap;\n",
       "      gap: 12px;\n",
       "    }\n",
       "\n",
       "    .colab-df-convert {\n",
       "      background-color: #E8F0FE;\n",
       "      border: none;\n",
       "      border-radius: 50%;\n",
       "      cursor: pointer;\n",
       "      display: none;\n",
       "      fill: #1967D2;\n",
       "      height: 32px;\n",
       "      padding: 0 0 0 0;\n",
       "      width: 32px;\n",
       "    }\n",
       "\n",
       "    .colab-df-convert:hover {\n",
       "      background-color: #E2EBFA;\n",
       "      box-shadow: 0px 1px 2px rgba(60, 64, 67, 0.3), 0px 1px 3px 1px rgba(60, 64, 67, 0.15);\n",
       "      fill: #174EA6;\n",
       "    }\n",
       "\n",
       "    [theme=dark] .colab-df-convert {\n",
       "      background-color: #3B4455;\n",
       "      fill: #D2E3FC;\n",
       "    }\n",
       "\n",
       "    [theme=dark] .colab-df-convert:hover {\n",
       "      background-color: #434B5C;\n",
       "      box-shadow: 0px 1px 3px 1px rgba(0, 0, 0, 0.15);\n",
       "      filter: drop-shadow(0px 1px 2px rgba(0, 0, 0, 0.3));\n",
       "      fill: #FFFFFF;\n",
       "    }\n",
       "  </style>\n",
       "\n",
       "      <script>\n",
       "        const buttonEl =\n",
       "          document.querySelector('#df-3198db04-7ef3-413e-aa0a-74bf6f785795 button.colab-df-convert');\n",
       "        buttonEl.style.display =\n",
       "          google.colab.kernel.accessAllowed ? 'block' : 'none';\n",
       "\n",
       "        async function convertToInteractive(key) {\n",
       "          const element = document.querySelector('#df-3198db04-7ef3-413e-aa0a-74bf6f785795');\n",
       "          const dataTable =\n",
       "            await google.colab.kernel.invokeFunction('convertToInteractive',\n",
       "                                                     [key], {});\n",
       "          if (!dataTable) return;\n",
       "\n",
       "          const docLinkHtml = 'Like what you see? Visit the ' +\n",
       "            '<a target=\"_blank\" href=https://colab.research.google.com/notebooks/data_table.ipynb>data table notebook</a>'\n",
       "            + ' to learn more about interactive tables.';\n",
       "          element.innerHTML = '';\n",
       "          dataTable['output_type'] = 'display_data';\n",
       "          await google.colab.output.renderOutput(dataTable, element);\n",
       "          const docLink = document.createElement('div');\n",
       "          docLink.innerHTML = docLinkHtml;\n",
       "          element.appendChild(docLink);\n",
       "        }\n",
       "      </script>\n",
       "    </div>\n",
       "  </div>\n",
       "  "
      ],
      "text/plain": [
       "                                     0                   1  \\\n",
       "mean_fit_time                  0.00078             0.00065   \n",
       "std_fit_time                  0.000253            0.000022   \n",
       "mean_score_time               0.001233            0.001169   \n",
       "std_score_time                 0.00027            0.000055   \n",
       "param_n_neighbors                    1                   3   \n",
       "params              {'n_neighbors': 1}  {'n_neighbors': 3}   \n",
       "split0_test_score             0.444444            0.333333   \n",
       "split1_test_score             0.888889            0.666667   \n",
       "split2_test_score             0.555556            0.777778   \n",
       "split3_test_score             0.777778            0.666667   \n",
       "split4_test_score             0.888889            0.666667   \n",
       "mean_test_score               0.711111            0.622222   \n",
       "std_test_score                0.180534            0.150718   \n",
       "rank_test_score                      1                   8   \n",
       "split0_train_score                 1.0            0.916667   \n",
       "split1_train_score                 1.0            0.805556   \n",
       "split2_train_score                 1.0            0.777778   \n",
       "split3_train_score                 1.0            0.833333   \n",
       "split4_train_score                 1.0            0.722222   \n",
       "mean_train_score                   1.0            0.811111   \n",
       "std_train_score                    0.0             0.06431   \n",
       "\n",
       "                                     2                   3  \\\n",
       "mean_fit_time                 0.000633            0.000816   \n",
       "std_fit_time                  0.000016            0.000333   \n",
       "mean_score_time               0.001115            0.001312   \n",
       "std_score_time                0.000015            0.000253   \n",
       "param_n_neighbors                    5                   7   \n",
       "params              {'n_neighbors': 5}  {'n_neighbors': 7}   \n",
       "split0_test_score             0.555556            0.555556   \n",
       "split1_test_score             0.777778            0.666667   \n",
       "split2_test_score             0.666667            0.666667   \n",
       "split3_test_score             0.666667            0.555556   \n",
       "split4_test_score             0.666667            0.666667   \n",
       "mean_test_score               0.666667            0.622222   \n",
       "std_test_score                0.070273            0.054433   \n",
       "rank_test_score                      5                   7   \n",
       "split0_train_score            0.861111                0.75   \n",
       "split1_train_score            0.722222            0.777778   \n",
       "split2_train_score            0.777778                0.75   \n",
       "split3_train_score                0.75            0.777778   \n",
       "split4_train_score                0.75            0.694444   \n",
       "mean_train_score              0.772222                0.75   \n",
       "std_train_score               0.047791            0.030429   \n",
       "\n",
       "                                     4                    5  \\\n",
       "mean_fit_time                 0.000675             0.000647   \n",
       "std_fit_time                  0.000123             0.000023   \n",
       "mean_score_time               0.001206             0.001119   \n",
       "std_score_time                0.000236              0.00002   \n",
       "param_n_neighbors                    9                   11   \n",
       "params              {'n_neighbors': 9}  {'n_neighbors': 11}   \n",
       "split0_test_score             0.555556             0.555556   \n",
       "split1_test_score             0.666667             0.888889   \n",
       "split2_test_score             0.888889             0.888889   \n",
       "split3_test_score             0.666667             0.666667   \n",
       "split4_test_score             0.555556             0.555556   \n",
       "mean_test_score               0.666667             0.711111   \n",
       "std_test_score                0.121716             0.150718   \n",
       "rank_test_score                      5                    1   \n",
       "split0_train_score            0.777778                 0.75   \n",
       "split1_train_score                0.75             0.694444   \n",
       "split2_train_score            0.694444             0.722222   \n",
       "split3_train_score            0.722222             0.722222   \n",
       "split4_train_score            0.722222             0.722222   \n",
       "mean_train_score              0.733333             0.722222   \n",
       "std_train_score               0.028328             0.017568   \n",
       "\n",
       "                                      6                    7  \n",
       "mean_fit_time                  0.000649             0.000597  \n",
       "std_fit_time                   0.000018             0.000019  \n",
       "mean_score_time                0.001223              0.00111  \n",
       "std_score_time                 0.000101             0.000018  \n",
       "param_n_neighbors                    13                   15  \n",
       "params              {'n_neighbors': 13}  {'n_neighbors': 15}  \n",
       "split0_test_score              0.555556             0.555556  \n",
       "split1_test_score              0.888889             0.888889  \n",
       "split2_test_score              0.888889             0.777778  \n",
       "split3_test_score              0.666667             0.666667  \n",
       "split4_test_score              0.555556             0.555556  \n",
       "mean_test_score                0.711111             0.688889  \n",
       "std_test_score                 0.150718             0.129577  \n",
       "rank_test_score                       1                    4  \n",
       "split0_train_score             0.833333             0.805556  \n",
       "split1_train_score                 0.75             0.722222  \n",
       "split2_train_score                 0.75                 0.75  \n",
       "split3_train_score                 0.75                 0.75  \n",
       "split4_train_score             0.722222                 0.75  \n",
       "mean_train_score               0.761111             0.755556  \n",
       "std_train_score                 0.03768             0.027217  "
      ]
     },
     "execution_count": 16,
     "metadata": {},
     "output_type": "execute_result"
    }
   ],
   "source": [
    "# Import results from each split into a Pandas Dataframe\n",
    "import pandas as pd\n",
    "results = pd.DataFrame(grid.cv_results_)\n",
    "results.T"
   ]
  },
  {
   "cell_type": "markdown",
   "metadata": {
    "id": "hGStGKmO2H5r"
   },
   "source": [
    "<font color = 'dodgerblue'> **QUESTION1: How many total models we estimated in the above code**\n",
    "<br><br>\n",
    "**QUESTION2: Which model we will finally use to make predictions on Test Data**"
   ]
  },
  {
   "cell_type": "markdown",
   "metadata": {
    "id": "hvRbLX_irKmC"
   },
   "source": [
    "## <font color = 'pickle'> **Different types of cross validation iterators**</font>\n",
    "\n",
    "\n",
    "1. Cross-validation iterators for i.i.d. data\n",
    "2.  Cross-validation iterators with stratification based on class labels\n",
    "4. Cross-validation iterators for grouped data\n",
    "5. Cross validation of time series data\n",
    "\n"
   ]
  },
  {
   "cell_type": "markdown",
   "metadata": {
    "id": "k57E3TsWt2WG"
   },
   "source": [
    "## **Cross-validation iterators for i.i.d. data**\n",
    "From wikipedia (https://en.wikipedia.org/wiki/Independent_and_identically_distributed_random_variables)\n",
    "<br>\n",
    "*'In machine learning theory, i.i.d. assumption is often made for training datasets to imply that all samples stem from the same generative process and that the generative process is assumed to have no memory of past generated samples.'*\n",
    "<br>\n",
    "\n",
    "Based on this assumption we can have different types of cross validation iters as follows :\n",
    "\n",
    "1. k-fold\n",
    "2. Repeated k-fold\n",
    "3. Leave One Out (LOO)\n",
    "4. Shuffle and split\n"
   ]
  },
  {
   "cell_type": "markdown",
   "metadata": {
    "id": "DpdT5ao1w-H4"
   },
   "source": [
    "###<font color = 'pickle'> **k-fold**\n",
    "* KFold divides all the samples in  groups of sub-samples, called folds.\n",
    "* The prediction function is learned using $1-k$ folds, and the fold left out is used for validation.\n",
    "\n",
    "\n",
    "<img src =\"https://drive.google.com/uc?export=view&id=1-6NNMoNLgcb8468KdmEsWStFaMRmO2pR\" width =500 >"
   ]
  },
  {
   "cell_type": "code",
   "execution_count": null,
   "metadata": {
    "id": "1c14rd3ttdPa"
   },
   "outputs": [],
   "source": [
    "# Generate Dummy Data\n",
    "x_train_dummy = np.array([0, 1, 2, 3, 4, 5, 6, 7, 8, 9])\n",
    "y_train_dummy = np.array([0, 0 ,0 ,0 ,0 ,0 ,0 ,1, 1, 1])"
   ]
  },
  {
   "cell_type": "code",
   "execution_count": null,
   "metadata": {
    "colab": {
     "base_uri": "https://localhost:8080/"
    },
    "executionInfo": {
     "elapsed": 120,
     "status": "ok",
     "timestamp": 1662326069653,
     "user": {
      "displayName": "Harpreet SIngh",
      "userId": "15106381096049879330"
     },
     "user_tz": 300
    },
    "id": "yRQdsaU-xCj9",
    "outputId": "a3f4b65b-b0df-411d-d612-855bb50b5566"
   },
   "outputs": [
    {
     "name": "stdout",
     "output_type": "stream",
     "text": [
      "X_train splits\n",
      "Train fold for split 1: [0 1 3 5 6 7] Valid fold for split 1 : [2 4 8 9]\n",
      "Train fold for split 2: [0 2 3 4 5 8 9] Valid fold for split 2 : [1 6 7]\n",
      "Train fold for split 3: [1 2 4 6 7 8 9] Valid fold for split 3 : [0 3 5]\n",
      "\n",
      "y_train splits\n",
      "Train fold for split 1 : [0 0 0 0 0 1] Valid fold for split 1: [0 0 1 1]\n",
      "Train fold for split 2 : [0 0 0 0 0 1 1] Valid fold for split 2: [0 0 1]\n",
      "Train fold for split 3 : [0 0 0 0 1 1 1] Valid fold for split 3: [0 0 0]\n"
     ]
    }
   ],
   "source": [
    "from sklearn.model_selection import KFold\n",
    "folds = KFold(n_splits = 3, random_state=0, shuffle = True)\n",
    "\n",
    "print(f'X_train splits')\n",
    "for i, (train_fold, valid_fold) in enumerate(folds.split(x_train_dummy)):\n",
    "  print(f'Train fold for split {i+1}: {x_train_dummy[train_fold]} Valid fold for split {i+1} : {x_train_dummy[valid_fold]}')\n",
    "\n",
    "\n",
    "print(f'\\ny_train splits')\n",
    "for i, (train_fold, valid_fold) in enumerate(folds.split( y_train_dummy)):\n",
    "  print(f'Train fold for split {i+1} : {y_train_dummy[train_fold]} Valid fold for split {i+1}: {y_train_dummy[valid_fold]}')"
   ]
  },
  {
   "cell_type": "markdown",
   "metadata": {
    "id": "oPKuWYaex_q0"
   },
   "source": [
    "###<font color = 'pickle'> **Leave one out**\n",
    "* LeaveOneOut (or LOO) is a simple cross-validation.\n",
    "* Each learning set is created by taking all the samples except one.\n",
    "* The left out sample is the Validation set.\n",
    "* Thus, for  samples, we have  different training sets and  different validation set.\n",
    "* The main advantage of  this cross-validation procedure is that it does not waste much data as only one sample is removed from the training set.\n",
    "\n",
    "<font color = 'dodgerblue'> **Useful for small datasets**"
   ]
  },
  {
   "cell_type": "code",
   "execution_count": null,
   "metadata": {
    "colab": {
     "base_uri": "https://localhost:8080/"
    },
    "executionInfo": {
     "elapsed": 143,
     "status": "ok",
     "timestamp": 1662326159281,
     "user": {
      "displayName": "Harpreet SIngh",
      "userId": "15106381096049879330"
     },
     "user_tz": 300
    },
    "id": "BR2WAxKe2BNg",
    "outputId": "f1976aa0-2577-4d41-a134-88f1b60ed9c8"
   },
   "outputs": [
    {
     "name": "stdout",
     "output_type": "stream",
     "text": [
      "X_train splits\n",
      "Train fold for split 1: [1 2 3 4 5 6 7 8 9] Valid fold for split 1 : [0]\n",
      "Train fold for split 2: [0 2 3 4 5 6 7 8 9] Valid fold for split 2 : [1]\n",
      "Train fold for split 3: [0 1 3 4 5 6 7 8 9] Valid fold for split 3 : [2]\n",
      "Train fold for split 4: [0 1 2 4 5 6 7 8 9] Valid fold for split 4 : [3]\n",
      "Train fold for split 5: [0 1 2 3 5 6 7 8 9] Valid fold for split 5 : [4]\n",
      "Train fold for split 6: [0 1 2 3 4 6 7 8 9] Valid fold for split 6 : [5]\n",
      "Train fold for split 7: [0 1 2 3 4 5 7 8 9] Valid fold for split 7 : [6]\n",
      "Train fold for split 8: [0 1 2 3 4 5 6 8 9] Valid fold for split 8 : [7]\n",
      "Train fold for split 9: [0 1 2 3 4 5 6 7 9] Valid fold for split 9 : [8]\n",
      "Train fold for split 10: [0 1 2 3 4 5 6 7 8] Valid fold for split 10 : [9]\n",
      "\n",
      "y_train splits\n",
      "Train fold for split 1 : [0 0 0 0 0 0 1 1 1] Valid fold for split 1: [0]\n",
      "Train fold for split 2 : [0 0 0 0 0 0 1 1 1] Valid fold for split 2: [0]\n",
      "Train fold for split 3 : [0 0 0 0 0 0 1 1 1] Valid fold for split 3: [0]\n",
      "Train fold for split 4 : [0 0 0 0 0 0 1 1 1] Valid fold for split 4: [0]\n",
      "Train fold for split 5 : [0 0 0 0 0 0 1 1 1] Valid fold for split 5: [0]\n",
      "Train fold for split 6 : [0 0 0 0 0 0 1 1 1] Valid fold for split 6: [0]\n",
      "Train fold for split 7 : [0 0 0 0 0 0 1 1 1] Valid fold for split 7: [0]\n",
      "Train fold for split 8 : [0 0 0 0 0 0 0 1 1] Valid fold for split 8: [1]\n",
      "Train fold for split 9 : [0 0 0 0 0 0 0 1 1] Valid fold for split 9: [1]\n",
      "Train fold for split 10 : [0 0 0 0 0 0 0 1 1] Valid fold for split 10: [1]\n"
     ]
    }
   ],
   "source": [
    "from sklearn.model_selection import LeaveOneOut\n",
    "folds = LeaveOneOut()\n",
    "\n",
    "print(f'X_train splits')\n",
    "for i, (train_fold, valid_fold) in enumerate(folds.split(x_train_dummy)):\n",
    "  print(f'Train fold for split {i+1}: {x_train_dummy[train_fold]} Valid fold for split {i+1} : {x_train_dummy[valid_fold]}')\n",
    "\n",
    "\n",
    "print(f'\\ny_train splits')\n",
    "for i, (train_fold, valid_fold) in enumerate(folds.split( y_train_dummy)):\n",
    "  print(f'Train fold for split {i+1} : {y_train_dummy[train_fold]} Valid fold for split {i+1}: {y_train_dummy[valid_fold]}')"
   ]
  },
  {
   "cell_type": "markdown",
   "metadata": {
    "id": "4yVke7hhunmf"
   },
   "source": [
    "###<font color = 'pickle'>  **Shuffle and split**\n",
    "* The ShuffleSplit iterator will generate a user defined number of independent train / validation dataset splits.\n",
    "\n",
    "* User will specify the parameters test_size (coresponds to validation in our discussion)  and train size and. For each split data will be divided into train and validation folds.\n",
    "\n",
    "* Thus we can run many iterations with reasonably large valdation fold. For example in kfold cross validation if we run 5 splits (five iterations) then the size of validation set is only 20%. With shuffle split we can specify the test_size to be any value (e.g. 40%) and then run as many iterations as we want. For each iteration 40% of data will be randomly sampled and assigned as validation fold.\n",
    "\n",
    "* Since we are taking random samples, it is possibe that (unlike k-fold) some observations never appear in any validation fold across splits.\n",
    "\n",
    "* <font color = 'dodgerblue'> **This is also useful if we want to take a random samle from a very large training dataset.**\n",
    "\n"
   ]
  },
  {
   "cell_type": "code",
   "execution_count": null,
   "metadata": {
    "colab": {
     "base_uri": "https://localhost:8080/"
    },
    "executionInfo": {
     "elapsed": 143,
     "status": "ok",
     "timestamp": 1662326289454,
     "user": {
      "displayName": "Harpreet SIngh",
      "userId": "15106381096049879330"
     },
     "user_tz": 300
    },
    "id": "OImUQ3XD6dl3",
    "outputId": "1b21bb64-c547-43d8-bde0-5dd57ea61f24"
   },
   "outputs": [
    {
     "name": "stdout",
     "output_type": "stream",
     "text": [
      "X_train splits\n",
      "Train fold for split 1: [1 6 7 3 0] Valid fold for split 1 : [2 8 4 9]\n",
      "Train fold for split 2: [9 8 0 6 7] Valid fold for split 2 : [3 5 1 2]\n",
      "Train fold for split 3: [5 1 0 6 9] Valid fold for split 3 : [2 3 8 4]\n",
      "Train fold for split 4: [7 5 8 0 3] Valid fold for split 4 : [6 1 9 2]\n",
      "Train fold for split 5: [1 0 6 8 9] Valid fold for split 5 : [5 2 7 4]\n",
      "\n",
      "y_train splits\n",
      "Train fold for split 1 : [0 0 1 0 0] Valid fold for split 1: [0 1 0 1]\n",
      "Train fold for split 2 : [1 1 0 0 1] Valid fold for split 2: [0 0 0 0]\n",
      "Train fold for split 3 : [0 0 0 0 1] Valid fold for split 3: [0 0 1 0]\n",
      "Train fold for split 4 : [1 0 1 0 0] Valid fold for split 4: [0 0 1 0]\n",
      "Train fold for split 5 : [0 0 0 1 1] Valid fold for split 5: [0 0 1 0]\n"
     ]
    }
   ],
   "source": [
    "from sklearn.model_selection import ShuffleSplit\n",
    "\n",
    "# we can speciy train_size and test_size as percantages or integer values\n",
    "folds = ShuffleSplit(n_splits=5, random_state =0, test_size= 0.4, train_size = 0.5)\n",
    "\n",
    "print(f'X_train splits')\n",
    "for i, (train_fold, valid_fold) in enumerate(folds.split(x_train_dummy)):\n",
    "  print(f'Train fold for split {i+1}: {x_train_dummy[train_fold]} Valid fold for split {i+1} : {x_train_dummy[valid_fold]}')\n",
    "\n",
    "\n",
    "print(f'\\ny_train splits')\n",
    "for i, (train_fold, valid_fold) in enumerate(folds.split( y_train_dummy)):\n",
    "  print(f'Train fold for split {i+1} : {y_train_dummy[train_fold]} Valid fold for split {i+1}: {y_train_dummy[valid_fold]}')"
   ]
  },
  {
   "cell_type": "markdown",
   "metadata": {
    "id": "h94R755GusTv"
   },
   "source": [
    "##<font color = 'pickle'> **Cross-validation iterators with stratification based on class labels**\n",
    "* Some of the classification problems can exhibit a large imbalance in the distribution of the target classes.\n",
    "* For example there could be  more negative samples than positive samples.\n",
    "* In such cases it is recommended to use stratified sampling as implemented below :\n",
    "\n",
    "1. Stratified k- fold\n",
    "2. Stratified shuffle split\n",
    "\n",
    "* Hence, it ensures that relative class frequencies is approximately preserved in each train and validation fold."
   ]
  },
  {
   "cell_type": "markdown",
   "metadata": {
    "id": "XUEwNSutzdae"
   },
   "source": [
    "####<font color = 'pickle'>  **Stratified k- fold**\n",
    "* StratifiedKFold is a similar to the k-fold which returns stratified folds.\n",
    "* Each set contains approximately the same percentage of samples of each target class as the complete set.\n",
    "\n",
    "<img src =\"https://drive.google.com/uc?export=view&id=1-7CWGJlnFSpb2VT7mRBwZWtNOSY4w3L2\" width =500 >\n"
   ]
  },
  {
   "cell_type": "code",
   "execution_count": null,
   "metadata": {
    "colab": {
     "base_uri": "https://localhost:8080/"
    },
    "executionInfo": {
     "elapsed": 164,
     "status": "ok",
     "timestamp": 1662326344754,
     "user": {
      "displayName": "Harpreet SIngh",
      "userId": "15106381096049879330"
     },
     "user_tz": 300
    },
    "id": "0aXH1H1jKY3C",
    "outputId": "942002f0-012c-498a-b028-bcedb961dcbd"
   },
   "outputs": [
    {
     "name": "stdout",
     "output_type": "stream",
     "text": [
      "X_train splits\n",
      "Train fold for split 1: [0 3 5 6 7 9] Valid fold for split 1 : [1 2 4 8]\n",
      "Train fold for split 2: [0 1 2 4 5 7 8] Valid fold for split 2 : [3 6 9]\n",
      "Train fold for split 3: [1 2 3 4 6 8 9] Valid fold for split 3 : [0 5 7]\n",
      "\n",
      "y_train splits\n",
      "Train fold for split 1 : [0 0 0 0 1 1] Valid fold for split 1: [0 0 0 1]\n",
      "Train fold for split 2 : [0 0 0 0 0 1 1] Valid fold for split 2: [0 0 1]\n",
      "Train fold for split 3 : [0 0 0 0 0 1 1] Valid fold for split 3: [0 0 1]\n"
     ]
    }
   ],
   "source": [
    "from sklearn.model_selection import StratifiedKFold\n",
    "\n",
    "# we can speciy train_size and test_size as percantages or integer values\n",
    "folds = StratifiedKFold(n_splits=3, random_state =0, shuffle = True, )\n",
    "\n",
    "print(f'X_train splits')\n",
    "for i, (train_fold, valid_fold) in enumerate(folds.split(x_train_dummy, y_train_dummy)):\n",
    "  print(f'Train fold for split {i+1}: {x_train_dummy[train_fold]} Valid fold for split {i+1} : {x_train_dummy[valid_fold]}')\n",
    "\n",
    "\n",
    "print(f'\\ny_train splits')\n",
    "for i, (train_fold, valid_fold) in enumerate(folds.split( x_train_dummy, y_train_dummy)):\n",
    "  print(f'Train fold for split {i+1} : {y_train_dummy[train_fold]} Valid fold for split {i+1}: {y_train_dummy[valid_fold]}')"
   ]
  },
  {
   "cell_type": "markdown",
   "metadata": {
    "id": "6MUyrGjR0No3"
   },
   "source": [
    "####<font color = 'pickle'>  **Stratified shuffle split**\n",
    "\n",
    "StratifiedShuffleSplit is similar to ShuffleSplit, which returns stratified splits, i.e which creates splits by preserving the same percentage for each target class as in the complete set.\n",
    "\n"
   ]
  },
  {
   "cell_type": "code",
   "execution_count": null,
   "metadata": {
    "colab": {
     "base_uri": "https://localhost:8080/"
    },
    "executionInfo": {
     "elapsed": 175,
     "status": "ok",
     "timestamp": 1662326373184,
     "user": {
      "displayName": "Harpreet SIngh",
      "userId": "15106381096049879330"
     },
     "user_tz": 300
    },
    "id": "qjzmUSA8WNtO",
    "outputId": "adf591af-c3c7-457a-ee92-baae1c553b42"
   },
   "outputs": [
    {
     "name": "stdout",
     "output_type": "stream",
     "text": [
      "X_train splits\n",
      "Train fold for split 1: [2 1 3 7 6 9] Valid fold for split 1 : [0 8 4 5]\n",
      "Train fold for split 2: [3 8 2 5 4 9] Valid fold for split 2 : [0 6 1 7]\n",
      "Train fold for split 3: [8 4 6 7 2 5] Valid fold for split 3 : [0 9 3 1]\n",
      "Train fold for split 4: [5 0 4 9 1 8] Valid fold for split 4 : [3 7 6 2]\n",
      "Train fold for split 5: [6 7 5 8 3 4] Valid fold for split 5 : [2 1 0 9]\n",
      "\n",
      "y_train splits\n",
      "Train fold for split 1 : [0 0 0 1 0 1] Valid fold for split 1: [0 1 0 0]\n",
      "Train fold for split 2 : [0 1 0 0 0 1] Valid fold for split 2: [0 0 0 1]\n",
      "Train fold for split 3 : [1 0 0 1 0 0] Valid fold for split 3: [0 1 0 0]\n",
      "Train fold for split 4 : [0 0 0 1 0 1] Valid fold for split 4: [0 1 0 0]\n",
      "Train fold for split 5 : [0 1 0 1 0 0] Valid fold for split 5: [0 0 0 1]\n"
     ]
    }
   ],
   "source": [
    "from sklearn.model_selection import StratifiedShuffleSplit\n",
    "\n",
    "# we can speciy train_size and test_size as percantages or integer values\n",
    "folds = StratifiedShuffleSplit(n_splits=5, random_state =0, test_size = 0.4 )\n",
    "\n",
    "print(f'X_train splits')\n",
    "for i, (train_fold, valid_fold) in enumerate(folds.split(x_train_dummy, y_train_dummy)):\n",
    "  print(f'Train fold for split {i+1}: {x_train_dummy[train_fold]} Valid fold for split {i+1} : {x_train_dummy[valid_fold]}')\n",
    "\n",
    "\n",
    "print(f'\\ny_train splits')\n",
    "for i, (train_fold, valid_fold) in enumerate(folds.split( x_train_dummy, y_train_dummy)):\n",
    "  print(f'Train fold for split {i+1} : {y_train_dummy[train_fold]} Valid fold for split {i+1}: {y_train_dummy[valid_fold]}')"
   ]
  },
  {
   "cell_type": "markdown",
   "metadata": {
    "id": "ngUkU-4Cpjl0"
   },
   "source": [
    "We will introduce iterators for Grouped and Time series Data when we use these specific kind of data later in the course."
   ]
  },
  {
   "cell_type": "markdown",
   "metadata": {
    "id": "W4WoFPqUq8pO"
   },
   "source": [
    "##<font color = 'pickle'>  Defaults in Sklearn\n",
    "\n",
    "<font color = 'dodgerblue'> **GridserachCV and cross_val_score by default use startifed k-fold. However, we can pass any CV iterator in GridsearchCV and cross_val_score.** </font>\n",
    "<br> For example the code below will use stratifiedKfold with five splits.\n",
    "`GridSearchCV(estimator, param_grid, scoring=None, refit=True, cv=5, return_train_score = False) `\n",
    "\n",
    "We can pass any iterator with cv.\n",
    "\n",
    "e.g. We can first specify iterator : <br>\n",
    "`folds = StratifiedShuffleSplit(n_splits=5, random_state =0, test_size = 0.4 )`\n",
    "\n",
    "Then we can specify GridSeachCv as follows: <br>\n",
    "`GridSearchCV(estimator, param_grid, scoring=None, refit=True, cv=folds, return_train_score = False) `\n"
   ]
  },
  {
   "cell_type": "markdown",
   "metadata": {
    "id": "-K4sCeF33fFL"
   },
   "source": [
    "## References:\n",
    "\n",
    "https://scikit-learn.org/stable/modules/cross_validation.html"
   ]
  }
 ],
 "metadata": {
  "colab": {
   "provenance": []
  },
  "kernelspec": {
   "display_name": "Python 3",
   "language": "python",
   "name": "python3"
  },
  "language_info": {
   "codemirror_mode": {
    "name": "ipython",
    "version": 3
   },
   "file_extension": ".py",
   "mimetype": "text/x-python",
   "name": "python",
   "nbconvert_exporter": "python",
   "pygments_lexer": "ipython3",
   "version": "3.7.3"
  }
 },
 "nbformat": 4,
 "nbformat_minor": 1
}
